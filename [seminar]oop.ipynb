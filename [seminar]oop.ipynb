{
  "nbformat": 4,
  "nbformat_minor": 0,
  "metadata": {
    "colab": {
      "name": "[seminar]oop.ipynb",
      "provenance": [],
      "collapsed_sections": [],
      "include_colab_link": true
    },
    "kernelspec": {
      "display_name": "Python 3",
      "language": "python",
      "name": "python3"
    }
  },
  "cells": [
    {
      "cell_type": "markdown",
      "metadata": {
        "id": "view-in-github",
        "colab_type": "text"
      },
      "source": [
        "<a href=\"https://colab.research.google.com/github/bulinayas/Deep-deep-learning/blob/main/%5Bseminar%5Doop.ipynb\" target=\"_parent\"><img src=\"https://colab.research.google.com/assets/colab-badge.svg\" alt=\"Open In Colab\"/></a>"
      ]
    },
    {
      "cell_type": "markdown",
      "metadata": {
        "id": "H3DhPViKKByC"
      },
      "source": [
        "<img src=\"https://s8.hostingkartinok.com/uploads/images/2018/08/308b49fcfbc619d629fe4604bceb67ac.jpg\" width=500, height=450>\n",
        "<h3 style=\"text-align: center;\"><b>Физтех-Школа Прикладной математики и информатики (ФПМИ) МФТИ</b></h3>"
      ]
    },
    {
      "cell_type": "markdown",
      "metadata": {
        "id": "r17X2cDDKBj2"
      },
      "source": [
        "---"
      ]
    },
    {
      "cell_type": "markdown",
      "metadata": {
        "id": "HeMcLtgwJRKY"
      },
      "source": [
        "## Объектно-ориентированное программирование"
      ]
    },
    {
      "cell_type": "markdown",
      "metadata": {
        "id": "8g8muHlBKBsL"
      },
      "source": [
        "---"
      ]
    },
    {
      "cell_type": "markdown",
      "metadata": {
        "id": "HGv3nqoyJRKZ"
      },
      "source": [
        "Представьте себе, что вы проектируете автомобиль. Вы знаете, что автомобиль должен содержать двигатель, подвеску, две передних фары, 4 колеса, и т.д. Вы описываете все запчасти, из которых состоит ваш автомобиль, а также то, каким образом эти запчасти взаимодействуют между собой. Кроме того, вы описываете, что должен сделать пользователь, чтобы машина затормозила, или включился дальний свет фар. Результатом вашей работы будет некоторый эскиз. Вы только что разработали то, что в ООП называется класс."
      ]
    },
    {
      "cell_type": "code",
      "metadata": {
        "id": "oQ0UkrY0JRKa",
        "colab": {
          "base_uri": "https://localhost:8080/",
          "height": 856
        },
        "outputId": "27d66a17-cb79-4f74-c7e3-65c101c94008"
      },
      "source": [
        "import numpy as np\n",
        "import matplotlib.pyplot as plt\n",
        "from IPython.display import Image\n",
        "from IPython.core.display import HTML \n",
        "Image(url= \"https://cs5.pikabu.ru/post_img/big/2015/12/14/6/1450080142173639353.jpg\")"
      ],
      "execution_count": 1,
      "outputs": [
        {
          "output_type": "execute_result",
          "data": {
            "text/html": [
              "<img src=\"https://cs5.pikabu.ru/post_img/big/2015/12/14/6/1450080142173639353.jpg\"/>"
            ],
            "text/plain": [
              "<IPython.core.display.Image object>"
            ]
          },
          "metadata": {
            "tags": []
          },
          "execution_count": 1
        }
      ]
    },
    {
      "cell_type": "markdown",
      "metadata": {
        "id": "vC1qw0Q5JRKe"
      },
      "source": [
        "<b>Классы</b> играют роль фабрик экземпляров. Их атрибуты обеспечивают поведение – данные и функции – то есть наследуются всеми экземплярами, созданными от них (например, функция, вычисляющая стоимость поездки, исходя\n",
        "из расхода топлива)."
      ]
    },
    {
      "cell_type": "markdown",
      "metadata": {
        "id": "WPewBAzFJRKe"
      },
      "source": [
        "<b>Экземпляры</b> представляют конкретные элементы программы. Их атрибуты хранят данные, которые могут отличаться в  конкретных объектах (например, количество колес)."
      ]
    },
    {
      "cell_type": "markdown",
      "metadata": {
        "id": "y_zwgcfgJRKg"
      },
      "source": [
        "Команда интерпретации и запуска — python start.py"
      ]
    },
    {
      "cell_type": "code",
      "metadata": {
        "id": "QnHoiUvFJRKg",
        "colab": {
          "base_uri": "https://localhost:8080/"
        },
        "outputId": "0ac601c6-5ced-4a18-a343-44bff9c9e98c"
      },
      "source": [
        "class Start:\n",
        "    def say_hello (self):\n",
        "        print('Hello, world!')\n",
        "Start().say_hello() "
      ],
      "execution_count": 2,
      "outputs": [
        {
          "output_type": "stream",
          "text": [
            "Hello, world!\n"
          ],
          "name": "stdout"
        }
      ]
    },
    {
      "cell_type": "markdown",
      "metadata": {
        "id": "y3-RCh1BJRKk"
      },
      "source": [
        "Создадим class Car: (object можно не указывать)"
      ]
    },
    {
      "cell_type": "code",
      "metadata": {
        "id": "4SuVKVZbJRKk",
        "colab": {
          "base_uri": "https://localhost:8080/"
        },
        "outputId": "621752f0-ecc5-477b-84f2-f987adeaa167"
      },
      "source": [
        "class Car(object):\n",
        "    def __init__(self, model):\n",
        "        self.model = model\n",
        "\n",
        "my_car = Car(\"BMW\")\n",
        "my_car"
      ],
      "execution_count": 3,
      "outputs": [
        {
          "output_type": "execute_result",
          "data": {
            "text/plain": [
              "<__main__.Car at 0x7fdf3b3b3490>"
            ]
          },
          "metadata": {
            "tags": []
          },
          "execution_count": 3
        }
      ]
    },
    {
      "cell_type": "code",
      "metadata": {
        "id": "-aOGERrjJRKo",
        "colab": {
          "base_uri": "https://localhost:8080/",
          "height": 35
        },
        "outputId": "ddf78721-cc18-4840-b9cf-c121c4fecc06"
      },
      "source": [
        "my_car.model"
      ],
      "execution_count": 4,
      "outputs": [
        {
          "output_type": "execute_result",
          "data": {
            "application/vnd.google.colaboratory.intrinsic+json": {
              "type": "string"
            },
            "text/plain": [
              "'BMW'"
            ]
          },
          "metadata": {
            "tags": []
          },
          "execution_count": 4
        }
      ]
    },
    {
      "cell_type": "markdown",
      "metadata": {
        "id": "ufYq5F-6JRKr"
      },
      "source": [
        "Попробуйте создать свой сlass Car, где при создании объекта будет указываться ещё и passengers, color, speed."
      ]
    },
    {
      "cell_type": "code",
      "metadata": {
        "id": "RV4VhX3VJRKs"
      },
      "source": [
        "class MyCar():\n",
        "  def __init__(self,passengers,color,speed):\n",
        "    self.passengers=passengers\n",
        "    self.color=color\n",
        "    self.speed=speed"
      ],
      "execution_count": 12,
      "outputs": []
    },
    {
      "cell_type": "markdown",
      "metadata": {
        "id": "Jm8ZEOfLJRKv"
      },
      "source": [
        "Теперь создайте несколько машин с разными параметрами - атрибутами экземпляров:"
      ]
    },
    {
      "cell_type": "code",
      "metadata": {
        "id": "5zLzPe8wJRKw"
      },
      "source": [
        "bmw_car=MyCar(passengers=5,color='b',speed=120)\n",
        "x8_car=MyCar(passengers=12,color='y',speed=220)"
      ],
      "execution_count": 15,
      "outputs": []
    },
    {
      "cell_type": "markdown",
      "metadata": {
        "id": "9GZbpDCBJRKz"
      },
      "source": [
        "Теперь попробуйте покрасить любую машины в любимый ваш цвет:"
      ]
    },
    {
      "cell_type": "code",
      "metadata": {
        "id": "I-eKKw1dJRKz"
      },
      "source": [
        "bmw_car.color='green'"
      ],
      "execution_count": 16,
      "outputs": []
    },
    {
      "cell_type": "markdown",
      "metadata": {
        "id": "4O-n_j65JRK2"
      },
      "source": [
        "Добавим к class Car метод для работы с экземплярами данного класса - атрибут класса "
      ]
    },
    {
      "cell_type": "code",
      "metadata": {
        "id": "uH60XwUcJRK3"
      },
      "source": [
        "class Car:\n",
        "    def __init__(self, model, passengers, color, speed):\n",
        "        self.model = model\n",
        "        self.passengers = passengers\n",
        "        self.color = color\n",
        "        self.speed = speed\n",
        "    def set_cost(self, cost):\n",
        "        self.cost = cost\n",
        "    "
      ],
      "execution_count": 17,
      "outputs": []
    },
    {
      "cell_type": "code",
      "metadata": {
        "id": "c0YPFo7lJRK6",
        "colab": {
          "base_uri": "https://localhost:8080/"
        },
        "outputId": "04d6abf3-a2c9-4144-d59d-e4c4c2d77652"
      },
      "source": [
        "Car.set_cost"
      ],
      "execution_count": 18,
      "outputs": [
        {
          "output_type": "execute_result",
          "data": {
            "text/plain": [
              "<function __main__.Car.set_cost>"
            ]
          },
          "metadata": {
            "tags": []
          },
          "execution_count": 18
        }
      ]
    },
    {
      "cell_type": "markdown",
      "metadata": {
        "id": "GNF7gP-XJRK9"
      },
      "source": [
        "Установим цену на BMW:"
      ]
    },
    {
      "cell_type": "code",
      "metadata": {
        "id": "6rPx_D_PJRK-",
        "colab": {
          "base_uri": "https://localhost:8080/"
        },
        "outputId": "7f843872-dace-4a19-fe01-8569ffc87539"
      },
      "source": [
        "bmw = Car(\"BMW\", 4, \"red\", 5)\n",
        "bmw.set_cost(3 * 10 ** 6)\n",
        "bmw.cost"
      ],
      "execution_count": 69,
      "outputs": [
        {
          "output_type": "execute_result",
          "data": {
            "text/plain": [
              "3000000"
            ]
          },
          "metadata": {
            "tags": []
          },
          "execution_count": 69
        }
      ]
    },
    {
      "cell_type": "markdown",
      "metadata": {
        "id": "asl-2S6fJRLA"
      },
      "source": [
        "Добавьте к class Car метод, который вычисляет стоимость машины через несколько лет:"
      ]
    },
    {
      "cell_type": "code",
      "metadata": {
        "id": "UblOhUmjJRLB"
      },
      "source": [
        "class Car:\n",
        "  def __init__(self, model, passengers, color, speed):\n",
        "    self.model=model\n",
        "    self.passengers=passengers\n",
        "    self.color=color\n",
        "    self.speed=speed\n",
        "  \n",
        "  def set_cost(self,cost):\n",
        "    self.cost=cost\n",
        "  \n",
        "  def new_cost(self,year):\n",
        "    k = year ** 2 * (3 * 10 ** 4)\n",
        "    self.cost=self.cost-k\n",
        "    return self.cost"
      ],
      "execution_count": 68,
      "outputs": []
    },
    {
      "cell_type": "markdown",
      "metadata": {
        "id": "moIGgeWCJRLH"
      },
      "source": [
        "Вычислите эту стоимость в течение 5 лет с периодом 1 год и нарисуте график:"
      ]
    },
    {
      "cell_type": "code",
      "metadata": {
        "id": "EsNAYziQJRLH",
        "colab": {
          "base_uri": "https://localhost:8080/",
          "height": 293
        },
        "outputId": "8700c13d-b126-487c-d7ac-0d6678dc5d2b"
      },
      "source": [
        "years=range(0,6)\n",
        "costs=[bmw.new_cost(year) for year in years]\n",
        "plt.plot(years,costs)"
      ],
      "execution_count": 70,
      "outputs": [
        {
          "output_type": "execute_result",
          "data": {
            "text/plain": [
              "[<matplotlib.lines.Line2D at 0x7fdf32b497d0>]"
            ]
          },
          "metadata": {
            "tags": []
          },
          "execution_count": 70
        },
        {
          "output_type": "display_data",
          "data": {
            "image/png": "[encoded data removed]",
            "text/plain": [
              "<Figure size 432x288 with 1 Axes>"
            ]
          },
          "metadata": {
            "tags": [],
            "needs_background": "light"
          }
        }
      ]
    },
    {
      "cell_type": "code",
      "metadata": {
        "id": "ucj-KmRxJRLK"
      },
      "source": [
        ""
      ],
      "execution_count": null,
      "outputs": []
    }
  ]
}