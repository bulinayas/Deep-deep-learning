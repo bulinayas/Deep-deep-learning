{
  "nbformat": 4,
  "nbformat_minor": 0,
  "metadata": {
    "colab": {
      "name": "Copy of [seminar]pytorch_basics.ipynb",
      "provenance": [],
      "include_colab_link": true
    },
    "kernelspec": {
      "display_name": "Python 3",
      "language": "python",
      "name": "python3"
    }
  },
  "cells": [
    {
      "cell_type": "markdown",
      "metadata": {
        "id": "view-in-github",
        "colab_type": "text"
      },
      "source": [
        "<a href=\"https://colab.research.google.com/github/bulinayas/Deep-deep-learning/blob/main/%5Bseminar%5Dpytorch_basics.ipynb\" target=\"_parent\"><img src=\"https://colab.research.google.com/assets/colab-badge.svg\" alt=\"Open In Colab\"/></a>"
      ]
    },
    {
      "cell_type": "markdown",
      "metadata": {
        "collapsed": true,
        "id": "PPiw8yzRYJ8r"
      },
      "source": [
        "<p style=\"align: center;\"><img src=\"https://static.tildacdn.com/tild6636-3531-4239-b465-376364646465/Deep_Learning_School.png\", width=300, height=300></p>\n",
        "\n",
        "<h3 style=\"text-align: center;\"><b>Физтех-Школа Прикладной математики и информатики (ФПМИ) МФТИ</b></h3>"
      ]
    },
    {
      "cell_type": "markdown",
      "metadata": {
        "id": "zqPnyO9_YJ8t"
      },
      "source": [
        "---"
      ]
    },
    {
      "cell_type": "markdown",
      "metadata": {
        "id": "vcnGdgw_YJ8u"
      },
      "source": [
        "<h2 style=\"text-align: center;\"><b>PyTorch. Основы: синтаксис, torch.cuda и torch.autograd</b></h2>"
      ]
    },
    {
      "cell_type": "markdown",
      "metadata": {
        "id": "-Iv1eX2mYJ8v"
      },
      "source": [
        "<p style=\"align: center;\"><img src=\"https://raw.githubusercontent.com/pytorch/pytorch/master/docs/source/_static/img/pytorch-logo-dark.png\", width=400, height=300></p>"
      ]
    },
    {
      "cell_type": "markdown",
      "metadata": {
        "id": "JwiKExhuYJ8w"
      },
      "source": [
        "На этом занятии мы рассмотрим основы фреймворка глубокого обучения PyTorch.  \n",
        "\n",
        "Когда хочется написать какую-нибудь нейросеть, решающую определённую задачу, будь то какая-нибудь простая классификация чего-либо или обнаружение лиц людей на видео. Всё, конечно, всегда начинается со **сбора данных**, а уже потом реализуются модели и проводятся эксперименты.  \n",
        "\n",
        "Однако люди быстро поняли, что писать свои нейронные сети каждый раз с нуля ну очень уж долго и неразумно, поэтому придумали так называемые **фреймворки** - модули, в которых есть функционал, с помощью которого можно быстро и просто решать типовые задачи, и уже с помощью этих средств писать решения к более сложным задачам."
      ]
    },
    {
      "cell_type": "markdown",
      "metadata": {
        "id": "tQoex-sZYJ8x"
      },
      "source": [
        "Есть много различных фремворков глубокого обучения. Разница между ними прежде всего в том, каков общий принцип вычислений. \n",
        "Например, в **Caffe и Caffe2** вы пишете код, по сути, составляя его из готовых \"кусочков\", как в Lego, в **TensorFlow и Theano** вы сначала объявляете вычислительный граф, потом компилируете его и запускаете (sees.run()), в то время как в **Torch и PyTorch** вы пишете почти точно так же, как на NumPy, а граф вычислений создаётся только при запуске (то есть существует только во время выполнения, потом он \"разрушается\"). **Keras** позволяет как строить блоки, так и компилировать свой граф:"
      ]
    },
    {
      "cell_type": "markdown",
      "metadata": {
        "id": "97MX7yrBYJ8y"
      },
      "source": [
        "<p style=\"align: center;\"><img src=\"https://habrastorage.org/web/e3e/c3e/b78/e3ec3eb78d714a7993a6b922911c0866.png\", width=500, height=500></p>  \n",
        "<p style=\"text-align: center;\"><i>Картинка взята из отличной [статьи на Хабре](https://habr.com/post/334380/)</i><p>"
      ]
    },
    {
      "cell_type": "markdown",
      "metadata": {
        "id": "J74O-qdJYJ80"
      },
      "source": [
        "<h3 style=\"text-align: center;\"><b>Установка</b></h3>"
      ]
    },
    {
      "cell_type": "markdown",
      "metadata": {
        "id": "WpXxZ4-4YJ83"
      },
      "source": [
        "Инструкция по установке PyTorch есть на официальном [Github'e Deep Learning School](https://github.com/deepmipt/dlschl/wiki/%D0%98%D0%BD%D1%81%D1%82%D1%80%D1%83%D0%BA%D1%86%D0%B8%D1%8F-%D0%BF%D0%BE-%D1%83%D1%81%D1%82%D0%B0%D0%BD%D0%BE%D0%B2%D0%BA%D0%B5-PyTorch)."
      ]
    },
    {
      "cell_type": "markdown",
      "metadata": {
        "id": "uxdjjnqIYJ86"
      },
      "source": [
        "<h3 style=\"text-align: center;\">Синтаксис<b></b></h3>"
      ]
    },
    {
      "cell_type": "code",
      "metadata": {
        "id": "RtyozNmmYJ89"
      },
      "source": [
        "import torch"
      ],
      "execution_count": 1,
      "outputs": []
    },
    {
      "cell_type": "markdown",
      "metadata": {
        "id": "zjfLQzEPYJ9B"
      },
      "source": [
        "Сначала немного фактов про PyTorch:  \n",
        "- динамический граф вычислений\n",
        "- удобные модули `torch.nn` и `torchvision для` написания нейросеток с минимальными усилиями\n",
        "- в некоторых задачах даже быстрее TensorFlow (но не во всех)  \n",
        "- легко проводить вычисления на GPU"
      ]
    },
    {
      "cell_type": "markdown",
      "metadata": {
        "id": "0AL-T8TMYJ9D"
      },
      "source": [
        "Если PyTorch представить формулой, то она будет такой:  \n",
        "\n",
        "$$PyTorch = NumPy + CUDA + Autograd$$"
      ]
    },
    {
      "cell_type": "markdown",
      "metadata": {
        "id": "X_O59VXWYJ9E"
      },
      "source": [
        "(CUDA - [wiki](https://ru.wikipedia.org/wiki/CUDA))"
      ]
    },
    {
      "cell_type": "markdown",
      "metadata": {
        "id": "lWIeTFxSYJ9F"
      },
      "source": [
        "Посмотрим, как в PyTorch выполняются операции с векторами.  \n",
        "\n",
        "Напоминание: **тензором** называется многомерный вектор, то есть есть:  \n",
        "\n",
        "x = np.array([1,2,3]) - вектор = тензор размерности 1 (то есть (1,))  \n",
        "y = np.array([[1, 2, 3], [4, 5, 6]]) - матрица = тензор размерности 2 (в данном случае тензор (2, 3))  \n",
        "z = np.array([[[1, 2, 3], [4, 5, 6], [7, 8, 9]],  \n",
        "    [[1, 2, 3], [4, 5, 6], [7, 8, 9]],  \n",
        "              [[1, 2, 3], [4, 5, 6], [7, 8, 9]]]) - \"кубик\" (3, 3, 3) = тензор размерности 3 (в данном случае (3, 3, 3))"
      ]
    },
    {
      "cell_type": "markdown",
      "metadata": {
        "id": "hS97vo7mYJ9G"
      },
      "source": [
        "Простейшим примером 3-мерного тензора является **картинка** - это \"параллелепипед\" из чисел, у коготорого три размерности - высота, ширина и количество каналов, значит это тензор размерности 3."
      ]
    },
    {
      "cell_type": "markdown",
      "metadata": {
        "id": "tEeGGtRiYJ9H"
      },
      "source": [
        "Понятие тензора нужно знать потому, что в PyTorch мы оперируем переменными типа `torch.Tensor` (`FloatTensor`, `IntTensor`, `ByteTensor`), и пугаться их названий совершенно не нужно - это просто векторы, у которых несколько размерностей."
      ]
    },
    {
      "cell_type": "markdown",
      "metadata": {
        "id": "byu7xZtLYJ9J"
      },
      "source": [
        "Все типы тензоров:"
      ]
    },
    {
      "cell_type": "code",
      "metadata": {
        "id": "lPIaCLY3YJ9K",
        "outputId": "5e988a80-4c1f-499d-c99b-e6df2f1a25be"
      },
      "source": [
        "torch.HalfTensor      # 16 бит, с плавающей точкой\n",
        "torch.FloatTensor     # 32 бита,  с плавающей точкой\n",
        "torch.DoubleTensor    # 64 бита, с плавающей точкой\n",
        "\n",
        "torch.ShortTensor     # 16 бит, целочисленный, знаковый\n",
        "torch.IntTensor       # 32 бита, целочисленный, знаковый\n",
        "torch.LongTensor      # 64 бита, целочисленный, знаковый\n",
        "\n",
        "torch.CharTensor      # 8 бит, целочисленный, знаковый\n",
        "torch.ByteTensor      # 8 бит, целочисленный, беззнаковый"
      ],
      "execution_count": null,
      "outputs": [
        {
          "output_type": "execute_result",
          "data": {
            "text/plain": [
              "torch.ByteTensor"
            ]
          },
          "metadata": {
            "tags": []
          },
          "execution_count": 4
        }
      ]
    },
    {
      "cell_type": "markdown",
      "metadata": {
        "id": "NWk2gidNYJ9P"
      },
      "source": [
        "Мы будем использовать только `torch.FloatTensor()` и `torch.IntTensor()`. "
      ]
    },
    {
      "cell_type": "markdown",
      "metadata": {
        "id": "CllyEKvVYJ9Q"
      },
      "source": [
        "Перейдём к делу:"
      ]
    },
    {
      "cell_type": "markdown",
      "metadata": {
        "id": "R4HEetsxYJ9Q"
      },
      "source": [
        "* Создание тензоров:"
      ]
    },
    {
      "cell_type": "code",
      "metadata": {
        "id": "MVawE9lRYJ9R",
        "outputId": "5f46a62b-18a8-49b2-d343-1a2b79dd2bb0",
        "colab": {
          "base_uri": "https://localhost:8080/"
        }
      },
      "source": [
        "a = torch.FloatTensor([1, 2])\n",
        "a"
      ],
      "execution_count": 2,
      "outputs": [
        {
          "output_type": "execute_result",
          "data": {
            "text/plain": [
              "tensor([1., 2.])"
            ]
          },
          "metadata": {},
          "execution_count": 2
        }
      ]
    },
    {
      "cell_type": "code",
      "metadata": {
        "id": "ARjaPS_GYJ9W",
        "outputId": "bf0665ea-0ee3-4791-9a54-dbb7407eda5a",
        "colab": {
          "base_uri": "https://localhost:8080/"
        }
      },
      "source": [
        "a.shape"
      ],
      "execution_count": 3,
      "outputs": [
        {
          "output_type": "execute_result",
          "data": {
            "text/plain": [
              "torch.Size([2])"
            ]
          },
          "metadata": {},
          "execution_count": 3
        }
      ]
    },
    {
      "cell_type": "code",
      "metadata": {
        "id": "4gXf0akDYJ9Z",
        "outputId": "ae32fd1d-fca4-4784-fccc-51762edd8b2a",
        "colab": {
          "base_uri": "https://localhost:8080/"
        }
      },
      "source": [
        "b = torch.FloatTensor([[1,2,3], [4,5,6]])\n",
        "b"
      ],
      "execution_count": 4,
      "outputs": [
        {
          "output_type": "execute_result",
          "data": {
            "text/plain": [
              "tensor([[1., 2., 3.],\n",
              "        [4., 5., 6.]])"
            ]
          },
          "metadata": {},
          "execution_count": 4
        }
      ]
    },
    {
      "cell_type": "code",
      "metadata": {
        "id": "0HTkoIzpYJ9e",
        "outputId": "e85734b3-e5ac-4001-8302-97332fdb9746",
        "colab": {
          "base_uri": "https://localhost:8080/"
        }
      },
      "source": [
        "b.shape"
      ],
      "execution_count": 5,
      "outputs": [
        {
          "output_type": "execute_result",
          "data": {
            "text/plain": [
              "torch.Size([2, 3])"
            ]
          },
          "metadata": {},
          "execution_count": 5
        }
      ]
    },
    {
      "cell_type": "code",
      "metadata": {
        "id": "WYJ9L-yFYJ9j"
      },
      "source": [
        "x = torch.FloatTensor(2,3,4)"
      ],
      "execution_count": 6,
      "outputs": []
    },
    {
      "cell_type": "code",
      "metadata": {
        "id": "qWAEP27IYJ9m",
        "outputId": "5221f6c3-8691-43c4-a830-04ad268d531a",
        "colab": {
          "base_uri": "https://localhost:8080/"
        }
      },
      "source": [
        "x"
      ],
      "execution_count": 7,
      "outputs": [
        {
          "output_type": "execute_result",
          "data": {
            "text/plain": [
              "tensor([[[1.8478e-35, 0.0000e+00, 7.0065e-44, 7.0065e-44],\n",
              "         [6.3058e-44, 6.7262e-44, 7.7071e-44, 6.3058e-44],\n",
              "         [6.8664e-44, 7.9874e-44, 1.1771e-43, 6.7262e-44]],\n",
              "\n",
              "        [[7.7071e-44, 8.1275e-44, 6.8664e-44, 7.8473e-44],\n",
              "         [8.1275e-44, 7.2868e-44, 7.1466e-44, 6.4460e-44],\n",
              "         [7.5670e-44, 7.1466e-44, 7.1466e-44, 7.9874e-44]]])"
            ]
          },
          "metadata": {},
          "execution_count": 7
        }
      ]
    },
    {
      "cell_type": "code",
      "metadata": {
        "scrolled": true,
        "id": "o5CsOJ_xYJ9s",
        "outputId": "9657a8d5-0afc-4217-bfb9-2675ea7a46a1",
        "colab": {
          "base_uri": "https://localhost:8080/"
        }
      },
      "source": [
        "x = torch.FloatTensor(100)\n",
        "x"
      ],
      "execution_count": 8,
      "outputs": [
        {
          "output_type": "execute_result",
          "data": {
            "text/plain": [
              "tensor([7.3441e-36, 0.0000e+00, 0.0000e+00, 0.0000e+00, 0.0000e+00, 0.0000e+00,\n",
              "        0.0000e+00, 0.0000e+00, 0.0000e+00, 0.0000e+00, 0.0000e+00, 0.0000e+00,\n",
              "        0.0000e+00, 0.0000e+00, 0.0000e+00, 0.0000e+00, 0.0000e+00, 0.0000e+00,\n",
              "        0.0000e+00, 0.0000e+00, 0.0000e+00, 0.0000e+00, 0.0000e+00, 0.0000e+00,\n",
              "        0.0000e+00, 0.0000e+00, 0.0000e+00, 0.0000e+00, 0.0000e+00, 0.0000e+00,\n",
              "        0.0000e+00, 0.0000e+00, 0.0000e+00, 0.0000e+00, 0.0000e+00, 0.0000e+00,\n",
              "        0.0000e+00, 0.0000e+00, 0.0000e+00, 0.0000e+00, 0.0000e+00, 0.0000e+00,\n",
              "        0.0000e+00, 0.0000e+00, 0.0000e+00, 0.0000e+00, 0.0000e+00, 0.0000e+00,\n",
              "        0.0000e+00, 0.0000e+00, 0.0000e+00, 0.0000e+00, 0.0000e+00, 0.0000e+00,\n",
              "        0.0000e+00, 0.0000e+00, 0.0000e+00, 0.0000e+00, 0.0000e+00, 0.0000e+00,\n",
              "        0.0000e+00, 0.0000e+00, 0.0000e+00, 0.0000e+00, 0.0000e+00, 0.0000e+00,\n",
              "        0.0000e+00, 0.0000e+00, 0.0000e+00, 0.0000e+00, 0.0000e+00, 0.0000e+00,\n",
              "        0.0000e+00, 0.0000e+00, 0.0000e+00, 0.0000e+00, 0.0000e+00, 0.0000e+00,\n",
              "        0.0000e+00, 0.0000e+00, 0.0000e+00, 0.0000e+00, 0.0000e+00, 0.0000e+00,\n",
              "        0.0000e+00, 0.0000e+00, 0.0000e+00, 0.0000e+00, 0.0000e+00, 0.0000e+00,\n",
              "        0.0000e+00, 0.0000e+00, 0.0000e+00, 0.0000e+00, 0.0000e+00, 0.0000e+00,\n",
              "        0.0000e+00, 0.0000e+00, 0.0000e+00, 0.0000e+00])"
            ]
          },
          "metadata": {},
          "execution_count": 8
        }
      ]
    },
    {
      "cell_type": "code",
      "metadata": {
        "id": "uIVhvmzZYJ91",
        "outputId": "5421993b-0d67-45f2-ffb8-c089de72d56f",
        "colab": {
          "base_uri": "https://localhost:8080/"
        }
      },
      "source": [
        "x = torch.IntTensor(45, 57, 14, 2)\n",
        "x.shape"
      ],
      "execution_count": 9,
      "outputs": [
        {
          "output_type": "execute_result",
          "data": {
            "text/plain": [
              "torch.Size([45, 57, 14, 2])"
            ]
          },
          "metadata": {},
          "execution_count": 9
        }
      ]
    },
    {
      "cell_type": "markdown",
      "metadata": {
        "id": "cUzl8DFRYJ95"
      },
      "source": [
        "**Обратите внимание** - если вы создаёте тензор через задание размерностей (как в примере выше), то он изначально заполняюстя случайным \"мусором\". Что инициализировать нулями, нужно написать .zero_() в конце:"
      ]
    },
    {
      "cell_type": "code",
      "metadata": {
        "id": "QX0QcIOzYJ96",
        "outputId": "43349aa6-b846-4d25-a2da-9ee833e796b1",
        "colab": {
          "base_uri": "https://localhost:8080/"
        }
      },
      "source": [
        "x = torch.IntTensor(3, 2, 4)\n",
        "x"
      ],
      "execution_count": 10,
      "outputs": [
        {
          "output_type": "execute_result",
          "data": {
            "text/plain": [
              "tensor([[[96762624,        0,       50,       50],\n",
              "         [      45,       48,       55,       45]],\n",
              "\n",
              "        [[      49,       57,       84,       48],\n",
              "         [      55,       58,       49,       57]],\n",
              "\n",
              "        [[      58,       51,       54,       46],\n",
              "         [      56,       49,       56,       57]]], dtype=torch.int32)"
            ]
          },
          "metadata": {},
          "execution_count": 10
        }
      ]
    },
    {
      "cell_type": "code",
      "metadata": {
        "id": "XV3w9lVwYJ-A",
        "outputId": "dc5f19f8-04ae-476b-c1fc-4447b248b3de",
        "colab": {
          "base_uri": "https://localhost:8080/"
        }
      },
      "source": [
        "x = torch.IntTensor(3, 2, 4).zero_()\n",
        "x"
      ],
      "execution_count": 11,
      "outputs": [
        {
          "output_type": "execute_result",
          "data": {
            "text/plain": [
              "tensor([[[0, 0, 0, 0],\n",
              "         [0, 0, 0, 0]],\n",
              "\n",
              "        [[0, 0, 0, 0],\n",
              "         [0, 0, 0, 0]],\n",
              "\n",
              "        [[0, 0, 0, 0],\n",
              "         [0, 0, 0, 0]]], dtype=torch.int32)"
            ]
          },
          "metadata": {},
          "execution_count": 11
        }
      ]
    },
    {
      "cell_type": "markdown",
      "metadata": {
        "id": "SAAmLRwzYJ-E"
      },
      "source": [
        "Аналог функции `np.reshape()` == `torch.view()`:"
      ]
    },
    {
      "cell_type": "code",
      "metadata": {
        "id": "ePjL3X3GYJ-H",
        "outputId": "016160a5-759e-4c3b-b818-9e7134794c2f",
        "colab": {
          "base_uri": "https://localhost:8080/"
        }
      },
      "source": [
        "b.view(3, 2)"
      ],
      "execution_count": 12,
      "outputs": [
        {
          "output_type": "execute_result",
          "data": {
            "text/plain": [
              "tensor([[1., 2.],\n",
              "        [3., 4.],\n",
              "        [5., 6.]])"
            ]
          },
          "metadata": {},
          "execution_count": 12
        }
      ]
    },
    {
      "cell_type": "code",
      "metadata": {
        "id": "spMYG2xXYJ-L",
        "outputId": "688b3eaf-4f87-4a56-87a7-a1eda80224d9",
        "colab": {
          "base_uri": "https://localhost:8080/"
        }
      },
      "source": [
        "b"
      ],
      "execution_count": 13,
      "outputs": [
        {
          "output_type": "execute_result",
          "data": {
            "text/plain": [
              "tensor([[1., 2., 3.],\n",
              "        [4., 5., 6.]])"
            ]
          },
          "metadata": {},
          "execution_count": 13
        }
      ]
    },
    {
      "cell_type": "markdown",
      "metadata": {
        "id": "amVu0N1zYJ-O"
      },
      "source": [
        "**Обратите внимание** - torch.view() создаёт новый тензор, а не изменяет старый!"
      ]
    },
    {
      "cell_type": "code",
      "metadata": {
        "id": "hWqyugOSYJ-Q",
        "outputId": "0ad68553-807e-49b9-8e1e-0d70a6cbed45",
        "colab": {
          "base_uri": "https://localhost:8080/"
        }
      },
      "source": [
        "b.view(-1)"
      ],
      "execution_count": 14,
      "outputs": [
        {
          "output_type": "execute_result",
          "data": {
            "text/plain": [
              "tensor([1., 2., 3., 4., 5., 6.])"
            ]
          },
          "metadata": {},
          "execution_count": 14
        }
      ]
    },
    {
      "cell_type": "code",
      "metadata": {
        "id": "S9CvF56uYJ-U",
        "outputId": "20140481-9891-4c2e-cd64-57d484a8727b",
        "colab": {
          "base_uri": "https://localhost:8080/"
        }
      },
      "source": [
        "b"
      ],
      "execution_count": 15,
      "outputs": [
        {
          "output_type": "execute_result",
          "data": {
            "text/plain": [
              "tensor([[1., 2., 3.],\n",
              "        [4., 5., 6.]])"
            ]
          },
          "metadata": {},
          "execution_count": 15
        }
      ]
    },
    {
      "cell_type": "markdown",
      "metadata": {
        "id": "t401j1E2YJ-Z"
      },
      "source": [
        "* Изменение типа тензора:"
      ]
    },
    {
      "cell_type": "code",
      "metadata": {
        "id": "f_iDUEH4YJ-Z"
      },
      "source": [
        "a = torch.FloatTensor([1.5, 3.2, -7])"
      ],
      "execution_count": 16,
      "outputs": []
    },
    {
      "cell_type": "code",
      "metadata": {
        "id": "EzJOrXitYJ-e",
        "outputId": "a8532538-b919-4bd8-a175-5e637720389e",
        "colab": {
          "base_uri": "https://localhost:8080/"
        }
      },
      "source": [
        "a.type_as(torch.IntTensor())"
      ],
      "execution_count": 17,
      "outputs": [
        {
          "output_type": "execute_result",
          "data": {
            "text/plain": [
              "tensor([ 1,  3, -7], dtype=torch.int32)"
            ]
          },
          "metadata": {},
          "execution_count": 17
        }
      ]
    },
    {
      "cell_type": "code",
      "metadata": {
        "id": "hAe3OWWUYJ-i",
        "outputId": "cc5b0056-fd1b-4234-ab8a-656cf4cff7fd",
        "colab": {
          "base_uri": "https://localhost:8080/"
        }
      },
      "source": [
        "a.type_as(torch.ByteTensor())"
      ],
      "execution_count": 18,
      "outputs": [
        {
          "output_type": "execute_result",
          "data": {
            "text/plain": [
              "tensor([  1,   3, 249], dtype=torch.uint8)"
            ]
          },
          "metadata": {},
          "execution_count": 18
        }
      ]
    },
    {
      "cell_type": "markdown",
      "metadata": {
        "id": "4rkatrUeYJ-n"
      },
      "source": [
        "Обратите внимание, что при `.type_as()` создаётся новый тензор (старый не меняется), то есть это не in-place операция:"
      ]
    },
    {
      "cell_type": "code",
      "metadata": {
        "id": "fCgDT14MYJ-o",
        "outputId": "cbb985b9-5b1f-47f5-d198-a2f42046ffbe",
        "colab": {
          "base_uri": "https://localhost:8080/"
        }
      },
      "source": [
        "a"
      ],
      "execution_count": 19,
      "outputs": [
        {
          "output_type": "execute_result",
          "data": {
            "text/plain": [
              "tensor([ 1.5000,  3.2000, -7.0000])"
            ]
          },
          "metadata": {},
          "execution_count": 19
        }
      ]
    },
    {
      "cell_type": "markdown",
      "metadata": {
        "id": "hG1OwtFBYJ-r"
      },
      "source": [
        "* Индексация точная такая же, как и в NumPy:"
      ]
    },
    {
      "cell_type": "code",
      "metadata": {
        "id": "prr0EGIYYJ-r",
        "outputId": "f1cd3db5-07d3-4394-c575-76c63a21557f",
        "colab": {
          "base_uri": "https://localhost:8080/"
        }
      },
      "source": [
        "a = torch.FloatTensor([[100, 20, 35], [15, 163, 534], [52, 90, 66]])\n",
        "a"
      ],
      "execution_count": 20,
      "outputs": [
        {
          "output_type": "execute_result",
          "data": {
            "text/plain": [
              "tensor([[100.,  20.,  35.],\n",
              "        [ 15., 163., 534.],\n",
              "        [ 52.,  90.,  66.]])"
            ]
          },
          "metadata": {},
          "execution_count": 20
        }
      ]
    },
    {
      "cell_type": "code",
      "metadata": {
        "id": "IBq7JiccYJ-w",
        "outputId": "11098c35-2e70-459a-e7e1-9f0cea935212",
        "colab": {
          "base_uri": "https://localhost:8080/"
        }
      },
      "source": [
        "a[0, 0]"
      ],
      "execution_count": 21,
      "outputs": [
        {
          "output_type": "execute_result",
          "data": {
            "text/plain": [
              "tensor(100.)"
            ]
          },
          "metadata": {},
          "execution_count": 21
        }
      ]
    },
    {
      "cell_type": "code",
      "metadata": {
        "id": "vE9cb0XkYJ-z",
        "outputId": "8b5ebc81-8bfe-405d-bbfc-c701d50bce64",
        "colab": {
          "base_uri": "https://localhost:8080/"
        }
      },
      "source": [
        "a[0][0]"
      ],
      "execution_count": 22,
      "outputs": [
        {
          "output_type": "execute_result",
          "data": {
            "text/plain": [
              "tensor(100.)"
            ]
          },
          "metadata": {},
          "execution_count": 22
        }
      ]
    },
    {
      "cell_type": "code",
      "metadata": {
        "id": "UUZzx2F_YJ-2",
        "outputId": "4e3754bc-d837-4a52-d136-2d02ebe223f3",
        "colab": {
          "base_uri": "https://localhost:8080/"
        }
      },
      "source": [
        "a[0:2, 0:2]"
      ],
      "execution_count": 23,
      "outputs": [
        {
          "output_type": "execute_result",
          "data": {
            "text/plain": [
              "tensor([[100.,  20.],\n",
              "        [ 15., 163.]])"
            ]
          },
          "metadata": {},
          "execution_count": 23
        }
      ]
    },
    {
      "cell_type": "markdown",
      "metadata": {
        "id": "ny4-Qi2wYJ-6"
      },
      "source": [
        "### Задача 1"
      ]
    },
    {
      "cell_type": "markdown",
      "metadata": {
        "id": "IWxlFq0bYJ-_"
      },
      "source": [
        "1). Создайте два вещественных тензора: `a` размером (3, 4) и `b` размером (12,)   \n",
        "2). Создайте тензор `c`, являющийся тензором `b`, но размера (2, 2, 3)  \n",
        "3). Выведите первый столбец матрицы `a` с помощью индексации"
      ]
    },
    {
      "cell_type": "code",
      "metadata": {
        "id": "3oxZuk3yYJ_A",
        "colab": {
          "base_uri": "https://localhost:8080/"
        },
        "outputId": "b80e24a8-2953-48cc-88e2-047c9d057f51"
      },
      "source": [
        "a = torch.FloatTensor(3,4)\n",
        "a"
      ],
      "execution_count": 28,
      "outputs": [
        {
          "output_type": "execute_result",
          "data": {
            "text/plain": [
              "tensor([[5.3271e-35, 0.0000e+00, 3.3631e-44, 0.0000e+00],\n",
              "        [       nan, 0.0000e+00, 4.4721e+21, 1.5956e+25],\n",
              "        [4.7399e+16, 1.4917e-07, 1.4838e-41, 0.0000e+00]])"
            ]
          },
          "metadata": {},
          "execution_count": 28
        }
      ]
    },
    {
      "cell_type": "code",
      "source": [
        "b = torch.FloatTensor(12,)\n",
        "b"
      ],
      "metadata": {
        "colab": {
          "base_uri": "https://localhost:8080/"
        },
        "id": "wMz76uH7Vxgf",
        "outputId": "e96fbbb2-5022-4990-b1d8-16dd1352580e"
      },
      "execution_count": 29,
      "outputs": [
        {
          "output_type": "execute_result",
          "data": {
            "text/plain": [
              "tensor([5.3270e-35, 0.0000e+00, 4.4721e+21, 1.5956e+25, 4.7399e+16, 1.4917e-07,\n",
              "        1.4838e-41, 0.0000e+00, 0.0000e+00, 0.0000e+00, 0.0000e+00, 0.0000e+00])"
            ]
          },
          "metadata": {},
          "execution_count": 29
        }
      ]
    },
    {
      "cell_type": "code",
      "source": [
        "c = b.view(2, 2, 3)\n",
        "c"
      ],
      "metadata": {
        "colab": {
          "base_uri": "https://localhost:8080/"
        },
        "id": "bwHcpJeMVkKh",
        "outputId": "f81ec4af-5937-4f6c-80ba-f541de6a15e3"
      },
      "execution_count": 30,
      "outputs": [
        {
          "output_type": "execute_result",
          "data": {
            "text/plain": [
              "tensor([[[5.3270e-35, 0.0000e+00, 4.4721e+21],\n",
              "         [1.5956e+25, 4.7399e+16, 1.4917e-07]],\n",
              "\n",
              "        [[1.4838e-41, 0.0000e+00, 0.0000e+00],\n",
              "         [0.0000e+00, 0.0000e+00, 0.0000e+00]]])"
            ]
          },
          "metadata": {},
          "execution_count": 30
        }
      ]
    },
    {
      "cell_type": "code",
      "source": [
        "a[:, 0]"
      ],
      "metadata": {
        "colab": {
          "base_uri": "https://localhost:8080/"
        },
        "id": "LjecS2CbV08i",
        "outputId": "ed4c39f0-74ca-417b-b42a-79147f8ceadb"
      },
      "execution_count": 31,
      "outputs": [
        {
          "output_type": "execute_result",
          "data": {
            "text/plain": [
              "tensor([5.3271e-35,        nan, 4.7399e+16])"
            ]
          },
          "metadata": {},
          "execution_count": 31
        }
      ]
    },
    {
      "cell_type": "markdown",
      "metadata": {
        "id": "KffQsYwWYJ_D"
      },
      "source": [
        "**Арифметика и булевы операции** работаю также, как и в NumPy, **НО** лучше использовать не опреаторы `+`, `-`, `*`, `/`, а их аналоги:  \n",
        "\n",
        "| Оператор | Аналог |\n",
        "|:-:|:-:|\n",
        "|`+`| `torch.add()` |\n",
        "|`-`| `torch.sub()` |\n",
        "|`*`| `torch.mul()` |\n",
        "|`/`| `torch.div()` |"
      ]
    },
    {
      "cell_type": "markdown",
      "metadata": {
        "id": "UMpR8T11YJ_D"
      },
      "source": [
        "* Сложение:"
      ]
    },
    {
      "cell_type": "code",
      "metadata": {
        "id": "1XHkSjEUYJ_D"
      },
      "source": [
        "a = torch.FloatTensor([[1, 2, 3], [10, 20, 30], [100, 200, 300]])\n",
        "b = torch.FloatTensor([[-1, -2, -3], [-10, -20, -30], [100, 200, 300]])"
      ],
      "execution_count": 32,
      "outputs": []
    },
    {
      "cell_type": "code",
      "metadata": {
        "id": "td25tuFKYJ_H",
        "outputId": "93075c29-b70a-47e4-bf68-c84340a0e697",
        "colab": {
          "base_uri": "https://localhost:8080/"
        }
      },
      "source": [
        "a + b"
      ],
      "execution_count": 33,
      "outputs": [
        {
          "output_type": "execute_result",
          "data": {
            "text/plain": [
              "tensor([[  0.,   0.,   0.],\n",
              "        [  0.,   0.,   0.],\n",
              "        [200., 400., 600.]])"
            ]
          },
          "metadata": {},
          "execution_count": 33
        }
      ]
    },
    {
      "cell_type": "markdown",
      "metadata": {
        "id": "jWYjf1ENYJ_M"
      },
      "source": [
        "Лучше:"
      ]
    },
    {
      "cell_type": "code",
      "metadata": {
        "id": "wHka8PxFYJ_N",
        "outputId": "996119a8-ddc8-4642-b0b1-6a630a04423f",
        "colab": {
          "base_uri": "https://localhost:8080/"
        }
      },
      "source": [
        "a.add(b)"
      ],
      "execution_count": 34,
      "outputs": [
        {
          "output_type": "execute_result",
          "data": {
            "text/plain": [
              "tensor([[  0.,   0.,   0.],\n",
              "        [  0.,   0.,   0.],\n",
              "        [200., 400., 600.]])"
            ]
          },
          "metadata": {},
          "execution_count": 34
        }
      ]
    },
    {
      "cell_type": "code",
      "metadata": {
        "id": "FHQj4DbBYJ_Q",
        "outputId": "c18e0dfb-c88d-446f-b6f8-3112ac90c083",
        "colab": {
          "base_uri": "https://localhost:8080/"
        }
      },
      "source": [
        "b = -a\n",
        "b"
      ],
      "execution_count": 35,
      "outputs": [
        {
          "output_type": "execute_result",
          "data": {
            "text/plain": [
              "tensor([[  -1.,   -2.,   -3.],\n",
              "        [ -10.,  -20.,  -30.],\n",
              "        [-100., -200., -300.]])"
            ]
          },
          "metadata": {},
          "execution_count": 35
        }
      ]
    },
    {
      "cell_type": "code",
      "metadata": {
        "id": "xLCDzO7iYJ_V",
        "outputId": "142be71b-de6d-444a-d5a7-1a21c4da289e",
        "colab": {
          "base_uri": "https://localhost:8080/"
        }
      },
      "source": [
        "a + b"
      ],
      "execution_count": 36,
      "outputs": [
        {
          "output_type": "execute_result",
          "data": {
            "text/plain": [
              "tensor([[0., 0., 0.],\n",
              "        [0., 0., 0.],\n",
              "        [0., 0., 0.]])"
            ]
          },
          "metadata": {},
          "execution_count": 36
        }
      ]
    },
    {
      "cell_type": "markdown",
      "metadata": {
        "id": "z_3gVLY3YJ_Z"
      },
      "source": [
        "* Вычитание:"
      ]
    },
    {
      "cell_type": "code",
      "metadata": {
        "id": "PANHq3eFYJ_a",
        "outputId": "d8b2d807-dc22-476a-93ea-130a9dce2174",
        "colab": {
          "base_uri": "https://localhost:8080/"
        }
      },
      "source": [
        "a - b"
      ],
      "execution_count": 37,
      "outputs": [
        {
          "output_type": "execute_result",
          "data": {
            "text/plain": [
              "tensor([[  2.,   4.,   6.],\n",
              "        [ 20.,  40.,  60.],\n",
              "        [200., 400., 600.]])"
            ]
          },
          "metadata": {},
          "execution_count": 37
        }
      ]
    },
    {
      "cell_type": "markdown",
      "metadata": {
        "id": "tPL1W8ajYJ_i"
      },
      "source": [
        "Лучше:"
      ]
    },
    {
      "cell_type": "code",
      "metadata": {
        "id": "AH7xhdkRYJ_i",
        "outputId": "b02a5a1a-98d8-4070-85a5-7f61a8062c69",
        "colab": {
          "base_uri": "https://localhost:8080/"
        }
      },
      "source": [
        "a.sub(b)"
      ],
      "execution_count": 38,
      "outputs": [
        {
          "output_type": "execute_result",
          "data": {
            "text/plain": [
              "tensor([[  2.,   4.,   6.],\n",
              "        [ 20.,  40.,  60.],\n",
              "        [200., 400., 600.]])"
            ]
          },
          "metadata": {},
          "execution_count": 38
        }
      ]
    },
    {
      "cell_type": "markdown",
      "metadata": {
        "id": "KOX3dTuZYJ_l"
      },
      "source": [
        "* Умножение (поэлементное):"
      ]
    },
    {
      "cell_type": "code",
      "metadata": {
        "id": "J380CvNGYJ_m",
        "outputId": "6323433b-61c2-487a-f55a-b58a843682d0",
        "colab": {
          "base_uri": "https://localhost:8080/"
        }
      },
      "source": [
        "a * b"
      ],
      "execution_count": 39,
      "outputs": [
        {
          "output_type": "execute_result",
          "data": {
            "text/plain": [
              "tensor([[-1.0000e+00, -4.0000e+00, -9.0000e+00],\n",
              "        [-1.0000e+02, -4.0000e+02, -9.0000e+02],\n",
              "        [-1.0000e+04, -4.0000e+04, -9.0000e+04]])"
            ]
          },
          "metadata": {},
          "execution_count": 39
        }
      ]
    },
    {
      "cell_type": "markdown",
      "metadata": {
        "id": "UG7aOFSvYJ_o"
      },
      "source": [
        "Лучше:"
      ]
    },
    {
      "cell_type": "code",
      "metadata": {
        "id": "cixW0jgdYJ_o",
        "outputId": "ceeaf988-c985-4d35-f6aa-97e533a084b6",
        "colab": {
          "base_uri": "https://localhost:8080/"
        }
      },
      "source": [
        "a.mul(b)"
      ],
      "execution_count": 40,
      "outputs": [
        {
          "output_type": "execute_result",
          "data": {
            "text/plain": [
              "tensor([[-1.0000e+00, -4.0000e+00, -9.0000e+00],\n",
              "        [-1.0000e+02, -4.0000e+02, -9.0000e+02],\n",
              "        [-1.0000e+04, -4.0000e+04, -9.0000e+04]])"
            ]
          },
          "metadata": {},
          "execution_count": 40
        }
      ]
    },
    {
      "cell_type": "markdown",
      "metadata": {
        "id": "V-GYTERKYJ_q"
      },
      "source": [
        "* Деление (поэлементное):"
      ]
    },
    {
      "cell_type": "code",
      "metadata": {
        "id": "fUBQns2SYJ_r"
      },
      "source": [
        "a = torch.FloatTensor([[1, 2, 3], [10, 20, 30], [100, 200, 300]])\n",
        "b = torch.FloatTensor([[-1, -2, -3], [-10, -20, -30], [100, 200, 300]])"
      ],
      "execution_count": 41,
      "outputs": []
    },
    {
      "cell_type": "code",
      "metadata": {
        "id": "2hrKeMjAYJ_v",
        "outputId": "eb94d647-cf04-46b7-82b5-8449919cd15f",
        "colab": {
          "base_uri": "https://localhost:8080/"
        }
      },
      "source": [
        "a / b"
      ],
      "execution_count": 42,
      "outputs": [
        {
          "output_type": "execute_result",
          "data": {
            "text/plain": [
              "tensor([[-1., -1., -1.],\n",
              "        [-1., -1., -1.],\n",
              "        [ 1.,  1.,  1.]])"
            ]
          },
          "metadata": {},
          "execution_count": 42
        }
      ]
    },
    {
      "cell_type": "markdown",
      "metadata": {
        "id": "KvcGLFVNYJ_0"
      },
      "source": [
        "Лучше:"
      ]
    },
    {
      "cell_type": "code",
      "metadata": {
        "id": "cpg3YFVPYJ_2",
        "outputId": "00ec8ec7-5d48-4983-f442-037d1c5dd0b3",
        "colab": {
          "base_uri": "https://localhost:8080/"
        }
      },
      "source": [
        "a.div(b)"
      ],
      "execution_count": 43,
      "outputs": [
        {
          "output_type": "execute_result",
          "data": {
            "text/plain": [
              "tensor([[-1., -1., -1.],\n",
              "        [-1., -1., -1.],\n",
              "        [ 1.,  1.,  1.]])"
            ]
          },
          "metadata": {},
          "execution_count": 43
        }
      ]
    },
    {
      "cell_type": "markdown",
      "metadata": {
        "id": "VeLAbx1tYJ_7"
      },
      "source": [
        "Заметьте, все эти операции **не меняют исходные тензоры**, а **создают новые**:"
      ]
    },
    {
      "cell_type": "code",
      "metadata": {
        "id": "57BFtnlgYJ_8",
        "outputId": "d3b183cf-9334-4fa9-87c6-fdb40195409b",
        "colab": {
          "base_uri": "https://localhost:8080/"
        }
      },
      "source": [
        "a"
      ],
      "execution_count": 44,
      "outputs": [
        {
          "output_type": "execute_result",
          "data": {
            "text/plain": [
              "tensor([[  1.,   2.,   3.],\n",
              "        [ 10.,  20.,  30.],\n",
              "        [100., 200., 300.]])"
            ]
          },
          "metadata": {},
          "execution_count": 44
        }
      ]
    },
    {
      "cell_type": "code",
      "metadata": {
        "id": "UziXyvtDYJ_-",
        "outputId": "7154b36a-c3f8-4522-c38a-ddf4606a721f",
        "colab": {
          "base_uri": "https://localhost:8080/"
        }
      },
      "source": [
        "b"
      ],
      "execution_count": 45,
      "outputs": [
        {
          "output_type": "execute_result",
          "data": {
            "text/plain": [
              "tensor([[ -1.,  -2.,  -3.],\n",
              "        [-10., -20., -30.],\n",
              "        [100., 200., 300.]])"
            ]
          },
          "metadata": {},
          "execution_count": 45
        }
      ]
    },
    {
      "cell_type": "markdown",
      "metadata": {
        "id": "D2IP_FrKYKAA"
      },
      "source": [
        "### Задача 2"
      ]
    },
    {
      "cell_type": "markdown",
      "metadata": {
        "id": "tBZFbSYQYKAA"
      },
      "source": [
        "1). Создайте два вещественных тензора: `a` размером (5, 2) и `b` размером (1,10)   \n",
        "2). Создайте тензор `c`, являющийся тензором `b`, но размера (5, 2)  \n",
        "3). Произведите все арифметические операции с тензорами `a` и `c`"
      ]
    },
    {
      "cell_type": "code",
      "metadata": {
        "id": "hzs2bH3GYKAB",
        "colab": {
          "base_uri": "https://localhost:8080/"
        },
        "outputId": "7be8fdc1-7f89-4e4a-9eb9-ce8e75d891f1"
      },
      "source": [
        "a = torch.FloatTensor(5, 2)\n",
        "a"
      ],
      "execution_count": 46,
      "outputs": [
        {
          "output_type": "execute_result",
          "data": {
            "text/plain": [
              "tensor([[5.2268e-35, 0.0000e+00],\n",
              "        [8.5479e-44, 4.4842e-44],\n",
              "        [1.6255e-43, 1.5554e-43],\n",
              "        [1.5975e-43, 1.3873e-43],\n",
              "        [1.4574e-43, 6.4460e-44]])"
            ]
          },
          "metadata": {},
          "execution_count": 46
        }
      ]
    },
    {
      "cell_type": "code",
      "source": [
        "b = torch.FloatTensor(1, 10)\n",
        "b"
      ],
      "metadata": {
        "colab": {
          "base_uri": "https://localhost:8080/"
        },
        "id": "p8uAM2y9WTi0",
        "outputId": "274e8096-76dc-4338-96d7-f73beb3b7403"
      },
      "execution_count": 47,
      "outputs": [
        {
          "output_type": "execute_result",
          "data": {
            "text/plain": [
              "tensor([[5.2264e-35, 0.0000e+00, 3.6434e-44, 0.0000e+00,        nan, 0.0000e+00,\n",
              "         7.4092e+28, 5.2165e-11, 7.5884e+31, 2.8970e+23]])"
            ]
          },
          "metadata": {},
          "execution_count": 47
        }
      ]
    },
    {
      "cell_type": "code",
      "source": [
        "c = b.view(5, 2)\n",
        "c"
      ],
      "metadata": {
        "colab": {
          "base_uri": "https://localhost:8080/"
        },
        "id": "9-MNPXYCWaR5",
        "outputId": "3197db26-e6d6-421a-a646-d061b2da9a01"
      },
      "execution_count": 48,
      "outputs": [
        {
          "output_type": "execute_result",
          "data": {
            "text/plain": [
              "tensor([[5.2264e-35, 0.0000e+00],\n",
              "        [3.6434e-44, 0.0000e+00],\n",
              "        [       nan, 0.0000e+00],\n",
              "        [7.4092e+28, 5.2165e-11],\n",
              "        [7.5884e+31, 2.8970e+23]])"
            ]
          },
          "metadata": {},
          "execution_count": 48
        }
      ]
    },
    {
      "cell_type": "code",
      "source": [
        "a.add(c)"
      ],
      "metadata": {
        "colab": {
          "base_uri": "https://localhost:8080/"
        },
        "id": "wKi6XAUxWhDA",
        "outputId": "02be4238-965b-45f1-e73d-06e447806b68"
      },
      "execution_count": 49,
      "outputs": [
        {
          "output_type": "execute_result",
          "data": {
            "text/plain": [
              "tensor([[1.0453e-34, 0.0000e+00],\n",
              "        [1.2191e-43, 4.4842e-44],\n",
              "        [       nan, 1.5554e-43],\n",
              "        [7.4092e+28, 5.2165e-11],\n",
              "        [7.5884e+31, 2.8970e+23]])"
            ]
          },
          "metadata": {},
          "execution_count": 49
        }
      ]
    },
    {
      "cell_type": "code",
      "source": [
        "a.sub(c)"
      ],
      "metadata": {
        "colab": {
          "base_uri": "https://localhost:8080/"
        },
        "id": "ihP_0ftnWg6B",
        "outputId": "6a138238-3a00-4408-9d7e-1c3b96dc77f1"
      },
      "execution_count": 50,
      "outputs": [
        {
          "output_type": "execute_result",
          "data": {
            "text/plain": [
              "tensor([[ 4.4081e-39,  0.0000e+00],\n",
              "        [ 4.9045e-44,  4.4842e-44],\n",
              "        [        nan,  1.5554e-43],\n",
              "        [-7.4092e+28, -5.2165e-11],\n",
              "        [-7.5884e+31, -2.8970e+23]])"
            ]
          },
          "metadata": {},
          "execution_count": 50
        }
      ]
    },
    {
      "cell_type": "code",
      "source": [
        "a.mul(c)"
      ],
      "metadata": {
        "colab": {
          "base_uri": "https://localhost:8080/"
        },
        "id": "96iaJ7awWgxD",
        "outputId": "4b18295d-ef9c-48be-97db-2a077403d436"
      },
      "execution_count": 51,
      "outputs": [
        {
          "output_type": "execute_result",
          "data": {
            "text/plain": [
              "tensor([[0.0000e+00, 0.0000e+00],\n",
              "        [0.0000e+00, 0.0000e+00],\n",
              "        [       nan, 0.0000e+00],\n",
              "        [1.1836e-14, 0.0000e+00],\n",
              "        [1.1059e-11, 1.8674e-20]])"
            ]
          },
          "metadata": {},
          "execution_count": 51
        }
      ]
    },
    {
      "cell_type": "code",
      "source": [
        "a.div(c)"
      ],
      "metadata": {
        "colab": {
          "base_uri": "https://localhost:8080/"
        },
        "id": "SyjpwA_QWgYW",
        "outputId": "195dafac-3a25-42c2-ada1-7ed776942fad"
      },
      "execution_count": 52,
      "outputs": [
        {
          "output_type": "execute_result",
          "data": {
            "text/plain": [
              "tensor([[1.0001e+00,        nan],\n",
              "        [2.3462e+00,        inf],\n",
              "        [       nan,        inf],\n",
              "        [0.0000e+00, 2.6594e-33],\n",
              "        [0.0000e+00, 0.0000e+00]])"
            ]
          },
          "metadata": {},
          "execution_count": 52
        }
      ]
    },
    {
      "cell_type": "markdown",
      "metadata": {
        "id": "vLpwZPc3YKAC"
      },
      "source": [
        "* **Операторы сравнения**:"
      ]
    },
    {
      "cell_type": "code",
      "metadata": {
        "id": "FfRzvw_UYKAC"
      },
      "source": [
        "a = torch.FloatTensor([[1, 2, 3], [10, 20, 30], [100, 200, 300]])\n",
        "b = torch.FloatTensor([[-1, -2, -3], [-10, -20, -30], [100, 200, 300]])"
      ],
      "execution_count": 53,
      "outputs": []
    },
    {
      "cell_type": "code",
      "metadata": {
        "id": "o1RUTP2BYKAD",
        "outputId": "27d014f0-a0dc-417d-b312-82f36841c488",
        "colab": {
          "base_uri": "https://localhost:8080/"
        }
      },
      "source": [
        "a == b"
      ],
      "execution_count": 54,
      "outputs": [
        {
          "output_type": "execute_result",
          "data": {
            "text/plain": [
              "tensor([[False, False, False],\n",
              "        [False, False, False],\n",
              "        [ True,  True,  True]])"
            ]
          },
          "metadata": {},
          "execution_count": 54
        }
      ]
    },
    {
      "cell_type": "code",
      "metadata": {
        "id": "JO3HaVIAYKAF",
        "outputId": "ca4ea81c-820d-42ce-8b97-6b802d4e7d90",
        "colab": {
          "base_uri": "https://localhost:8080/"
        }
      },
      "source": [
        "a != b"
      ],
      "execution_count": 55,
      "outputs": [
        {
          "output_type": "execute_result",
          "data": {
            "text/plain": [
              "tensor([[ True,  True,  True],\n",
              "        [ True,  True,  True],\n",
              "        [False, False, False]])"
            ]
          },
          "metadata": {},
          "execution_count": 55
        }
      ]
    },
    {
      "cell_type": "code",
      "metadata": {
        "id": "DExLBj4VYKAH",
        "outputId": "2426ca9e-ed54-44f2-a0ab-28e661606373",
        "colab": {
          "base_uri": "https://localhost:8080/"
        }
      },
      "source": [
        "a < b"
      ],
      "execution_count": 56,
      "outputs": [
        {
          "output_type": "execute_result",
          "data": {
            "text/plain": [
              "tensor([[False, False, False],\n",
              "        [False, False, False],\n",
              "        [False, False, False]])"
            ]
          },
          "metadata": {},
          "execution_count": 56
        }
      ]
    },
    {
      "cell_type": "code",
      "metadata": {
        "id": "0_IH_FUNYKAJ",
        "outputId": "7fb944f2-068c-4404-bacb-be4804cba442",
        "colab": {
          "base_uri": "https://localhost:8080/"
        }
      },
      "source": [
        "a > b"
      ],
      "execution_count": 57,
      "outputs": [
        {
          "output_type": "execute_result",
          "data": {
            "text/plain": [
              "tensor([[ True,  True,  True],\n",
              "        [ True,  True,  True],\n",
              "        [False, False, False]])"
            ]
          },
          "metadata": {},
          "execution_count": 57
        }
      ]
    },
    {
      "cell_type": "markdown",
      "metadata": {
        "id": "24nzBJR8YKAM"
      },
      "source": [
        "* **Булевы маски**:"
      ]
    },
    {
      "cell_type": "code",
      "metadata": {
        "id": "C-xVDslwYKAN",
        "outputId": "dee5c245-2255-41ee-dd5c-3b7f5d8ac1af",
        "colab": {
          "base_uri": "https://localhost:8080/"
        }
      },
      "source": [
        "a[a > b]"
      ],
      "execution_count": 58,
      "outputs": [
        {
          "output_type": "execute_result",
          "data": {
            "text/plain": [
              "tensor([ 1.,  2.,  3., 10., 20., 30.])"
            ]
          },
          "metadata": {},
          "execution_count": 58
        }
      ]
    },
    {
      "cell_type": "code",
      "metadata": {
        "id": "XatDJF5YYKAQ",
        "outputId": "0f9eb6f2-5eed-4a03-851e-26dcfe68fdb4",
        "colab": {
          "base_uri": "https://localhost:8080/"
        }
      },
      "source": [
        "b[a == b]"
      ],
      "execution_count": 59,
      "outputs": [
        {
          "output_type": "execute_result",
          "data": {
            "text/plain": [
              "tensor([100., 200., 300.])"
            ]
          },
          "metadata": {},
          "execution_count": 59
        }
      ]
    },
    {
      "cell_type": "markdown",
      "metadata": {
        "id": "P-pLWPv2YKAU"
      },
      "source": [
        "Опять же, тензоры не меняются:"
      ]
    },
    {
      "cell_type": "code",
      "metadata": {
        "id": "AKsqvCD5YKAW",
        "outputId": "6f7b696b-ecef-4012-afd7-f4fd759df094",
        "colab": {
          "base_uri": "https://localhost:8080/"
        }
      },
      "source": [
        "a"
      ],
      "execution_count": 60,
      "outputs": [
        {
          "output_type": "execute_result",
          "data": {
            "text/plain": [
              "tensor([[  1.,   2.,   3.],\n",
              "        [ 10.,  20.,  30.],\n",
              "        [100., 200., 300.]])"
            ]
          },
          "metadata": {},
          "execution_count": 60
        }
      ]
    },
    {
      "cell_type": "code",
      "metadata": {
        "id": "PYurJLVuYKAa",
        "outputId": "9123f31e-8daf-4050-bb86-273070bd3f7e",
        "colab": {
          "base_uri": "https://localhost:8080/"
        }
      },
      "source": [
        "b"
      ],
      "execution_count": 61,
      "outputs": [
        {
          "output_type": "execute_result",
          "data": {
            "text/plain": [
              "tensor([[ -1.,  -2.,  -3.],\n",
              "        [-10., -20., -30.],\n",
              "        [100., 200., 300.]])"
            ]
          },
          "metadata": {},
          "execution_count": 61
        }
      ]
    },
    {
      "cell_type": "markdown",
      "metadata": {
        "id": "54bQky1bYKAf"
      },
      "source": [
        "Применение **стандартных функций** такое же, как и в numpy - поэлементное:"
      ]
    },
    {
      "cell_type": "code",
      "metadata": {
        "id": "lWnGSuUhYKAf"
      },
      "source": [
        "a = torch.FloatTensor([[1, 2, 3], [10, 20, 30], [100, 200, 300]])"
      ],
      "execution_count": 62,
      "outputs": []
    },
    {
      "cell_type": "code",
      "metadata": {
        "id": "J6ZyxZBNYKAl",
        "outputId": "2056580e-c35e-4337-c14a-f17fa4c951ab",
        "colab": {
          "base_uri": "https://localhost:8080/"
        }
      },
      "source": [
        "a.sin()"
      ],
      "execution_count": 63,
      "outputs": [
        {
          "output_type": "execute_result",
          "data": {
            "text/plain": [
              "tensor([[ 0.8415,  0.9093,  0.1411],\n",
              "        [-0.5440,  0.9129, -0.9880],\n",
              "        [-0.5064, -0.8733, -0.9998]])"
            ]
          },
          "metadata": {},
          "execution_count": 63
        }
      ]
    },
    {
      "cell_type": "code",
      "metadata": {
        "id": "SScTSkJMYKAo",
        "outputId": "5cb5defe-e9fb-4c24-ddb3-ba04062a9017",
        "colab": {
          "base_uri": "https://localhost:8080/"
        }
      },
      "source": [
        "torch.sin(a)"
      ],
      "execution_count": 64,
      "outputs": [
        {
          "output_type": "execute_result",
          "data": {
            "text/plain": [
              "tensor([[ 0.8415,  0.9093,  0.1411],\n",
              "        [-0.5440,  0.9129, -0.9880],\n",
              "        [-0.5064, -0.8733, -0.9998]])"
            ]
          },
          "metadata": {},
          "execution_count": 64
        }
      ]
    },
    {
      "cell_type": "code",
      "metadata": {
        "id": "0bYVYVV7YKAr",
        "outputId": "3a5eb28b-010f-4f1a-d4b0-966640e2f329",
        "colab": {
          "base_uri": "https://localhost:8080/"
        }
      },
      "source": [
        "a.cos()"
      ],
      "execution_count": 65,
      "outputs": [
        {
          "output_type": "execute_result",
          "data": {
            "text/plain": [
              "tensor([[ 0.5403, -0.4161, -0.9900],\n",
              "        [-0.8391,  0.4081,  0.1543],\n",
              "        [ 0.8623,  0.4872, -0.0221]])"
            ]
          },
          "metadata": {},
          "execution_count": 65
        }
      ]
    },
    {
      "cell_type": "code",
      "metadata": {
        "id": "c-rYL8HQYKAt",
        "outputId": "0b707d5e-6496-4496-ea01-5409ab105bde",
        "colab": {
          "base_uri": "https://localhost:8080/"
        }
      },
      "source": [
        "a.exp()"
      ],
      "execution_count": 66,
      "outputs": [
        {
          "output_type": "execute_result",
          "data": {
            "text/plain": [
              "tensor([[2.7183e+00, 7.3891e+00, 2.0086e+01],\n",
              "        [2.2026e+04, 4.8517e+08, 1.0686e+13],\n",
              "        [       inf,        inf,        inf]])"
            ]
          },
          "metadata": {},
          "execution_count": 66
        }
      ]
    },
    {
      "cell_type": "code",
      "metadata": {
        "id": "EbiCDYUzYKAw",
        "outputId": "0c7b9281-78f6-4e2e-8fd0-81fdd8d85bdf",
        "colab": {
          "base_uri": "https://localhost:8080/"
        }
      },
      "source": [
        "a.log()"
      ],
      "execution_count": 67,
      "outputs": [
        {
          "output_type": "execute_result",
          "data": {
            "text/plain": [
              "tensor([[0.0000, 0.6931, 1.0986],\n",
              "        [2.3026, 2.9957, 3.4012],\n",
              "        [4.6052, 5.2983, 5.7038]])"
            ]
          },
          "metadata": {},
          "execution_count": 67
        }
      ]
    },
    {
      "cell_type": "code",
      "metadata": {
        "id": "yh1sySpiYKAy",
        "outputId": "5966afb7-7b56-4891-bb3b-50d9eb024d0b",
        "colab": {
          "base_uri": "https://localhost:8080/"
        }
      },
      "source": [
        "b = -a\n",
        "b"
      ],
      "execution_count": 68,
      "outputs": [
        {
          "output_type": "execute_result",
          "data": {
            "text/plain": [
              "tensor([[  -1.,   -2.,   -3.],\n",
              "        [ -10.,  -20.,  -30.],\n",
              "        [-100., -200., -300.]])"
            ]
          },
          "metadata": {},
          "execution_count": 68
        }
      ]
    },
    {
      "cell_type": "code",
      "metadata": {
        "id": "PNU0UxqIYKA2",
        "outputId": "defb0f19-9659-479c-ee0c-1dade09febf6",
        "colab": {
          "base_uri": "https://localhost:8080/"
        }
      },
      "source": [
        "b.abs()"
      ],
      "execution_count": 69,
      "outputs": [
        {
          "output_type": "execute_result",
          "data": {
            "text/plain": [
              "tensor([[  1.,   2.,   3.],\n",
              "        [ 10.,  20.,  30.],\n",
              "        [100., 200., 300.]])"
            ]
          },
          "metadata": {},
          "execution_count": 69
        }
      ]
    },
    {
      "cell_type": "markdown",
      "metadata": {
        "id": "eqERQjISYKA9"
      },
      "source": [
        "**Сумма, среднее, максимум, минимум**:"
      ]
    },
    {
      "cell_type": "code",
      "metadata": {
        "id": "HLmJGdl9YKA-",
        "outputId": "237a5103-34a4-4dab-9405-d54f0905107e",
        "colab": {
          "base_uri": "https://localhost:8080/"
        }
      },
      "source": [
        "a.sum()"
      ],
      "execution_count": 70,
      "outputs": [
        {
          "output_type": "execute_result",
          "data": {
            "text/plain": [
              "tensor(666.)"
            ]
          },
          "metadata": {},
          "execution_count": 70
        }
      ]
    },
    {
      "cell_type": "code",
      "metadata": {
        "id": "ervIuNGnYKBD",
        "outputId": "b3eb352b-070b-4272-a092-84098ea4f50f",
        "colab": {
          "base_uri": "https://localhost:8080/"
        }
      },
      "source": [
        "a.mean()"
      ],
      "execution_count": 71,
      "outputs": [
        {
          "output_type": "execute_result",
          "data": {
            "text/plain": [
              "tensor(74.)"
            ]
          },
          "metadata": {},
          "execution_count": 71
        }
      ]
    },
    {
      "cell_type": "markdown",
      "metadata": {
        "id": "1qxkdUQ2YKBF"
      },
      "source": [
        "По осям:"
      ]
    },
    {
      "cell_type": "code",
      "metadata": {
        "id": "cc6RjJYeYKBG",
        "outputId": "99e45fc0-b70c-4693-8e3f-29ceaa5068fd",
        "colab": {
          "base_uri": "https://localhost:8080/"
        }
      },
      "source": [
        "a.sum(0)"
      ],
      "execution_count": 72,
      "outputs": [
        {
          "output_type": "execute_result",
          "data": {
            "text/plain": [
              "tensor([111., 222., 333.])"
            ]
          },
          "metadata": {},
          "execution_count": 72
        }
      ]
    },
    {
      "cell_type": "code",
      "metadata": {
        "id": "Dgi5BmhOYKBJ",
        "outputId": "4a65b1b4-cc9e-45c7-da0d-d7d652266cc9",
        "colab": {
          "base_uri": "https://localhost:8080/"
        }
      },
      "source": [
        "a.sum(1)"
      ],
      "execution_count": 73,
      "outputs": [
        {
          "output_type": "execute_result",
          "data": {
            "text/plain": [
              "tensor([  6.,  60., 600.])"
            ]
          },
          "metadata": {},
          "execution_count": 73
        }
      ]
    },
    {
      "cell_type": "code",
      "metadata": {
        "id": "-tIkcTENYKBK",
        "outputId": "1ff471a3-0bae-437c-95cc-368720b71afc",
        "colab": {
          "base_uri": "https://localhost:8080/"
        }
      },
      "source": [
        "a.max()"
      ],
      "execution_count": 74,
      "outputs": [
        {
          "output_type": "execute_result",
          "data": {
            "text/plain": [
              "tensor(300.)"
            ]
          },
          "metadata": {},
          "execution_count": 74
        }
      ]
    },
    {
      "cell_type": "code",
      "metadata": {
        "id": "V4U_LyyPYKBL",
        "outputId": "090a55c3-3146-4ae8-ee98-0c165452dc70",
        "colab": {
          "base_uri": "https://localhost:8080/"
        }
      },
      "source": [
        "a.max(0)"
      ],
      "execution_count": 75,
      "outputs": [
        {
          "output_type": "execute_result",
          "data": {
            "text/plain": [
              "torch.return_types.max(values=tensor([100., 200., 300.]), indices=tensor([2, 2, 2]))"
            ]
          },
          "metadata": {},
          "execution_count": 75
        }
      ]
    },
    {
      "cell_type": "code",
      "metadata": {
        "id": "TSqmVtWjYKBO",
        "outputId": "da4ad771-a5e0-494c-c2b9-076e9ddf48a8",
        "colab": {
          "base_uri": "https://localhost:8080/"
        }
      },
      "source": [
        "a.min()"
      ],
      "execution_count": 76,
      "outputs": [
        {
          "output_type": "execute_result",
          "data": {
            "text/plain": [
              "tensor(1.)"
            ]
          },
          "metadata": {},
          "execution_count": 76
        }
      ]
    },
    {
      "cell_type": "code",
      "metadata": {
        "id": "OeA2hlZ2YKBP",
        "outputId": "8b7ecb95-10c3-460f-f9b9-59c47b698d41",
        "colab": {
          "base_uri": "https://localhost:8080/"
        }
      },
      "source": [
        "a.min(0)"
      ],
      "execution_count": 77,
      "outputs": [
        {
          "output_type": "execute_result",
          "data": {
            "text/plain": [
              "torch.return_types.min(values=tensor([1., 2., 3.]), indices=tensor([0, 0, 0]))"
            ]
          },
          "metadata": {},
          "execution_count": 77
        }
      ]
    },
    {
      "cell_type": "markdown",
      "metadata": {
        "id": "Ys-9hnr4YKBS"
      },
      "source": [
        "Обратите внимание - второй тензор при вызове функций .max() и .min() - это индексы этих максимальных/минимальных элементов по указанной размерности (то есть в данном случае a.min() вернул (1, 2, 3) - минимумы по 0 оси (по столбцам), и их индексы по 0-ой оси (0,0,0) (номер каждого элемента в своём столбце))."
      ]
    },
    {
      "cell_type": "markdown",
      "metadata": {
        "id": "rIaroFO6YKBT"
      },
      "source": [
        "### Задача 3"
      ]
    },
    {
      "cell_type": "markdown",
      "metadata": {
        "id": "GfLHVvKvYKBT"
      },
      "source": [
        "Создайте тензор `a` размерности (100, 780, 780, 3) (можно интерпретировать это как 100 картинок размера 780х780 с тремя цветовыми каналами) и выведите первый элемент этого тензора как картинку (с помощью matplotlib.pyplot).\n",
        "\n",
        "Выведите среднее элементов по 1-ой оси (по сути - средняя картинка по всем картинкам) и по 4-ой оси (по сути - усреднение каналов для каждой картинки)."
      ]
    },
    {
      "cell_type": "code",
      "metadata": {
        "id": "pZVGHEQQYKBU",
        "colab": {
          "base_uri": "https://localhost:8080/"
        },
        "outputId": "e0ab5271-17b4-40d2-8bd8-8eaf3fa0a6dc"
      },
      "source": [
        "a = torch.FloatTensor(100, 780, 780, 3).uniform_()\n",
        "a"
      ],
      "execution_count": 79,
      "outputs": [
        {
          "output_type": "execute_result",
          "data": {
            "text/plain": [
              "tensor([[[[0.4714, 0.3328, 0.4004],\n",
              "          [0.8615, 0.2343, 0.1912],\n",
              "          [0.6429, 0.7790, 0.0062],\n",
              "          ...,\n",
              "          [0.5596, 0.4629, 0.8962],\n",
              "          [0.7969, 0.6240, 0.9406],\n",
              "          [0.2377, 0.3744, 0.8579]],\n",
              "\n",
              "         [[0.2601, 0.0787, 0.9546],\n",
              "          [0.9111, 0.1369, 0.8488],\n",
              "          [0.1543, 0.7962, 0.7968],\n",
              "          ...,\n",
              "          [0.4281, 0.6757, 0.5784],\n",
              "          [0.2740, 0.2545, 0.7038],\n",
              "          [0.1942, 0.3028, 0.2271]],\n",
              "\n",
              "         [[0.7026, 0.6059, 0.9548],\n",
              "          [0.7066, 0.9767, 0.1358],\n",
              "          [0.4024, 0.9900, 0.2292],\n",
              "          ...,\n",
              "          [0.9741, 0.6822, 0.4375],\n",
              "          [0.4987, 0.3139, 0.7205],\n",
              "          [0.5298, 0.4794, 0.5309]],\n",
              "\n",
              "         ...,\n",
              "\n",
              "         [[0.9726, 0.3849, 0.2778],\n",
              "          [0.9240, 0.5656, 0.0797],\n",
              "          [0.0227, 0.9228, 0.0113],\n",
              "          ...,\n",
              "          [0.3901, 0.8654, 0.2358],\n",
              "          [0.9855, 0.6165, 0.5712],\n",
              "          [0.5062, 0.5339, 0.6906]],\n",
              "\n",
              "         [[0.2820, 0.6995, 0.5459],\n",
              "          [0.0321, 0.1799, 0.2358],\n",
              "          [0.2173, 0.9197, 0.1349],\n",
              "          ...,\n",
              "          [0.9054, 0.2850, 0.8477],\n",
              "          [0.7905, 0.0588, 0.0027],\n",
              "          [0.9636, 0.5843, 0.0706]],\n",
              "\n",
              "         [[0.1857, 0.4778, 0.5702],\n",
              "          [0.4199, 0.4480, 0.2375],\n",
              "          [0.4176, 0.0245, 0.3193],\n",
              "          ...,\n",
              "          [0.7936, 0.9914, 0.1451],\n",
              "          [0.7602, 0.5456, 0.4185],\n",
              "          [0.0524, 0.8008, 0.8168]]],\n",
              "\n",
              "\n",
              "        [[[0.3313, 0.1574, 0.0607],\n",
              "          [0.1112, 0.5420, 0.0608],\n",
              "          [0.6473, 0.3093, 0.6313],\n",
              "          ...,\n",
              "          [0.2492, 0.5881, 0.3630],\n",
              "          [0.8036, 0.4993, 0.6488],\n",
              "          [0.3481, 0.2657, 0.9893]],\n",
              "\n",
              "         [[0.0326, 0.2249, 0.5138],\n",
              "          [0.5883, 0.9482, 0.6201],\n",
              "          [0.2429, 0.1756, 0.7014],\n",
              "          ...,\n",
              "          [0.3482, 0.1974, 0.1387],\n",
              "          [0.6351, 0.8604, 0.6110],\n",
              "          [0.5693, 0.8894, 0.7307]],\n",
              "\n",
              "         [[0.7150, 0.0324, 0.9826],\n",
              "          [0.8777, 0.3204, 0.8070],\n",
              "          [0.5324, 0.2769, 0.9803],\n",
              "          ...,\n",
              "          [0.0377, 0.0526, 0.3218],\n",
              "          [0.3788, 0.7541, 0.8754],\n",
              "          [0.7511, 0.1101, 0.1460]],\n",
              "\n",
              "         ...,\n",
              "\n",
              "         [[0.4515, 0.0102, 0.6544],\n",
              "          [0.5260, 0.0772, 0.1675],\n",
              "          [0.2683, 0.7882, 0.8441],\n",
              "          ...,\n",
              "          [0.5015, 0.7449, 0.3211],\n",
              "          [0.8887, 0.5315, 0.0096],\n",
              "          [0.1218, 0.7316, 0.0506]],\n",
              "\n",
              "         [[0.2094, 0.8295, 0.2570],\n",
              "          [0.5040, 0.1258, 0.3260],\n",
              "          [0.0109, 0.5802, 0.0363],\n",
              "          ...,\n",
              "          [0.9283, 0.8717, 0.1837],\n",
              "          [0.5014, 0.5900, 0.3232],\n",
              "          [0.5215, 0.8244, 0.7371]],\n",
              "\n",
              "         [[0.3654, 0.0823, 0.6991],\n",
              "          [0.1481, 0.6562, 0.6731],\n",
              "          [0.3083, 0.0521, 0.7432],\n",
              "          ...,\n",
              "          [0.3421, 0.9975, 0.5436],\n",
              "          [0.3656, 0.7990, 0.0070],\n",
              "          [0.7206, 0.9822, 0.4289]]],\n",
              "\n",
              "\n",
              "        [[[0.8201, 0.2690, 0.9706],\n",
              "          [0.4912, 0.8205, 0.4093],\n",
              "          [0.8694, 0.5630, 0.2533],\n",
              "          ...,\n",
              "          [0.0995, 0.7537, 0.9518],\n",
              "          [0.9314, 0.8649, 0.3629],\n",
              "          [0.1399, 0.7980, 0.9149]],\n",
              "\n",
              "         [[0.4043, 0.5522, 0.1783],\n",
              "          [0.8176, 0.1257, 0.2883],\n",
              "          [0.8184, 0.2499, 0.2931],\n",
              "          ...,\n",
              "          [0.7532, 0.1276, 0.8119],\n",
              "          [0.6062, 0.7201, 0.7696],\n",
              "          [0.7327, 0.7444, 0.2125]],\n",
              "\n",
              "         [[0.9995, 0.8854, 0.7731],\n",
              "          [0.8221, 0.6022, 0.6891],\n",
              "          [0.0674, 0.3924, 0.5222],\n",
              "          ...,\n",
              "          [0.3312, 0.9935, 0.1000],\n",
              "          [0.7217, 0.7275, 0.5466],\n",
              "          [0.7979, 0.9889, 0.0693]],\n",
              "\n",
              "         ...,\n",
              "\n",
              "         [[0.6571, 0.1591, 0.8110],\n",
              "          [0.3379, 0.2387, 0.0383],\n",
              "          [0.6414, 0.0435, 0.5254],\n",
              "          ...,\n",
              "          [0.1735, 0.2677, 0.4904],\n",
              "          [0.7622, 0.9957, 0.4040],\n",
              "          [0.4178, 0.2268, 0.6790]],\n",
              "\n",
              "         [[0.6992, 0.9827, 0.2965],\n",
              "          [0.8436, 0.4276, 0.3649],\n",
              "          [0.1206, 0.8542, 0.0858],\n",
              "          ...,\n",
              "          [0.6595, 0.2358, 0.9256],\n",
              "          [0.9599, 0.3489, 0.7210],\n",
              "          [0.3357, 0.4910, 0.8200]],\n",
              "\n",
              "         [[0.9198, 0.4875, 0.8319],\n",
              "          [0.5470, 0.0318, 0.5082],\n",
              "          [0.6543, 0.8685, 0.6124],\n",
              "          ...,\n",
              "          [0.4014, 0.6978, 0.4784],\n",
              "          [0.1556, 0.5193, 0.7920],\n",
              "          [0.2065, 0.7812, 0.7456]]],\n",
              "\n",
              "\n",
              "        ...,\n",
              "\n",
              "\n",
              "        [[[0.9058, 0.4107, 0.0523],\n",
              "          [0.5806, 0.8047, 0.5044],\n",
              "          [0.5976, 0.3294, 0.2644],\n",
              "          ...,\n",
              "          [0.6847, 0.0293, 0.1725],\n",
              "          [0.8551, 0.7610, 0.8587],\n",
              "          [0.5262, 0.7991, 0.8109]],\n",
              "\n",
              "         [[0.7666, 0.6006, 0.9466],\n",
              "          [0.3731, 0.1991, 0.9316],\n",
              "          [0.5386, 0.4177, 0.1979],\n",
              "          ...,\n",
              "          [0.9498, 0.9332, 0.1477],\n",
              "          [0.8264, 0.4273, 0.3612],\n",
              "          [0.8385, 0.6861, 0.0697]],\n",
              "\n",
              "         [[0.7166, 0.1198, 0.7379],\n",
              "          [0.1058, 0.9172, 0.6869],\n",
              "          [0.3871, 0.6567, 0.0702],\n",
              "          ...,\n",
              "          [0.5304, 0.9787, 0.1160],\n",
              "          [0.3642, 0.6722, 0.9652],\n",
              "          [0.6843, 0.7966, 0.2416]],\n",
              "\n",
              "         ...,\n",
              "\n",
              "         [[0.3031, 0.7170, 0.9109],\n",
              "          [0.1127, 0.1239, 0.3711],\n",
              "          [0.3586, 0.2360, 0.4006],\n",
              "          ...,\n",
              "          [0.2107, 0.0039, 0.9703],\n",
              "          [0.0192, 0.5209, 0.1721],\n",
              "          [0.1757, 0.3927, 0.9942]],\n",
              "\n",
              "         [[0.3573, 0.1635, 0.1446],\n",
              "          [0.3655, 0.7493, 0.4722],\n",
              "          [0.1969, 0.7118, 0.0735],\n",
              "          ...,\n",
              "          [0.7370, 0.4155, 0.0314],\n",
              "          [0.8592, 0.1251, 0.5738],\n",
              "          [0.9167, 0.5455, 0.4551]],\n",
              "\n",
              "         [[0.5468, 0.3445, 0.7714],\n",
              "          [0.0319, 0.4399, 0.4117],\n",
              "          [0.8624, 0.3500, 0.7899],\n",
              "          ...,\n",
              "          [0.9846, 0.8168, 0.9755],\n",
              "          [0.0361, 0.6489, 0.7829],\n",
              "          [0.3786, 0.5977, 0.7599]]],\n",
              "\n",
              "\n",
              "        [[[0.6750, 0.3750, 0.2733],\n",
              "          [0.0138, 0.8292, 0.2109],\n",
              "          [0.7387, 0.9410, 0.8034],\n",
              "          ...,\n",
              "          [0.4668, 0.5023, 0.6409],\n",
              "          [0.7652, 0.9457, 0.4902],\n",
              "          [0.7694, 0.2743, 0.3720]],\n",
              "\n",
              "         [[0.3727, 0.2975, 0.2877],\n",
              "          [0.7948, 0.9020, 0.5027],\n",
              "          [0.8028, 0.1142, 0.6650],\n",
              "          ...,\n",
              "          [0.1327, 0.6548, 0.7036],\n",
              "          [0.6025, 0.5299, 0.6037],\n",
              "          [0.2363, 0.5706, 0.0810]],\n",
              "\n",
              "         [[0.5779, 0.3459, 0.1059],\n",
              "          [0.0696, 0.8837, 0.7060],\n",
              "          [0.4441, 0.0031, 0.3029],\n",
              "          ...,\n",
              "          [0.1936, 0.9223, 0.6520],\n",
              "          [0.5190, 0.0605, 0.8447],\n",
              "          [0.0987, 0.3295, 0.7539]],\n",
              "\n",
              "         ...,\n",
              "\n",
              "         [[0.0534, 0.9397, 0.0080],\n",
              "          [0.7951, 0.1522, 0.1537],\n",
              "          [0.1962, 0.6593, 0.0054],\n",
              "          ...,\n",
              "          [0.9614, 0.2370, 0.5020],\n",
              "          [0.8915, 0.0647, 0.9716],\n",
              "          [0.9452, 0.7938, 0.3199]],\n",
              "\n",
              "         [[0.5077, 0.9735, 0.4860],\n",
              "          [0.6572, 0.3976, 0.5340],\n",
              "          [0.8451, 0.8865, 0.2289],\n",
              "          ...,\n",
              "          [0.7256, 0.8856, 0.0254],\n",
              "          [0.0610, 0.9401, 0.4949],\n",
              "          [0.0103, 0.7722, 0.1951]],\n",
              "\n",
              "         [[0.4816, 0.2884, 0.4633],\n",
              "          [0.9010, 0.3544, 0.3823],\n",
              "          [0.6303, 0.5196, 0.9731],\n",
              "          ...,\n",
              "          [0.7340, 0.6717, 0.9218],\n",
              "          [0.3579, 0.7440, 0.2535],\n",
              "          [0.8317, 0.3911, 0.8553]]],\n",
              "\n",
              "\n",
              "        [[[0.9917, 0.0147, 0.2397],\n",
              "          [0.8139, 0.5331, 0.2197],\n",
              "          [0.9743, 0.1336, 0.3276],\n",
              "          ...,\n",
              "          [0.9859, 0.7680, 0.9271],\n",
              "          [0.4774, 0.8390, 0.1896],\n",
              "          [0.2647, 0.0222, 0.7330]],\n",
              "\n",
              "         [[0.7497, 0.5209, 0.4017],\n",
              "          [0.5593, 0.5031, 0.1826],\n",
              "          [0.7146, 0.7919, 0.5653],\n",
              "          ...,\n",
              "          [0.5795, 0.5503, 0.7034],\n",
              "          [0.5576, 0.4310, 0.7657],\n",
              "          [0.1270, 0.2050, 0.7385]],\n",
              "\n",
              "         [[0.8793, 0.0514, 0.7250],\n",
              "          [0.5848, 0.7557, 0.3902],\n",
              "          [0.1537, 0.0222, 0.2295],\n",
              "          ...,\n",
              "          [0.3281, 0.7672, 0.8321],\n",
              "          [0.4493, 0.6363, 0.2931],\n",
              "          [0.5267, 0.5243, 0.2056]],\n",
              "\n",
              "         ...,\n",
              "\n",
              "         [[0.1213, 0.9133, 0.9657],\n",
              "          [0.1542, 0.2631, 0.6162],\n",
              "          [0.9736, 0.7196, 0.7195],\n",
              "          ...,\n",
              "          [0.5461, 0.1327, 0.6002],\n",
              "          [0.2656, 0.3385, 0.8995],\n",
              "          [0.5224, 0.2684, 0.5506]],\n",
              "\n",
              "         [[0.6959, 0.9823, 0.7456],\n",
              "          [0.1970, 0.3541, 0.3700],\n",
              "          [0.3074, 0.1012, 0.2683],\n",
              "          ...,\n",
              "          [0.4626, 0.1418, 0.3062],\n",
              "          [0.2882, 0.5135, 0.4046],\n",
              "          [0.8701, 0.0918, 0.5195]],\n",
              "\n",
              "         [[0.9973, 0.0412, 0.7221],\n",
              "          [0.9735, 0.5337, 0.5124],\n",
              "          [0.7054, 0.7643, 0.8989],\n",
              "          ...,\n",
              "          [0.9913, 0.9198, 0.0337],\n",
              "          [0.2140, 0.2648, 0.4552],\n",
              "          [0.1564, 0.6127, 0.3676]]]])"
            ]
          },
          "metadata": {},
          "execution_count": 79
        }
      ]
    },
    {
      "cell_type": "code",
      "source": [
        "import matplotlib.pyplot as plt"
      ],
      "metadata": {
        "id": "0GpSiOuSXXqx"
      },
      "execution_count": 80,
      "outputs": []
    },
    {
      "cell_type": "code",
      "source": [
        "plt.imshow(a[0, :, :, :])"
      ],
      "metadata": {
        "colab": {
          "base_uri": "https://localhost:8080/",
          "height": 287
        },
        "id": "4aNpHnOtXcDm",
        "outputId": "a96ad256-1941-41e0-b370-719b07b49049"
      },
      "execution_count": 81,
      "outputs": [
        {
          "output_type": "execute_result",
          "data": {
            "text/plain": [
              "<matplotlib.image.AxesImage at 0x7f87258c1ad0>"
            ]
          },
          "metadata": {},
          "execution_count": 81
        },
        {
          "output_type": "display_data",
          "data": {
            "text/plain": [
              "<Figure size 432x288 with 1 Axes>"
            ],
            "image/png": "[encoded data removed]"
          },
          "metadata": {
            "needs_background": "light"
          }
        }
      ]
    },
    {
      "cell_type": "code",
      "source": [
        "meanIm = a.mean(0)"
      ],
      "metadata": {
        "id": "8RXHS2XLXwbj"
      },
      "execution_count": 83,
      "outputs": []
    },
    {
      "cell_type": "code",
      "source": [
        "plt.imshow(meanIm)"
      ],
      "metadata": {
        "colab": {
          "base_uri": "https://localhost:8080/",
          "height": 287
        },
        "id": "gd_bZpSJX91S",
        "outputId": "e6dcd231-008b-4004-b25d-3ef885c8f062"
      },
      "execution_count": 85,
      "outputs": [
        {
          "output_type": "execute_result",
          "data": {
            "text/plain": [
              "<matplotlib.image.AxesImage at 0x7f8725809cd0>"
            ]
          },
          "metadata": {},
          "execution_count": 85
        },
        {
          "output_type": "display_data",
          "data": {
            "text/plain": [
              "<Figure size 432x288 with 1 Axes>"
            ],
            "image/png": "[encoded data removed]"
          },
          "metadata": {
            "needs_background": "light"
          }
        }
      ]
    },
    {
      "cell_type": "code",
      "source": [
        "meanColor = a.mean(3)"
      ],
      "metadata": {
        "id": "6acRfiQiX175"
      },
      "execution_count": 84,
      "outputs": []
    },
    {
      "cell_type": "code",
      "source": [
        "plt.imshow(meanColor[0, :, :])"
      ],
      "metadata": {
        "colab": {
          "base_uri": "https://localhost:8080/",
          "height": 287
        },
        "id": "RIQlK216X9ch",
        "outputId": "0bfc836f-91e5-49d0-f108-3bb9554a740c"
      },
      "execution_count": 87,
      "outputs": [
        {
          "output_type": "execute_result",
          "data": {
            "text/plain": [
              "<matplotlib.image.AxesImage at 0x7f8723994450>"
            ]
          },
          "metadata": {},
          "execution_count": 87
        },
        {
          "output_type": "display_data",
          "data": {
            "text/plain": [
              "<Figure size 432x288 with 1 Axes>"
            ],
            "image/png": "[encoded data removed]"
          },
          "metadata": {
            "needs_background": "light"
          }
        }
      ]
    },
    {
      "cell_type": "markdown",
      "metadata": {
        "id": "kepFeTZ0YKBV"
      },
      "source": [
        "**Матричные операции:**"
      ]
    },
    {
      "cell_type": "code",
      "metadata": {
        "id": "XEShGzNHYKBV"
      },
      "source": [
        "z = x.mm(y)\n",
        "z = torch.mm(x, y)\n",
        "Матричное умножение.\n",
        "z = x.mv(v)\n",
        "z = torch.mv(x, v)\n",
        "Умножение матрицы на вектор.\n",
        "z = x.dot(y)\n",
        "z = torch.dot(x, y)\n",
        "Скалярное умножение тензоров.\n",
        "bz = bx.bmm(by)\n",
        "bz = torch.bmm(bx, by)\n",
        "Перемножает матрицы целыми батчами."
      ],
      "execution_count": null,
      "outputs": []
    },
    {
      "cell_type": "markdown",
      "metadata": {
        "id": "7RYm3mdrYKBX"
      },
      "source": [
        "* Транспонирование матрицы (тензора):"
      ]
    },
    {
      "cell_type": "code",
      "metadata": {
        "id": "T8-1TSkeYKBY",
        "outputId": "81db9ace-f7a6-446f-b55c-d4419906eb92",
        "colab": {
          "base_uri": "https://localhost:8080/"
        }
      },
      "source": [
        "a = torch.FloatTensor([[1, 2, 3], [10, 20, 30], [100, 200, 300]])\n",
        "a"
      ],
      "execution_count": 88,
      "outputs": [
        {
          "output_type": "execute_result",
          "data": {
            "text/plain": [
              "tensor([[  1.,   2.,   3.],\n",
              "        [ 10.,  20.,  30.],\n",
              "        [100., 200., 300.]])"
            ]
          },
          "metadata": {},
          "execution_count": 88
        }
      ]
    },
    {
      "cell_type": "code",
      "metadata": {
        "id": "HSAZwai7YKBa",
        "outputId": "65a01c3f-6ea9-4200-cf48-c977b953cedc",
        "colab": {
          "base_uri": "https://localhost:8080/"
        }
      },
      "source": [
        "a.t()"
      ],
      "execution_count": 89,
      "outputs": [
        {
          "output_type": "execute_result",
          "data": {
            "text/plain": [
              "tensor([[  1.,  10., 100.],\n",
              "        [  2.,  20., 200.],\n",
              "        [  3.,  30., 300.]])"
            ]
          },
          "metadata": {},
          "execution_count": 89
        }
      ]
    },
    {
      "cell_type": "markdown",
      "metadata": {
        "id": "QqsPkleRYKBd"
      },
      "source": [
        "И снова - сам тензор не меняется (то есть при вызове создаётся новый):"
      ]
    },
    {
      "cell_type": "code",
      "metadata": {
        "id": "NRPamd2EYKBe",
        "outputId": "784e10c7-8fe9-4dc6-f4b8-6ec1ae86fd07",
        "colab": {
          "base_uri": "https://localhost:8080/"
        }
      },
      "source": [
        "a"
      ],
      "execution_count": 90,
      "outputs": [
        {
          "output_type": "execute_result",
          "data": {
            "text/plain": [
              "tensor([[  1.,   2.,   3.],\n",
              "        [ 10.,  20.,  30.],\n",
              "        [100., 200., 300.]])"
            ]
          },
          "metadata": {},
          "execution_count": 90
        }
      ]
    },
    {
      "cell_type": "markdown",
      "metadata": {
        "id": "q8YhoxHPYKBh"
      },
      "source": [
        "* Скалярное произведение векторов (1-мерных тензоров):"
      ]
    },
    {
      "cell_type": "code",
      "metadata": {
        "id": "i1pRtl7HYKBi"
      },
      "source": [
        "a = torch.FloatTensor([1, 2, 3, 4, 5, 6])\n",
        "b = torch.FloatTensor([-1, -2, -4, -6, -8, -10])"
      ],
      "execution_count": 91,
      "outputs": []
    },
    {
      "cell_type": "code",
      "metadata": {
        "id": "qcS-28dwYKBp",
        "outputId": "3232e8dc-a0d3-4d66-a7da-a2613c0d43de",
        "colab": {
          "base_uri": "https://localhost:8080/"
        }
      },
      "source": [
        "a.dot(b)"
      ],
      "execution_count": 92,
      "outputs": [
        {
          "output_type": "execute_result",
          "data": {
            "text/plain": [
              "tensor(-141.)"
            ]
          },
          "metadata": {},
          "execution_count": 92
        }
      ]
    },
    {
      "cell_type": "code",
      "metadata": {
        "id": "MXyhOelQYKBs",
        "outputId": "1389fb9d-5044-4b3f-83bd-216d51b31968",
        "colab": {
          "base_uri": "https://localhost:8080/"
        }
      },
      "source": [
        "a @ b"
      ],
      "execution_count": 93,
      "outputs": [
        {
          "output_type": "execute_result",
          "data": {
            "text/plain": [
              "tensor(-141.)"
            ]
          },
          "metadata": {},
          "execution_count": 93
        }
      ]
    },
    {
      "cell_type": "code",
      "metadata": {
        "id": "sxqg4xhoYKBt",
        "outputId": "e5758561-8072-4f70-c8e0-f9df4835c590",
        "colab": {
          "base_uri": "https://localhost:8080/"
        }
      },
      "source": [
        "type(a)"
      ],
      "execution_count": 94,
      "outputs": [
        {
          "output_type": "execute_result",
          "data": {
            "text/plain": [
              "torch.Tensor"
            ]
          },
          "metadata": {},
          "execution_count": 94
        }
      ]
    },
    {
      "cell_type": "code",
      "metadata": {
        "id": "_v2ZjPqDYKBz",
        "outputId": "c1abedbe-c551-459a-b390-fc5391e9e2ec",
        "colab": {
          "base_uri": "https://localhost:8080/"
        }
      },
      "source": [
        "type(b)"
      ],
      "execution_count": 95,
      "outputs": [
        {
          "output_type": "execute_result",
          "data": {
            "text/plain": [
              "torch.Tensor"
            ]
          },
          "metadata": {},
          "execution_count": 95
        }
      ]
    },
    {
      "cell_type": "code",
      "metadata": {
        "id": "UsWB9vTuYKB0",
        "outputId": "a949533a-82fd-45e2-aa45-d6653e2099f7",
        "colab": {
          "base_uri": "https://localhost:8080/"
        }
      },
      "source": [
        "type(a @ b)"
      ],
      "execution_count": 96,
      "outputs": [
        {
          "output_type": "execute_result",
          "data": {
            "text/plain": [
              "torch.Tensor"
            ]
          },
          "metadata": {},
          "execution_count": 96
        }
      ]
    },
    {
      "cell_type": "markdown",
      "metadata": {
        "id": "KSrnLwkGYKB1"
      },
      "source": [
        "* Матричное умножение:"
      ]
    },
    {
      "cell_type": "code",
      "metadata": {
        "id": "ViurnbjPYKB2"
      },
      "source": [
        "a = torch.FloatTensor([[1, 2, 3], [10, 20, 30], [100, 200, 300]])\n",
        "b = torch.FloatTensor([[-1, -2, -3], [-10, -20, -30], [100, 200, 300]])"
      ],
      "execution_count": 97,
      "outputs": []
    },
    {
      "cell_type": "code",
      "metadata": {
        "id": "5TrCnfWiYKB3",
        "outputId": "44f892ec-2c68-4cd3-fa79-bba5d1954bff",
        "colab": {
          "base_uri": "https://localhost:8080/"
        }
      },
      "source": [
        "a.mm(b)"
      ],
      "execution_count": 98,
      "outputs": [
        {
          "output_type": "execute_result",
          "data": {
            "text/plain": [
              "tensor([[  279.,   558.,   837.],\n",
              "        [ 2790.,  5580.,  8370.],\n",
              "        [27900., 55800., 83700.]])"
            ]
          },
          "metadata": {},
          "execution_count": 98
        }
      ]
    },
    {
      "cell_type": "code",
      "metadata": {
        "id": "HMzIz-_MYKB4",
        "outputId": "0951fb4a-9bb3-4d57-b563-e3b56fdd8041",
        "colab": {
          "base_uri": "https://localhost:8080/"
        }
      },
      "source": [
        "a @ b"
      ],
      "execution_count": 99,
      "outputs": [
        {
          "output_type": "execute_result",
          "data": {
            "text/plain": [
              "tensor([[  279.,   558.,   837.],\n",
              "        [ 2790.,  5580.,  8370.],\n",
              "        [27900., 55800., 83700.]])"
            ]
          },
          "metadata": {},
          "execution_count": 99
        }
      ]
    },
    {
      "cell_type": "markdown",
      "metadata": {
        "id": "Ig2pr52xYKB5"
      },
      "source": [
        "Тензоры неизменны:"
      ]
    },
    {
      "cell_type": "code",
      "metadata": {
        "id": "22QOePSyYKB6",
        "outputId": "8c03efa7-538c-4b8b-f942-f812e2b29dd7",
        "colab": {
          "base_uri": "https://localhost:8080/"
        }
      },
      "source": [
        "a"
      ],
      "execution_count": 100,
      "outputs": [
        {
          "output_type": "execute_result",
          "data": {
            "text/plain": [
              "tensor([[  1.,   2.,   3.],\n",
              "        [ 10.,  20.,  30.],\n",
              "        [100., 200., 300.]])"
            ]
          },
          "metadata": {},
          "execution_count": 100
        }
      ]
    },
    {
      "cell_type": "code",
      "metadata": {
        "id": "JHr6eKADYKB6",
        "outputId": "e80c56f5-1745-4a7d-b445-be4247b3cb1d",
        "colab": {
          "base_uri": "https://localhost:8080/"
        }
      },
      "source": [
        "b"
      ],
      "execution_count": 101,
      "outputs": [
        {
          "output_type": "execute_result",
          "data": {
            "text/plain": [
              "tensor([[ -1.,  -2.,  -3.],\n",
              "        [-10., -20., -30.],\n",
              "        [100., 200., 300.]])"
            ]
          },
          "metadata": {},
          "execution_count": 101
        }
      ]
    },
    {
      "cell_type": "code",
      "metadata": {
        "id": "vtuvt20-YKB8"
      },
      "source": [
        "a = torch.FloatTensor([[1, 2, 3], [10, 20, 30], [100, 200, 300]])\n",
        "b = torch.FloatTensor([[-1], [-10], [100]])"
      ],
      "execution_count": 102,
      "outputs": []
    },
    {
      "cell_type": "code",
      "metadata": {
        "id": "fdDnu5XjYKB9",
        "outputId": "6c0536b6-81ec-4806-f1e0-18408c7e8bda",
        "colab": {
          "base_uri": "https://localhost:8080/"
        }
      },
      "source": [
        "print(a.shape, b.shape)"
      ],
      "execution_count": 103,
      "outputs": [
        {
          "output_type": "stream",
          "name": "stdout",
          "text": [
            "torch.Size([3, 3]) torch.Size([3, 1])\n"
          ]
        }
      ]
    },
    {
      "cell_type": "code",
      "metadata": {
        "id": "oD4N4WN8YKB_",
        "outputId": "a5a067e9-9a10-435d-d5a2-d7fb0468d604",
        "colab": {
          "base_uri": "https://localhost:8080/"
        }
      },
      "source": [
        "a @ b"
      ],
      "execution_count": 104,
      "outputs": [
        {
          "output_type": "execute_result",
          "data": {
            "text/plain": [
              "tensor([[  279.],\n",
              "        [ 2790.],\n",
              "        [27900.]])"
            ]
          },
          "metadata": {},
          "execution_count": 104
        }
      ]
    },
    {
      "cell_type": "markdown",
      "metadata": {
        "id": "va9w-BavYKCB"
      },
      "source": [
        "Если \"развернуть\" тензор b просто в массив элементов (`torch.view(-1)`), умножение будет как на столбец:"
      ]
    },
    {
      "cell_type": "code",
      "metadata": {
        "id": "V7KsdYcBYKCC",
        "outputId": "3be66108-947a-4b6b-de14-a2d012cdba71",
        "colab": {
          "base_uri": "https://localhost:8080/"
        }
      },
      "source": [
        "b"
      ],
      "execution_count": 105,
      "outputs": [
        {
          "output_type": "execute_result",
          "data": {
            "text/plain": [
              "tensor([[ -1.],\n",
              "        [-10.],\n",
              "        [100.]])"
            ]
          },
          "metadata": {},
          "execution_count": 105
        }
      ]
    },
    {
      "cell_type": "code",
      "metadata": {
        "id": "t7k6spayYKCF",
        "outputId": "7fcdd1f3-b210-4f45-94a5-9c80e9a821c6",
        "colab": {
          "base_uri": "https://localhost:8080/"
        }
      },
      "source": [
        "b.view(-1)"
      ],
      "execution_count": 106,
      "outputs": [
        {
          "output_type": "execute_result",
          "data": {
            "text/plain": [
              "tensor([ -1., -10., 100.])"
            ]
          },
          "metadata": {},
          "execution_count": 106
        }
      ]
    },
    {
      "cell_type": "code",
      "metadata": {
        "id": "8u8xQ20bYKCH",
        "outputId": "1bc034a2-8847-4237-fd23-092e0330811c",
        "colab": {
          "base_uri": "https://localhost:8080/"
        }
      },
      "source": [
        "a @ b.view(-1)"
      ],
      "execution_count": 107,
      "outputs": [
        {
          "output_type": "execute_result",
          "data": {
            "text/plain": [
              "tensor([  279.,  2790., 27900.])"
            ]
          },
          "metadata": {},
          "execution_count": 107
        }
      ]
    },
    {
      "cell_type": "code",
      "metadata": {
        "id": "QvCu1sJEYKCJ",
        "outputId": "11a1c349-37cc-4f70-bc80-2bbd4e1d6341",
        "colab": {
          "base_uri": "https://localhost:8080/"
        }
      },
      "source": [
        "a.mv(b.view(-1))"
      ],
      "execution_count": 108,
      "outputs": [
        {
          "output_type": "execute_result",
          "data": {
            "text/plain": [
              "tensor([  279.,  2790., 27900.])"
            ]
          },
          "metadata": {},
          "execution_count": 108
        }
      ]
    },
    {
      "cell_type": "markdown",
      "metadata": {
        "id": "gZitrCN6YKCL"
      },
      "source": [
        "**Перевод из NumPy в PyTorch**:"
      ]
    },
    {
      "cell_type": "code",
      "metadata": {
        "id": "bnLS4CGXYKCL",
        "outputId": "d673b991-07d6-4819-85b0-d71f1428df66",
        "colab": {
          "base_uri": "https://localhost:8080/"
        }
      },
      "source": [
        "import numpy as np\n",
        "\n",
        "a = np.random.rand(3, 3)\n",
        "a"
      ],
      "execution_count": 109,
      "outputs": [
        {
          "output_type": "execute_result",
          "data": {
            "text/plain": [
              "array([[0.98746957, 0.72667133, 0.39056568],\n",
              "       [0.67965023, 0.35547631, 0.97240765],\n",
              "       [0.36646215, 0.90796524, 0.03402525]])"
            ]
          },
          "metadata": {},
          "execution_count": 109
        }
      ]
    },
    {
      "cell_type": "code",
      "metadata": {
        "id": "PXge57waYKCM",
        "outputId": "f59c2ddd-4a0e-482b-f0d1-1810b58f5267",
        "colab": {
          "base_uri": "https://localhost:8080/"
        }
      },
      "source": [
        "b = torch.from_numpy(a)\n",
        "b"
      ],
      "execution_count": 110,
      "outputs": [
        {
          "output_type": "execute_result",
          "data": {
            "text/plain": [
              "tensor([[0.9875, 0.7267, 0.3906],\n",
              "        [0.6797, 0.3555, 0.9724],\n",
              "        [0.3665, 0.9080, 0.0340]], dtype=torch.float64)"
            ]
          },
          "metadata": {},
          "execution_count": 110
        }
      ]
    },
    {
      "cell_type": "markdown",
      "metadata": {
        "id": "Nvcr3ymPYKCN"
      },
      "source": [
        "**НО!** Обратите внимание - a и b в этом случае будут использовать одно и то же хранилище данных, то есть измение одного тензора будет менять и другой:"
      ]
    },
    {
      "cell_type": "code",
      "metadata": {
        "id": "0N_ZW6TQYKCN",
        "outputId": "ebfc477a-ffb2-442d-eaa3-1f63366232e2",
        "colab": {
          "base_uri": "https://localhost:8080/"
        }
      },
      "source": [
        "b -= b\n",
        "b"
      ],
      "execution_count": 111,
      "outputs": [
        {
          "output_type": "execute_result",
          "data": {
            "text/plain": [
              "tensor([[0., 0., 0.],\n",
              "        [0., 0., 0.],\n",
              "        [0., 0., 0.]], dtype=torch.float64)"
            ]
          },
          "metadata": {},
          "execution_count": 111
        }
      ]
    },
    {
      "cell_type": "code",
      "metadata": {
        "id": "wzUnCKsiYKCP",
        "outputId": "b78d4fda-eb1f-462a-ea4a-7c64fd8de05f",
        "colab": {
          "base_uri": "https://localhost:8080/"
        }
      },
      "source": [
        "a"
      ],
      "execution_count": 112,
      "outputs": [
        {
          "output_type": "execute_result",
          "data": {
            "text/plain": [
              "array([[0., 0., 0.],\n",
              "       [0., 0., 0.],\n",
              "       [0., 0., 0.]])"
            ]
          },
          "metadata": {},
          "execution_count": 112
        }
      ]
    },
    {
      "cell_type": "markdown",
      "metadata": {
        "id": "Al73RqKSYKCR"
      },
      "source": [
        "**Перевод из PyTorch в NumPy:**"
      ]
    },
    {
      "cell_type": "code",
      "metadata": {
        "id": "u5rngw4vYKCR",
        "outputId": "704d7959-b275-4666-a56d-5e06a4f2757f",
        "colab": {
          "base_uri": "https://localhost:8080/"
        }
      },
      "source": [
        "a = torch.FloatTensor(2, 3, 4)\n",
        "a"
      ],
      "execution_count": 113,
      "outputs": [
        {
          "output_type": "execute_result",
          "data": {
            "text/plain": [
              "tensor([[[3.8074e-35, 0.0000e+00, 7.0065e-44, 7.0065e-44],\n",
              "         [6.3058e-44, 6.7262e-44, 7.7071e-44, 6.3058e-44],\n",
              "         [6.8664e-44, 7.9874e-44, 1.1771e-43, 6.7262e-44]],\n",
              "\n",
              "        [[7.7071e-44, 8.1275e-44, 7.1466e-44, 7.7071e-44],\n",
              "         [8.1275e-44, 7.4269e-44, 6.7262e-44, 6.4460e-44],\n",
              "         [7.1466e-44, 7.8473e-44, 7.0065e-44, 7.9874e-44]]])"
            ]
          },
          "metadata": {},
          "execution_count": 113
        }
      ]
    },
    {
      "cell_type": "code",
      "metadata": {
        "id": "yjK68Kk-YKCS",
        "outputId": "6ad1e49d-6485-40e1-9c50-d227b4436a2c",
        "colab": {
          "base_uri": "https://localhost:8080/"
        }
      },
      "source": [
        "type(a)"
      ],
      "execution_count": 114,
      "outputs": [
        {
          "output_type": "execute_result",
          "data": {
            "text/plain": [
              "torch.Tensor"
            ]
          },
          "metadata": {},
          "execution_count": 114
        }
      ]
    },
    {
      "cell_type": "code",
      "metadata": {
        "id": "viLUF7gQYKCU",
        "outputId": "e5443071-a106-4cdd-f7e3-0d17ebb8fa99",
        "colab": {
          "base_uri": "https://localhost:8080/"
        }
      },
      "source": [
        "x = a.numpy()\n",
        "x"
      ],
      "execution_count": 115,
      "outputs": [
        {
          "output_type": "execute_result",
          "data": {
            "text/plain": [
              "array([[[3.8073895e-35, 0.0000000e+00, 7.0064923e-44, 7.0064923e-44],\n",
              "        [6.3058431e-44, 6.7262326e-44, 7.7071416e-44, 6.3058431e-44],\n",
              "        [6.8663625e-44, 7.9874012e-44, 1.1770907e-43, 6.7262326e-44]],\n",
              "\n",
              "       [[7.7071416e-44, 8.1275311e-44, 7.1466222e-44, 7.7071416e-44],\n",
              "        [8.1275311e-44, 7.4268819e-44, 6.7262326e-44, 6.4459729e-44],\n",
              "        [7.1466222e-44, 7.8472714e-44, 7.0064923e-44, 7.9874012e-44]]],\n",
              "      dtype=float32)"
            ]
          },
          "metadata": {},
          "execution_count": 115
        }
      ]
    },
    {
      "cell_type": "code",
      "metadata": {
        "id": "9HxgiLxKYKCV",
        "outputId": "b8867e16-2416-48e8-b59a-7917e610819d",
        "colab": {
          "base_uri": "https://localhost:8080/"
        }
      },
      "source": [
        "x.shape"
      ],
      "execution_count": 116,
      "outputs": [
        {
          "output_type": "execute_result",
          "data": {
            "text/plain": [
              "(2, 3, 4)"
            ]
          },
          "metadata": {},
          "execution_count": 116
        }
      ]
    },
    {
      "cell_type": "code",
      "metadata": {
        "id": "SdW5bhmeYKCX",
        "outputId": "b03b777d-a6a0-4859-8d76-59b01b166e6d",
        "colab": {
          "base_uri": "https://localhost:8080/"
        }
      },
      "source": [
        "type(x)"
      ],
      "execution_count": 117,
      "outputs": [
        {
          "output_type": "execute_result",
          "data": {
            "text/plain": [
              "numpy.ndarray"
            ]
          },
          "metadata": {},
          "execution_count": 117
        }
      ]
    },
    {
      "cell_type": "markdown",
      "metadata": {
        "id": "1ALNkrzMYKCY"
      },
      "source": [
        "### Задача 4"
      ]
    },
    {
      "cell_type": "markdown",
      "metadata": {
        "id": "7-KS81rUYKCY"
      },
      "source": [
        "Напишите функцию `forward_pass(X, w)` ($w_0$ входит в $w$) для одного нейрона (с сигмоидой) с помощью PyTorch (у вас уже должен быть код на NumPy)."
      ]
    },
    {
      "cell_type": "code",
      "metadata": {
        "id": "vkaIwpn6YKCY"
      },
      "source": [
        "def forward_pass(X, w):\n",
        "  Sigmoid = torch.nn.Sigmoid()\n",
        "  return Sigmoid((X.mm(w)))"
      ],
      "execution_count": 172,
      "outputs": []
    },
    {
      "cell_type": "code",
      "source": [
        "X = torch.FloatTensor([[-5, 5], [2, 3], [1, -1]])\n",
        "w = torch.FloatTensor([[-0.5], [2.5]])\n",
        "print(X.shape, w.shape)"
      ],
      "metadata": {
        "colab": {
          "base_uri": "https://localhost:8080/"
        },
        "id": "OJe-iCUgZ-Vb",
        "outputId": "a75d346d-6535-4405-9614-9166658991db"
      },
      "execution_count": 173,
      "outputs": [
        {
          "output_type": "stream",
          "name": "stdout",
          "text": [
            "torch.Size([3, 2]) torch.Size([2, 1])\n"
          ]
        }
      ]
    },
    {
      "cell_type": "code",
      "source": [
        "type(X.mm(w))"
      ],
      "metadata": {
        "colab": {
          "base_uri": "https://localhost:8080/"
        },
        "id": "A2KzaHU5cEyB",
        "outputId": "3323eda4-c4f8-486e-fb08-dac8dd0da161"
      },
      "execution_count": 157,
      "outputs": [
        {
          "output_type": "execute_result",
          "data": {
            "text/plain": [
              "torch.Tensor"
            ]
          },
          "metadata": {},
          "execution_count": 157
        }
      ]
    },
    {
      "cell_type": "code",
      "metadata": {
        "id": "VyqlDItxYKCZ",
        "outputId": "e06b0966-4a12-4e83-c85d-d5545ae56b3f",
        "colab": {
          "base_uri": "https://localhost:8080/"
        }
      },
      "source": [
        "result = forward_pass(X, w)\n",
        "print('result: {}'.format(result))"
      ],
      "execution_count": 174,
      "outputs": [
        {
          "output_type": "stream",
          "name": "stdout",
          "text": [
            "result: tensor([[1.0000],\n",
            "        [0.9985],\n",
            "        [0.0474]])\n"
          ]
        }
      ]
    },
    {
      "cell_type": "markdown",
      "metadata": {
        "id": "uT9rDk5RYKCa"
      },
      "source": [
        "Должно получиться: \n",
        "\n",
        "|variable|value|\n",
        "|-|-|\n",
        "|**X**|torch.FloatTensor([[-5, 5], [15, 20], [100, -700]])|\n",
        "|**w**|torch.FloatTensor([[-0.5], [150]])|\n",
        "|**result**|torch.FloatTensor([[1.0000], [0.9985], [0.0474]])|   "
      ]
    },
    {
      "cell_type": "markdown",
      "metadata": {
        "id": "MzLVLQ2GYKCa"
      },
      "source": [
        "<h3 style=\"text-align: center;\">[CUDA](https://ru.wikipedia.org/wiki/CUDA)<b></b></h3>"
      ]
    },
    {
      "cell_type": "markdown",
      "metadata": {
        "id": "PrIicAAiYKCa"
      },
      "source": [
        "[Краткое видео про то, как GPU используется в обучении нейросетей](https://www.youtube.com/watch?v=EobhK0UZm80)"
      ]
    },
    {
      "cell_type": "markdown",
      "metadata": {
        "id": "2nDkAG6NYKCa"
      },
      "source": [
        "Все вычисления в PyTorch можно проводить как на CPU, так и на GPU (Graphical Processing Unit) (если она у вас есть). В PyTorch переключение между ними делается очень просто, что является одной из ключевых его особенностей."
      ]
    },
    {
      "cell_type": "code",
      "metadata": {
        "id": "_0Nsl2IoYKCa",
        "outputId": "0f7cb802-32d5-4d7e-ad39-859bc9b6ec5b",
        "colab": {
          "base_uri": "https://localhost:8080/"
        }
      },
      "source": [
        "x = torch.FloatTensor(1024, 1024).uniform_()\n",
        "x"
      ],
      "execution_count": 175,
      "outputs": [
        {
          "output_type": "execute_result",
          "data": {
            "text/plain": [
              "tensor([[0.7789, 0.3077, 0.3247,  ..., 0.8445, 0.9850, 0.5518],\n",
              "        [0.2626, 0.7245, 0.4747,  ..., 0.0315, 0.1534, 0.1703],\n",
              "        [0.0102, 0.7081, 0.0909,  ..., 0.5235, 0.4697, 0.9148],\n",
              "        ...,\n",
              "        [0.0258, 0.7975, 0.3875,  ..., 0.6445, 0.7577, 0.4116],\n",
              "        [0.6972, 0.9372, 0.5926,  ..., 0.6034, 0.4617, 0.4340],\n",
              "        [0.8271, 0.6399, 0.3454,  ..., 0.0755, 0.9141, 0.9579]])"
            ]
          },
          "metadata": {},
          "execution_count": 175
        }
      ]
    },
    {
      "cell_type": "code",
      "metadata": {
        "id": "FVr5_SAdYKCb",
        "outputId": "ce219e27-1fcf-4546-e389-349aa7143afb",
        "colab": {
          "base_uri": "https://localhost:8080/"
        }
      },
      "source": [
        "x.is_cuda"
      ],
      "execution_count": 176,
      "outputs": [
        {
          "output_type": "execute_result",
          "data": {
            "text/plain": [
              "False"
            ]
          },
          "metadata": {},
          "execution_count": 176
        }
      ]
    },
    {
      "cell_type": "markdown",
      "metadata": {
        "id": "mAy8GGXAYKCd"
      },
      "source": [
        "Переместим на GPU:"
      ]
    },
    {
      "cell_type": "code",
      "metadata": {
        "id": "6UGKZbfyYKCd",
        "colab": {
          "base_uri": "https://localhost:8080/",
          "height": 298
        },
        "outputId": "c0fad704-ee83-413d-f33d-5d54dfa44b40"
      },
      "source": [
        "x = x.cuda()"
      ],
      "execution_count": 177,
      "outputs": [
        {
          "output_type": "error",
          "ename": "RuntimeError",
          "evalue": "ignored",
          "traceback": [
            "\u001b[0;31m---------------------------------------------------------------------------\u001b[0m",
            "\u001b[0;31mRuntimeError\u001b[0m                              Traceback (most recent call last)",
            "\u001b[0;32m<ipython-input-177-298f8d08c218>\u001b[0m in \u001b[0;36m<module>\u001b[0;34m()\u001b[0m\n\u001b[0;32m----> 1\u001b[0;31m \u001b[0mx\u001b[0m \u001b[0;34m=\u001b[0m \u001b[0mx\u001b[0m\u001b[0;34m.\u001b[0m\u001b[0mcuda\u001b[0m\u001b[0;34m(\u001b[0m\u001b[0;34m)\u001b[0m\u001b[0;34m\u001b[0m\u001b[0;34m\u001b[0m\u001b[0m\n\u001b[0m",
            "\u001b[0;32m/usr/local/lib/python3.7/dist-packages/torch/cuda/__init__.py\u001b[0m in \u001b[0;36m_lazy_init\u001b[0;34m()\u001b[0m\n\u001b[1;32m    215\u001b[0m         \u001b[0;31m# This function throws if there's a driver initialization error, no GPUs\u001b[0m\u001b[0;34m\u001b[0m\u001b[0;34m\u001b[0m\u001b[0;34m\u001b[0m\u001b[0m\n\u001b[1;32m    216\u001b[0m         \u001b[0;31m# are found or any other error occurs\u001b[0m\u001b[0;34m\u001b[0m\u001b[0;34m\u001b[0m\u001b[0;34m\u001b[0m\u001b[0m\n\u001b[0;32m--> 217\u001b[0;31m         \u001b[0mtorch\u001b[0m\u001b[0;34m.\u001b[0m\u001b[0m_C\u001b[0m\u001b[0;34m.\u001b[0m\u001b[0m_cuda_init\u001b[0m\u001b[0;34m(\u001b[0m\u001b[0;34m)\u001b[0m\u001b[0;34m\u001b[0m\u001b[0;34m\u001b[0m\u001b[0m\n\u001b[0m\u001b[1;32m    218\u001b[0m         \u001b[0;31m# Some of the queued calls may reentrantly call _lazy_init();\u001b[0m\u001b[0;34m\u001b[0m\u001b[0;34m\u001b[0m\u001b[0;34m\u001b[0m\u001b[0m\n\u001b[1;32m    219\u001b[0m         \u001b[0;31m# we need to just return without initializing in that case.\u001b[0m\u001b[0;34m\u001b[0m\u001b[0;34m\u001b[0m\u001b[0;34m\u001b[0m\u001b[0m\n",
            "\u001b[0;31mRuntimeError\u001b[0m: No CUDA GPUs are available"
          ]
        }
      ]
    },
    {
      "cell_type": "code",
      "metadata": {
        "id": "ue2SLd9nYKCd",
        "outputId": "50a73229-ba39-45b2-f4b1-19f790a20643"
      },
      "source": [
        "x.is_cuda"
      ],
      "execution_count": null,
      "outputs": [
        {
          "output_type": "execute_result",
          "data": {
            "text/plain": [
              "True"
            ]
          },
          "metadata": {
            "tags": []
          },
          "execution_count": 16
        }
      ]
    },
    {
      "cell_type": "code",
      "metadata": {
        "id": "dqs1JNv3YKCe",
        "outputId": "53a4b10e-bc54-4fc6-cce8-f07723a29a40"
      },
      "source": [
        "x"
      ],
      "execution_count": null,
      "outputs": [
        {
          "output_type": "execute_result",
          "data": {
            "text/plain": [
              "\n",
              " 9.8569e-01  3.7595e-01  8.7008e-01  ...   6.2316e-01  3.3482e-01  9.7367e-02\n",
              " 7.7810e-01  8.5821e-01  7.8123e-01  ...   3.9363e-02  8.2963e-01  7.8153e-01\n",
              " 5.9462e-01  7.5670e-01  7.3290e-01  ...   9.3771e-01  5.4976e-01  9.6451e-02\n",
              "                ...                   ⋱                   ...                \n",
              " 4.4887e-01  9.2894e-01  1.5457e-01  ...   5.6541e-01  2.8661e-02  1.8460e-01\n",
              " 8.0305e-01  4.7660e-01  9.0947e-02  ...   7.2990e-01  6.3040e-01  8.8941e-01\n",
              " 9.1068e-01  4.1714e-02  5.4457e-02  ...   2.6645e-01  8.3107e-01  6.7596e-01\n",
              "[torch.cuda.FloatTensor of size 1024x1024 (GPU 0)]"
            ]
          },
          "metadata": {
            "tags": []
          },
          "execution_count": 17
        }
      ]
    },
    {
      "cell_type": "markdown",
      "metadata": {
        "id": "dI73B59PYKCg"
      },
      "source": [
        "Перемножим две тензора на GPu и вернём результат вычисления на CPU:"
      ]
    },
    {
      "cell_type": "code",
      "metadata": {
        "id": "KS4QxJJoYKCg"
      },
      "source": [
        "a = torch.FloatTensor(10000, 10000).uniform_()\n",
        "b = torch.FloatTensor(10000, 10000).uniform_()\n",
        "c = a.cuda().mul(b.cuda()).cpu()"
      ],
      "execution_count": null,
      "outputs": []
    },
    {
      "cell_type": "code",
      "metadata": {
        "id": "1ImlgEbwYKCg",
        "outputId": "3d114438-ea49-4b20-f02e-e7e187be4e5b"
      },
      "source": [
        "c"
      ],
      "execution_count": null,
      "outputs": [
        {
          "output_type": "execute_result",
          "data": {
            "text/plain": [
              "\n",
              " 1.3276e-01  4.6640e-02  3.6811e-03  ...   2.5005e-01  2.7425e-01  2.2217e-01\n",
              " 7.6941e-02  2.2012e-01  8.5448e-02  ...   4.8152e-01  8.5428e-02  1.0293e-01\n",
              " 1.8373e-01  2.2956e-01  6.7784e-02  ...   5.2270e-01  8.9739e-02  1.9734e-02\n",
              "                ...                   ⋱                   ...                \n",
              " 4.6043e-01  7.1955e-02  4.6278e-02  ...   1.6644e-01  8.8197e-02  1.0238e-01\n",
              " 6.6998e-02  1.4303e-01  8.4953e-03  ...   1.1650e-01  1.1400e-01  6.0282e-01\n",
              " 6.9519e-01  1.9520e-01  2.7402e-01  ...   1.5071e-01  1.6169e-01  2.4579e-01\n",
              "[torch.FloatTensor of size 10000x10000]"
            ]
          },
          "metadata": {
            "tags": []
          },
          "execution_count": 19
        }
      ]
    },
    {
      "cell_type": "code",
      "metadata": {
        "id": "4DAN9MhDYKCh",
        "outputId": "2ee2c90b-07e4-46c6-d7fe-e34b589e8ea1"
      },
      "source": [
        "a"
      ],
      "execution_count": null,
      "outputs": [
        {
          "output_type": "execute_result",
          "data": {
            "text/plain": [
              "\n",
              " 3.2185e-01  1.1987e-01  5.2117e-02  ...   8.2740e-01  6.0768e-01  8.3344e-01\n",
              " 7.5668e-01  3.4455e-01  2.9262e-01  ...   5.0549e-01  1.3569e-01  2.9384e-01\n",
              " 3.3093e-01  7.2330e-01  1.7693e-01  ...   5.6406e-01  9.8218e-02  6.4030e-02\n",
              "                ...                   ⋱                   ...                \n",
              " 5.8405e-01  2.0138e-01  9.9384e-01  ...   4.8946e-01  1.3532e-01  2.1701e-01\n",
              " 5.6156e-01  3.5891e-01  6.3199e-01  ...   4.5497e-01  1.3874e-01  9.1001e-01\n",
              " 8.4097e-01  8.8349e-01  4.3792e-01  ...   1.9193e-01  1.8535e-01  3.3038e-01\n",
              "[torch.FloatTensor of size 10000x10000]"
            ]
          },
          "metadata": {
            "tags": []
          },
          "execution_count": 20
        }
      ]
    },
    {
      "cell_type": "markdown",
      "metadata": {
        "id": "xWc-PiA9YKCi"
      },
      "source": [
        "Тензоры, лежащие на CPU, и тензоры, лежащие на GPU, недоступны друг для друга:"
      ]
    },
    {
      "cell_type": "code",
      "metadata": {
        "id": "1lwV1sgSYKCi"
      },
      "source": [
        "a = torch.FloatTensor(1000, 1000).uniform_().cpu()\n",
        "b = torch.FloatTensor(10000, 10000).uniform_().cuda()"
      ],
      "execution_count": null,
      "outputs": []
    },
    {
      "cell_type": "code",
      "metadata": {
        "id": "G6tYdYtTYKCj",
        "outputId": "402a280c-4907-49df-92f4-3a5818f72478"
      },
      "source": [
        "a + b"
      ],
      "execution_count": null,
      "outputs": [
        {
          "output_type": "error",
          "ename": "TypeError",
          "evalue": "add received an invalid combination of arguments - got (torch.cuda.FloatTensor), but expected one of:\n * (float value)\n      didn't match because some of the arguments have invalid types: (\u001b[31;1mtorch.cuda.FloatTensor\u001b[0m)\n * (torch.FloatTensor other)\n      didn't match because some of the arguments have invalid types: (\u001b[31;1mtorch.cuda.FloatTensor\u001b[0m)\n * (torch.SparseFloatTensor other)\n      didn't match because some of the arguments have invalid types: (\u001b[31;1mtorch.cuda.FloatTensor\u001b[0m)\n * (float value, torch.FloatTensor other)\n * (float value, torch.SparseFloatTensor other)\n",
          "traceback": [
            "\u001b[1;31m---------------------------------------------------------------------------\u001b[0m",
            "\u001b[1;31mTypeError\u001b[0m                                 Traceback (most recent call last)",
            "\u001b[1;32m<ipython-input-24-f96fb8f649b6>\u001b[0m in \u001b[0;36m<module>\u001b[1;34m()\u001b[0m\n\u001b[1;32m----> 1\u001b[1;33m \u001b[0ma\u001b[0m \u001b[1;33m+\u001b[0m \u001b[0mb\u001b[0m\u001b[1;33m\u001b[0m\u001b[0m\n\u001b[0m",
            "\u001b[1;32mC:\\Program Files\\Anaconda3\\envs\\pytorch\\lib\\site-packages\\torch\\tensor.py\u001b[0m in \u001b[0;36m__add__\u001b[1;34m(self, other)\u001b[0m\n\u001b[0;32m    291\u001b[0m     \u001b[1;31m# TODO: add tests for operators\u001b[0m\u001b[1;33m\u001b[0m\u001b[1;33m\u001b[0m\u001b[0m\n\u001b[0;32m    292\u001b[0m     \u001b[1;32mdef\u001b[0m \u001b[0m__add__\u001b[0m\u001b[1;33m(\u001b[0m\u001b[0mself\u001b[0m\u001b[1;33m,\u001b[0m \u001b[0mother\u001b[0m\u001b[1;33m)\u001b[0m\u001b[1;33m:\u001b[0m\u001b[1;33m\u001b[0m\u001b[0m\n\u001b[1;32m--> 293\u001b[1;33m         \u001b[1;32mreturn\u001b[0m \u001b[0mself\u001b[0m\u001b[1;33m.\u001b[0m\u001b[0madd\u001b[0m\u001b[1;33m(\u001b[0m\u001b[0mother\u001b[0m\u001b[1;33m)\u001b[0m\u001b[1;33m\u001b[0m\u001b[0m\n\u001b[0m\u001b[0;32m    294\u001b[0m     \u001b[0m__radd__\u001b[0m \u001b[1;33m=\u001b[0m \u001b[0m__add__\u001b[0m\u001b[1;33m\u001b[0m\u001b[0m\n\u001b[0;32m    295\u001b[0m \u001b[1;33m\u001b[0m\u001b[0m\n",
            "\u001b[1;31mTypeError\u001b[0m: add received an invalid combination of arguments - got (torch.cuda.FloatTensor), but expected one of:\n * (float value)\n      didn't match because some of the arguments have invalid types: (\u001b[31;1mtorch.cuda.FloatTensor\u001b[0m)\n * (torch.FloatTensor other)\n      didn't match because some of the arguments have invalid types: (\u001b[31;1mtorch.cuda.FloatTensor\u001b[0m)\n * (torch.SparseFloatTensor other)\n      didn't match because some of the arguments have invalid types: (\u001b[31;1mtorch.cuda.FloatTensor\u001b[0m)\n * (float value, torch.FloatTensor other)\n * (float value, torch.SparseFloatTensor other)\n"
          ]
        }
      ]
    },
    {
      "cell_type": "markdown",
      "metadata": {
        "id": "QEtwaIxDYKCk"
      },
      "source": [
        "Вот ещё немного про то, как можно работать с GPU:"
      ]
    },
    {
      "cell_type": "code",
      "metadata": {
        "scrolled": true,
        "id": "bJgVfAbUYKCk",
        "outputId": "3d761ebc-89fc-4e2b-9a3f-54bb74d11ebe"
      },
      "source": [
        "x = torch.FloatTensor(5, 5, 5).uniform_()\n",
        "\n",
        "# проверяем, есть ли CUDA (то есть NVidia GPU)\n",
        "if torch.cuda.is_available():\n",
        "    # так можно получить имя устройства, которое связано с CUDA\n",
        "    # (полезно в случае с несколькими видеокартами)\n",
        "    device = torch.device('cuda')          # CUDA-device объект\n",
        "    y = torch.ones_like(x, device=device)  # создаём тензор на GPU\n",
        "    x = x.to(device)                       # тут можно просто ``.to(\"cuda\")``\n",
        "    z = x + y\n",
        "    print(z)\n",
        "    # с помощью``.to`` можно и изменить тип при перемещении\n",
        "    print(z.to(\"cpu\", torch.double))"
      ],
      "execution_count": null,
      "outputs": [
        {
          "output_type": "stream",
          "text": [
            "tensor([[[ 1.4435,  1.3470,  1.3062,  1.4405,  1.2337],\n",
            "         [ 1.7475,  1.2037,  1.7702,  1.0894,  1.2214],\n",
            "         [ 1.5788,  1.3411,  1.7662,  1.4289,  1.4192],\n",
            "         [ 1.2131,  1.8919,  1.9255,  1.7404,  1.2128],\n",
            "         [ 1.2344,  1.8557,  1.0431,  1.2820,  1.1393]],\n",
            "\n",
            "        [[ 1.4193,  1.3347,  1.5175,  1.5933,  1.4449],\n",
            "         [ 1.6636,  1.0913,  1.6360,  1.1679,  1.3635],\n",
            "         [ 1.1754,  1.6012,  1.4388,  1.4961,  1.8299],\n",
            "         [ 1.2644,  1.3119,  1.2737,  1.5933,  1.4822],\n",
            "         [ 1.2119,  1.5497,  1.3665,  1.6801,  1.2678]],\n",
            "\n",
            "        [[ 1.2456,  1.1512,  1.3754,  1.0309,  1.1592],\n",
            "         [ 1.8683,  1.9625,  1.5814,  1.9701,  1.7795],\n",
            "         [ 1.9937,  1.1922,  1.8598,  1.9095,  1.0288],\n",
            "         [ 1.2730,  1.5456,  1.1422,  1.0011,  1.5654],\n",
            "         [ 1.5377,  1.6367,  1.6430,  1.8843,  1.1299]],\n",
            "\n",
            "        [[ 1.8965,  1.1913,  1.9592,  1.4277,  1.1259],\n",
            "         [ 1.4051,  1.4896,  1.7341,  1.3553,  1.3299],\n",
            "         [ 1.7331,  1.4356,  1.8285,  1.2966,  1.4548],\n",
            "         [ 1.0261,  1.8903,  1.0882,  1.1346,  1.0139],\n",
            "         [ 1.7233,  1.8254,  1.1772,  1.7541,  1.2284]],\n",
            "\n",
            "        [[ 1.0069,  1.4792,  1.0656,  1.6060,  1.4483],\n",
            "         [ 1.7174,  1.5598,  1.0447,  1.8487,  1.5990],\n",
            "         [ 1.0678,  1.0093,  1.1584,  1.3766,  1.4594],\n",
            "         [ 1.6086,  1.3086,  1.5398,  1.0595,  1.9090],\n",
            "         [ 1.9287,  1.5674,  1.2051,  1.0922,  1.1770]]], device='cuda:0')\n",
            "tensor([[[ 1.4435,  1.3470,  1.3062,  1.4405,  1.2337],\n",
            "         [ 1.7475,  1.2037,  1.7702,  1.0894,  1.2214],\n",
            "         [ 1.5788,  1.3411,  1.7662,  1.4289,  1.4192],\n",
            "         [ 1.2131,  1.8919,  1.9255,  1.7404,  1.2128],\n",
            "         [ 1.2344,  1.8557,  1.0431,  1.2820,  1.1393]],\n",
            "\n",
            "        [[ 1.4193,  1.3347,  1.5175,  1.5933,  1.4449],\n",
            "         [ 1.6636,  1.0913,  1.6360,  1.1679,  1.3635],\n",
            "         [ 1.1754,  1.6012,  1.4388,  1.4961,  1.8299],\n",
            "         [ 1.2644,  1.3119,  1.2737,  1.5933,  1.4822],\n",
            "         [ 1.2119,  1.5497,  1.3665,  1.6801,  1.2678]],\n",
            "\n",
            "        [[ 1.2456,  1.1512,  1.3754,  1.0309,  1.1592],\n",
            "         [ 1.8683,  1.9625,  1.5814,  1.9701,  1.7795],\n",
            "         [ 1.9937,  1.1922,  1.8598,  1.9095,  1.0288],\n",
            "         [ 1.2730,  1.5456,  1.1422,  1.0011,  1.5654],\n",
            "         [ 1.5377,  1.6367,  1.6430,  1.8843,  1.1299]],\n",
            "\n",
            "        [[ 1.8965,  1.1913,  1.9592,  1.4277,  1.1259],\n",
            "         [ 1.4051,  1.4896,  1.7341,  1.3553,  1.3299],\n",
            "         [ 1.7331,  1.4356,  1.8285,  1.2966,  1.4548],\n",
            "         [ 1.0261,  1.8903,  1.0882,  1.1346,  1.0139],\n",
            "         [ 1.7233,  1.8254,  1.1772,  1.7541,  1.2284]],\n",
            "\n",
            "        [[ 1.0069,  1.4792,  1.0656,  1.6060,  1.4483],\n",
            "         [ 1.7174,  1.5598,  1.0447,  1.8487,  1.5990],\n",
            "         [ 1.0678,  1.0093,  1.1584,  1.3766,  1.4594],\n",
            "         [ 1.6086,  1.3086,  1.5398,  1.0595,  1.9090],\n",
            "         [ 1.9287,  1.5674,  1.2051,  1.0922,  1.1770]]], dtype=torch.float64)\n"
          ],
          "name": "stdout"
        }
      ]
    },
    {
      "cell_type": "markdown",
      "metadata": {
        "id": "iFg82MJIYKCl"
      },
      "source": [
        "<h3 style=\"text-align: center;\">Autograd<b></b></h3>"
      ]
    },
    {
      "cell_type": "markdown",
      "metadata": {
        "id": "udpOWYK-YKCm"
      },
      "source": [
        "Расшифровывается как Automatic Gradients (автоматическое взятие градиентов) - собственно, из названия понятно, что это модуль PyTorch, отвечающий за взятие производных.  \n",
        "\n",
        "Возможно, для вас это бдет шок, но PyTorch (и любой фреймворк глубокого обучения) может продифференцировать функцию практически любой сложности."
      ]
    },
    {
      "cell_type": "markdown",
      "metadata": {
        "id": "OAfNuSknYKCm"
      },
      "source": [
        "Импортируем нужный класс:"
      ]
    },
    {
      "cell_type": "code",
      "metadata": {
        "id": "PJdDG51vYKCm"
      },
      "source": [
        "import torch.autograd"
      ],
      "execution_count": 178,
      "outputs": []
    },
    {
      "cell_type": "markdown",
      "metadata": {
        "id": "dZzZFE-0YKCm"
      },
      "source": [
        "Идея такая: оборачиваем тензор в класс Variable(), получаем тоже тензор, но он имеет способность вычислять себе градиенты.  - **DEPRECATED!**"
      ]
    },
    {
      "cell_type": "markdown",
      "metadata": {
        "id": "VzMGFf1xYKCm"
      },
      "source": [
        "Если а - тензор, обёрнутый в Variable(), то при вызове a.backward() берутся градиенты по всем переменным, от которых зависит тензор a."
      ]
    },
    {
      "cell_type": "markdown",
      "metadata": {
        "id": "bTVyleFWYKCn"
      },
      "source": [
        "**ВНИМАНИЕ!**  \n",
        "\n",
        "Если вы используете версию `pytorch 0.4.0` или более новую, то ***`torch.Tensor` и `torch.Variable` - одно и то же!*** То есть Вам больше не нужно оборачивать в `Variable()`, чтобы брать градиенты - они берутся и по `Tensor()` (`torch.Variable()` - deprecated)."
      ]
    },
    {
      "cell_type": "markdown",
      "metadata": {
        "id": "AEDz971fYKCn"
      },
      "source": [
        "Примеры:"
      ]
    },
    {
      "cell_type": "code",
      "metadata": {
        "id": "rYWqXsAjYKCn"
      },
      "source": [
        "x = torch.FloatTensor(3, 1).uniform_().requires_grad_(requires_grad=True) \n",
        "w = torch.FloatTensor(3, 3).uniform_().requires_grad_(requires_grad=True)\n",
        "b = torch.FloatTensor(3, 1).uniform_().requires_grad_(requires_grad=False)\n",
        "\n",
        "y = (w @ x).add_(b)\n",
        "\n",
        "loss = y.sum()\n",
        "\n",
        "# берём градиенты по всем \"листьям\" - в данном случае это тензоры x, w и b\n",
        "loss.backward()"
      ],
      "execution_count": 183,
      "outputs": []
    },
    {
      "cell_type": "code",
      "metadata": {
        "id": "ZsePHOo0YKCp",
        "outputId": "7168b4ec-b173-4f9d-fcaf-ce275f032330",
        "colab": {
          "base_uri": "https://localhost:8080/"
        }
      },
      "source": [
        "x.grad"
      ],
      "execution_count": 184,
      "outputs": [
        {
          "output_type": "execute_result",
          "data": {
            "text/plain": [
              "tensor([[1.0229],\n",
              "        [1.9635],\n",
              "        [1.8685]])"
            ]
          },
          "metadata": {},
          "execution_count": 184
        }
      ]
    },
    {
      "cell_type": "code",
      "metadata": {
        "id": "qLkn5C7JYKCp",
        "outputId": "46bd07f2-e553-422d-bdbf-bb8370e46e9d",
        "colab": {
          "base_uri": "https://localhost:8080/"
        }
      },
      "source": [
        "w.grad"
      ],
      "execution_count": 185,
      "outputs": [
        {
          "output_type": "execute_result",
          "data": {
            "text/plain": [
              "tensor([[0.9623, 0.9889, 0.1244],\n",
              "        [0.9623, 0.9889, 0.1244],\n",
              "        [0.9623, 0.9889, 0.1244]])"
            ]
          },
          "metadata": {},
          "execution_count": 185
        }
      ]
    },
    {
      "cell_type": "code",
      "metadata": {
        "id": "CYkrFbD5YKCq"
      },
      "source": [
        "b.grad"
      ],
      "execution_count": 186,
      "outputs": []
    },
    {
      "cell_type": "code",
      "metadata": {
        "id": "ouMNnbtXYKCr",
        "colab": {
          "base_uri": "https://localhost:8080/"
        },
        "outputId": "26178aed-6d8a-47c5-ab96-ab55de15a0ba"
      },
      "source": [
        "y.grad"
      ],
      "execution_count": 187,
      "outputs": [
        {
          "output_type": "stream",
          "name": "stderr",
          "text": [
            "/usr/local/lib/python3.7/dist-packages/torch/_tensor.py:1083: UserWarning: The .grad attribute of a Tensor that is not a leaf Tensor is being accessed. Its .grad attribute won't be populated during autograd.backward(). If you indeed want the .grad field to be populated for a non-leaf Tensor, use .retain_grad() on the non-leaf Tensor. If you access the non-leaf Tensor by mistake, make sure you access the leaf Tensor instead. See github.com/pytorch/pytorch/pull/30531 for more informations. (Triggered internally at  aten/src/ATen/core/TensorBody.h:477.)\n",
            "  return self._grad\n"
          ]
        }
      ]
    },
    {
      "cell_type": "markdown",
      "metadata": {
        "id": "DIsqxWIvYKCs"
      },
      "source": [
        "**Обратите внимание** - градиенты лежат в поле `.grad` у тех тензоров (Variable'ов), по которым брали эти градиенты. Градиенты **не лежат** в той Variable, от котороый они брались!"
      ]
    },
    {
      "cell_type": "markdown",
      "metadata": {
        "id": "Nf2xLNDgYKCs"
      },
      "source": [
        "Получить тензор из `Variable()` можно с помощью поля `.data`:"
      ]
    },
    {
      "cell_type": "code",
      "metadata": {
        "id": "5wU_TFedYKCt",
        "outputId": "7ea0b263-c8da-4ee8-dbf6-577a1e5e2454",
        "colab": {
          "base_uri": "https://localhost:8080/"
        }
      },
      "source": [
        "x"
      ],
      "execution_count": 188,
      "outputs": [
        {
          "output_type": "execute_result",
          "data": {
            "text/plain": [
              "tensor([[0.9623],\n",
              "        [0.9889],\n",
              "        [0.1244]], requires_grad=True)"
            ]
          },
          "metadata": {},
          "execution_count": 188
        }
      ]
    },
    {
      "cell_type": "code",
      "metadata": {
        "id": "_NnBKF9kYKCt",
        "outputId": "3b5d300b-3377-421a-d185-e151ba9e72d8",
        "colab": {
          "base_uri": "https://localhost:8080/"
        }
      },
      "source": [
        "x.data"
      ],
      "execution_count": 189,
      "outputs": [
        {
          "output_type": "execute_result",
          "data": {
            "text/plain": [
              "tensor([[0.9623],\n",
              "        [0.9889],\n",
              "        [0.1244]])"
            ]
          },
          "metadata": {},
          "execution_count": 189
        }
      ]
    },
    {
      "cell_type": "markdown",
      "metadata": {
        "id": "oQnhq5ZdYKCu"
      },
      "source": [
        "### Задача 5"
      ]
    },
    {
      "cell_type": "markdown",
      "metadata": {
        "id": "UB95BhgTYKCu"
      },
      "source": [
        "- Объявите тензор `a` размера (2, 3, 4) и тензор `b` размера (1, 8, 3), иницилизируйте их случайно равномерно (`.uniform_()`, как в примере выше)\n",
        "- Создайте их копии на GPU, выведите их сумму и разность\n",
        "- Затем измените форму тензора `b`, чтобы она совпадала с формой тензора `a`, получите тензор `c`  \n",
        "- Переместите `c` на CPU, переместите `a` на CPU  \n",
        "- Оберните их в `Variable()`\n",
        "- Объявите тензор `L = torch.mean((c - a) `**` 2)` и посчитайте градиент `L` по `c` ( то есть $\\frac{\\partial{L}}{\\partial{c}})$\n",
        "- Получите тензор из `c` (то есть сейчас `c` - объект типа `Variable()`, вам нужно получить из него `FloatTensor()`)"
      ]
    },
    {
      "cell_type": "code",
      "metadata": {
        "id": "WESOm5TCYKCv",
        "colab": {
          "base_uri": "https://localhost:8080/"
        },
        "outputId": "e7696dfa-90df-466b-cc9d-19dd6c24f2ca"
      },
      "source": [
        "a = torch.FloatTensor(2, 3, 4).uniform_()\n",
        "b = torch.FloatTensor(1, 8, 3).uniform_()\n",
        "print(b)"
      ],
      "execution_count": 209,
      "outputs": [
        {
          "output_type": "stream",
          "name": "stdout",
          "text": [
            "tensor([[[0.1933, 0.1853, 0.0110],\n",
            "         [0.1186, 0.5598, 0.0475],\n",
            "         [0.0344, 0.3210, 0.5000],\n",
            "         [0.8404, 0.3005, 0.6826],\n",
            "         [0.2996, 0.0151, 0.8334],\n",
            "         [0.3191, 0.1673, 0.1283],\n",
            "         [0.3666, 0.5335, 0.9320],\n",
            "         [0.6977, 0.1701, 0.5899]]])\n"
          ]
        }
      ]
    },
    {
      "cell_type": "code",
      "source": [
        "c = b.view(a.shape).requires_grad_(requires_grad=True)\n",
        "c"
      ],
      "metadata": {
        "colab": {
          "base_uri": "https://localhost:8080/"
        },
        "id": "h044e8sVkyji",
        "outputId": "e0375762-683c-47ae-e3f0-378827fdf6e1"
      },
      "execution_count": 210,
      "outputs": [
        {
          "output_type": "execute_result",
          "data": {
            "text/plain": [
              "tensor([[[0.1933, 0.1853, 0.0110, 0.1186],\n",
              "         [0.5598, 0.0475, 0.0344, 0.3210],\n",
              "         [0.5000, 0.8404, 0.3005, 0.6826]],\n",
              "\n",
              "        [[0.2996, 0.0151, 0.8334, 0.3191],\n",
              "         [0.1673, 0.1283, 0.3666, 0.5335],\n",
              "         [0.9320, 0.6977, 0.1701, 0.5899]]], requires_grad=True)"
            ]
          },
          "metadata": {},
          "execution_count": 210
        }
      ]
    },
    {
      "cell_type": "code",
      "source": [
        "L = torch.mean(pow(c.sub(a), 2))\n",
        "L"
      ],
      "metadata": {
        "colab": {
          "base_uri": "https://localhost:8080/"
        },
        "id": "mEtB8wqLlBEf",
        "outputId": "61fe43f8-94a4-427e-f509-24eb7835f3ee"
      },
      "execution_count": 211,
      "outputs": [
        {
          "output_type": "execute_result",
          "data": {
            "text/plain": [
              "tensor(0.1271, grad_fn=<MeanBackward0>)"
            ]
          },
          "metadata": {},
          "execution_count": 211
        }
      ]
    },
    {
      "cell_type": "code",
      "source": [
        "L.backward()"
      ],
      "metadata": {
        "id": "zQl5RjDam5b1"
      },
      "execution_count": 212,
      "outputs": []
    },
    {
      "cell_type": "code",
      "source": [
        "c"
      ],
      "metadata": {
        "colab": {
          "base_uri": "https://localhost:8080/"
        },
        "id": "H2WHZ0L0nQhA",
        "outputId": "4abf9e3f-764f-403f-bfc6-59ef0fe9cd40"
      },
      "execution_count": 213,
      "outputs": [
        {
          "output_type": "execute_result",
          "data": {
            "text/plain": [
              "tensor([[[0.1933, 0.1853, 0.0110, 0.1186],\n",
              "         [0.5598, 0.0475, 0.0344, 0.3210],\n",
              "         [0.5000, 0.8404, 0.3005, 0.6826]],\n",
              "\n",
              "        [[0.2996, 0.0151, 0.8334, 0.3191],\n",
              "         [0.1673, 0.1283, 0.3666, 0.5335],\n",
              "         [0.9320, 0.6977, 0.1701, 0.5899]]], requires_grad=True)"
            ]
          },
          "metadata": {},
          "execution_count": 213
        }
      ]
    },
    {
      "cell_type": "code",
      "source": [
        "c.grad"
      ],
      "metadata": {
        "colab": {
          "base_uri": "https://localhost:8080/"
        },
        "id": "35mt3ultmay4",
        "outputId": "a7410a12-2bb8-4377-c208-029a7703054e"
      },
      "execution_count": 214,
      "outputs": [
        {
          "output_type": "execute_result",
          "data": {
            "text/plain": [
              "tensor([[[ 0.0091,  0.0151, -0.0457, -0.0212],\n",
              "         [-0.0358, -0.0735, -0.0085, -0.0038],\n",
              "         [ 0.0145, -0.0132, -0.0159, -0.0131]],\n",
              "\n",
              "        [[-0.0136, -0.0234, -0.0094,  0.0184],\n",
              "         [-0.0507, -0.0106,  0.0064, -0.0014],\n",
              "         [ 0.0763,  0.0161, -0.0094,  0.0267]]])"
            ]
          },
          "metadata": {},
          "execution_count": 214
        }
      ]
    },
    {
      "cell_type": "code",
      "source": [
        "c.data"
      ],
      "metadata": {
        "colab": {
          "base_uri": "https://localhost:8080/"
        },
        "id": "AuzLIeBhmal1",
        "outputId": "e010cc6b-00fb-4c12-ba78-ed42a3e124bd"
      },
      "execution_count": 215,
      "outputs": [
        {
          "output_type": "execute_result",
          "data": {
            "text/plain": [
              "tensor([[[0.1933, 0.1853, 0.0110, 0.1186],\n",
              "         [0.5598, 0.0475, 0.0344, 0.3210],\n",
              "         [0.5000, 0.8404, 0.3005, 0.6826]],\n",
              "\n",
              "        [[0.2996, 0.0151, 0.8334, 0.3191],\n",
              "         [0.1673, 0.1283, 0.3666, 0.5335],\n",
              "         [0.9320, 0.6977, 0.1701, 0.5899]]])"
            ]
          },
          "metadata": {},
          "execution_count": 215
        }
      ]
    },
    {
      "cell_type": "markdown",
      "metadata": {
        "id": "J094WEHQYKCv"
      },
      "source": [
        "<h3 style=\"text-align: center;\">Полезные ссылки:<b></b></h3>"
      ]
    },
    {
      "cell_type": "markdown",
      "metadata": {
        "id": "l1gNHZwOYKCv"
      },
      "source": [
        "*1). Мегаполезная статья по PyTorch (на русском), на её основе делался этот ноутбук: https://habr.com/post/334380/*"
      ]
    },
    {
      "cell_type": "markdown",
      "metadata": {
        "id": "ftVUTfvUYKCv"
      },
      "source": [
        "*2). Туториалы от самих разработчиков фреймворка: https://pytorch.org/tutorials/beginner/blitz/tensor_tutorial.html#sphx-glr-beginner-blitz-tensor-tutorial-py*"
      ]
    },
    {
      "cell_type": "markdown",
      "metadata": {
        "id": "ovymy5F6YKCw"
      },
      "source": [
        "*3). Статья на arXiv о сравнении фреймворков глубокого обучения: https://arxiv.org/pdf/1511.06435.pdf*"
      ]
    },
    {
      "cell_type": "markdown",
      "metadata": {
        "id": "VXEEowQAYKCx"
      },
      "source": [
        "4). *Ещё туториалы: https://github.com/yunjey/pytorch-tutorial*"
      ]
    },
    {
      "cell_type": "markdown",
      "metadata": {
        "id": "9cROZcrYYKC0"
      },
      "source": [
        "*5). Сайт Facebook AI Research - отдела, который разрабатывает PyTorch и другие крутые вещи в AI: https://facebook.ai/developers/tools*"
      ]
    }
  ]
}