{
  "cells": [
    {
      "cell_type": "markdown",
      "metadata": {
        "id": "view-in-github",
        "colab_type": "text"
      },
      "source": [
        "<a href=\"https://colab.research.google.com/github/bulinayas/Deep-deep-learning/blob/main/%D0%97%D0%B0%D0%B4%D0%B0%D0%BD%D0%B8%D0%B5_1_%D0%BE%D1%82_07_%D0%BE%D0%BA%D1%82%D1%8F%D0%B1%D1%80%D1%8F_%D0%97%D0%B0%D0%B4%D0%B0%D1%87%D0%B0_%D0%BA%D0%BB%D0%B0%D1%81%D1%81%D0%B8%D1%84%D0%B8%D0%BA%D0%B0%D1%86%D0%B8%D0%B8_%D1%86%D0%B5%D0%BD%D1%8B_%D0%BD%D0%B0_%D0%B2%D0%B8%D0%BD%D0%BE.ipynb\" target=\"_parent\"><img src=\"https://colab.research.google.com/assets/colab-badge.svg\" alt=\"Open In Colab\"/></a>"
      ]
    },
    {
      "cell_type": "markdown",
      "source": [
        "# **Задание 1 от 07 октября. Классификация цены на вино**"
      ],
      "metadata": {
        "id": "BDRmvBVCyDQQ"
      }
    },
    {
      "cell_type": "code",
      "execution_count": 1,
      "metadata": {
        "id": "Zj2wH8p_i-Ub"
      },
      "outputs": [],
      "source": [
        "import numpy as np              \n",
        "import pandas as pd             \n",
        "import matplotlib.pyplot as plt \n",
        "import seaborn as sns           \n",
        "import sklearn                  "
      ]
    },
    {
      "cell_type": "markdown",
      "metadata": {
        "id": "udc4UfOai-Ug"
      },
      "source": [
        "# Классификация стоимости вина\n",
        "\n",
        "Набор данных описывает несколько показателей вина. Задача состоит в том, чтобы классифицировать вино по цене, используя приведенные данные.\n",
        "Класс 1 - цена вина не превышает 316.4 евро\n",
        "Класс 2 - цена вина более 316.4 евро\n",
        "Граница 316ю4 евро была взята на основании статистики данных в kaggle.\n",
        "\n",
        "Набор данных содержит 7500 различных видов красных вин из Испании с 11 характеристиками, которые описывают их цену, рейтинг и даже некоторое описание вкуса. "
      ]
    },
    {
      "cell_type": "markdown",
      "metadata": {
        "id": "PI2iz4y0i-Ug"
      },
      "source": [
        "# 1. Загружаем данные\n"
      ]
    },
    {
      "cell_type": "markdown",
      "source": [
        "К сожалению, по какой-то причине не получилось выгрузить датасет по ссылке. Воспользовалась методом монтирования Google-диска:"
      ],
      "metadata": {
        "id": "_K42JYl3s2iE"
      }
    },
    {
      "cell_type": "code",
      "source": [
        "# url = \"https://github.com/bulinayas/Deep-deep-learning/blob/main/wines_SPA.csv\"\n",
        "# data_raw = pd.read_csv(url)\n",
        "\n",
        "from google.colab import drive\n",
        "drive.mount('/content/drive')"
      ],
      "metadata": {
        "colab": {
          "base_uri": "https://localhost:8080/"
        },
        "id": "uCBFpmn1hyK6",
        "outputId": "105ce2c6-f2d0-425a-e976-027217161eb9"
      },
      "execution_count": 23,
      "outputs": [
        {
          "output_type": "stream",
          "name": "stdout",
          "text": [
            "Drive already mounted at /content/drive; to attempt to forcibly remount, call drive.mount(\"/content/drive\", force_remount=True).\n"
          ]
        }
      ]
    },
    {
      "cell_type": "code",
      "source": [
        "data_raw = pd.read_csv(\"/content/drive/MyDrive/ML/wines_SPA.csv\")"
      ],
      "metadata": {
        "id": "4k4IYyzJtfE7"
      },
      "execution_count": 168,
      "outputs": []
    },
    {
      "cell_type": "code",
      "execution_count": 169,
      "metadata": {
        "id": "ldgAuJQMi-Uj",
        "outputId": "41bc4fbd-ccff-4e13-b61f-9936a4b9aa36",
        "colab": {
          "base_uri": "https://localhost:8080/"
        }
      },
      "outputs": [
        {
          "output_type": "execute_result",
          "data": {
            "text/plain": [
              "(7500, 11)"
            ]
          },
          "metadata": {},
          "execution_count": 169
        }
      ],
      "source": [
        "data_raw.shape"
      ]
    },
    {
      "cell_type": "code",
      "source": [
        "data_raw.head(10)"
      ],
      "metadata": {
        "colab": {
          "base_uri": "https://localhost:8080/",
          "height": 363
        },
        "id": "PClGXDxlSJYz",
        "outputId": "4ac1d236-e830-41f5-8344-3e95a2860e12"
      },
      "execution_count": 170,
      "outputs": [
        {
          "output_type": "execute_result",
          "data": {
            "text/plain": [
              "          winery                            wine  year  rating  num_reviews  \\\n",
              "0  Teso La Monja                           Tinto  2013     4.9           58   \n",
              "1         Artadi                   Vina El Pison  2018     4.9           31   \n",
              "2   Vega Sicilia                           Unico  2009     4.8         1793   \n",
              "3   Vega Sicilia                           Unico  1999     4.8         1705   \n",
              "4   Vega Sicilia                           Unico  1996     4.8         1309   \n",
              "5   Vega Sicilia                           Unico  1998     4.8         1209   \n",
              "6   Vega Sicilia                           Unico  2010     4.8         1201   \n",
              "7   Vega Sicilia                           Unico  1995     4.8          926   \n",
              "8   Vega Sicilia  Unico Reserva Especial Edicion  2015     4.8          643   \n",
              "9   Vega Sicilia                           Unico  2011     4.8          630   \n",
              "\n",
              "  country            region   price                  type  body  acidity  \n",
              "0  Espana              Toro  995.00              Toro Red   5.0      3.0  \n",
              "1  Espana    Vino de Espana  313.50           Tempranillo   4.0      2.0  \n",
              "2  Espana  Ribera del Duero  324.95  Ribera Del Duero Red   5.0      3.0  \n",
              "3  Espana  Ribera del Duero  692.96  Ribera Del Duero Red   5.0      3.0  \n",
              "4  Espana  Ribera del Duero  778.06  Ribera Del Duero Red   5.0      3.0  \n",
              "5  Espana  Ribera del Duero  490.00  Ribera Del Duero Red   5.0      3.0  \n",
              "6  Espana  Ribera del Duero  349.00  Ribera Del Duero Red   5.0      3.0  \n",
              "7  Espana  Ribera del Duero  810.89  Ribera Del Duero Red   5.0      3.0  \n",
              "8  Espana  Ribera del Duero  345.00  Ribera Del Duero Red   5.0      3.0  \n",
              "9  Espana  Ribera del Duero  315.00  Ribera Del Duero Red   5.0      3.0  "
            ],
            "text/html": [
              "\n",
              "  <div id=\"df-7061572e-5928-415a-b56f-a391812c8a10\">\n",
              "    <div class=\"colab-df-container\">\n",
              "      <div>\n",
              "<style scoped>\n",
              "    .dataframe tbody tr th:only-of-type {\n",
              "        vertical-align: middle;\n",
              "    }\n",
              "\n",
              "    .dataframe tbody tr th {\n",
              "        vertical-align: top;\n",
              "    }\n",
              "\n",
              "    .dataframe thead th {\n",
              "        text-align: right;\n",
              "    }\n",
              "</style>\n",
              "<table border=\"1\" class=\"dataframe\">\n",
              "  <thead>\n",
              "    <tr style=\"text-align: right;\">\n",
              "      <th></th>\n",
              "      <th>winery</th>\n",
              "      <th>wine</th>\n",
              "      <th>year</th>\n",
              "      <th>rating</th>\n",
              "      <th>num_reviews</th>\n",
              "      <th>country</th>\n",
              "      <th>region</th>\n",
              "      <th>price</th>\n",
              "      <th>type</th>\n",
              "      <th>body</th>\n",
              "      <th>acidity</th>\n",
              "    </tr>\n",
              "  </thead>\n",
              "  <tbody>\n",
              "    <tr>\n",
              "      <th>0</th>\n",
              "      <td>Teso La Monja</td>\n",
              "      <td>Tinto</td>\n",
              "      <td>2013</td>\n",
              "      <td>4.9</td>\n",
              "      <td>58</td>\n",
              "      <td>Espana</td>\n",
              "      <td>Toro</td>\n",
              "      <td>995.00</td>\n",
              "      <td>Toro Red</td>\n",
              "      <td>5.0</td>\n",
              "      <td>3.0</td>\n",
              "    </tr>\n",
              "    <tr>\n",
              "      <th>1</th>\n",
              "      <td>Artadi</td>\n",
              "      <td>Vina El Pison</td>\n",
              "      <td>2018</td>\n",
              "      <td>4.9</td>\n",
              "      <td>31</td>\n",
              "      <td>Espana</td>\n",
              "      <td>Vino de Espana</td>\n",
              "      <td>313.50</td>\n",
              "      <td>Tempranillo</td>\n",
              "      <td>4.0</td>\n",
              "      <td>2.0</td>\n",
              "    </tr>\n",
              "    <tr>\n",
              "      <th>2</th>\n",
              "      <td>Vega Sicilia</td>\n",
              "      <td>Unico</td>\n",
              "      <td>2009</td>\n",
              "      <td>4.8</td>\n",
              "      <td>1793</td>\n",
              "      <td>Espana</td>\n",
              "      <td>Ribera del Duero</td>\n",
              "      <td>324.95</td>\n",
              "      <td>Ribera Del Duero Red</td>\n",
              "      <td>5.0</td>\n",
              "      <td>3.0</td>\n",
              "    </tr>\n",
              "    <tr>\n",
              "      <th>3</th>\n",
              "      <td>Vega Sicilia</td>\n",
              "      <td>Unico</td>\n",
              "      <td>1999</td>\n",
              "      <td>4.8</td>\n",
              "      <td>1705</td>\n",
              "      <td>Espana</td>\n",
              "      <td>Ribera del Duero</td>\n",
              "      <td>692.96</td>\n",
              "      <td>Ribera Del Duero Red</td>\n",
              "      <td>5.0</td>\n",
              "      <td>3.0</td>\n",
              "    </tr>\n",
              "    <tr>\n",
              "      <th>4</th>\n",
              "      <td>Vega Sicilia</td>\n",
              "      <td>Unico</td>\n",
              "      <td>1996</td>\n",
              "      <td>4.8</td>\n",
              "      <td>1309</td>\n",
              "      <td>Espana</td>\n",
              "      <td>Ribera del Duero</td>\n",
              "      <td>778.06</td>\n",
              "      <td>Ribera Del Duero Red</td>\n",
              "      <td>5.0</td>\n",
              "      <td>3.0</td>\n",
              "    </tr>\n",
              "    <tr>\n",
              "      <th>5</th>\n",
              "      <td>Vega Sicilia</td>\n",
              "      <td>Unico</td>\n",
              "      <td>1998</td>\n",
              "      <td>4.8</td>\n",
              "      <td>1209</td>\n",
              "      <td>Espana</td>\n",
              "      <td>Ribera del Duero</td>\n",
              "      <td>490.00</td>\n",
              "      <td>Ribera Del Duero Red</td>\n",
              "      <td>5.0</td>\n",
              "      <td>3.0</td>\n",
              "    </tr>\n",
              "    <tr>\n",
              "      <th>6</th>\n",
              "      <td>Vega Sicilia</td>\n",
              "      <td>Unico</td>\n",
              "      <td>2010</td>\n",
              "      <td>4.8</td>\n",
              "      <td>1201</td>\n",
              "      <td>Espana</td>\n",
              "      <td>Ribera del Duero</td>\n",
              "      <td>349.00</td>\n",
              "      <td>Ribera Del Duero Red</td>\n",
              "      <td>5.0</td>\n",
              "      <td>3.0</td>\n",
              "    </tr>\n",
              "    <tr>\n",
              "      <th>7</th>\n",
              "      <td>Vega Sicilia</td>\n",
              "      <td>Unico</td>\n",
              "      <td>1995</td>\n",
              "      <td>4.8</td>\n",
              "      <td>926</td>\n",
              "      <td>Espana</td>\n",
              "      <td>Ribera del Duero</td>\n",
              "      <td>810.89</td>\n",
              "      <td>Ribera Del Duero Red</td>\n",
              "      <td>5.0</td>\n",
              "      <td>3.0</td>\n",
              "    </tr>\n",
              "    <tr>\n",
              "      <th>8</th>\n",
              "      <td>Vega Sicilia</td>\n",
              "      <td>Unico Reserva Especial Edicion</td>\n",
              "      <td>2015</td>\n",
              "      <td>4.8</td>\n",
              "      <td>643</td>\n",
              "      <td>Espana</td>\n",
              "      <td>Ribera del Duero</td>\n",
              "      <td>345.00</td>\n",
              "      <td>Ribera Del Duero Red</td>\n",
              "      <td>5.0</td>\n",
              "      <td>3.0</td>\n",
              "    </tr>\n",
              "    <tr>\n",
              "      <th>9</th>\n",
              "      <td>Vega Sicilia</td>\n",
              "      <td>Unico</td>\n",
              "      <td>2011</td>\n",
              "      <td>4.8</td>\n",
              "      <td>630</td>\n",
              "      <td>Espana</td>\n",
              "      <td>Ribera del Duero</td>\n",
              "      <td>315.00</td>\n",
              "      <td>Ribera Del Duero Red</td>\n",
              "      <td>5.0</td>\n",
              "      <td>3.0</td>\n",
              "    </tr>\n",
              "  </tbody>\n",
              "</table>\n",
              "</div>\n",
              "      <button class=\"colab-df-convert\" onclick=\"convertToInteractive('df-7061572e-5928-415a-b56f-a391812c8a10')\"\n",
              "              title=\"Convert this dataframe to an interactive table.\"\n",
              "              style=\"display:none;\">\n",
              "        \n",
              "  <svg xmlns=\"http://www.w3.org/2000/svg\" height=\"24px\"viewBox=\"0 0 24 24\"\n",
              "       width=\"24px\">\n",
              "    <path d=\"M0 0h24v24H0V0z\" fill=\"none\"/>\n",
              "    <path d=\"M18.56 5.44l.94 2.06.94-2.06 2.06-.94-2.06-.94-.94-2.06-.94 2.06-2.06.94zm-11 1L8.5 8.5l.94-2.06 2.06-.94-2.06-.94L8.5 2.5l-.94 2.06-2.06.94zm10 10l.94 2.06.94-2.06 2.06-.94-2.06-.94-.94-2.06-.94 2.06-2.06.94z\"/><path d=\"M17.41 7.96l-1.37-1.37c-.4-.4-.92-.59-1.43-.59-.52 0-1.04.2-1.43.59L10.3 9.45l-7.72 7.72c-.78.78-.78 2.05 0 2.83L4 21.41c.39.39.9.59 1.41.59.51 0 1.02-.2 1.41-.59l7.78-7.78 2.81-2.81c.8-.78.8-2.07 0-2.86zM5.41 20L4 18.59l7.72-7.72 1.47 1.35L5.41 20z\"/>\n",
              "  </svg>\n",
              "      </button>\n",
              "      \n",
              "  <style>\n",
              "    .colab-df-container {\n",
              "      display:flex;\n",
              "      flex-wrap:wrap;\n",
              "      gap: 12px;\n",
              "    }\n",
              "\n",
              "    .colab-df-convert {\n",
              "      background-color: #E8F0FE;\n",
              "      border: none;\n",
              "      border-radius: 50%;\n",
              "      cursor: pointer;\n",
              "      display: none;\n",
              "      fill: #1967D2;\n",
              "      height: 32px;\n",
              "      padding: 0 0 0 0;\n",
              "      width: 32px;\n",
              "    }\n",
              "\n",
              "    .colab-df-convert:hover {\n",
              "      background-color: #E2EBFA;\n",
              "      box-shadow: 0px 1px 2px rgba(60, 64, 67, 0.3), 0px 1px 3px 1px rgba(60, 64, 67, 0.15);\n",
              "      fill: #174EA6;\n",
              "    }\n",
              "\n",
              "    [theme=dark] .colab-df-convert {\n",
              "      background-color: #3B4455;\n",
              "      fill: #D2E3FC;\n",
              "    }\n",
              "\n",
              "    [theme=dark] .colab-df-convert:hover {\n",
              "      background-color: #434B5C;\n",
              "      box-shadow: 0px 1px 3px 1px rgba(0, 0, 0, 0.15);\n",
              "      filter: drop-shadow(0px 1px 2px rgba(0, 0, 0, 0.3));\n",
              "      fill: #FFFFFF;\n",
              "    }\n",
              "  </style>\n",
              "\n",
              "      <script>\n",
              "        const buttonEl =\n",
              "          document.querySelector('#df-7061572e-5928-415a-b56f-a391812c8a10 button.colab-df-convert');\n",
              "        buttonEl.style.display =\n",
              "          google.colab.kernel.accessAllowed ? 'block' : 'none';\n",
              "\n",
              "        async function convertToInteractive(key) {\n",
              "          const element = document.querySelector('#df-7061572e-5928-415a-b56f-a391812c8a10');\n",
              "          const dataTable =\n",
              "            await google.colab.kernel.invokeFunction('convertToInteractive',\n",
              "                                                     [key], {});\n",
              "          if (!dataTable) return;\n",
              "\n",
              "          const docLinkHtml = 'Like what you see? Visit the ' +\n",
              "            '<a target=\"_blank\" href=https://colab.research.google.com/notebooks/data_table.ipynb>data table notebook</a>'\n",
              "            + ' to learn more about interactive tables.';\n",
              "          element.innerHTML = '';\n",
              "          dataTable['output_type'] = 'display_data';\n",
              "          await google.colab.output.renderOutput(dataTable, element);\n",
              "          const docLink = document.createElement('div');\n",
              "          docLink.innerHTML = docLinkHtml;\n",
              "          element.appendChild(docLink);\n",
              "        }\n",
              "      </script>\n",
              "    </div>\n",
              "  </div>\n",
              "  "
            ]
          },
          "metadata": {},
          "execution_count": 170
        }
      ]
    },
    {
      "cell_type": "markdown",
      "metadata": {
        "id": "6TV_XcTci-Um"
      },
      "source": [
        "Характеристики:\n",
        "\n",
        "*   `winery`: Название винодельни\n",
        "*   `wine`: Название вина \n",
        "*   `year`: Год, в котором был собран виноград\n",
        "*   `rating`: Средняя оценка, данная вину пользователями [от 1-5]\n",
        "*   `num_reviews`: Количество пользователей, которые оценили вино\n",
        "*   `country`: Страна происхождения [Spain]\n",
        "*   `region`: Регион производства вина\n",
        "*   `price`: Цена в евро [€]\n",
        "*   `type`: Сорт вина\n",
        "*   `body`: Оценка тела, определяемая как насыщенность и вес вина во рту [от 1 до 5]\n",
        "*   `acidity`: показатель кислотности, определяемый как “морщинистость” вина или терпкость; это то, что делает вино освежающим, а ваш язык наполняется слюной и хочется сделать еще глоток [от 1 до 5]\n",
        "\n",
        "Номинальные признаки: `winery`, `wine`, `year`, `country`, `region`, `type`\n",
        "\n",
        "Количественные признаки: `rating`, `num_reviews`, `price`, `body`(?), `acidity`(?)\n",
        "\n",
        "\n",
        "Требуется предсказать количественный признак `price` по остальным признакам и отнести вино к одному из двух перечисленных выше классов."
      ]
    },
    {
      "cell_type": "markdown",
      "metadata": {
        "id": "zK-kuewhi-Um"
      },
      "source": [
        "Имена столбцов (признаков) можно получить таким образом:"
      ]
    },
    {
      "cell_type": "code",
      "source": [
        "data_raw.columns"
      ],
      "metadata": {
        "colab": {
          "base_uri": "https://localhost:8080/"
        },
        "id": "av1oun3i8QQN",
        "outputId": "64eee115-a3d8-450e-f88e-4580ee38f0ae"
      },
      "execution_count": 171,
      "outputs": [
        {
          "output_type": "execute_result",
          "data": {
            "text/plain": [
              "Index(['winery', 'wine', 'year', 'rating', 'num_reviews', 'country', 'region',\n",
              "       'price', 'type', 'body', 'acidity'],\n",
              "      dtype='object')"
            ]
          },
          "metadata": {},
          "execution_count": 171
        }
      ]
    },
    {
      "cell_type": "markdown",
      "metadata": {
        "id": "iNJGX9Eyi-Un"
      },
      "source": [
        "Категориальные значения имеют тип `'Object`'. Заменим тип на специальный, предназначенный для хранения категориальных значений:"
      ]
    },
    {
      "cell_type": "code",
      "execution_count": 172,
      "metadata": {
        "id": "oZX_anvXi-Uo",
        "outputId": "87bc56fd-b24c-47f1-ed82-26eb62900206",
        "colab": {
          "base_uri": "https://localhost:8080/"
        }
      },
      "outputs": [
        {
          "output_type": "execute_result",
          "data": {
            "text/plain": [
              "0              Teso La Monja\n",
              "1                     Artadi\n",
              "2               Vega Sicilia\n",
              "3               Vega Sicilia\n",
              "4               Vega Sicilia\n",
              "                ...         \n",
              "7495                 Contino\n",
              "7496    Conreria d'Scala Dei\n",
              "7497             Mustiguillo\n",
              "7498             Matarromera\n",
              "7499                Sei Solo\n",
              "Name: winery, Length: 7500, dtype: object"
            ]
          },
          "metadata": {},
          "execution_count": 172
        }
      ],
      "source": [
        "data_raw['winery']"
      ]
    },
    {
      "cell_type": "code",
      "execution_count": 173,
      "metadata": {
        "id": "vDoCuC-8i-Uo"
      },
      "outputs": [],
      "source": [
        "data_raw['winery'] = data_raw['winery'].astype('category')\n",
        "data_raw['wine'] = data_raw['wine'].astype('category')\n",
        "data_raw['year'] = data_raw['year'].astype('category')\n",
        "data_raw['country'] = data_raw['country'].astype('category')\n",
        "data_raw['region'] = data_raw['region'].astype('category')\n",
        "data_raw['type'] = data_raw['type'].astype('category')"
      ]
    },
    {
      "cell_type": "code",
      "execution_count": 174,
      "metadata": {
        "id": "7ioG5H6li-Uo",
        "outputId": "f61da81c-1b4d-4a0b-fb47-c637b8d87ad3",
        "colab": {
          "base_uri": "https://localhost:8080/"
        }
      },
      "outputs": [
        {
          "output_type": "execute_result",
          "data": {
            "text/plain": [
              "CategoricalDtype(categories=['A Coroa', 'AGE', 'Aalto', 'Abadal', 'Abadia Retuerta',\n",
              "                  'Abel Mendoza Monge', 'Acustic Celler', 'Adama Wines',\n",
              "                  'Adega Familiar Eladio Pineiro', 'Agusti Torello Mata',\n",
              "                  ...\n",
              "                  'Vivaltus', 'Vivanco', 'Vizcarra', 'Volver',\n",
              "                  'Williams & Humbert', 'Xaloc', 'Ysios', 'Zarate', 'Zifar',\n",
              "                  'l'Infernal Combier Fischer Gerin'],\n",
              ", ordered=False)"
            ]
          },
          "metadata": {},
          "execution_count": 174
        }
      ],
      "source": [
        "data_raw['winery'].dtype"
      ]
    },
    {
      "cell_type": "code",
      "source": [
        "data_raw['wine'].dtype"
      ],
      "metadata": {
        "colab": {
          "base_uri": "https://localhost:8080/"
        },
        "id": "kgfzqq1l_Ljl",
        "outputId": "e86b84e1-33c4-4faa-8006-a802f2ee8e25"
      },
      "execution_count": 175,
      "outputs": [
        {
          "output_type": "execute_result",
          "data": {
            "text/plain": [
              "CategoricalDtype(categories=['1194', '17', '1730 Amontillado', '1730 Pedro Ximenez',\n",
              "                  '1902 Centenary Carignan Priorat', '1903 Centenary Grenache',\n",
              "                  '200 Cestos Godello',\n",
              "                  '200 Monges Edicion Exclusiva Blanco Reserva',\n",
              "                  '200 Monges Rioja Gran Reserva', '200 Monges Rioja Reserva',\n",
              "                  ...\n",
              "                  'Vinya La Scala Gran Reserva Cabernet Sauvignon',\n",
              "                  'Vinyes Altes Porrera',\n",
              "                  'Vinyes Altes de Les Garrigues Vi Blanc',\n",
              "                  'Vinyes Velles de Samso', 'Vitium Reserva', 'Vitola Reserva',\n",
              "                  'Vobiscum', 'Voltons',\n",
              "                  'Whisba Tempranillo Aged 18 Months in Whisky Barrels',\n",
              "                  'Zona Zepa Monastrell'],\n",
              ", ordered=False)"
            ]
          },
          "metadata": {},
          "execution_count": 175
        }
      ]
    },
    {
      "cell_type": "code",
      "source": [
        "data_raw['year'].dtype"
      ],
      "metadata": {
        "colab": {
          "base_uri": "https://localhost:8080/"
        },
        "id": "ic-pqoIE_NNA",
        "outputId": "12348c6c-8624-44ca-9b70-3460209f0b25"
      },
      "execution_count": 176,
      "outputs": [
        {
          "output_type": "execute_result",
          "data": {
            "text/plain": [
              "CategoricalDtype(categories=['1910', '1922', '1925', '1928', '1929', '1931', '1942',\n",
              "                  '1946', '1949', '1951', '1953', '1954', '1955', '1958',\n",
              "                  '1959', '1961', '1962', '1964', '1965', '1967', '1968',\n",
              "                  '1969', '1970', '1972', '1973', '1974', '1975', '1976',\n",
              "                  '1978', '1979', '1980', '1981', '1982', '1983', '1985',\n",
              "                  '1986', '1987', '1988', '1989', '1990', '1991', '1992',\n",
              "                  '1994', '1995', '1996', '1997', '1998', '1999', '2000',\n",
              "                  '2001', '2002', '2003', '2004', '2005', '2006', '2007',\n",
              "                  '2008', '2009', '2010', '2011', '2012', '2013', '2014',\n",
              "                  '2015', '2016', '2017', '2018', '2019', '2020', '2021',\n",
              "                  'N.V.'],\n",
              ", ordered=False)"
            ]
          },
          "metadata": {},
          "execution_count": 176
        }
      ]
    },
    {
      "cell_type": "code",
      "source": [
        "data_raw['country'].dtype"
      ],
      "metadata": {
        "colab": {
          "base_uri": "https://localhost:8080/"
        },
        "id": "58lpDWLv_PEv",
        "outputId": "d6de342d-cecd-491e-e090-2f99a783f148"
      },
      "execution_count": 177,
      "outputs": [
        {
          "output_type": "execute_result",
          "data": {
            "text/plain": [
              "CategoricalDtype(categories=['Espana'], ordered=False)"
            ]
          },
          "metadata": {},
          "execution_count": 177
        }
      ]
    },
    {
      "cell_type": "code",
      "source": [
        "data_raw['region'].dtype"
      ],
      "metadata": {
        "colab": {
          "base_uri": "https://localhost:8080/"
        },
        "id": "N6ahuXbU_Sim",
        "outputId": "a22f4a0e-3ad9-438e-9754-590d967c4a2d"
      },
      "execution_count": 178,
      "outputs": [
        {
          "output_type": "execute_result",
          "data": {
            "text/plain": [
              "CategoricalDtype(categories=['Abona', 'Alella', 'Alicante', 'Almansa', 'Andalucia',\n",
              "                  'Aragon', 'Arinzano', 'Arribes', 'Bierzo',\n",
              "                  'Binissalem-Mallorca', 'Cadiz', 'Calatayud',\n",
              "                  'Campo de Borja', 'Carinena', 'Castilla', 'Castilla y Leon',\n",
              "                  'Cataluna', 'Cava', 'Cigales', 'Conca de Barbera',\n",
              "                  'Condado de Huelva', 'Costers del Segre',\n",
              "                  'Dehesa del Carrizal', 'Dominio de Valdepusa',\n",
              "                  'El Terrerazo', 'Emporda', 'Extremadura', 'Galicia',\n",
              "                  'Gran Canaria', 'Jerez Amontillado', 'Jerez Cream',\n",
              "                  'Jerez Oloroso', 'Jerez Palo Cortado',\n",
              "                  'Jerez Pedro Ximenes (PX)', 'Jerez-Xeres-Sherry', 'Jumilla',\n",
              "                  'La Mancha', 'La Palma', 'Madrid', 'Malaga', 'Mallorca',\n",
              "                  'Manzanilla', 'Mentrida', 'Monterrei', 'Montilla-Moriles',\n",
              "                  'Montsant', 'Murcia', 'Navarra', 'Otazu', 'Pago Calzadilla',\n",
              "                  'Penedes', 'Pla de Bages', 'Pla i Llevant', 'Priorato',\n",
              "                  'Rias Baixas', 'Ribeira Sacra', 'Ribeiro',\n",
              "                  'Ribera del Duero', 'Ribera del Gallego-Cinco Villas',\n",
              "                  'Rioja', 'Rioja Alavesa', 'Rioja Alta', 'Rueda',\n",
              "                  'Sardon de Duero', 'Sierras de Malaga', 'Somontano',\n",
              "                  'Tarragona', 'Terra Alta', 'Tierra del Vino de Zamora',\n",
              "                  'Toro', 'Utiel-Requena', 'Valdejalon', 'Valdeorras',\n",
              "                  'Valencia', 'Vino de Espana', 'Yecla'],\n",
              ", ordered=False)"
            ]
          },
          "metadata": {},
          "execution_count": 178
        }
      ]
    },
    {
      "cell_type": "code",
      "source": [
        "data_raw['type'].dtype"
      ],
      "metadata": {
        "colab": {
          "base_uri": "https://localhost:8080/"
        },
        "id": "SRqHCkjL_UVT",
        "outputId": "578523b0-ae03-415a-a52d-691291759ab2"
      },
      "execution_count": 179,
      "outputs": [
        {
          "output_type": "execute_result",
          "data": {
            "text/plain": [
              "CategoricalDtype(categories=['Albarino', 'Cabernet Sauvignon', 'Cava', 'Chardonnay',\n",
              "                  'Grenache', 'Mencia', 'Monastrell', 'Montsant Red',\n",
              "                  'Pedro Ximenez', 'Priorat Red', 'Red',\n",
              "                  'Ribera Del Duero Red', 'Rioja Red', 'Rioja White',\n",
              "                  'Sauvignon Blanc', 'Sherry', 'Sparkling', 'Syrah',\n",
              "                  'Tempranillo', 'Toro Red', 'Verdejo'],\n",
              ", ordered=False)"
            ]
          },
          "metadata": {},
          "execution_count": 179
        }
      ]
    },
    {
      "cell_type": "code",
      "source": [
        "data_raw.describe()"
      ],
      "metadata": {
        "colab": {
          "base_uri": "https://localhost:8080/",
          "height": 300
        },
        "id": "o_Dm9Tklsx4m",
        "outputId": "96d4e341-19f8-471e-81ea-38b1231dc5a8"
      },
      "execution_count": 180,
      "outputs": [
        {
          "output_type": "execute_result",
          "data": {
            "text/plain": [
              "            rating   num_reviews        price         body      acidity\n",
              "count  7500.000000   7500.000000  7500.000000  6331.000000  6331.000000\n",
              "mean      4.254933    451.109067    60.095822     4.158427     2.946612\n",
              "std       0.118029    723.001856   150.356676     0.583352     0.248202\n",
              "min       4.200000     25.000000     4.990000     2.000000     1.000000\n",
              "25%       4.200000    389.000000    18.900000     4.000000     3.000000\n",
              "50%       4.200000    404.000000    28.530000     4.000000     3.000000\n",
              "75%       4.200000    415.000000    51.350000     5.000000     3.000000\n",
              "max       4.900000  32624.000000  3119.080000     5.000000     3.000000"
            ],
            "text/html": [
              "\n",
              "  <div id=\"df-0ba1c063-50e0-400f-8bb1-a7d1c8e71b32\">\n",
              "    <div class=\"colab-df-container\">\n",
              "      <div>\n",
              "<style scoped>\n",
              "    .dataframe tbody tr th:only-of-type {\n",
              "        vertical-align: middle;\n",
              "    }\n",
              "\n",
              "    .dataframe tbody tr th {\n",
              "        vertical-align: top;\n",
              "    }\n",
              "\n",
              "    .dataframe thead th {\n",
              "        text-align: right;\n",
              "    }\n",
              "</style>\n",
              "<table border=\"1\" class=\"dataframe\">\n",
              "  <thead>\n",
              "    <tr style=\"text-align: right;\">\n",
              "      <th></th>\n",
              "      <th>rating</th>\n",
              "      <th>num_reviews</th>\n",
              "      <th>price</th>\n",
              "      <th>body</th>\n",
              "      <th>acidity</th>\n",
              "    </tr>\n",
              "  </thead>\n",
              "  <tbody>\n",
              "    <tr>\n",
              "      <th>count</th>\n",
              "      <td>7500.000000</td>\n",
              "      <td>7500.000000</td>\n",
              "      <td>7500.000000</td>\n",
              "      <td>6331.000000</td>\n",
              "      <td>6331.000000</td>\n",
              "    </tr>\n",
              "    <tr>\n",
              "      <th>mean</th>\n",
              "      <td>4.254933</td>\n",
              "      <td>451.109067</td>\n",
              "      <td>60.095822</td>\n",
              "      <td>4.158427</td>\n",
              "      <td>2.946612</td>\n",
              "    </tr>\n",
              "    <tr>\n",
              "      <th>std</th>\n",
              "      <td>0.118029</td>\n",
              "      <td>723.001856</td>\n",
              "      <td>150.356676</td>\n",
              "      <td>0.583352</td>\n",
              "      <td>0.248202</td>\n",
              "    </tr>\n",
              "    <tr>\n",
              "      <th>min</th>\n",
              "      <td>4.200000</td>\n",
              "      <td>25.000000</td>\n",
              "      <td>4.990000</td>\n",
              "      <td>2.000000</td>\n",
              "      <td>1.000000</td>\n",
              "    </tr>\n",
              "    <tr>\n",
              "      <th>25%</th>\n",
              "      <td>4.200000</td>\n",
              "      <td>389.000000</td>\n",
              "      <td>18.900000</td>\n",
              "      <td>4.000000</td>\n",
              "      <td>3.000000</td>\n",
              "    </tr>\n",
              "    <tr>\n",
              "      <th>50%</th>\n",
              "      <td>4.200000</td>\n",
              "      <td>404.000000</td>\n",
              "      <td>28.530000</td>\n",
              "      <td>4.000000</td>\n",
              "      <td>3.000000</td>\n",
              "    </tr>\n",
              "    <tr>\n",
              "      <th>75%</th>\n",
              "      <td>4.200000</td>\n",
              "      <td>415.000000</td>\n",
              "      <td>51.350000</td>\n",
              "      <td>5.000000</td>\n",
              "      <td>3.000000</td>\n",
              "    </tr>\n",
              "    <tr>\n",
              "      <th>max</th>\n",
              "      <td>4.900000</td>\n",
              "      <td>32624.000000</td>\n",
              "      <td>3119.080000</td>\n",
              "      <td>5.000000</td>\n",
              "      <td>3.000000</td>\n",
              "    </tr>\n",
              "  </tbody>\n",
              "</table>\n",
              "</div>\n",
              "      <button class=\"colab-df-convert\" onclick=\"convertToInteractive('df-0ba1c063-50e0-400f-8bb1-a7d1c8e71b32')\"\n",
              "              title=\"Convert this dataframe to an interactive table.\"\n",
              "              style=\"display:none;\">\n",
              "        \n",
              "  <svg xmlns=\"http://www.w3.org/2000/svg\" height=\"24px\"viewBox=\"0 0 24 24\"\n",
              "       width=\"24px\">\n",
              "    <path d=\"M0 0h24v24H0V0z\" fill=\"none\"/>\n",
              "    <path d=\"M18.56 5.44l.94 2.06.94-2.06 2.06-.94-2.06-.94-.94-2.06-.94 2.06-2.06.94zm-11 1L8.5 8.5l.94-2.06 2.06-.94-2.06-.94L8.5 2.5l-.94 2.06-2.06.94zm10 10l.94 2.06.94-2.06 2.06-.94-2.06-.94-.94-2.06-.94 2.06-2.06.94z\"/><path d=\"M17.41 7.96l-1.37-1.37c-.4-.4-.92-.59-1.43-.59-.52 0-1.04.2-1.43.59L10.3 9.45l-7.72 7.72c-.78.78-.78 2.05 0 2.83L4 21.41c.39.39.9.59 1.41.59.51 0 1.02-.2 1.41-.59l7.78-7.78 2.81-2.81c.8-.78.8-2.07 0-2.86zM5.41 20L4 18.59l7.72-7.72 1.47 1.35L5.41 20z\"/>\n",
              "  </svg>\n",
              "      </button>\n",
              "      \n",
              "  <style>\n",
              "    .colab-df-container {\n",
              "      display:flex;\n",
              "      flex-wrap:wrap;\n",
              "      gap: 12px;\n",
              "    }\n",
              "\n",
              "    .colab-df-convert {\n",
              "      background-color: #E8F0FE;\n",
              "      border: none;\n",
              "      border-radius: 50%;\n",
              "      cursor: pointer;\n",
              "      display: none;\n",
              "      fill: #1967D2;\n",
              "      height: 32px;\n",
              "      padding: 0 0 0 0;\n",
              "      width: 32px;\n",
              "    }\n",
              "\n",
              "    .colab-df-convert:hover {\n",
              "      background-color: #E2EBFA;\n",
              "      box-shadow: 0px 1px 2px rgba(60, 64, 67, 0.3), 0px 1px 3px 1px rgba(60, 64, 67, 0.15);\n",
              "      fill: #174EA6;\n",
              "    }\n",
              "\n",
              "    [theme=dark] .colab-df-convert {\n",
              "      background-color: #3B4455;\n",
              "      fill: #D2E3FC;\n",
              "    }\n",
              "\n",
              "    [theme=dark] .colab-df-convert:hover {\n",
              "      background-color: #434B5C;\n",
              "      box-shadow: 0px 1px 3px 1px rgba(0, 0, 0, 0.15);\n",
              "      filter: drop-shadow(0px 1px 2px rgba(0, 0, 0, 0.3));\n",
              "      fill: #FFFFFF;\n",
              "    }\n",
              "  </style>\n",
              "\n",
              "      <script>\n",
              "        const buttonEl =\n",
              "          document.querySelector('#df-0ba1c063-50e0-400f-8bb1-a7d1c8e71b32 button.colab-df-convert');\n",
              "        buttonEl.style.display =\n",
              "          google.colab.kernel.accessAllowed ? 'block' : 'none';\n",
              "\n",
              "        async function convertToInteractive(key) {\n",
              "          const element = document.querySelector('#df-0ba1c063-50e0-400f-8bb1-a7d1c8e71b32');\n",
              "          const dataTable =\n",
              "            await google.colab.kernel.invokeFunction('convertToInteractive',\n",
              "                                                     [key], {});\n",
              "          if (!dataTable) return;\n",
              "\n",
              "          const docLinkHtml = 'Like what you see? Visit the ' +\n",
              "            '<a target=\"_blank\" href=https://colab.research.google.com/notebooks/data_table.ipynb>data table notebook</a>'\n",
              "            + ' to learn more about interactive tables.';\n",
              "          element.innerHTML = '';\n",
              "          dataTable['output_type'] = 'display_data';\n",
              "          await google.colab.output.renderOutput(dataTable, element);\n",
              "          const docLink = document.createElement('div');\n",
              "          docLink.innerHTML = docLinkHtml;\n",
              "          element.appendChild(docLink);\n",
              "        }\n",
              "      </script>\n",
              "    </div>\n",
              "  </div>\n",
              "  "
            ]
          },
          "metadata": {},
          "execution_count": 180
        }
      ]
    },
    {
      "cell_type": "code",
      "source": [
        "data_raw.describe(include=['category'])"
      ],
      "metadata": {
        "colab": {
          "base_uri": "https://localhost:8080/",
          "height": 175
        },
        "id": "ucaNvXnPs7Xh",
        "outputId": "d95d969c-f660-4acc-bb23-bce25e0c17c8"
      },
      "execution_count": 181,
      "outputs": [
        {
          "output_type": "execute_result",
          "data": {
            "text/plain": [
              "         winery     wine  year country region       type\n",
              "count      7500     7500  7498    7500   7500       6955\n",
              "unique      480      847    71       1     76         21\n",
              "top     Contino  Reserva  2011  Espana  Rioja  Rioja Red\n",
              "freq        457      467  1190    7500   2440       2357"
            ],
            "text/html": [
              "\n",
              "  <div id=\"df-d163505a-15f6-4ef4-bee5-f39615822dfa\">\n",
              "    <div class=\"colab-df-container\">\n",
              "      <div>\n",
              "<style scoped>\n",
              "    .dataframe tbody tr th:only-of-type {\n",
              "        vertical-align: middle;\n",
              "    }\n",
              "\n",
              "    .dataframe tbody tr th {\n",
              "        vertical-align: top;\n",
              "    }\n",
              "\n",
              "    .dataframe thead th {\n",
              "        text-align: right;\n",
              "    }\n",
              "</style>\n",
              "<table border=\"1\" class=\"dataframe\">\n",
              "  <thead>\n",
              "    <tr style=\"text-align: right;\">\n",
              "      <th></th>\n",
              "      <th>winery</th>\n",
              "      <th>wine</th>\n",
              "      <th>year</th>\n",
              "      <th>country</th>\n",
              "      <th>region</th>\n",
              "      <th>type</th>\n",
              "    </tr>\n",
              "  </thead>\n",
              "  <tbody>\n",
              "    <tr>\n",
              "      <th>count</th>\n",
              "      <td>7500</td>\n",
              "      <td>7500</td>\n",
              "      <td>7498</td>\n",
              "      <td>7500</td>\n",
              "      <td>7500</td>\n",
              "      <td>6955</td>\n",
              "    </tr>\n",
              "    <tr>\n",
              "      <th>unique</th>\n",
              "      <td>480</td>\n",
              "      <td>847</td>\n",
              "      <td>71</td>\n",
              "      <td>1</td>\n",
              "      <td>76</td>\n",
              "      <td>21</td>\n",
              "    </tr>\n",
              "    <tr>\n",
              "      <th>top</th>\n",
              "      <td>Contino</td>\n",
              "      <td>Reserva</td>\n",
              "      <td>2011</td>\n",
              "      <td>Espana</td>\n",
              "      <td>Rioja</td>\n",
              "      <td>Rioja Red</td>\n",
              "    </tr>\n",
              "    <tr>\n",
              "      <th>freq</th>\n",
              "      <td>457</td>\n",
              "      <td>467</td>\n",
              "      <td>1190</td>\n",
              "      <td>7500</td>\n",
              "      <td>2440</td>\n",
              "      <td>2357</td>\n",
              "    </tr>\n",
              "  </tbody>\n",
              "</table>\n",
              "</div>\n",
              "      <button class=\"colab-df-convert\" onclick=\"convertToInteractive('df-d163505a-15f6-4ef4-bee5-f39615822dfa')\"\n",
              "              title=\"Convert this dataframe to an interactive table.\"\n",
              "              style=\"display:none;\">\n",
              "        \n",
              "  <svg xmlns=\"http://www.w3.org/2000/svg\" height=\"24px\"viewBox=\"0 0 24 24\"\n",
              "       width=\"24px\">\n",
              "    <path d=\"M0 0h24v24H0V0z\" fill=\"none\"/>\n",
              "    <path d=\"M18.56 5.44l.94 2.06.94-2.06 2.06-.94-2.06-.94-.94-2.06-.94 2.06-2.06.94zm-11 1L8.5 8.5l.94-2.06 2.06-.94-2.06-.94L8.5 2.5l-.94 2.06-2.06.94zm10 10l.94 2.06.94-2.06 2.06-.94-2.06-.94-.94-2.06-.94 2.06-2.06.94z\"/><path d=\"M17.41 7.96l-1.37-1.37c-.4-.4-.92-.59-1.43-.59-.52 0-1.04.2-1.43.59L10.3 9.45l-7.72 7.72c-.78.78-.78 2.05 0 2.83L4 21.41c.39.39.9.59 1.41.59.51 0 1.02-.2 1.41-.59l7.78-7.78 2.81-2.81c.8-.78.8-2.07 0-2.86zM5.41 20L4 18.59l7.72-7.72 1.47 1.35L5.41 20z\"/>\n",
              "  </svg>\n",
              "      </button>\n",
              "      \n",
              "  <style>\n",
              "    .colab-df-container {\n",
              "      display:flex;\n",
              "      flex-wrap:wrap;\n",
              "      gap: 12px;\n",
              "    }\n",
              "\n",
              "    .colab-df-convert {\n",
              "      background-color: #E8F0FE;\n",
              "      border: none;\n",
              "      border-radius: 50%;\n",
              "      cursor: pointer;\n",
              "      display: none;\n",
              "      fill: #1967D2;\n",
              "      height: 32px;\n",
              "      padding: 0 0 0 0;\n",
              "      width: 32px;\n",
              "    }\n",
              "\n",
              "    .colab-df-convert:hover {\n",
              "      background-color: #E2EBFA;\n",
              "      box-shadow: 0px 1px 2px rgba(60, 64, 67, 0.3), 0px 1px 3px 1px rgba(60, 64, 67, 0.15);\n",
              "      fill: #174EA6;\n",
              "    }\n",
              "\n",
              "    [theme=dark] .colab-df-convert {\n",
              "      background-color: #3B4455;\n",
              "      fill: #D2E3FC;\n",
              "    }\n",
              "\n",
              "    [theme=dark] .colab-df-convert:hover {\n",
              "      background-color: #434B5C;\n",
              "      box-shadow: 0px 1px 3px 1px rgba(0, 0, 0, 0.15);\n",
              "      filter: drop-shadow(0px 1px 2px rgba(0, 0, 0, 0.3));\n",
              "      fill: #FFFFFF;\n",
              "    }\n",
              "  </style>\n",
              "\n",
              "      <script>\n",
              "        const buttonEl =\n",
              "          document.querySelector('#df-d163505a-15f6-4ef4-bee5-f39615822dfa button.colab-df-convert');\n",
              "        buttonEl.style.display =\n",
              "          google.colab.kernel.accessAllowed ? 'block' : 'none';\n",
              "\n",
              "        async function convertToInteractive(key) {\n",
              "          const element = document.querySelector('#df-d163505a-15f6-4ef4-bee5-f39615822dfa');\n",
              "          const dataTable =\n",
              "            await google.colab.kernel.invokeFunction('convertToInteractive',\n",
              "                                                     [key], {});\n",
              "          if (!dataTable) return;\n",
              "\n",
              "          const docLinkHtml = 'Like what you see? Visit the ' +\n",
              "            '<a target=\"_blank\" href=https://colab.research.google.com/notebooks/data_table.ipynb>data table notebook</a>'\n",
              "            + ' to learn more about interactive tables.';\n",
              "          element.innerHTML = '';\n",
              "          dataTable['output_type'] = 'display_data';\n",
              "          await google.colab.output.renderOutput(dataTable, element);\n",
              "          const docLink = document.createElement('div');\n",
              "          docLink.innerHTML = docLinkHtml;\n",
              "          element.appendChild(docLink);\n",
              "        }\n",
              "      </script>\n",
              "    </div>\n",
              "  </div>\n",
              "  "
            ]
          },
          "metadata": {},
          "execution_count": 181
        }
      ]
    },
    {
      "cell_type": "markdown",
      "source": [
        "Удаляем строки с пропущенными значениями:"
      ],
      "metadata": {
        "id": "tRL6k1vguGWR"
      }
    },
    {
      "cell_type": "code",
      "source": [
        "data_raw.shape"
      ],
      "metadata": {
        "colab": {
          "base_uri": "https://localhost:8080/"
        },
        "id": "xZgyK8lx_7kW",
        "outputId": "acf9be3f-935f-4980-f0b9-9ed322260a76"
      },
      "execution_count": 182,
      "outputs": [
        {
          "output_type": "execute_result",
          "data": {
            "text/plain": [
              "(7500, 11)"
            ]
          },
          "metadata": {},
          "execution_count": 182
        }
      ]
    },
    {
      "cell_type": "code",
      "source": [
        "data_raw = data_raw.dropna()"
      ],
      "metadata": {
        "id": "p4dyJRMaty2W"
      },
      "execution_count": 183,
      "outputs": []
    },
    {
      "cell_type": "code",
      "source": [
        "NV_drop = data_raw[\n",
        "    (data_raw['year'] == \"N.V.\")\n",
        "    ].index\n",
        "data_raw = data_raw.drop(NV_drop)\n",
        "data_raw.shape"
      ],
      "metadata": {
        "colab": {
          "base_uri": "https://localhost:8080/"
        },
        "id": "G3CrvBNKSlu7",
        "outputId": "aabf9bab-6936-4662-93f4-edca98a9faea"
      },
      "execution_count": 184,
      "outputs": [
        {
          "output_type": "execute_result",
          "data": {
            "text/plain": [
              "(6070, 11)"
            ]
          },
          "metadata": {},
          "execution_count": 184
        }
      ]
    },
    {
      "cell_type": "code",
      "source": [
        "data_raw['year']"
      ],
      "metadata": {
        "colab": {
          "base_uri": "https://localhost:8080/"
        },
        "id": "ruH42ksOk5-Q",
        "outputId": "858d27b5-fce6-48b1-dbda-1a17e7492322"
      },
      "execution_count": 185,
      "outputs": [
        {
          "output_type": "execute_result",
          "data": {
            "text/plain": [
              "0       2013\n",
              "1       2018\n",
              "2       2009\n",
              "3       1999\n",
              "4       1996\n",
              "        ... \n",
              "7495    2016\n",
              "7496    2018\n",
              "7497    2017\n",
              "7498    2011\n",
              "7499    2016\n",
              "Name: year, Length: 6070, dtype: category\n",
              "Categories (71, object): ['1910', '1922', '1925', '1928', ..., '2019', '2020', '2021', 'N.V.']"
            ]
          },
          "metadata": {},
          "execution_count": 185
        }
      ]
    },
    {
      "cell_type": "markdown",
      "source": [
        "Посмотрим на вантили для соответствующих уровней (в долях единицы).\n",
        "\n",
        "Квантиль уровня 0.5 (50%) - медиана."
      ],
      "metadata": {
        "id": "Cra1wAcmVLdO"
      }
    },
    {
      "cell_type": "code",
      "execution_count": 186,
      "metadata": {
        "id": "Yy0GCAPni-Uw",
        "colab": {
          "base_uri": "https://localhost:8080/"
        },
        "outputId": "65472fe5-b4d6-469c-e7e5-bf091bce73d6"
      },
      "outputs": [
        {
          "output_type": "execute_result",
          "data": {
            "text/plain": [
              "0.005      13.580\n",
              "0.010      13.580\n",
              "0.050      16.760\n",
              "0.100      16.780\n",
              "0.500      31.630\n",
              "0.900      82.770\n",
              "0.950     180.825\n",
              "0.990     940.000\n",
              "0.995    1273.100\n",
              "Name: price, dtype: float64"
            ]
          },
          "metadata": {},
          "execution_count": 186
        }
      ],
      "source": [
        "data_raw['price'].quantile([0.005,.01,.05,.1,.5,.9,.95,.99,.995])"
      ]
    },
    {
      "cell_type": "markdown",
      "metadata": {
        "id": "ePdKPdO9i-Uw"
      },
      "source": [
        "Мы видим, что $99\\%$ всех значений признака `'price'` находится в диапазоне от $13.58$ до $1273.1$ €\n",
        "\n",
        "Удалим все строки таблицы, в которых `'price'` выходит за пределы квантилей $0.005$, $0.995$ (очень вероятно, что общие тенденции не работают для вин огромной цены (> 2000 €))."
      ]
    },
    {
      "cell_type": "code",
      "execution_count": 187,
      "metadata": {
        "id": "yY_sjrpzi-Ux",
        "colab": {
          "base_uri": "https://localhost:8080/"
        },
        "outputId": "a5aa581a-64fe-453d-9670-d70309b0732d"
      },
      "outputs": [
        {
          "output_type": "execute_result",
          "data": {
            "text/plain": [
              "(6010, 11)"
            ]
          },
          "metadata": {},
          "execution_count": 187
        }
      ],
      "source": [
        "rows_to_drop = data_raw[\n",
        "    (data_raw['price'] < data_raw['price'].quantile(0.005)) | (data_raw['price'] > data_raw['price'].quantile(0.995))\n",
        "    ].index\n",
        "data = data_raw.drop(rows_to_drop)\n",
        "data.shape"
      ]
    },
    {
      "cell_type": "code",
      "execution_count": 188,
      "metadata": {
        "scrolled": true,
        "id": "yNzrVa3Vi-Uy",
        "outputId": "d4e80ee2-e202-4304-9ef8-d6c69bbbfd8a",
        "colab": {
          "base_uri": "https://localhost:8080/",
          "height": 300
        }
      },
      "outputs": [
        {
          "output_type": "execute_result",
          "data": {
            "text/plain": [
              "            rating   num_reviews        price         body      acidity\n",
              "count  6010.000000   6010.000000  6010.000000  6010.000000  6010.000000\n",
              "mean      4.257903    441.020133    59.190116     4.162895     2.946922\n",
              "std       0.122131    603.436012   110.244390     0.591942     0.243425\n",
              "min       4.200000     25.000000    13.580000     2.000000     1.000000\n",
              "25%       4.200000    389.000000    20.900000     4.000000     3.000000\n",
              "50%       4.200000    402.000000    31.630000     4.000000     3.000000\n",
              "75%       4.200000    417.000000    61.940000     5.000000     3.000000\n",
              "max       4.900000  16505.000000  1260.000000     5.000000     3.000000"
            ],
            "text/html": [
              "\n",
              "  <div id=\"df-eb315179-ff73-4752-b4b3-20fc128e9bb9\">\n",
              "    <div class=\"colab-df-container\">\n",
              "      <div>\n",
              "<style scoped>\n",
              "    .dataframe tbody tr th:only-of-type {\n",
              "        vertical-align: middle;\n",
              "    }\n",
              "\n",
              "    .dataframe tbody tr th {\n",
              "        vertical-align: top;\n",
              "    }\n",
              "\n",
              "    .dataframe thead th {\n",
              "        text-align: right;\n",
              "    }\n",
              "</style>\n",
              "<table border=\"1\" class=\"dataframe\">\n",
              "  <thead>\n",
              "    <tr style=\"text-align: right;\">\n",
              "      <th></th>\n",
              "      <th>rating</th>\n",
              "      <th>num_reviews</th>\n",
              "      <th>price</th>\n",
              "      <th>body</th>\n",
              "      <th>acidity</th>\n",
              "    </tr>\n",
              "  </thead>\n",
              "  <tbody>\n",
              "    <tr>\n",
              "      <th>count</th>\n",
              "      <td>6010.000000</td>\n",
              "      <td>6010.000000</td>\n",
              "      <td>6010.000000</td>\n",
              "      <td>6010.000000</td>\n",
              "      <td>6010.000000</td>\n",
              "    </tr>\n",
              "    <tr>\n",
              "      <th>mean</th>\n",
              "      <td>4.257903</td>\n",
              "      <td>441.020133</td>\n",
              "      <td>59.190116</td>\n",
              "      <td>4.162895</td>\n",
              "      <td>2.946922</td>\n",
              "    </tr>\n",
              "    <tr>\n",
              "      <th>std</th>\n",
              "      <td>0.122131</td>\n",
              "      <td>603.436012</td>\n",
              "      <td>110.244390</td>\n",
              "      <td>0.591942</td>\n",
              "      <td>0.243425</td>\n",
              "    </tr>\n",
              "    <tr>\n",
              "      <th>min</th>\n",
              "      <td>4.200000</td>\n",
              "      <td>25.000000</td>\n",
              "      <td>13.580000</td>\n",
              "      <td>2.000000</td>\n",
              "      <td>1.000000</td>\n",
              "    </tr>\n",
              "    <tr>\n",
              "      <th>25%</th>\n",
              "      <td>4.200000</td>\n",
              "      <td>389.000000</td>\n",
              "      <td>20.900000</td>\n",
              "      <td>4.000000</td>\n",
              "      <td>3.000000</td>\n",
              "    </tr>\n",
              "    <tr>\n",
              "      <th>50%</th>\n",
              "      <td>4.200000</td>\n",
              "      <td>402.000000</td>\n",
              "      <td>31.630000</td>\n",
              "      <td>4.000000</td>\n",
              "      <td>3.000000</td>\n",
              "    </tr>\n",
              "    <tr>\n",
              "      <th>75%</th>\n",
              "      <td>4.200000</td>\n",
              "      <td>417.000000</td>\n",
              "      <td>61.940000</td>\n",
              "      <td>5.000000</td>\n",
              "      <td>3.000000</td>\n",
              "    </tr>\n",
              "    <tr>\n",
              "      <th>max</th>\n",
              "      <td>4.900000</td>\n",
              "      <td>16505.000000</td>\n",
              "      <td>1260.000000</td>\n",
              "      <td>5.000000</td>\n",
              "      <td>3.000000</td>\n",
              "    </tr>\n",
              "  </tbody>\n",
              "</table>\n",
              "</div>\n",
              "      <button class=\"colab-df-convert\" onclick=\"convertToInteractive('df-eb315179-ff73-4752-b4b3-20fc128e9bb9')\"\n",
              "              title=\"Convert this dataframe to an interactive table.\"\n",
              "              style=\"display:none;\">\n",
              "        \n",
              "  <svg xmlns=\"http://www.w3.org/2000/svg\" height=\"24px\"viewBox=\"0 0 24 24\"\n",
              "       width=\"24px\">\n",
              "    <path d=\"M0 0h24v24H0V0z\" fill=\"none\"/>\n",
              "    <path d=\"M18.56 5.44l.94 2.06.94-2.06 2.06-.94-2.06-.94-.94-2.06-.94 2.06-2.06.94zm-11 1L8.5 8.5l.94-2.06 2.06-.94-2.06-.94L8.5 2.5l-.94 2.06-2.06.94zm10 10l.94 2.06.94-2.06 2.06-.94-2.06-.94-.94-2.06-.94 2.06-2.06.94z\"/><path d=\"M17.41 7.96l-1.37-1.37c-.4-.4-.92-.59-1.43-.59-.52 0-1.04.2-1.43.59L10.3 9.45l-7.72 7.72c-.78.78-.78 2.05 0 2.83L4 21.41c.39.39.9.59 1.41.59.51 0 1.02-.2 1.41-.59l7.78-7.78 2.81-2.81c.8-.78.8-2.07 0-2.86zM5.41 20L4 18.59l7.72-7.72 1.47 1.35L5.41 20z\"/>\n",
              "  </svg>\n",
              "      </button>\n",
              "      \n",
              "  <style>\n",
              "    .colab-df-container {\n",
              "      display:flex;\n",
              "      flex-wrap:wrap;\n",
              "      gap: 12px;\n",
              "    }\n",
              "\n",
              "    .colab-df-convert {\n",
              "      background-color: #E8F0FE;\n",
              "      border: none;\n",
              "      border-radius: 50%;\n",
              "      cursor: pointer;\n",
              "      display: none;\n",
              "      fill: #1967D2;\n",
              "      height: 32px;\n",
              "      padding: 0 0 0 0;\n",
              "      width: 32px;\n",
              "    }\n",
              "\n",
              "    .colab-df-convert:hover {\n",
              "      background-color: #E2EBFA;\n",
              "      box-shadow: 0px 1px 2px rgba(60, 64, 67, 0.3), 0px 1px 3px 1px rgba(60, 64, 67, 0.15);\n",
              "      fill: #174EA6;\n",
              "    }\n",
              "\n",
              "    [theme=dark] .colab-df-convert {\n",
              "      background-color: #3B4455;\n",
              "      fill: #D2E3FC;\n",
              "    }\n",
              "\n",
              "    [theme=dark] .colab-df-convert:hover {\n",
              "      background-color: #434B5C;\n",
              "      box-shadow: 0px 1px 3px 1px rgba(0, 0, 0, 0.15);\n",
              "      filter: drop-shadow(0px 1px 2px rgba(0, 0, 0, 0.3));\n",
              "      fill: #FFFFFF;\n",
              "    }\n",
              "  </style>\n",
              "\n",
              "      <script>\n",
              "        const buttonEl =\n",
              "          document.querySelector('#df-eb315179-ff73-4752-b4b3-20fc128e9bb9 button.colab-df-convert');\n",
              "        buttonEl.style.display =\n",
              "          google.colab.kernel.accessAllowed ? 'block' : 'none';\n",
              "\n",
              "        async function convertToInteractive(key) {\n",
              "          const element = document.querySelector('#df-eb315179-ff73-4752-b4b3-20fc128e9bb9');\n",
              "          const dataTable =\n",
              "            await google.colab.kernel.invokeFunction('convertToInteractive',\n",
              "                                                     [key], {});\n",
              "          if (!dataTable) return;\n",
              "\n",
              "          const docLinkHtml = 'Like what you see? Visit the ' +\n",
              "            '<a target=\"_blank\" href=https://colab.research.google.com/notebooks/data_table.ipynb>data table notebook</a>'\n",
              "            + ' to learn more about interactive tables.';\n",
              "          element.innerHTML = '';\n",
              "          dataTable['output_type'] = 'display_data';\n",
              "          await google.colab.output.renderOutput(dataTable, element);\n",
              "          const docLink = document.createElement('div');\n",
              "          docLink.innerHTML = docLinkHtml;\n",
              "          element.appendChild(docLink);\n",
              "        }\n",
              "      </script>\n",
              "    </div>\n",
              "  </div>\n",
              "  "
            ]
          },
          "metadata": {},
          "execution_count": 188
        }
      ],
      "source": [
        "data.describe()"
      ]
    },
    {
      "cell_type": "code",
      "execution_count": 189,
      "metadata": {
        "id": "na0Zi-Hwi-Uy",
        "outputId": "4dfde196-2e91-4f2f-a8fa-8dc4fa866c74",
        "colab": {
          "base_uri": "https://localhost:8080/",
          "height": 175
        }
      },
      "outputs": [
        {
          "output_type": "execute_result",
          "data": {
            "text/plain": [
              "         winery     wine  year country region       type\n",
              "count      6010     6010  6010    6010   6010       6010\n",
              "unique      380      658    70       1     62         21\n",
              "top     Contino  Reserva  2011  Espana  Rioja  Rioja Red\n",
              "freq        414      421  1076    6010   2217       2140"
            ],
            "text/html": [
              "\n",
              "  <div id=\"df-6e6ac608-ed1b-45fd-9aef-d5b239b20503\">\n",
              "    <div class=\"colab-df-container\">\n",
              "      <div>\n",
              "<style scoped>\n",
              "    .dataframe tbody tr th:only-of-type {\n",
              "        vertical-align: middle;\n",
              "    }\n",
              "\n",
              "    .dataframe tbody tr th {\n",
              "        vertical-align: top;\n",
              "    }\n",
              "\n",
              "    .dataframe thead th {\n",
              "        text-align: right;\n",
              "    }\n",
              "</style>\n",
              "<table border=\"1\" class=\"dataframe\">\n",
              "  <thead>\n",
              "    <tr style=\"text-align: right;\">\n",
              "      <th></th>\n",
              "      <th>winery</th>\n",
              "      <th>wine</th>\n",
              "      <th>year</th>\n",
              "      <th>country</th>\n",
              "      <th>region</th>\n",
              "      <th>type</th>\n",
              "    </tr>\n",
              "  </thead>\n",
              "  <tbody>\n",
              "    <tr>\n",
              "      <th>count</th>\n",
              "      <td>6010</td>\n",
              "      <td>6010</td>\n",
              "      <td>6010</td>\n",
              "      <td>6010</td>\n",
              "      <td>6010</td>\n",
              "      <td>6010</td>\n",
              "    </tr>\n",
              "    <tr>\n",
              "      <th>unique</th>\n",
              "      <td>380</td>\n",
              "      <td>658</td>\n",
              "      <td>70</td>\n",
              "      <td>1</td>\n",
              "      <td>62</td>\n",
              "      <td>21</td>\n",
              "    </tr>\n",
              "    <tr>\n",
              "      <th>top</th>\n",
              "      <td>Contino</td>\n",
              "      <td>Reserva</td>\n",
              "      <td>2011</td>\n",
              "      <td>Espana</td>\n",
              "      <td>Rioja</td>\n",
              "      <td>Rioja Red</td>\n",
              "    </tr>\n",
              "    <tr>\n",
              "      <th>freq</th>\n",
              "      <td>414</td>\n",
              "      <td>421</td>\n",
              "      <td>1076</td>\n",
              "      <td>6010</td>\n",
              "      <td>2217</td>\n",
              "      <td>2140</td>\n",
              "    </tr>\n",
              "  </tbody>\n",
              "</table>\n",
              "</div>\n",
              "      <button class=\"colab-df-convert\" onclick=\"convertToInteractive('df-6e6ac608-ed1b-45fd-9aef-d5b239b20503')\"\n",
              "              title=\"Convert this dataframe to an interactive table.\"\n",
              "              style=\"display:none;\">\n",
              "        \n",
              "  <svg xmlns=\"http://www.w3.org/2000/svg\" height=\"24px\"viewBox=\"0 0 24 24\"\n",
              "       width=\"24px\">\n",
              "    <path d=\"M0 0h24v24H0V0z\" fill=\"none\"/>\n",
              "    <path d=\"M18.56 5.44l.94 2.06.94-2.06 2.06-.94-2.06-.94-.94-2.06-.94 2.06-2.06.94zm-11 1L8.5 8.5l.94-2.06 2.06-.94-2.06-.94L8.5 2.5l-.94 2.06-2.06.94zm10 10l.94 2.06.94-2.06 2.06-.94-2.06-.94-.94-2.06-.94 2.06-2.06.94z\"/><path d=\"M17.41 7.96l-1.37-1.37c-.4-.4-.92-.59-1.43-.59-.52 0-1.04.2-1.43.59L10.3 9.45l-7.72 7.72c-.78.78-.78 2.05 0 2.83L4 21.41c.39.39.9.59 1.41.59.51 0 1.02-.2 1.41-.59l7.78-7.78 2.81-2.81c.8-.78.8-2.07 0-2.86zM5.41 20L4 18.59l7.72-7.72 1.47 1.35L5.41 20z\"/>\n",
              "  </svg>\n",
              "      </button>\n",
              "      \n",
              "  <style>\n",
              "    .colab-df-container {\n",
              "      display:flex;\n",
              "      flex-wrap:wrap;\n",
              "      gap: 12px;\n",
              "    }\n",
              "\n",
              "    .colab-df-convert {\n",
              "      background-color: #E8F0FE;\n",
              "      border: none;\n",
              "      border-radius: 50%;\n",
              "      cursor: pointer;\n",
              "      display: none;\n",
              "      fill: #1967D2;\n",
              "      height: 32px;\n",
              "      padding: 0 0 0 0;\n",
              "      width: 32px;\n",
              "    }\n",
              "\n",
              "    .colab-df-convert:hover {\n",
              "      background-color: #E2EBFA;\n",
              "      box-shadow: 0px 1px 2px rgba(60, 64, 67, 0.3), 0px 1px 3px 1px rgba(60, 64, 67, 0.15);\n",
              "      fill: #174EA6;\n",
              "    }\n",
              "\n",
              "    [theme=dark] .colab-df-convert {\n",
              "      background-color: #3B4455;\n",
              "      fill: #D2E3FC;\n",
              "    }\n",
              "\n",
              "    [theme=dark] .colab-df-convert:hover {\n",
              "      background-color: #434B5C;\n",
              "      box-shadow: 0px 1px 3px 1px rgba(0, 0, 0, 0.15);\n",
              "      filter: drop-shadow(0px 1px 2px rgba(0, 0, 0, 0.3));\n",
              "      fill: #FFFFFF;\n",
              "    }\n",
              "  </style>\n",
              "\n",
              "      <script>\n",
              "        const buttonEl =\n",
              "          document.querySelector('#df-6e6ac608-ed1b-45fd-9aef-d5b239b20503 button.colab-df-convert');\n",
              "        buttonEl.style.display =\n",
              "          google.colab.kernel.accessAllowed ? 'block' : 'none';\n",
              "\n",
              "        async function convertToInteractive(key) {\n",
              "          const element = document.querySelector('#df-6e6ac608-ed1b-45fd-9aef-d5b239b20503');\n",
              "          const dataTable =\n",
              "            await google.colab.kernel.invokeFunction('convertToInteractive',\n",
              "                                                     [key], {});\n",
              "          if (!dataTable) return;\n",
              "\n",
              "          const docLinkHtml = 'Like what you see? Visit the ' +\n",
              "            '<a target=\"_blank\" href=https://colab.research.google.com/notebooks/data_table.ipynb>data table notebook</a>'\n",
              "            + ' to learn more about interactive tables.';\n",
              "          element.innerHTML = '';\n",
              "          dataTable['output_type'] = 'display_data';\n",
              "          await google.colab.output.renderOutput(dataTable, element);\n",
              "          const docLink = document.createElement('div');\n",
              "          docLink.innerHTML = docLinkHtml;\n",
              "          element.appendChild(docLink);\n",
              "        }\n",
              "      </script>\n",
              "    </div>\n",
              "  </div>\n",
              "  "
            ]
          },
          "metadata": {},
          "execution_count": 189
        }
      ],
      "source": [
        "data.describe(include=['category'])"
      ]
    },
    {
      "cell_type": "markdown",
      "source": [
        "Видно, что признак country здесь 1 значение. Это фиктивная переменная, не имеет смысла её держать в данных:"
      ],
      "metadata": {
        "id": "a0y71d1iRAZe"
      }
    },
    {
      "cell_type": "code",
      "source": [
        "data = data.drop(['country'], axis = 1)"
      ],
      "metadata": {
        "id": "yt-xxkRxQ-xp"
      },
      "execution_count": 190,
      "outputs": []
    },
    {
      "cell_type": "code",
      "execution_count": 191,
      "metadata": {
        "id": "anEsLAtTi-Ux",
        "colab": {
          "base_uri": "https://localhost:8080/",
          "height": 279
        },
        "outputId": "a82dca0c-a1eb-40d2-a934-04f86f72b36c"
      },
      "outputs": [
        {
          "output_type": "display_data",
          "data": {
            "text/plain": [
              "<Figure size 432x288 with 1 Axes>"
            ],
            "image/png": "[encoded data removed]"
          },
          "metadata": {
            "needs_background": "light"
          }
        }
      ],
      "source": [
        "data.plot(kind = 'scatter', x = 'rating', y = 'price', alpha=0.05)\n",
        "pass # пропустить строчку про matplotlib"
      ]
    },
    {
      "cell_type": "code",
      "execution_count": 192,
      "metadata": {
        "id": "hUKaFG-Bi-Ux",
        "colab": {
          "base_uri": "https://localhost:8080/",
          "height": 280
        },
        "outputId": "e9f27f89-06a4-4a6d-8b79-87ffa26721dd"
      },
      "outputs": [
        {
          "output_type": "display_data",
          "data": {
            "text/plain": [
              "<Figure size 432x288 with 1 Axes>"
            ],
            "image/png": "[encoded data removed]"
          },
          "metadata": {
            "needs_background": "light"
          }
        }
      ],
      "source": [
        "data.plot(kind = 'scatter', x = 'num_reviews', y = 'price', alpha=0.1)\n",
        "pass # пропустить строчку про matplotlib"
      ]
    },
    {
      "cell_type": "code",
      "source": [
        "data.plot(kind = 'scatter', x = 'body', y = 'price', alpha=0.05)\n",
        "pass # пропустить строчку про matplotlib"
      ],
      "metadata": {
        "colab": {
          "base_uri": "https://localhost:8080/",
          "height": 279
        },
        "id": "9PRQykKPDKgr",
        "outputId": "39c91835-c67b-4bb9-d790-e0a9deaf0371"
      },
      "execution_count": 193,
      "outputs": [
        {
          "output_type": "display_data",
          "data": {
            "text/plain": [
              "<Figure size 432x288 with 1 Axes>"
            ],
            "image/png": "[encoded data removed]"
          },
          "metadata": {
            "needs_background": "light"
          }
        }
      ]
    },
    {
      "cell_type": "code",
      "source": [
        "data.plot(kind = 'scatter', x = 'acidity', y = 'price', alpha=0.05)\n",
        "pass # пропустить строчку про matplotlib"
      ],
      "metadata": {
        "colab": {
          "base_uri": "https://localhost:8080/",
          "height": 279
        },
        "id": "s9yJpzKpDRZj",
        "outputId": "04bc7163-9a44-4ee8-d56d-9f322280ab4a"
      },
      "execution_count": 194,
      "outputs": [
        {
          "output_type": "display_data",
          "data": {
            "text/plain": [
              "<Figure size 432x288 with 1 Axes>"
            ],
            "image/png": "[encoded data removed]"
          },
          "metadata": {
            "needs_background": "light"
          }
        }
      ]
    },
    {
      "cell_type": "code",
      "execution_count": 195,
      "metadata": {
        "id": "o_lvVABti-Uy",
        "colab": {
          "base_uri": "https://localhost:8080/",
          "height": 280
        },
        "outputId": "265eceb3-2055-4394-d030-3bfd1aecc54a"
      },
      "outputs": [
        {
          "output_type": "display_data",
          "data": {
            "text/plain": [
              "<Figure size 432x288 with 1 Axes>"
            ],
            "image/png": "[encoded data removed]"
          },
          "metadata": {
            "needs_background": "light"
          }
        }
      ],
      "source": [
        "data.plot(kind = 'scatter', x = 'num_reviews', y = 'acidity', alpha=0.05)\n",
        "plt.xlim([0, 1000])\n",
        "# plt.ylim([0, 5000])\n",
        "pass"
      ]
    },
    {
      "cell_type": "markdown",
      "metadata": {
        "id": "qA7LMpR_i-U4"
      },
      "source": [
        "Вычислим матрицу корреляции для количественных признаков:"
      ]
    },
    {
      "cell_type": "code",
      "execution_count": 196,
      "metadata": {
        "id": "vLXQhQy9i-U4",
        "outputId": "9f1c1235-f863-45b7-9fea-2609a57bfec4",
        "colab": {
          "base_uri": "https://localhost:8080/",
          "height": 206
        }
      },
      "outputs": [
        {
          "output_type": "execute_result",
          "data": {
            "text/plain": [
              "               rating  num_reviews     price      body   acidity\n",
              "rating       1.000000     0.007733  0.610051  0.155179 -0.091403\n",
              "num_reviews  0.007733     1.000000 -0.031011  0.081887  0.050830\n",
              "price        0.610051    -0.031011  1.000000  0.171961 -0.063176\n",
              "body         0.155179     0.081887  0.171961  1.000000 -0.002352\n",
              "acidity     -0.091403     0.050830 -0.063176 -0.002352  1.000000"
            ],
            "text/html": [
              "\n",
              "  <div id=\"df-7d03f970-8122-4f94-a7bc-6bce18b27978\">\n",
              "    <div class=\"colab-df-container\">\n",
              "      <div>\n",
              "<style scoped>\n",
              "    .dataframe tbody tr th:only-of-type {\n",
              "        vertical-align: middle;\n",
              "    }\n",
              "\n",
              "    .dataframe tbody tr th {\n",
              "        vertical-align: top;\n",
              "    }\n",
              "\n",
              "    .dataframe thead th {\n",
              "        text-align: right;\n",
              "    }\n",
              "</style>\n",
              "<table border=\"1\" class=\"dataframe\">\n",
              "  <thead>\n",
              "    <tr style=\"text-align: right;\">\n",
              "      <th></th>\n",
              "      <th>rating</th>\n",
              "      <th>num_reviews</th>\n",
              "      <th>price</th>\n",
              "      <th>body</th>\n",
              "      <th>acidity</th>\n",
              "    </tr>\n",
              "  </thead>\n",
              "  <tbody>\n",
              "    <tr>\n",
              "      <th>rating</th>\n",
              "      <td>1.000000</td>\n",
              "      <td>0.007733</td>\n",
              "      <td>0.610051</td>\n",
              "      <td>0.155179</td>\n",
              "      <td>-0.091403</td>\n",
              "    </tr>\n",
              "    <tr>\n",
              "      <th>num_reviews</th>\n",
              "      <td>0.007733</td>\n",
              "      <td>1.000000</td>\n",
              "      <td>-0.031011</td>\n",
              "      <td>0.081887</td>\n",
              "      <td>0.050830</td>\n",
              "    </tr>\n",
              "    <tr>\n",
              "      <th>price</th>\n",
              "      <td>0.610051</td>\n",
              "      <td>-0.031011</td>\n",
              "      <td>1.000000</td>\n",
              "      <td>0.171961</td>\n",
              "      <td>-0.063176</td>\n",
              "    </tr>\n",
              "    <tr>\n",
              "      <th>body</th>\n",
              "      <td>0.155179</td>\n",
              "      <td>0.081887</td>\n",
              "      <td>0.171961</td>\n",
              "      <td>1.000000</td>\n",
              "      <td>-0.002352</td>\n",
              "    </tr>\n",
              "    <tr>\n",
              "      <th>acidity</th>\n",
              "      <td>-0.091403</td>\n",
              "      <td>0.050830</td>\n",
              "      <td>-0.063176</td>\n",
              "      <td>-0.002352</td>\n",
              "      <td>1.000000</td>\n",
              "    </tr>\n",
              "  </tbody>\n",
              "</table>\n",
              "</div>\n",
              "      <button class=\"colab-df-convert\" onclick=\"convertToInteractive('df-7d03f970-8122-4f94-a7bc-6bce18b27978')\"\n",
              "              title=\"Convert this dataframe to an interactive table.\"\n",
              "              style=\"display:none;\">\n",
              "        \n",
              "  <svg xmlns=\"http://www.w3.org/2000/svg\" height=\"24px\"viewBox=\"0 0 24 24\"\n",
              "       width=\"24px\">\n",
              "    <path d=\"M0 0h24v24H0V0z\" fill=\"none\"/>\n",
              "    <path d=\"M18.56 5.44l.94 2.06.94-2.06 2.06-.94-2.06-.94-.94-2.06-.94 2.06-2.06.94zm-11 1L8.5 8.5l.94-2.06 2.06-.94-2.06-.94L8.5 2.5l-.94 2.06-2.06.94zm10 10l.94 2.06.94-2.06 2.06-.94-2.06-.94-.94-2.06-.94 2.06-2.06.94z\"/><path d=\"M17.41 7.96l-1.37-1.37c-.4-.4-.92-.59-1.43-.59-.52 0-1.04.2-1.43.59L10.3 9.45l-7.72 7.72c-.78.78-.78 2.05 0 2.83L4 21.41c.39.39.9.59 1.41.59.51 0 1.02-.2 1.41-.59l7.78-7.78 2.81-2.81c.8-.78.8-2.07 0-2.86zM5.41 20L4 18.59l7.72-7.72 1.47 1.35L5.41 20z\"/>\n",
              "  </svg>\n",
              "      </button>\n",
              "      \n",
              "  <style>\n",
              "    .colab-df-container {\n",
              "      display:flex;\n",
              "      flex-wrap:wrap;\n",
              "      gap: 12px;\n",
              "    }\n",
              "\n",
              "    .colab-df-convert {\n",
              "      background-color: #E8F0FE;\n",
              "      border: none;\n",
              "      border-radius: 50%;\n",
              "      cursor: pointer;\n",
              "      display: none;\n",
              "      fill: #1967D2;\n",
              "      height: 32px;\n",
              "      padding: 0 0 0 0;\n",
              "      width: 32px;\n",
              "    }\n",
              "\n",
              "    .colab-df-convert:hover {\n",
              "      background-color: #E2EBFA;\n",
              "      box-shadow: 0px 1px 2px rgba(60, 64, 67, 0.3), 0px 1px 3px 1px rgba(60, 64, 67, 0.15);\n",
              "      fill: #174EA6;\n",
              "    }\n",
              "\n",
              "    [theme=dark] .colab-df-convert {\n",
              "      background-color: #3B4455;\n",
              "      fill: #D2E3FC;\n",
              "    }\n",
              "\n",
              "    [theme=dark] .colab-df-convert:hover {\n",
              "      background-color: #434B5C;\n",
              "      box-shadow: 0px 1px 3px 1px rgba(0, 0, 0, 0.15);\n",
              "      filter: drop-shadow(0px 1px 2px rgba(0, 0, 0, 0.3));\n",
              "      fill: #FFFFFF;\n",
              "    }\n",
              "  </style>\n",
              "\n",
              "      <script>\n",
              "        const buttonEl =\n",
              "          document.querySelector('#df-7d03f970-8122-4f94-a7bc-6bce18b27978 button.colab-df-convert');\n",
              "        buttonEl.style.display =\n",
              "          google.colab.kernel.accessAllowed ? 'block' : 'none';\n",
              "\n",
              "        async function convertToInteractive(key) {\n",
              "          const element = document.querySelector('#df-7d03f970-8122-4f94-a7bc-6bce18b27978');\n",
              "          const dataTable =\n",
              "            await google.colab.kernel.invokeFunction('convertToInteractive',\n",
              "                                                     [key], {});\n",
              "          if (!dataTable) return;\n",
              "\n",
              "          const docLinkHtml = 'Like what you see? Visit the ' +\n",
              "            '<a target=\"_blank\" href=https://colab.research.google.com/notebooks/data_table.ipynb>data table notebook</a>'\n",
              "            + ' to learn more about interactive tables.';\n",
              "          element.innerHTML = '';\n",
              "          dataTable['output_type'] = 'display_data';\n",
              "          await google.colab.output.renderOutput(dataTable, element);\n",
              "          const docLink = document.createElement('div');\n",
              "          docLink.innerHTML = docLinkHtml;\n",
              "          element.appendChild(docLink);\n",
              "        }\n",
              "      </script>\n",
              "    </div>\n",
              "  </div>\n",
              "  "
            ]
          },
          "metadata": {},
          "execution_count": 196
        }
      ],
      "source": [
        "corr_mat = data.corr()\n",
        "corr_mat"
      ]
    },
    {
      "cell_type": "markdown",
      "metadata": {
        "id": "CdOmI-sQi-U4"
      },
      "source": [
        "Визуальный образ этой матрицы:"
      ]
    },
    {
      "cell_type": "code",
      "source": [
        "sns.heatmap(corr_mat, square=True, annot=True, fmt='.2f', vmin=-1, vmax=1, cmap='coolwarm')\n",
        "pass"
      ],
      "metadata": {
        "colab": {
          "base_uri": "https://localhost:8080/",
          "height": 325
        },
        "id": "QU0oioy2MVsk",
        "outputId": "b9b4211e-3083-4f80-a301-e2a262d86b90"
      },
      "execution_count": 197,
      "outputs": [
        {
          "output_type": "display_data",
          "data": {
            "text/plain": [
              "<Figure size 432x288 with 2 Axes>"
            ],
            "image/png": "[encoded data removed]"
          },
          "metadata": {
            "needs_background": "light"
          }
        }
      ]
    },
    {
      "cell_type": "markdown",
      "source": [
        "Видим, что наблюдается некая корреляция между ценой и рейтингом вина."
      ],
      "metadata": {
        "id": "eU0fOI3QHgAL"
      }
    },
    {
      "cell_type": "markdown",
      "metadata": {
        "id": "OiUNawT3i-U9"
      },
      "source": [
        "## 2. Бинаризация номинальных признаков"
      ]
    },
    {
      "cell_type": "markdown",
      "metadata": {
        "id": "zRGzG704i-U9"
      },
      "source": [
        "Закодируем категориальные признаки с помощью числовых принаков методом one-hot encoding:"
      ]
    },
    {
      "cell_type": "code",
      "execution_count": 198,
      "metadata": {
        "id": "1FvYQYY9i-U-"
      },
      "outputs": [],
      "source": [
        "winery_dummies = pd.get_dummies(data['winery'])\n",
        "wine_dummies = pd.get_dummies(data['wine'])\n",
        "year_dummies = pd.get_dummies(data['year'])\n",
        "region_dummies = pd.get_dummies(data['region'])\n",
        "type_dummies = pd.get_dummies(data['type'])"
      ]
    },
    {
      "cell_type": "code",
      "execution_count": 199,
      "metadata": {
        "id": "KWH2cXh1i-U-"
      },
      "outputs": [],
      "source": [
        "data = pd.concat((data, winery_dummies, wine_dummies, year_dummies, region_dummies, type_dummies), axis=1)\n",
        "data = data.drop(['winery', 'wine', 'year', 'region', 'type','N.V.'], axis=1)"
      ]
    },
    {
      "cell_type": "code",
      "execution_count": 200,
      "metadata": {
        "id": "JHJRXa0Ri-U-",
        "outputId": "2c54f752-42af-47a3-f61c-0cc6b3bf2a53",
        "colab": {
          "base_uri": "https://localhost:8080/",
          "height": 332
        }
      },
      "outputs": [
        {
          "output_type": "execute_result",
          "data": {
            "text/plain": [
              "   rating  num_reviews   price  body  acidity  A Coroa  AGE  Aalto  Abadal  \\\n",
              "0     4.9           58  995.00   5.0      3.0        0    0      0       0   \n",
              "1     4.9           31  313.50   4.0      2.0        0    0      0       0   \n",
              "2     4.8         1793  324.95   5.0      3.0        0    0      0       0   \n",
              "3     4.8         1705  692.96   5.0      3.0        0    0      0       0   \n",
              "4     4.8         1309  778.06   5.0      3.0        0    0      0       0   \n",
              "\n",
              "   Abadia Retuerta  ...  Ribera Del Duero Red  Rioja Red  Rioja White  \\\n",
              "0                0  ...                     0          0            0   \n",
              "1                0  ...                     0          0            0   \n",
              "2                0  ...                     1          0            0   \n",
              "3                0  ...                     1          0            0   \n",
              "4                0  ...                     1          0            0   \n",
              "\n",
              "   Sauvignon Blanc  Sherry  Sparkling  Syrah  Tempranillo  Toro Red  Verdejo  \n",
              "0                0       0          0      0            0         1        0  \n",
              "1                0       0          0      0            1         0        0  \n",
              "2                0       0          0      0            0         0        0  \n",
              "3                0       0          0      0            0         0        0  \n",
              "4                0       0          0      0            0         0        0  \n",
              "\n",
              "[5 rows x 1499 columns]"
            ],
            "text/html": [
              "\n",
              "  <div id=\"df-15417e1b-7ee5-4b9e-b16c-dbd53ec5a6b2\">\n",
              "    <div class=\"colab-df-container\">\n",
              "      <div>\n",
              "<style scoped>\n",
              "    .dataframe tbody tr th:only-of-type {\n",
              "        vertical-align: middle;\n",
              "    }\n",
              "\n",
              "    .dataframe tbody tr th {\n",
              "        vertical-align: top;\n",
              "    }\n",
              "\n",
              "    .dataframe thead th {\n",
              "        text-align: right;\n",
              "    }\n",
              "</style>\n",
              "<table border=\"1\" class=\"dataframe\">\n",
              "  <thead>\n",
              "    <tr style=\"text-align: right;\">\n",
              "      <th></th>\n",
              "      <th>rating</th>\n",
              "      <th>num_reviews</th>\n",
              "      <th>price</th>\n",
              "      <th>body</th>\n",
              "      <th>acidity</th>\n",
              "      <th>A Coroa</th>\n",
              "      <th>AGE</th>\n",
              "      <th>Aalto</th>\n",
              "      <th>Abadal</th>\n",
              "      <th>Abadia Retuerta</th>\n",
              "      <th>...</th>\n",
              "      <th>Ribera Del Duero Red</th>\n",
              "      <th>Rioja Red</th>\n",
              "      <th>Rioja White</th>\n",
              "      <th>Sauvignon Blanc</th>\n",
              "      <th>Sherry</th>\n",
              "      <th>Sparkling</th>\n",
              "      <th>Syrah</th>\n",
              "      <th>Tempranillo</th>\n",
              "      <th>Toro Red</th>\n",
              "      <th>Verdejo</th>\n",
              "    </tr>\n",
              "  </thead>\n",
              "  <tbody>\n",
              "    <tr>\n",
              "      <th>0</th>\n",
              "      <td>4.9</td>\n",
              "      <td>58</td>\n",
              "      <td>995.00</td>\n",
              "      <td>5.0</td>\n",
              "      <td>3.0</td>\n",
              "      <td>0</td>\n",
              "      <td>0</td>\n",
              "      <td>0</td>\n",
              "      <td>0</td>\n",
              "      <td>0</td>\n",
              "      <td>...</td>\n",
              "      <td>0</td>\n",
              "      <td>0</td>\n",
              "      <td>0</td>\n",
              "      <td>0</td>\n",
              "      <td>0</td>\n",
              "      <td>0</td>\n",
              "      <td>0</td>\n",
              "      <td>0</td>\n",
              "      <td>1</td>\n",
              "      <td>0</td>\n",
              "    </tr>\n",
              "    <tr>\n",
              "      <th>1</th>\n",
              "      <td>4.9</td>\n",
              "      <td>31</td>\n",
              "      <td>313.50</td>\n",
              "      <td>4.0</td>\n",
              "      <td>2.0</td>\n",
              "      <td>0</td>\n",
              "      <td>0</td>\n",
              "      <td>0</td>\n",
              "      <td>0</td>\n",
              "      <td>0</td>\n",
              "      <td>...</td>\n",
              "      <td>0</td>\n",
              "      <td>0</td>\n",
              "      <td>0</td>\n",
              "      <td>0</td>\n",
              "      <td>0</td>\n",
              "      <td>0</td>\n",
              "      <td>0</td>\n",
              "      <td>1</td>\n",
              "      <td>0</td>\n",
              "      <td>0</td>\n",
              "    </tr>\n",
              "    <tr>\n",
              "      <th>2</th>\n",
              "      <td>4.8</td>\n",
              "      <td>1793</td>\n",
              "      <td>324.95</td>\n",
              "      <td>5.0</td>\n",
              "      <td>3.0</td>\n",
              "      <td>0</td>\n",
              "      <td>0</td>\n",
              "      <td>0</td>\n",
              "      <td>0</td>\n",
              "      <td>0</td>\n",
              "      <td>...</td>\n",
              "      <td>1</td>\n",
              "      <td>0</td>\n",
              "      <td>0</td>\n",
              "      <td>0</td>\n",
              "      <td>0</td>\n",
              "      <td>0</td>\n",
              "      <td>0</td>\n",
              "      <td>0</td>\n",
              "      <td>0</td>\n",
              "      <td>0</td>\n",
              "    </tr>\n",
              "    <tr>\n",
              "      <th>3</th>\n",
              "      <td>4.8</td>\n",
              "      <td>1705</td>\n",
              "      <td>692.96</td>\n",
              "      <td>5.0</td>\n",
              "      <td>3.0</td>\n",
              "      <td>0</td>\n",
              "      <td>0</td>\n",
              "      <td>0</td>\n",
              "      <td>0</td>\n",
              "      <td>0</td>\n",
              "      <td>...</td>\n",
              "      <td>1</td>\n",
              "      <td>0</td>\n",
              "      <td>0</td>\n",
              "      <td>0</td>\n",
              "      <td>0</td>\n",
              "      <td>0</td>\n",
              "      <td>0</td>\n",
              "      <td>0</td>\n",
              "      <td>0</td>\n",
              "      <td>0</td>\n",
              "    </tr>\n",
              "    <tr>\n",
              "      <th>4</th>\n",
              "      <td>4.8</td>\n",
              "      <td>1309</td>\n",
              "      <td>778.06</td>\n",
              "      <td>5.0</td>\n",
              "      <td>3.0</td>\n",
              "      <td>0</td>\n",
              "      <td>0</td>\n",
              "      <td>0</td>\n",
              "      <td>0</td>\n",
              "      <td>0</td>\n",
              "      <td>...</td>\n",
              "      <td>1</td>\n",
              "      <td>0</td>\n",
              "      <td>0</td>\n",
              "      <td>0</td>\n",
              "      <td>0</td>\n",
              "      <td>0</td>\n",
              "      <td>0</td>\n",
              "      <td>0</td>\n",
              "      <td>0</td>\n",
              "      <td>0</td>\n",
              "    </tr>\n",
              "  </tbody>\n",
              "</table>\n",
              "<p>5 rows × 1499 columns</p>\n",
              "</div>\n",
              "      <button class=\"colab-df-convert\" onclick=\"convertToInteractive('df-15417e1b-7ee5-4b9e-b16c-dbd53ec5a6b2')\"\n",
              "              title=\"Convert this dataframe to an interactive table.\"\n",
              "              style=\"display:none;\">\n",
              "        \n",
              "  <svg xmlns=\"http://www.w3.org/2000/svg\" height=\"24px\"viewBox=\"0 0 24 24\"\n",
              "       width=\"24px\">\n",
              "    <path d=\"M0 0h24v24H0V0z\" fill=\"none\"/>\n",
              "    <path d=\"M18.56 5.44l.94 2.06.94-2.06 2.06-.94-2.06-.94-.94-2.06-.94 2.06-2.06.94zm-11 1L8.5 8.5l.94-2.06 2.06-.94-2.06-.94L8.5 2.5l-.94 2.06-2.06.94zm10 10l.94 2.06.94-2.06 2.06-.94-2.06-.94-.94-2.06-.94 2.06-2.06.94z\"/><path d=\"M17.41 7.96l-1.37-1.37c-.4-.4-.92-.59-1.43-.59-.52 0-1.04.2-1.43.59L10.3 9.45l-7.72 7.72c-.78.78-.78 2.05 0 2.83L4 21.41c.39.39.9.59 1.41.59.51 0 1.02-.2 1.41-.59l7.78-7.78 2.81-2.81c.8-.78.8-2.07 0-2.86zM5.41 20L4 18.59l7.72-7.72 1.47 1.35L5.41 20z\"/>\n",
              "  </svg>\n",
              "      </button>\n",
              "      \n",
              "  <style>\n",
              "    .colab-df-container {\n",
              "      display:flex;\n",
              "      flex-wrap:wrap;\n",
              "      gap: 12px;\n",
              "    }\n",
              "\n",
              "    .colab-df-convert {\n",
              "      background-color: #E8F0FE;\n",
              "      border: none;\n",
              "      border-radius: 50%;\n",
              "      cursor: pointer;\n",
              "      display: none;\n",
              "      fill: #1967D2;\n",
              "      height: 32px;\n",
              "      padding: 0 0 0 0;\n",
              "      width: 32px;\n",
              "    }\n",
              "\n",
              "    .colab-df-convert:hover {\n",
              "      background-color: #E2EBFA;\n",
              "      box-shadow: 0px 1px 2px rgba(60, 64, 67, 0.3), 0px 1px 3px 1px rgba(60, 64, 67, 0.15);\n",
              "      fill: #174EA6;\n",
              "    }\n",
              "\n",
              "    [theme=dark] .colab-df-convert {\n",
              "      background-color: #3B4455;\n",
              "      fill: #D2E3FC;\n",
              "    }\n",
              "\n",
              "    [theme=dark] .colab-df-convert:hover {\n",
              "      background-color: #434B5C;\n",
              "      box-shadow: 0px 1px 3px 1px rgba(0, 0, 0, 0.15);\n",
              "      filter: drop-shadow(0px 1px 2px rgba(0, 0, 0, 0.3));\n",
              "      fill: #FFFFFF;\n",
              "    }\n",
              "  </style>\n",
              "\n",
              "      <script>\n",
              "        const buttonEl =\n",
              "          document.querySelector('#df-15417e1b-7ee5-4b9e-b16c-dbd53ec5a6b2 button.colab-df-convert');\n",
              "        buttonEl.style.display =\n",
              "          google.colab.kernel.accessAllowed ? 'block' : 'none';\n",
              "\n",
              "        async function convertToInteractive(key) {\n",
              "          const element = document.querySelector('#df-15417e1b-7ee5-4b9e-b16c-dbd53ec5a6b2');\n",
              "          const dataTable =\n",
              "            await google.colab.kernel.invokeFunction('convertToInteractive',\n",
              "                                                     [key], {});\n",
              "          if (!dataTable) return;\n",
              "\n",
              "          const docLinkHtml = 'Like what you see? Visit the ' +\n",
              "            '<a target=\"_blank\" href=https://colab.research.google.com/notebooks/data_table.ipynb>data table notebook</a>'\n",
              "            + ' to learn more about interactive tables.';\n",
              "          element.innerHTML = '';\n",
              "          dataTable['output_type'] = 'display_data';\n",
              "          await google.colab.output.renderOutput(dataTable, element);\n",
              "          const docLink = document.createElement('div');\n",
              "          docLink.innerHTML = docLinkHtml;\n",
              "          element.appendChild(docLink);\n",
              "        }\n",
              "      </script>\n",
              "    </div>\n",
              "  </div>\n",
              "  "
            ]
          },
          "metadata": {},
          "execution_count": 200
        }
      ],
      "source": [
        "data.head()"
      ]
    },
    {
      "cell_type": "code",
      "source": [
        "data.describe()"
      ],
      "metadata": {
        "colab": {
          "base_uri": "https://localhost:8080/",
          "height": 411
        },
        "id": "8ykKDUO7100h",
        "outputId": "1bfaabff-2f28-46b7-810f-25794a263303"
      },
      "execution_count": 201,
      "outputs": [
        {
          "output_type": "execute_result",
          "data": {
            "text/plain": [
              "            rating   num_reviews        price         body      acidity  \\\n",
              "count  6010.000000   6010.000000  6010.000000  6010.000000  6010.000000   \n",
              "mean      4.257903    441.020133    59.190116     4.162895     2.946922   \n",
              "std       0.122131    603.436012   110.244390     0.591942     0.243425   \n",
              "min       4.200000     25.000000    13.580000     2.000000     1.000000   \n",
              "25%       4.200000    389.000000    20.900000     4.000000     3.000000   \n",
              "50%       4.200000    402.000000    31.630000     4.000000     3.000000   \n",
              "75%       4.200000    417.000000    61.940000     5.000000     3.000000   \n",
              "max       4.900000  16505.000000  1260.000000     5.000000     3.000000   \n",
              "\n",
              "       A Coroa          AGE        Aalto       Abadal  Abadia Retuerta  ...  \\\n",
              "count   6010.0  6010.000000  6010.000000  6010.000000      6010.000000  ...   \n",
              "mean       0.0     0.000166     0.001664     0.000499         0.003328  ...   \n",
              "std        0.0     0.012899     0.040760     0.022338         0.057596  ...   \n",
              "min        0.0     0.000000     0.000000     0.000000         0.000000  ...   \n",
              "25%        0.0     0.000000     0.000000     0.000000         0.000000  ...   \n",
              "50%        0.0     0.000000     0.000000     0.000000         0.000000  ...   \n",
              "75%        0.0     0.000000     0.000000     0.000000         0.000000  ...   \n",
              "max        0.0     1.000000     1.000000     1.000000         1.000000  ...   \n",
              "\n",
              "       Ribera Del Duero Red    Rioja Red  Rioja White  Sauvignon Blanc  \\\n",
              "count           6010.000000  6010.000000  6010.000000      6010.000000   \n",
              "mean               0.208985     0.356073     0.014143         0.000166   \n",
              "std                0.406618     0.478877     0.118091         0.012899   \n",
              "min                0.000000     0.000000     0.000000         0.000000   \n",
              "25%                0.000000     0.000000     0.000000         0.000000   \n",
              "50%                0.000000     0.000000     0.000000         0.000000   \n",
              "75%                0.000000     1.000000     0.000000         0.000000   \n",
              "max                1.000000     1.000000     1.000000         1.000000   \n",
              "\n",
              "            Sherry    Sparkling        Syrah  Tempranillo     Toro Red  \\\n",
              "count  6010.000000  6010.000000  6010.000000  6010.000000  6010.000000   \n",
              "mean      0.000333     0.000832     0.002163     0.044093     0.042762   \n",
              "std       0.018241     0.028834     0.046462     0.205319     0.202337   \n",
              "min       0.000000     0.000000     0.000000     0.000000     0.000000   \n",
              "25%       0.000000     0.000000     0.000000     0.000000     0.000000   \n",
              "50%       0.000000     0.000000     0.000000     0.000000     0.000000   \n",
              "75%       0.000000     0.000000     0.000000     0.000000     0.000000   \n",
              "max       1.000000     1.000000     1.000000     1.000000     1.000000   \n",
              "\n",
              "           Verdejo  \n",
              "count  6010.000000  \n",
              "mean      0.003827  \n",
              "std       0.061749  \n",
              "min       0.000000  \n",
              "25%       0.000000  \n",
              "50%       0.000000  \n",
              "75%       0.000000  \n",
              "max       1.000000  \n",
              "\n",
              "[8 rows x 1499 columns]"
            ],
            "text/html": [
              "\n",
              "  <div id=\"df-40c984c3-8a84-4234-8148-0f0996f5c644\">\n",
              "    <div class=\"colab-df-container\">\n",
              "      <div>\n",
              "<style scoped>\n",
              "    .dataframe tbody tr th:only-of-type {\n",
              "        vertical-align: middle;\n",
              "    }\n",
              "\n",
              "    .dataframe tbody tr th {\n",
              "        vertical-align: top;\n",
              "    }\n",
              "\n",
              "    .dataframe thead th {\n",
              "        text-align: right;\n",
              "    }\n",
              "</style>\n",
              "<table border=\"1\" class=\"dataframe\">\n",
              "  <thead>\n",
              "    <tr style=\"text-align: right;\">\n",
              "      <th></th>\n",
              "      <th>rating</th>\n",
              "      <th>num_reviews</th>\n",
              "      <th>price</th>\n",
              "      <th>body</th>\n",
              "      <th>acidity</th>\n",
              "      <th>A Coroa</th>\n",
              "      <th>AGE</th>\n",
              "      <th>Aalto</th>\n",
              "      <th>Abadal</th>\n",
              "      <th>Abadia Retuerta</th>\n",
              "      <th>...</th>\n",
              "      <th>Ribera Del Duero Red</th>\n",
              "      <th>Rioja Red</th>\n",
              "      <th>Rioja White</th>\n",
              "      <th>Sauvignon Blanc</th>\n",
              "      <th>Sherry</th>\n",
              "      <th>Sparkling</th>\n",
              "      <th>Syrah</th>\n",
              "      <th>Tempranillo</th>\n",
              "      <th>Toro Red</th>\n",
              "      <th>Verdejo</th>\n",
              "    </tr>\n",
              "  </thead>\n",
              "  <tbody>\n",
              "    <tr>\n",
              "      <th>count</th>\n",
              "      <td>6010.000000</td>\n",
              "      <td>6010.000000</td>\n",
              "      <td>6010.000000</td>\n",
              "      <td>6010.000000</td>\n",
              "      <td>6010.000000</td>\n",
              "      <td>6010.0</td>\n",
              "      <td>6010.000000</td>\n",
              "      <td>6010.000000</td>\n",
              "      <td>6010.000000</td>\n",
              "      <td>6010.000000</td>\n",
              "      <td>...</td>\n",
              "      <td>6010.000000</td>\n",
              "      <td>6010.000000</td>\n",
              "      <td>6010.000000</td>\n",
              "      <td>6010.000000</td>\n",
              "      <td>6010.000000</td>\n",
              "      <td>6010.000000</td>\n",
              "      <td>6010.000000</td>\n",
              "      <td>6010.000000</td>\n",
              "      <td>6010.000000</td>\n",
              "      <td>6010.000000</td>\n",
              "    </tr>\n",
              "    <tr>\n",
              "      <th>mean</th>\n",
              "      <td>4.257903</td>\n",
              "      <td>441.020133</td>\n",
              "      <td>59.190116</td>\n",
              "      <td>4.162895</td>\n",
              "      <td>2.946922</td>\n",
              "      <td>0.0</td>\n",
              "      <td>0.000166</td>\n",
              "      <td>0.001664</td>\n",
              "      <td>0.000499</td>\n",
              "      <td>0.003328</td>\n",
              "      <td>...</td>\n",
              "      <td>0.208985</td>\n",
              "      <td>0.356073</td>\n",
              "      <td>0.014143</td>\n",
              "      <td>0.000166</td>\n",
              "      <td>0.000333</td>\n",
              "      <td>0.000832</td>\n",
              "      <td>0.002163</td>\n",
              "      <td>0.044093</td>\n",
              "      <td>0.042762</td>\n",
              "      <td>0.003827</td>\n",
              "    </tr>\n",
              "    <tr>\n",
              "      <th>std</th>\n",
              "      <td>0.122131</td>\n",
              "      <td>603.436012</td>\n",
              "      <td>110.244390</td>\n",
              "      <td>0.591942</td>\n",
              "      <td>0.243425</td>\n",
              "      <td>0.0</td>\n",
              "      <td>0.012899</td>\n",
              "      <td>0.040760</td>\n",
              "      <td>0.022338</td>\n",
              "      <td>0.057596</td>\n",
              "      <td>...</td>\n",
              "      <td>0.406618</td>\n",
              "      <td>0.478877</td>\n",
              "      <td>0.118091</td>\n",
              "      <td>0.012899</td>\n",
              "      <td>0.018241</td>\n",
              "      <td>0.028834</td>\n",
              "      <td>0.046462</td>\n",
              "      <td>0.205319</td>\n",
              "      <td>0.202337</td>\n",
              "      <td>0.061749</td>\n",
              "    </tr>\n",
              "    <tr>\n",
              "      <th>min</th>\n",
              "      <td>4.200000</td>\n",
              "      <td>25.000000</td>\n",
              "      <td>13.580000</td>\n",
              "      <td>2.000000</td>\n",
              "      <td>1.000000</td>\n",
              "      <td>0.0</td>\n",
              "      <td>0.000000</td>\n",
              "      <td>0.000000</td>\n",
              "      <td>0.000000</td>\n",
              "      <td>0.000000</td>\n",
              "      <td>...</td>\n",
              "      <td>0.000000</td>\n",
              "      <td>0.000000</td>\n",
              "      <td>0.000000</td>\n",
              "      <td>0.000000</td>\n",
              "      <td>0.000000</td>\n",
              "      <td>0.000000</td>\n",
              "      <td>0.000000</td>\n",
              "      <td>0.000000</td>\n",
              "      <td>0.000000</td>\n",
              "      <td>0.000000</td>\n",
              "    </tr>\n",
              "    <tr>\n",
              "      <th>25%</th>\n",
              "      <td>4.200000</td>\n",
              "      <td>389.000000</td>\n",
              "      <td>20.900000</td>\n",
              "      <td>4.000000</td>\n",
              "      <td>3.000000</td>\n",
              "      <td>0.0</td>\n",
              "      <td>0.000000</td>\n",
              "      <td>0.000000</td>\n",
              "      <td>0.000000</td>\n",
              "      <td>0.000000</td>\n",
              "      <td>...</td>\n",
              "      <td>0.000000</td>\n",
              "      <td>0.000000</td>\n",
              "      <td>0.000000</td>\n",
              "      <td>0.000000</td>\n",
              "      <td>0.000000</td>\n",
              "      <td>0.000000</td>\n",
              "      <td>0.000000</td>\n",
              "      <td>0.000000</td>\n",
              "      <td>0.000000</td>\n",
              "      <td>0.000000</td>\n",
              "    </tr>\n",
              "    <tr>\n",
              "      <th>50%</th>\n",
              "      <td>4.200000</td>\n",
              "      <td>402.000000</td>\n",
              "      <td>31.630000</td>\n",
              "      <td>4.000000</td>\n",
              "      <td>3.000000</td>\n",
              "      <td>0.0</td>\n",
              "      <td>0.000000</td>\n",
              "      <td>0.000000</td>\n",
              "      <td>0.000000</td>\n",
              "      <td>0.000000</td>\n",
              "      <td>...</td>\n",
              "      <td>0.000000</td>\n",
              "      <td>0.000000</td>\n",
              "      <td>0.000000</td>\n",
              "      <td>0.000000</td>\n",
              "      <td>0.000000</td>\n",
              "      <td>0.000000</td>\n",
              "      <td>0.000000</td>\n",
              "      <td>0.000000</td>\n",
              "      <td>0.000000</td>\n",
              "      <td>0.000000</td>\n",
              "    </tr>\n",
              "    <tr>\n",
              "      <th>75%</th>\n",
              "      <td>4.200000</td>\n",
              "      <td>417.000000</td>\n",
              "      <td>61.940000</td>\n",
              "      <td>5.000000</td>\n",
              "      <td>3.000000</td>\n",
              "      <td>0.0</td>\n",
              "      <td>0.000000</td>\n",
              "      <td>0.000000</td>\n",
              "      <td>0.000000</td>\n",
              "      <td>0.000000</td>\n",
              "      <td>...</td>\n",
              "      <td>0.000000</td>\n",
              "      <td>1.000000</td>\n",
              "      <td>0.000000</td>\n",
              "      <td>0.000000</td>\n",
              "      <td>0.000000</td>\n",
              "      <td>0.000000</td>\n",
              "      <td>0.000000</td>\n",
              "      <td>0.000000</td>\n",
              "      <td>0.000000</td>\n",
              "      <td>0.000000</td>\n",
              "    </tr>\n",
              "    <tr>\n",
              "      <th>max</th>\n",
              "      <td>4.900000</td>\n",
              "      <td>16505.000000</td>\n",
              "      <td>1260.000000</td>\n",
              "      <td>5.000000</td>\n",
              "      <td>3.000000</td>\n",
              "      <td>0.0</td>\n",
              "      <td>1.000000</td>\n",
              "      <td>1.000000</td>\n",
              "      <td>1.000000</td>\n",
              "      <td>1.000000</td>\n",
              "      <td>...</td>\n",
              "      <td>1.000000</td>\n",
              "      <td>1.000000</td>\n",
              "      <td>1.000000</td>\n",
              "      <td>1.000000</td>\n",
              "      <td>1.000000</td>\n",
              "      <td>1.000000</td>\n",
              "      <td>1.000000</td>\n",
              "      <td>1.000000</td>\n",
              "      <td>1.000000</td>\n",
              "      <td>1.000000</td>\n",
              "    </tr>\n",
              "  </tbody>\n",
              "</table>\n",
              "<p>8 rows × 1499 columns</p>\n",
              "</div>\n",
              "      <button class=\"colab-df-convert\" onclick=\"convertToInteractive('df-40c984c3-8a84-4234-8148-0f0996f5c644')\"\n",
              "              title=\"Convert this dataframe to an interactive table.\"\n",
              "              style=\"display:none;\">\n",
              "        \n",
              "  <svg xmlns=\"http://www.w3.org/2000/svg\" height=\"24px\"viewBox=\"0 0 24 24\"\n",
              "       width=\"24px\">\n",
              "    <path d=\"M0 0h24v24H0V0z\" fill=\"none\"/>\n",
              "    <path d=\"M18.56 5.44l.94 2.06.94-2.06 2.06-.94-2.06-.94-.94-2.06-.94 2.06-2.06.94zm-11 1L8.5 8.5l.94-2.06 2.06-.94-2.06-.94L8.5 2.5l-.94 2.06-2.06.94zm10 10l.94 2.06.94-2.06 2.06-.94-2.06-.94-.94-2.06-.94 2.06-2.06.94z\"/><path d=\"M17.41 7.96l-1.37-1.37c-.4-.4-.92-.59-1.43-.59-.52 0-1.04.2-1.43.59L10.3 9.45l-7.72 7.72c-.78.78-.78 2.05 0 2.83L4 21.41c.39.39.9.59 1.41.59.51 0 1.02-.2 1.41-.59l7.78-7.78 2.81-2.81c.8-.78.8-2.07 0-2.86zM5.41 20L4 18.59l7.72-7.72 1.47 1.35L5.41 20z\"/>\n",
              "  </svg>\n",
              "      </button>\n",
              "      \n",
              "  <style>\n",
              "    .colab-df-container {\n",
              "      display:flex;\n",
              "      flex-wrap:wrap;\n",
              "      gap: 12px;\n",
              "    }\n",
              "\n",
              "    .colab-df-convert {\n",
              "      background-color: #E8F0FE;\n",
              "      border: none;\n",
              "      border-radius: 50%;\n",
              "      cursor: pointer;\n",
              "      display: none;\n",
              "      fill: #1967D2;\n",
              "      height: 32px;\n",
              "      padding: 0 0 0 0;\n",
              "      width: 32px;\n",
              "    }\n",
              "\n",
              "    .colab-df-convert:hover {\n",
              "      background-color: #E2EBFA;\n",
              "      box-shadow: 0px 1px 2px rgba(60, 64, 67, 0.3), 0px 1px 3px 1px rgba(60, 64, 67, 0.15);\n",
              "      fill: #174EA6;\n",
              "    }\n",
              "\n",
              "    [theme=dark] .colab-df-convert {\n",
              "      background-color: #3B4455;\n",
              "      fill: #D2E3FC;\n",
              "    }\n",
              "\n",
              "    [theme=dark] .colab-df-convert:hover {\n",
              "      background-color: #434B5C;\n",
              "      box-shadow: 0px 1px 3px 1px rgba(0, 0, 0, 0.15);\n",
              "      filter: drop-shadow(0px 1px 2px rgba(0, 0, 0, 0.3));\n",
              "      fill: #FFFFFF;\n",
              "    }\n",
              "  </style>\n",
              "\n",
              "      <script>\n",
              "        const buttonEl =\n",
              "          document.querySelector('#df-40c984c3-8a84-4234-8148-0f0996f5c644 button.colab-df-convert');\n",
              "        buttonEl.style.display =\n",
              "          google.colab.kernel.accessAllowed ? 'block' : 'none';\n",
              "\n",
              "        async function convertToInteractive(key) {\n",
              "          const element = document.querySelector('#df-40c984c3-8a84-4234-8148-0f0996f5c644');\n",
              "          const dataTable =\n",
              "            await google.colab.kernel.invokeFunction('convertToInteractive',\n",
              "                                                     [key], {});\n",
              "          if (!dataTable) return;\n",
              "\n",
              "          const docLinkHtml = 'Like what you see? Visit the ' +\n",
              "            '<a target=\"_blank\" href=https://colab.research.google.com/notebooks/data_table.ipynb>data table notebook</a>'\n",
              "            + ' to learn more about interactive tables.';\n",
              "          element.innerHTML = '';\n",
              "          dataTable['output_type'] = 'display_data';\n",
              "          await google.colab.output.renderOutput(dataTable, element);\n",
              "          const docLink = document.createElement('div');\n",
              "          docLink.innerHTML = docLinkHtml;\n",
              "          element.appendChild(docLink);\n",
              "        }\n",
              "      </script>\n",
              "    </div>\n",
              "  </div>\n",
              "  "
            ]
          },
          "metadata": {},
          "execution_count": 201
        }
      ]
    },
    {
      "cell_type": "markdown",
      "source": [
        "Видим, что после всех преобразований исчезли \"представители\" винодельни A Coroa. Запустим классификацию без него:"
      ],
      "metadata": {
        "id": "ntpmMSuJnyEG"
      }
    },
    {
      "cell_type": "code",
      "source": [
        "data = data.drop(['A Coroa'], axis=1)"
      ],
      "metadata": {
        "id": "4SDP0x5boaW2"
      },
      "execution_count": 217,
      "outputs": []
    },
    {
      "cell_type": "markdown",
      "metadata": {
        "id": "t8g_PyEEi-U-"
      },
      "source": [
        "## 3. Масштабирование количественных признаков\n",
        "\n",
        "Перед применением алгоритмов машинного обучения была предпринята попытка  количественные признаки нормализовать или стандартизировать. Выяснилось, что в связи с малым разбросом данных эти действия сильно портят датасет: \"Input contains NaN, infinity or a value too large for dtype('float64')\"."
      ]
    },
    {
      "cell_type": "code",
      "execution_count": 249,
      "metadata": {
        "id": "KZMSeJWbi-U-"
      },
      "outputs": [],
      "source": [
        "# data_norm = (data - data.min(axis = 0))/(data.max(axis = 0) - data.min(axis = 0))"
      ]
    },
    {
      "cell_type": "code",
      "source": [
        "# data_norm.describe()"
      ],
      "metadata": {
        "id": "xYYp5aitowJa"
      },
      "execution_count": 250,
      "outputs": []
    },
    {
      "cell_type": "code",
      "source": [
        "# data_stand = (data - data.mean(axis = 0))/data.std(axis = 0)"
      ],
      "metadata": {
        "id": "GzxjWKq0rXxZ"
      },
      "execution_count": 251,
      "outputs": []
    },
    {
      "cell_type": "code",
      "source": [
        "# data_stand.describe()"
      ],
      "metadata": {
        "id": "sQOAC6x0rien"
      },
      "execution_count": 252,
      "outputs": []
    },
    {
      "cell_type": "markdown",
      "metadata": {
        "id": "sp0FhRGOi-U_"
      },
      "source": [
        "## 4. Отбор признаков \n",
        "\n",
        "Для классификации вина по цене будем использовать все входные признаки, кроме `price`."
      ]
    },
    {
      "cell_type": "code",
      "execution_count": 253,
      "metadata": {
        "id": "c9WUkWGXi-U_",
        "outputId": "1754f6f5-1e8e-4f84-835c-3b35252817f2",
        "colab": {
          "base_uri": "https://localhost:8080/"
        }
      },
      "outputs": [
        {
          "output_type": "execute_result",
          "data": {
            "text/plain": [
              "Index(['rating', 'num_reviews', 'price', 'body', 'acidity', 'AGE', 'Aalto',\n",
              "       'Abadal', 'Abadia Retuerta', 'Abel Mendoza Monge',\n",
              "       ...\n",
              "       'Ribera Del Duero Red', 'Rioja Red', 'Rioja White', 'Sauvignon Blanc',\n",
              "       'Sherry', 'Sparkling', 'Syrah', 'Tempranillo', 'Toro Red', 'Verdejo'],\n",
              "      dtype='object', length=1498)"
            ]
          },
          "metadata": {},
          "execution_count": 253
        }
      ],
      "source": [
        "data.columns"
      ]
    },
    {
      "cell_type": "code",
      "execution_count": 266,
      "metadata": {
        "id": "grRiTuCJi-U_"
      },
      "outputs": [],
      "source": [
        "X = data.drop(['price'], axis=1)\n",
        "y = (data['price'] < 316.4).astype(np.float64)"
      ]
    },
    {
      "cell_type": "code",
      "source": [
        "type(X), type(y)"
      ],
      "metadata": {
        "colab": {
          "base_uri": "https://localhost:8080/"
        },
        "id": "kyN8cBjS3ax0",
        "outputId": "ade1fd96-8330-4451-f3ce-173ed5d0db07"
      },
      "execution_count": 256,
      "outputs": [
        {
          "output_type": "execute_result",
          "data": {
            "text/plain": [
              "(pandas.core.frame.DataFrame, pandas.core.series.Series)"
            ]
          },
          "metadata": {},
          "execution_count": 256
        }
      ]
    },
    {
      "cell_type": "markdown",
      "metadata": {
        "id": "dMIu6thli-U_"
      },
      "source": [
        "Можно конвертировать таблицы в массивы:"
      ]
    },
    {
      "cell_type": "code",
      "execution_count": 222,
      "metadata": {
        "id": "TL2kiWWSi-U_"
      },
      "outputs": [],
      "source": [
        "#X = np.array(X)\n",
        "#y = np.array(y)"
      ]
    },
    {
      "cell_type": "markdown",
      "metadata": {
        "id": "CbJQlmDRi-U_"
      },
      "source": [
        "# 5. Обучаем модель"
      ]
    },
    {
      "cell_type": "markdown",
      "metadata": {
        "id": "tbK2UIOXi-U_"
      },
      "source": [
        "Разобьем данные на обучающую и тестовую выборки в пропорции 3:1 (75% - обучающая выборка, 25% - тестовая):"
      ]
    },
    {
      "cell_type": "code",
      "execution_count": 267,
      "metadata": {
        "id": "q6RHq0bui-U_",
        "outputId": "57e82224-d2bd-4a4c-8aba-3f51ffc7769e",
        "colab": {
          "base_uri": "https://localhost:8080/"
        }
      },
      "outputs": [
        {
          "output_type": "execute_result",
          "data": {
            "text/plain": [
              "(4507, 1503)"
            ]
          },
          "metadata": {},
          "execution_count": 267
        }
      ],
      "source": [
        "from sklearn.model_selection import train_test_split\n",
        "X_train, X_test, y_train, y_test = train_test_split(X, y, test_size = 0.25, random_state = 42)\n",
        "\n",
        "N_train, _ = X_train.shape \n",
        "N_test,  _ = X_test.shape \n",
        "\n",
        "N_train, N_test"
      ]
    },
    {
      "cell_type": "markdown",
      "source": [
        "## Метод $k$ ближайших соседей ($k$NN, $k$ nearest neighbours)"
      ],
      "metadata": {
        "id": "UUKu-qADhHU4"
      }
    },
    {
      "cell_type": "markdown",
      "source": [
        "kNN с 7ю ближайшими соседями:"
      ],
      "metadata": {
        "id": "DWh1PBmF5eoz"
      }
    },
    {
      "cell_type": "code",
      "source": [
        "from sklearn.neighbors import KNeighborsRegressor\n",
        "\n",
        "model = KNeighborsRegressor(n_neighbors=7) # по умолчанию n_neighbors=5\n",
        "model.fit(X_train, y_train)"
      ],
      "metadata": {
        "colab": {
          "base_uri": "https://localhost:8080/"
        },
        "outputId": "49abf8a3-3650-487a-a621-72da90d6d4d2",
        "id": "EogUmdl4hHU5"
      },
      "execution_count": 268,
      "outputs": [
        {
          "output_type": "execute_result",
          "data": {
            "text/plain": [
              "KNeighborsRegressor(n_neighbors=7)"
            ]
          },
          "metadata": {},
          "execution_count": 268
        }
      ]
    },
    {
      "cell_type": "code",
      "source": [
        "y_train_predict = model.predict(X_train)\n",
        "y_test_predict  = model.predict(X_test)"
      ],
      "metadata": {
        "id": "CLKjKK5LhHU6"
      },
      "execution_count": 269,
      "outputs": []
    },
    {
      "cell_type": "markdown",
      "source": [
        "### Измеряем метрики качества\n",
        "\n",
        "**TP** - истинно положительные исходы; \n",
        "\n",
        "**TN** - истинно отрицательные исходы; \n",
        "\n",
        "**FP** - ложно положительные исходы;\n",
        "\n",
        "**FN** - ложно отрицательные исходы.\n",
        "\n",
        "Возьмём три основные метрики.\n",
        "\n",
        "*Accuracy (точность):*\n",
        "\n",
        "$$\n",
        "{\\rm Accuracy} = \\frac{{\\rm TP + TN}}{{\\rm TP + TN + FP + FN}}\n",
        "$$\n",
        "\n",
        "*Precision (другая точность):*\n",
        "\n",
        "$$\n",
        "{\\rm Precision} = \\frac{{\\rm TP}}{{\\rm TP + FP}}\n",
        "$$\n",
        "\n",
        "*Recall (полнота, чувствительность):*\n",
        "\n",
        "$$\n",
        "{\\rm Recall} = \\frac{{\\rm TP}}{{\\rm TP + FN}}\n",
        "$$\n",
        "\n",
        "Accuracy бесполезна в задачах с неравными классами. Precision и recall не зависят, в отличие от accuracy, от соотношения классов и потому применимы в условиях несбалансированных выборок. У нас как раз такая."
      ],
      "metadata": {
        "id": "KWac7LmftsmK"
      }
    },
    {
      "cell_type": "code",
      "source": [
        "from sklearn.metrics import accuracy_score, precision_score, recall_score"
      ],
      "metadata": {
        "id": "mZmqpbeCyM4O"
      },
      "execution_count": 263,
      "outputs": []
    },
    {
      "cell_type": "markdown",
      "source": [
        "Для этих меток предсказание должно быть приведено к бинарному виду (из вероятности в метки):"
      ],
      "metadata": {
        "id": "94Mdh6MG1yUx"
      }
    },
    {
      "cell_type": "code",
      "source": [
        "y_train_predict = (y_train_predict > 0.5).astype(np.float64)\n",
        "y_test_predict = (y_test_predict > 0.5).astype(np.float64)"
      ],
      "metadata": {
        "id": "SDGsHtJG1d5u"
      },
      "execution_count": 280,
      "outputs": []
    },
    {
      "cell_type": "code",
      "source": [
        "accuracy_train = accuracy_score(y_train, y_train_predict)\n",
        "accuracy_test  = accuracy_score(y_test,  y_test_predict)\n",
        "\n",
        "precision_train = precision_score(y_train, y_train_predict)\n",
        "precision_test  = precision_score(y_test,  y_test_predict)\n",
        "\n",
        "recall_train = recall_score(y_train, y_train_predict)\n",
        "recall_test  = recall_score(y_test,  y_test_predict)"
      ],
      "metadata": {
        "id": "h8m0QXoEhHU7"
      },
      "execution_count": 281,
      "outputs": []
    },
    {
      "cell_type": "code",
      "source": [
        "kNN7_table = pd.DataFrame(columns=('train', 'test'))\n",
        "kNN7_table.loc['accuracy', :] = (accuracy_train, accuracy_test)\n",
        "kNN7_table.loc['precision', :] = (precision_train, precision_test)\n",
        "kNN7_table.loc['recall', :] = (recall_train, recall_test)\n",
        "kNN7_table"
      ],
      "metadata": {
        "colab": {
          "base_uri": "https://localhost:8080/",
          "height": 143
        },
        "outputId": "2a007313-1b31-4a62-83b8-6da491953662",
        "id": "aQM2XTZ0hHU7"
      },
      "execution_count": 286,
      "outputs": [
        {
          "output_type": "execute_result",
          "data": {
            "text/plain": [
              "              train      test\n",
              "accuracy   0.980031  0.972721\n",
              "precision  0.980231  0.974017\n",
              "recall     0.999773  0.998634"
            ],
            "text/html": [
              "\n",
              "  <div id=\"df-5333ae92-33f3-4c9f-a05e-83f7246fcb97\">\n",
              "    <div class=\"colab-df-container\">\n",
              "      <div>\n",
              "<style scoped>\n",
              "    .dataframe tbody tr th:only-of-type {\n",
              "        vertical-align: middle;\n",
              "    }\n",
              "\n",
              "    .dataframe tbody tr th {\n",
              "        vertical-align: top;\n",
              "    }\n",
              "\n",
              "    .dataframe thead th {\n",
              "        text-align: right;\n",
              "    }\n",
              "</style>\n",
              "<table border=\"1\" class=\"dataframe\">\n",
              "  <thead>\n",
              "    <tr style=\"text-align: right;\">\n",
              "      <th></th>\n",
              "      <th>train</th>\n",
              "      <th>test</th>\n",
              "    </tr>\n",
              "  </thead>\n",
              "  <tbody>\n",
              "    <tr>\n",
              "      <th>accuracy</th>\n",
              "      <td>0.980031</td>\n",
              "      <td>0.972721</td>\n",
              "    </tr>\n",
              "    <tr>\n",
              "      <th>precision</th>\n",
              "      <td>0.980231</td>\n",
              "      <td>0.974017</td>\n",
              "    </tr>\n",
              "    <tr>\n",
              "      <th>recall</th>\n",
              "      <td>0.999773</td>\n",
              "      <td>0.998634</td>\n",
              "    </tr>\n",
              "  </tbody>\n",
              "</table>\n",
              "</div>\n",
              "      <button class=\"colab-df-convert\" onclick=\"convertToInteractive('df-5333ae92-33f3-4c9f-a05e-83f7246fcb97')\"\n",
              "              title=\"Convert this dataframe to an interactive table.\"\n",
              "              style=\"display:none;\">\n",
              "        \n",
              "  <svg xmlns=\"http://www.w3.org/2000/svg\" height=\"24px\"viewBox=\"0 0 24 24\"\n",
              "       width=\"24px\">\n",
              "    <path d=\"M0 0h24v24H0V0z\" fill=\"none\"/>\n",
              "    <path d=\"M18.56 5.44l.94 2.06.94-2.06 2.06-.94-2.06-.94-.94-2.06-.94 2.06-2.06.94zm-11 1L8.5 8.5l.94-2.06 2.06-.94-2.06-.94L8.5 2.5l-.94 2.06-2.06.94zm10 10l.94 2.06.94-2.06 2.06-.94-2.06-.94-.94-2.06-.94 2.06-2.06.94z\"/><path d=\"M17.41 7.96l-1.37-1.37c-.4-.4-.92-.59-1.43-.59-.52 0-1.04.2-1.43.59L10.3 9.45l-7.72 7.72c-.78.78-.78 2.05 0 2.83L4 21.41c.39.39.9.59 1.41.59.51 0 1.02-.2 1.41-.59l7.78-7.78 2.81-2.81c.8-.78.8-2.07 0-2.86zM5.41 20L4 18.59l7.72-7.72 1.47 1.35L5.41 20z\"/>\n",
              "  </svg>\n",
              "      </button>\n",
              "      \n",
              "  <style>\n",
              "    .colab-df-container {\n",
              "      display:flex;\n",
              "      flex-wrap:wrap;\n",
              "      gap: 12px;\n",
              "    }\n",
              "\n",
              "    .colab-df-convert {\n",
              "      background-color: #E8F0FE;\n",
              "      border: none;\n",
              "      border-radius: 50%;\n",
              "      cursor: pointer;\n",
              "      display: none;\n",
              "      fill: #1967D2;\n",
              "      height: 32px;\n",
              "      padding: 0 0 0 0;\n",
              "      width: 32px;\n",
              "    }\n",
              "\n",
              "    .colab-df-convert:hover {\n",
              "      background-color: #E2EBFA;\n",
              "      box-shadow: 0px 1px 2px rgba(60, 64, 67, 0.3), 0px 1px 3px 1px rgba(60, 64, 67, 0.15);\n",
              "      fill: #174EA6;\n",
              "    }\n",
              "\n",
              "    [theme=dark] .colab-df-convert {\n",
              "      background-color: #3B4455;\n",
              "      fill: #D2E3FC;\n",
              "    }\n",
              "\n",
              "    [theme=dark] .colab-df-convert:hover {\n",
              "      background-color: #434B5C;\n",
              "      box-shadow: 0px 1px 3px 1px rgba(0, 0, 0, 0.15);\n",
              "      filter: drop-shadow(0px 1px 2px rgba(0, 0, 0, 0.3));\n",
              "      fill: #FFFFFF;\n",
              "    }\n",
              "  </style>\n",
              "\n",
              "      <script>\n",
              "        const buttonEl =\n",
              "          document.querySelector('#df-5333ae92-33f3-4c9f-a05e-83f7246fcb97 button.colab-df-convert');\n",
              "        buttonEl.style.display =\n",
              "          google.colab.kernel.accessAllowed ? 'block' : 'none';\n",
              "\n",
              "        async function convertToInteractive(key) {\n",
              "          const element = document.querySelector('#df-5333ae92-33f3-4c9f-a05e-83f7246fcb97');\n",
              "          const dataTable =\n",
              "            await google.colab.kernel.invokeFunction('convertToInteractive',\n",
              "                                                     [key], {});\n",
              "          if (!dataTable) return;\n",
              "\n",
              "          const docLinkHtml = 'Like what you see? Visit the ' +\n",
              "            '<a target=\"_blank\" href=https://colab.research.google.com/notebooks/data_table.ipynb>data table notebook</a>'\n",
              "            + ' to learn more about interactive tables.';\n",
              "          element.innerHTML = '';\n",
              "          dataTable['output_type'] = 'display_data';\n",
              "          await google.colab.output.renderOutput(dataTable, element);\n",
              "          const docLink = document.createElement('div');\n",
              "          docLink.innerHTML = docLinkHtml;\n",
              "          element.appendChild(docLink);\n",
              "        }\n",
              "      </script>\n",
              "    </div>\n",
              "  </div>\n",
              "  "
            ]
          },
          "metadata": {},
          "execution_count": 286
        }
      ]
    },
    {
      "cell_type": "markdown",
      "source": [
        "kNN с 57ю соседями:"
      ],
      "metadata": {
        "id": "oFu98aXD5P44"
      }
    },
    {
      "cell_type": "code",
      "source": [
        "model = KNeighborsRegressor(n_neighbors=57) # по умолчанию n_neighbors=5\n",
        "model.fit(X_train, y_train)"
      ],
      "metadata": {
        "colab": {
          "base_uri": "https://localhost:8080/"
        },
        "id": "_HX5U2or5CV3",
        "outputId": "903710ca-d03d-4f27-e681-3f47b2a4dcbd"
      },
      "execution_count": 287,
      "outputs": [
        {
          "output_type": "execute_result",
          "data": {
            "text/plain": [
              "KNeighborsRegressor(n_neighbors=57)"
            ]
          },
          "metadata": {},
          "execution_count": 287
        }
      ]
    },
    {
      "cell_type": "code",
      "source": [
        "y_train_predict = model.predict(X_train)\n",
        "y_test_predict  = model.predict(X_test)"
      ],
      "metadata": {
        "id": "1E4lz11f5pzE"
      },
      "execution_count": 288,
      "outputs": []
    },
    {
      "cell_type": "code",
      "source": [
        "y_train_predict = (y_train_predict > 0.5).astype(np.float64)\n",
        "y_test_predict = (y_test_predict > 0.5).astype(np.float64)"
      ],
      "metadata": {
        "id": "a2e0MeNj5uf7"
      },
      "execution_count": 289,
      "outputs": []
    },
    {
      "cell_type": "code",
      "source": [
        "accuracy_train = accuracy_score(y_train, y_train_predict)\n",
        "accuracy_test  = accuracy_score(y_test,  y_test_predict)\n",
        "\n",
        "precision_train = precision_score(y_train, y_train_predict)\n",
        "precision_test  = precision_score(y_test,  y_test_predict)\n",
        "\n",
        "recall_train = recall_score(y_train, y_train_predict)\n",
        "recall_test  = recall_score(y_test,  y_test_predict)"
      ],
      "metadata": {
        "id": "gwNFhFbm5yu8"
      },
      "execution_count": 290,
      "outputs": []
    },
    {
      "cell_type": "code",
      "source": [
        "kNN57_table = pd.DataFrame(columns=('train', 'test'))\n",
        "kNN57_table.loc['accuracy', :] = (accuracy_train, accuracy_test)\n",
        "kNN57_table.loc['precision', :] = (precision_train, precision_test)\n",
        "kNN57_table.loc['recall', :] = (recall_train, recall_test)\n",
        "kNN57_table"
      ],
      "metadata": {
        "colab": {
          "base_uri": "https://localhost:8080/",
          "height": 143
        },
        "id": "qb9gS4MS52tl",
        "outputId": "6e955144-da49-4e4c-a47b-b65f23a3f19e"
      },
      "execution_count": 291,
      "outputs": [
        {
          "output_type": "execute_result",
          "data": {
            "text/plain": [
              "              train      test\n",
              "accuracy   0.979365  0.974052\n",
              "precision  0.979365  0.974052\n",
              "recall          1.0       1.0"
            ],
            "text/html": [
              "\n",
              "  <div id=\"df-66609175-b78b-4ed6-b927-861580829f41\">\n",
              "    <div class=\"colab-df-container\">\n",
              "      <div>\n",
              "<style scoped>\n",
              "    .dataframe tbody tr th:only-of-type {\n",
              "        vertical-align: middle;\n",
              "    }\n",
              "\n",
              "    .dataframe tbody tr th {\n",
              "        vertical-align: top;\n",
              "    }\n",
              "\n",
              "    .dataframe thead th {\n",
              "        text-align: right;\n",
              "    }\n",
              "</style>\n",
              "<table border=\"1\" class=\"dataframe\">\n",
              "  <thead>\n",
              "    <tr style=\"text-align: right;\">\n",
              "      <th></th>\n",
              "      <th>train</th>\n",
              "      <th>test</th>\n",
              "    </tr>\n",
              "  </thead>\n",
              "  <tbody>\n",
              "    <tr>\n",
              "      <th>accuracy</th>\n",
              "      <td>0.979365</td>\n",
              "      <td>0.974052</td>\n",
              "    </tr>\n",
              "    <tr>\n",
              "      <th>precision</th>\n",
              "      <td>0.979365</td>\n",
              "      <td>0.974052</td>\n",
              "    </tr>\n",
              "    <tr>\n",
              "      <th>recall</th>\n",
              "      <td>1.0</td>\n",
              "      <td>1.0</td>\n",
              "    </tr>\n",
              "  </tbody>\n",
              "</table>\n",
              "</div>\n",
              "      <button class=\"colab-df-convert\" onclick=\"convertToInteractive('df-66609175-b78b-4ed6-b927-861580829f41')\"\n",
              "              title=\"Convert this dataframe to an interactive table.\"\n",
              "              style=\"display:none;\">\n",
              "        \n",
              "  <svg xmlns=\"http://www.w3.org/2000/svg\" height=\"24px\"viewBox=\"0 0 24 24\"\n",
              "       width=\"24px\">\n",
              "    <path d=\"M0 0h24v24H0V0z\" fill=\"none\"/>\n",
              "    <path d=\"M18.56 5.44l.94 2.06.94-2.06 2.06-.94-2.06-.94-.94-2.06-.94 2.06-2.06.94zm-11 1L8.5 8.5l.94-2.06 2.06-.94-2.06-.94L8.5 2.5l-.94 2.06-2.06.94zm10 10l.94 2.06.94-2.06 2.06-.94-2.06-.94-.94-2.06-.94 2.06-2.06.94z\"/><path d=\"M17.41 7.96l-1.37-1.37c-.4-.4-.92-.59-1.43-.59-.52 0-1.04.2-1.43.59L10.3 9.45l-7.72 7.72c-.78.78-.78 2.05 0 2.83L4 21.41c.39.39.9.59 1.41.59.51 0 1.02-.2 1.41-.59l7.78-7.78 2.81-2.81c.8-.78.8-2.07 0-2.86zM5.41 20L4 18.59l7.72-7.72 1.47 1.35L5.41 20z\"/>\n",
              "  </svg>\n",
              "      </button>\n",
              "      \n",
              "  <style>\n",
              "    .colab-df-container {\n",
              "      display:flex;\n",
              "      flex-wrap:wrap;\n",
              "      gap: 12px;\n",
              "    }\n",
              "\n",
              "    .colab-df-convert {\n",
              "      background-color: #E8F0FE;\n",
              "      border: none;\n",
              "      border-radius: 50%;\n",
              "      cursor: pointer;\n",
              "      display: none;\n",
              "      fill: #1967D2;\n",
              "      height: 32px;\n",
              "      padding: 0 0 0 0;\n",
              "      width: 32px;\n",
              "    }\n",
              "\n",
              "    .colab-df-convert:hover {\n",
              "      background-color: #E2EBFA;\n",
              "      box-shadow: 0px 1px 2px rgba(60, 64, 67, 0.3), 0px 1px 3px 1px rgba(60, 64, 67, 0.15);\n",
              "      fill: #174EA6;\n",
              "    }\n",
              "\n",
              "    [theme=dark] .colab-df-convert {\n",
              "      background-color: #3B4455;\n",
              "      fill: #D2E3FC;\n",
              "    }\n",
              "\n",
              "    [theme=dark] .colab-df-convert:hover {\n",
              "      background-color: #434B5C;\n",
              "      box-shadow: 0px 1px 3px 1px rgba(0, 0, 0, 0.15);\n",
              "      filter: drop-shadow(0px 1px 2px rgba(0, 0, 0, 0.3));\n",
              "      fill: #FFFFFF;\n",
              "    }\n",
              "  </style>\n",
              "\n",
              "      <script>\n",
              "        const buttonEl =\n",
              "          document.querySelector('#df-66609175-b78b-4ed6-b927-861580829f41 button.colab-df-convert');\n",
              "        buttonEl.style.display =\n",
              "          google.colab.kernel.accessAllowed ? 'block' : 'none';\n",
              "\n",
              "        async function convertToInteractive(key) {\n",
              "          const element = document.querySelector('#df-66609175-b78b-4ed6-b927-861580829f41');\n",
              "          const dataTable =\n",
              "            await google.colab.kernel.invokeFunction('convertToInteractive',\n",
              "                                                     [key], {});\n",
              "          if (!dataTable) return;\n",
              "\n",
              "          const docLinkHtml = 'Like what you see? Visit the ' +\n",
              "            '<a target=\"_blank\" href=https://colab.research.google.com/notebooks/data_table.ipynb>data table notebook</a>'\n",
              "            + ' to learn more about interactive tables.';\n",
              "          element.innerHTML = '';\n",
              "          dataTable['output_type'] = 'display_data';\n",
              "          await google.colab.output.renderOutput(dataTable, element);\n",
              "          const docLink = document.createElement('div');\n",
              "          docLink.innerHTML = docLinkHtml;\n",
              "          element.appendChild(docLink);\n",
              "        }\n",
              "      </script>\n",
              "    </div>\n",
              "  </div>\n",
              "  "
            ]
          },
          "metadata": {},
          "execution_count": 291
        }
      ]
    },
    {
      "cell_type": "markdown",
      "source": [
        "kNN c 1м ближайшем соседом:"
      ],
      "metadata": {
        "id": "wlcciv6m6LzE"
      }
    },
    {
      "cell_type": "code",
      "source": [
        "model = KNeighborsRegressor(n_neighbors=1) # по умолчанию n_neighbors=5\n",
        "model.fit(X_train, y_train)"
      ],
      "metadata": {
        "colab": {
          "base_uri": "https://localhost:8080/"
        },
        "id": "Wb7K_1ro57jI",
        "outputId": "3a9705ee-39d3-4948-eed9-b0b31414f9ed"
      },
      "execution_count": 293,
      "outputs": [
        {
          "output_type": "execute_result",
          "data": {
            "text/plain": [
              "KNeighborsRegressor(n_neighbors=1)"
            ]
          },
          "metadata": {},
          "execution_count": 293
        }
      ]
    },
    {
      "cell_type": "code",
      "source": [
        "y_train_predict = model.predict(X_train)\n",
        "y_test_predict  = model.predict(X_test)"
      ],
      "metadata": {
        "id": "zdg7m0k66T2t"
      },
      "execution_count": 294,
      "outputs": []
    },
    {
      "cell_type": "code",
      "source": [
        "y_train_predict = (y_train_predict > 0.5).astype(np.float64)\n",
        "y_test_predict = (y_test_predict > 0.5).astype(np.float64)"
      ],
      "metadata": {
        "id": "TDQvOi0h6ZRO"
      },
      "execution_count": 295,
      "outputs": []
    },
    {
      "cell_type": "code",
      "source": [
        "accuracy_train = accuracy_score(y_train, y_train_predict)\n",
        "accuracy_test  = accuracy_score(y_test,  y_test_predict)\n",
        "\n",
        "precision_train = precision_score(y_train, y_train_predict)\n",
        "precision_test  = precision_score(y_test,  y_test_predict)\n",
        "\n",
        "recall_train = recall_score(y_train, y_train_predict)\n",
        "recall_test  = recall_score(y_test,  y_test_predict)"
      ],
      "metadata": {
        "id": "d_E7KWSw6cVl"
      },
      "execution_count": 296,
      "outputs": []
    },
    {
      "cell_type": "code",
      "source": [
        "kNN1_table = pd.DataFrame(columns=('train', 'test'))\n",
        "kNN1_table.loc['accuracy', :] = (accuracy_train, accuracy_test)\n",
        "kNN1_table.loc['precision', :] = (precision_train, precision_test)\n",
        "kNN1_table.loc['recall', :] = (recall_train, recall_test)\n",
        "kNN1_table"
      ],
      "metadata": {
        "colab": {
          "base_uri": "https://localhost:8080/",
          "height": 143
        },
        "id": "uSwxLFNu6fo1",
        "outputId": "d308b140-ff91-43cf-ee82-d1a166766774"
      },
      "execution_count": 297,
      "outputs": [
        {
          "output_type": "execute_result",
          "data": {
            "text/plain": [
              "          train      test\n",
              "accuracy    1.0  0.958084\n",
              "precision   1.0  0.976207\n",
              "recall      1.0  0.980874"
            ],
            "text/html": [
              "\n",
              "  <div id=\"df-ae52da11-32d0-4740-afc2-6202685d8a2e\">\n",
              "    <div class=\"colab-df-container\">\n",
              "      <div>\n",
              "<style scoped>\n",
              "    .dataframe tbody tr th:only-of-type {\n",
              "        vertical-align: middle;\n",
              "    }\n",
              "\n",
              "    .dataframe tbody tr th {\n",
              "        vertical-align: top;\n",
              "    }\n",
              "\n",
              "    .dataframe thead th {\n",
              "        text-align: right;\n",
              "    }\n",
              "</style>\n",
              "<table border=\"1\" class=\"dataframe\">\n",
              "  <thead>\n",
              "    <tr style=\"text-align: right;\">\n",
              "      <th></th>\n",
              "      <th>train</th>\n",
              "      <th>test</th>\n",
              "    </tr>\n",
              "  </thead>\n",
              "  <tbody>\n",
              "    <tr>\n",
              "      <th>accuracy</th>\n",
              "      <td>1.0</td>\n",
              "      <td>0.958084</td>\n",
              "    </tr>\n",
              "    <tr>\n",
              "      <th>precision</th>\n",
              "      <td>1.0</td>\n",
              "      <td>0.976207</td>\n",
              "    </tr>\n",
              "    <tr>\n",
              "      <th>recall</th>\n",
              "      <td>1.0</td>\n",
              "      <td>0.980874</td>\n",
              "    </tr>\n",
              "  </tbody>\n",
              "</table>\n",
              "</div>\n",
              "      <button class=\"colab-df-convert\" onclick=\"convertToInteractive('df-ae52da11-32d0-4740-afc2-6202685d8a2e')\"\n",
              "              title=\"Convert this dataframe to an interactive table.\"\n",
              "              style=\"display:none;\">\n",
              "        \n",
              "  <svg xmlns=\"http://www.w3.org/2000/svg\" height=\"24px\"viewBox=\"0 0 24 24\"\n",
              "       width=\"24px\">\n",
              "    <path d=\"M0 0h24v24H0V0z\" fill=\"none\"/>\n",
              "    <path d=\"M18.56 5.44l.94 2.06.94-2.06 2.06-.94-2.06-.94-.94-2.06-.94 2.06-2.06.94zm-11 1L8.5 8.5l.94-2.06 2.06-.94-2.06-.94L8.5 2.5l-.94 2.06-2.06.94zm10 10l.94 2.06.94-2.06 2.06-.94-2.06-.94-.94-2.06-.94 2.06-2.06.94z\"/><path d=\"M17.41 7.96l-1.37-1.37c-.4-.4-.92-.59-1.43-.59-.52 0-1.04.2-1.43.59L10.3 9.45l-7.72 7.72c-.78.78-.78 2.05 0 2.83L4 21.41c.39.39.9.59 1.41.59.51 0 1.02-.2 1.41-.59l7.78-7.78 2.81-2.81c.8-.78.8-2.07 0-2.86zM5.41 20L4 18.59l7.72-7.72 1.47 1.35L5.41 20z\"/>\n",
              "  </svg>\n",
              "      </button>\n",
              "      \n",
              "  <style>\n",
              "    .colab-df-container {\n",
              "      display:flex;\n",
              "      flex-wrap:wrap;\n",
              "      gap: 12px;\n",
              "    }\n",
              "\n",
              "    .colab-df-convert {\n",
              "      background-color: #E8F0FE;\n",
              "      border: none;\n",
              "      border-radius: 50%;\n",
              "      cursor: pointer;\n",
              "      display: none;\n",
              "      fill: #1967D2;\n",
              "      height: 32px;\n",
              "      padding: 0 0 0 0;\n",
              "      width: 32px;\n",
              "    }\n",
              "\n",
              "    .colab-df-convert:hover {\n",
              "      background-color: #E2EBFA;\n",
              "      box-shadow: 0px 1px 2px rgba(60, 64, 67, 0.3), 0px 1px 3px 1px rgba(60, 64, 67, 0.15);\n",
              "      fill: #174EA6;\n",
              "    }\n",
              "\n",
              "    [theme=dark] .colab-df-convert {\n",
              "      background-color: #3B4455;\n",
              "      fill: #D2E3FC;\n",
              "    }\n",
              "\n",
              "    [theme=dark] .colab-df-convert:hover {\n",
              "      background-color: #434B5C;\n",
              "      box-shadow: 0px 1px 3px 1px rgba(0, 0, 0, 0.15);\n",
              "      filter: drop-shadow(0px 1px 2px rgba(0, 0, 0, 0.3));\n",
              "      fill: #FFFFFF;\n",
              "    }\n",
              "  </style>\n",
              "\n",
              "      <script>\n",
              "        const buttonEl =\n",
              "          document.querySelector('#df-ae52da11-32d0-4740-afc2-6202685d8a2e button.colab-df-convert');\n",
              "        buttonEl.style.display =\n",
              "          google.colab.kernel.accessAllowed ? 'block' : 'none';\n",
              "\n",
              "        async function convertToInteractive(key) {\n",
              "          const element = document.querySelector('#df-ae52da11-32d0-4740-afc2-6202685d8a2e');\n",
              "          const dataTable =\n",
              "            await google.colab.kernel.invokeFunction('convertToInteractive',\n",
              "                                                     [key], {});\n",
              "          if (!dataTable) return;\n",
              "\n",
              "          const docLinkHtml = 'Like what you see? Visit the ' +\n",
              "            '<a target=\"_blank\" href=https://colab.research.google.com/notebooks/data_table.ipynb>data table notebook</a>'\n",
              "            + ' to learn more about interactive tables.';\n",
              "          element.innerHTML = '';\n",
              "          dataTable['output_type'] = 'display_data';\n",
              "          await google.colab.output.renderOutput(dataTable, element);\n",
              "          const docLink = document.createElement('div');\n",
              "          docLink.innerHTML = docLinkHtml;\n",
              "          element.appendChild(docLink);\n",
              "        }\n",
              "      </script>\n",
              "    </div>\n",
              "  </div>\n",
              "  "
            ]
          },
          "metadata": {},
          "execution_count": 297
        }
      ]
    },
    {
      "cell_type": "markdown",
      "source": [
        "# Выводы\n",
        "\n",
        "Ура, теперь я могу по вкусу вина и отзывам предсказывать, дорогое вино или нет (настоящий сомелье)!\n",
        "\n",
        "На самом деле метрики показывают подазрительно хорошее качество. Этому есть по крайней мере два объяснения: \n",
        "\n",
        "\n",
        "1.   kNN и мой датасет идеально подходят друг другу: небольшая задача решается не слишком сложным и не слишком простым методом;\n",
        "2.   Я выбрала неудачные метрики для описания задачи;\n",
        "\n",
        "Однако, ситуации переобучения всё же удалось достичь: на kNN с одним соседом наблюдаются 100%-ые значения метрик на тренировке, когда на тесте они, конечно, меньше.  \n",
        "\n",
        "\n",
        "\n"
      ],
      "metadata": {
        "id": "shxEwlXO6yhb"
      }
    }
  ],
  "metadata": {
    "kernelspec": {
      "display_name": "Python 3",
      "language": "python",
      "name": "python3"
    },
    "language_info": {
      "codemirror_mode": {
        "name": "ipython",
        "version": 3
      },
      "file_extension": ".py",
      "mimetype": "text/x-python",
      "name": "python",
      "nbconvert_exporter": "python",
      "pygments_lexer": "ipython3",
      "version": "3.8.8"
    },
    "colab": {
      "provenance": [],
      "include_colab_link": true
    }
  },
  "nbformat": 4,
  "nbformat_minor": 0
}