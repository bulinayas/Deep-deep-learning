{
  "cells": [
    {
      "cell_type": "markdown",
      "metadata": {
        "id": "view-in-github",
        "colab_type": "text"
      },
      "source": [
        "<a href=\"https://colab.research.google.com/github/bulinayas/Deep-deep-learning/blob/main/%5Bseminar1%5Dcifar10.ipynb\" target=\"_parent\"><img src=\"https://colab.research.google.com/assets/colab-badge.svg\" alt=\"Open In Colab\"/></a>"
      ]
    },
    {
      "cell_type": "markdown",
      "metadata": {
        "id": "qwh-a1MR_nS9"
      },
      "source": [
        "<img src=\"https://s8.hostingkartinok.com/uploads/images/2018/08/308b49fcfbc619d629fe4604bceb67ac.jpg\" width=500, height=450>\n",
        "<h3 style=\"text-align: center;\"><b>Физтех-Школа Прикладной математики и информатики (ФПМИ) МФТИ</b></h3>"
      ]
    },
    {
      "cell_type": "markdown",
      "metadata": {
        "id": "9gTpRoZd_nTG"
      },
      "source": [
        "---"
      ]
    },
    {
      "cell_type": "markdown",
      "metadata": {
        "id": "85Gvi3D9_nTH"
      },
      "source": [
        "<h2 style=\"text-align: center;\"><b>Семинар 1: практическое занятие по обучению нейросетей (датасет CIFAR10)</b></h2>"
      ]
    },
    {
      "cell_type": "markdown",
      "metadata": {
        "id": "6NEyCawY_nTJ"
      },
      "source": [
        "---"
      ]
    },
    {
      "cell_type": "code",
      "execution_count": 1,
      "metadata": {
        "id": "Hgit3qqOf4hd"
      },
      "outputs": [],
      "source": [
        "import numpy as np\n",
        "import matplotlib.pyplot as plt\n",
        "\n",
        "from tqdm import tqdm_notebook # progress bar\n",
        "\n",
        "import warnings\n",
        "warnings.filterwarnings(\"ignore\")\n",
        "\n",
        "import multiprocessing # threading"
      ]
    },
    {
      "cell_type": "markdown",
      "metadata": {
        "id": "CHUKPJJOf4hj"
      },
      "source": [
        "Сегодня мы построим свою сеть (простейший классификатор изображений), посчитаем loss и проведем обновление весов.\n",
        "\n",
        "\n",
        "Данные\n",
        "----------------\n",
        "Мы будем работать с набором картинок. Для работы с ними есть специальный пакет ``torchvision``. В нем уже содержатся функции-загрузчики таких датасетов, как ImageNet, MNIST, CIFAR10. С последним сегодня мы и будем работать. В нем содержатся картинки RGB 32х32 следующих классов: \n",
        "1. ‘airplane’\n",
        "2. ‘automobile’\n",
        "3. ‘bird’\n",
        "4. ‘cat’\n",
        "5. ‘deer’\n",
        "6. ‘dog’\n",
        "7. ‘frog’\n",
        "8. ‘horse’\n",
        "9. ‘ship’\n",
        "10. ‘truck’\n",
        "\n",
        "Обучение классификатора\n",
        "----------------------------\n",
        "\n",
        "План обучения классификатора:\n",
        "\n",
        "1. Загружаем и нормализуем данные при помощи пакета\n",
        "   ``torchvision``\n",
        "2. Объявляем нейронную сеть\n",
        "3. Объявляем функцию потерь\n",
        "4. Тренируем сеть при помощи тренировочной выборки (train data)\n",
        "5. Тестируем сеть при помощи валидационной выборки (test data)\n",
        "\n",
        "----------------------------\n",
        "\n",
        "Импортируем нужные нам пакеты из библиотеки ``torch``\n",
        "\n",
        "\n"
      ]
    },
    {
      "cell_type": "code",
      "execution_count": 2,
      "metadata": {
        "id": "E6h4kZ-if4hl"
      },
      "outputs": [],
      "source": [
        "import torch\n",
        "import torchvision # работа с данными\n",
        "import torchvision.transforms as transforms # common image transformations"
      ]
    },
    {
      "cell_type": "code",
      "execution_count": null,
      "metadata": {
        "id": "5KmxZQREgApi"
      },
      "outputs": [],
      "source": [
        "# http://pytorch.org/\n",
        "\n",
        "from os.path import exists\n",
        "from wheel.pep425tags import get_abbr_impl, get_impl_ver, get_abi_tag\n",
        "platform = '{}{}-{}'.format(get_abbr_impl(), get_impl_ver(), get_abi_tag())\n",
        "cuda_output = !ldconfig -p|grep cudart.so|sed -e 's/.*\\.\\([0-9]*\\)\\.\\([0-9]*\\)$/cu\\1\\2/'\n",
        "accelerator = cuda_output[0] if exists('/dev/nvidia0') else 'cpu'\n",
        "\n",
        "!pip install -q http://download.pytorch.org/whl/{accelerator}/torch-0.4.1-{platform}-linux_x86_64.whl torchvision\n",
        "import torch"
      ]
    },
    {
      "cell_type": "markdown",
      "metadata": {
        "id": "aHKBkoJPf4hp"
      },
      "source": [
        "В результате загрузки датасетов при помощи пакета torchvision мы получим картинки, содержащие значения в диапазоне [0,1], чтобы подавать их в нейросеть, нам нужно сделать из них тензоры со значениями в диапазоне [-1,1]\n",
        "\n",
        "Определим презобразование:"
      ]
    },
    {
      "cell_type": "code",
      "execution_count": 3,
      "metadata": {
        "id": "GJeKQk9nf4hq"
      },
      "outputs": [],
      "source": [
        "transform = transforms.Compose(\n",
        "    \n",
        "[\n",
        "    transforms.ToTensor(),\n",
        "    transforms.Normalize((0.5, 0.5, 0.5), (0.5, 0.5, 0.5)) # (means,stds), output[channel] = (input[channel] - mean[channel]) / std[channel]\n",
        "]\n",
        "\n",
        ")"
      ]
    },
    {
      "cell_type": "markdown",
      "metadata": {
        "id": "hNOgh6Obf4hx"
      },
      "source": [
        "Теперь вызовем загрузчики из пакета ``torchvision`` и скачаем обучающую выборку (trainset) и валидационную (testset)\n",
        "\n"
      ]
    },
    {
      "cell_type": "code",
      "execution_count": 4,
      "metadata": {
        "colab": {
          "base_uri": "https://localhost:8080/",
          "height": 71,
          "referenced_widgets": [
            "0ec0d2ad890e461c9adda42eec4fa182",
            "303972fe9b784885a10d01a0ac4afe7a",
            "9d2e9bfea98741d7abfd1b5fa9af45bb",
            "fc755a38f25c4d558861c94f2eb2572f",
            "79962fd73c9a454f8b48877883942463",
            "9c50bb3632a04dc7874801c69b377f52",
            "b27848f744ab4776b5e487953e518598",
            "a70e0467079343a58ca97d801853b403",
            "f53aadee80234c2ea695f53cdbc32543",
            "6525b95f5c6b444ca44d4b8f6a99c959",
            "ead6e1f5c3c746379514addfabb684a1"
          ]
        },
        "id": "Vvub5ZZdf4hz",
        "outputId": "f85df24e-bfaf-4538-cda2-70a841a9d5a4",
        "scrolled": false
      },
      "outputs": [
        {
          "output_type": "stream",
          "name": "stdout",
          "text": [
            "Downloading https://www.cs.toronto.edu/~kriz/cifar-10-python.tar.gz to ./data/cifar-10-python.tar.gz\n"
          ]
        },
        {
          "output_type": "display_data",
          "data": {
            "text/plain": [
              "  0%|          | 0/170498071 [00:00<?, ?it/s]"
            ],
            "application/vnd.jupyter.widget-view+json": {
              "version_major": 2,
              "version_minor": 0,
              "model_id": "0ec0d2ad890e461c9adda42eec4fa182"
            },
            "application/json": {
              "n": 0,
              "total": 170498071,
              "elapsed": 0.03021240234375,
              "ncols": null,
              "nrows": null,
              "prefix": "",
              "ascii": false,
              "unit": "it",
              "unit_scale": false,
              "rate": null,
              "bar_format": null,
              "postfix": null,
              "unit_divisor": 1000,
              "initial": 0,
              "colour": null
            }
          },
          "metadata": {}
        },
        {
          "output_type": "stream",
          "name": "stdout",
          "text": [
            "Extracting ./data/cifar-10-python.tar.gz to ./data\n",
            "Files already downloaded and verified\n"
          ]
        }
      ],
      "source": [
        "trainset = torchvision.datasets.CIFAR10(root='./data', \n",
        "                                        train=True,download=True, transform=transform)\n",
        "train_loader = torch.utils.data.DataLoader(trainset, batch_size=4,\n",
        "                                           shuffle=True, num_workers=0, pin_memory=False) \n",
        "# num_workers - количество потоков, pin_memory - закрепление памяти для ускорения переноса на GPU(нам пока не надо)\n",
        "\n",
        "testset = torchvision.datasets.CIFAR10(root='./data', train=False, \n",
        "                                       download=True, transform=transform)\n",
        "validation_loader = torch.utils.data.DataLoader(testset, batch_size=4,\n",
        "                                                shuffle=False, num_workers=0, pin_memory=False)"
      ]
    },
    {
      "cell_type": "markdown",
      "metadata": {
        "id": "DsFyaka7f4h5"
      },
      "source": [
        "Определим константы"
      ]
    },
    {
      "cell_type": "code",
      "execution_count": 5,
      "metadata": {
        "id": "UnfKGICOf4h6"
      },
      "outputs": [],
      "source": [
        "IMAGE_WIDTH = 32\n",
        "IMAGE_HEIGHT = 32\n",
        "COLOR_CHANNELS = 3\n",
        "EPOCHS = 50\n",
        "LEARNING_RATE = 0.001\n",
        "BATCH_SIZE = 4\n",
        "BATCH_IMAGE_COUNT = 10000\n",
        "CLASSES = ['plane', 'car', 'bird', 'cat', 'deer', 'dog', 'frog', 'horse', 'ship', 'truck']\n",
        "N_CLASSES = len(CLASSES)\n",
        "PLOT = False"
      ]
    },
    {
      "cell_type": "code",
      "execution_count": 6,
      "metadata": {
        "colab": {
          "base_uri": "https://localhost:8080/",
          "height": 156
        },
        "id": "mNWymneYf4h-",
        "outputId": "276ef667-88ab-43f2-bbe4-4f3b03a7740d"
      },
      "outputs": [
        {
          "output_type": "stream",
          "name": "stdout",
          "text": [
            "  dog plane   car  ship\n"
          ]
        },
        {
          "output_type": "display_data",
          "data": {
            "text/plain": [
              "<Figure size 432x288 with 1 Axes>"
            ],
            "image/png": "[encoded data removed]"
          },
          "metadata": {
            "needs_background": "light"
          }
        }
      ],
      "source": [
        "import matplotlib.pyplot as plt\n",
        "import numpy as np\n",
        "\n",
        "# Функция, которая показывает изображения\n",
        "def imshow(img):\n",
        "    img = img / 2 + 0.5     # деномрировка\n",
        "    npimg = img.numpy()\n",
        "    plt.imshow(np.transpose(npimg, (1, 2, 0)))\n",
        "\n",
        "\n",
        "# достаем случайные картинки из обучающей выборки\n",
        "dataiter = iter(train_loader)\n",
        "images, labels = dataiter.next()\n",
        "\n",
        "# вызываем функцию, реализующую демонстрацию изображений, что мы можем видеть на них?\n",
        "imshow(torchvision.utils.make_grid(images))\n",
        "# выведем метки классов отрисованных изображений\n",
        "print(' '.join('%5s' % CLASSES[labels[j]] for j in range(4)))"
      ]
    },
    {
      "cell_type": "code",
      "execution_count": null,
      "metadata": {
        "id": "wysy5qO2f4iC"
      },
      "outputs": [],
      "source": [
        "class Net(torch.nn.Module):\n",
        "    def __init__(self, n_hidden_nodes, n_hidden_layers):\n",
        "        super(Net, self).__init__()\n",
        "        # Определяем слои\n",
        "        self.fc1 = torch.nn.Linear(IMAGE_HEIGHT * IMAGE_WIDTH * COLOR_CHANNELS,\n",
        "                                   n_hidden_nodes)\n",
        "#         self.n_hidden_nodes=n_hidden_nodes\n",
        "#         self.n_hidden_layers=n_hidden_layers\n",
        "\n",
        "        self.out = torch.nn.Linear(n_hidden_nodes, N_CLASSES)\n",
        "\n",
        "    def forward(self, x):\n",
        "        x = x.view(-1, IMAGE_HEIGHT * IMAGE_WIDTH * COLOR_CHANNELS)\n",
        "        # определяем функцию активации\n",
        "        sigmoid = torch.nn.Sigmoid()\n",
        "        x = sigmoid(self.fc1(x))\n",
        "        return torch.nn.functional.log_softmax(self.out(x))"
      ]
    },
    {
      "cell_type": "code",
      "execution_count": null,
      "metadata": {
        "id": "sdi5bYJaf4iF"
      },
      "outputs": [],
      "source": [
        "def train(epoch, model, train_loader, optimizer, log_interval=100, cuda=None):\n",
        "    model.train()\n",
        "    correct = 0\n",
        "    for batch_idx, (data, target) in enumerate(train_loader):\n",
        "        data, target = data.requires_grad_(requires_grad = True), target.requires_grad_(requires_grad = False)\n",
        "        optimizer.zero_grad()\n",
        "        output = model(data)\n",
        "        #print(output.data.shape) 4 x 10 == batch_size x num_classes\n",
        "        pred = output.data.max(1)[1] # get the index of the max log-probability, torch.max() returns a named tuple (values, indices) \n",
        "        #print(pred.shape) Size = 4 == batch_size\n",
        "        correct += pred.eq(target.data).sum()\n",
        "        accuracy = 100. * correct / len(train_loader.dataset)\n",
        "        \n",
        "        \n",
        "        loss = torch.nn.functional.nll_loss(output, target)\n",
        "        loss.backward()\n",
        "        optimizer.step()\n",
        "        if batch_idx % 10000 == 0:\n",
        "            print('Train Epoch: {} [{}/{} ({:.0f}%)]\\tLoss: {:.6f}'.format(\n",
        "                epoch, batch_idx * len(data), len(train_loader.dataset),\n",
        "                100. * batch_idx / len(train_loader), loss.data, accuracy))\n"
      ]
    },
    {
      "cell_type": "code",
      "execution_count": null,
      "metadata": {
        "id": "_MB7us3sf4iI"
      },
      "outputs": [],
      "source": [
        "def validate(loss_vector, accuracy_vector, model, validation_loader, cuda=None):\n",
        "    model.eval()\n",
        "    val_loss, correct = 0, 0\n",
        "    for data, target in validation_loader:\n",
        "        if cuda:\n",
        "            data, target = data.cuda(), target.cuda()\n",
        "        data, target = data.requires_grad_(requires_grad = False), target.requires_grad_(requires_grad = False)\n",
        "        output = model(data)\n",
        "\n",
        "        val_loss += torch.nn.functional.nll_loss(output, target).data\n",
        "        pred = output.data.max(1)[1] # get the index of the max log-probability\n",
        "\n",
        "        correct += pred.eq(target.data).cpu().sum()\n",
        "    \n",
        "    val_loss /= len(validation_loader)\n",
        "    loss_vector.append(val_loss)\n",
        "\n",
        "    accuracy = 100. * correct / len(validation_loader.dataset)\n",
        "    accuracy_vector.append(accuracy)\n",
        "\n",
        "    print('\\nValidation set: Average loss: {:.4f}, Accuracy: {}/{} ({:.0f}%)\\n'.format(\n",
        "        val_loss, correct, len(validation_loader.dataset), accuracy))"
      ]
    },
    {
      "cell_type": "code",
      "execution_count": null,
      "metadata": {
        "id": "5Ta4nX1Uf4iK"
      },
      "outputs": [],
      "source": [
        "from tqdm import tqdm_notebook"
      ]
    },
    {
      "cell_type": "code",
      "execution_count": null,
      "metadata": {
        "colab": {
          "base_uri": "https://localhost:8080/"
        },
        "id": "HcykLY4af4iM",
        "outputId": "8aeba88c-2974-4cf6-bfd8-e4d870a25f7e"
      },
      "outputs": [
        {
          "output_type": "stream",
          "name": "stdout",
          "text": [
            "Train Epoch: 1 [0/50000 (0%)]\tLoss: 2.341679\n",
            "Train Epoch: 1 [40000/50000 (80%)]\tLoss: 2.249055\n",
            "\n",
            "Validation set: Average loss: 2.0654, Accuracy: 3040/10000 (30%)\n",
            "\n",
            "Train Epoch: 2 [0/50000 (0%)]\tLoss: 2.021732\n",
            "Train Epoch: 2 [40000/50000 (80%)]\tLoss: 1.724647\n",
            "\n",
            "Validation set: Average loss: 1.9734, Accuracy: 3221/10000 (32%)\n",
            "\n",
            "Train Epoch: 3 [0/50000 (0%)]\tLoss: 2.285262\n",
            "Train Epoch: 3 [40000/50000 (80%)]\tLoss: 1.927724\n",
            "\n",
            "Validation set: Average loss: 1.9179, Accuracy: 3456/10000 (35%)\n",
            "\n",
            "Train Epoch: 4 [0/50000 (0%)]\tLoss: 1.539829\n",
            "Train Epoch: 4 [40000/50000 (80%)]\tLoss: 2.636195\n",
            "\n",
            "Validation set: Average loss: 1.8776, Accuracy: 3637/10000 (36%)\n",
            "\n",
            "Train Epoch: 5 [0/50000 (0%)]\tLoss: 1.889025\n",
            "Train Epoch: 5 [40000/50000 (80%)]\tLoss: 2.124573\n",
            "\n",
            "Validation set: Average loss: 1.8445, Accuracy: 3689/10000 (37%)\n",
            "\n",
            "Train Epoch: 6 [0/50000 (0%)]\tLoss: 1.758899\n",
            "Train Epoch: 6 [40000/50000 (80%)]\tLoss: 1.152340\n",
            "\n",
            "Validation set: Average loss: 1.8175, Accuracy: 3744/10000 (37%)\n",
            "\n",
            "Train Epoch: 7 [0/50000 (0%)]\tLoss: 1.691489\n",
            "Train Epoch: 7 [40000/50000 (80%)]\tLoss: 1.230532\n",
            "\n",
            "Validation set: Average loss: 1.7958, Accuracy: 3793/10000 (38%)\n",
            "\n",
            "Train Epoch: 8 [0/50000 (0%)]\tLoss: 2.134176\n",
            "Train Epoch: 8 [40000/50000 (80%)]\tLoss: 1.968361\n",
            "\n",
            "Validation set: Average loss: 1.7784, Accuracy: 3852/10000 (39%)\n",
            "\n",
            "Train Epoch: 9 [0/50000 (0%)]\tLoss: 2.141849\n",
            "Train Epoch: 9 [40000/50000 (80%)]\tLoss: 1.722962\n",
            "\n",
            "Validation set: Average loss: 1.7627, Accuracy: 3892/10000 (39%)\n",
            "\n",
            "Train Epoch: 10 [0/50000 (0%)]\tLoss: 1.393437\n",
            "Train Epoch: 10 [40000/50000 (80%)]\tLoss: 1.470469\n",
            "\n",
            "Validation set: Average loss: 1.7511, Accuracy: 3907/10000 (39%)\n",
            "\n",
            "Train Epoch: 11 [0/50000 (0%)]\tLoss: 2.280213\n",
            "Train Epoch: 11 [40000/50000 (80%)]\tLoss: 1.209205\n",
            "\n",
            "Validation set: Average loss: 1.7425, Accuracy: 3921/10000 (39%)\n",
            "\n",
            "Train Epoch: 12 [0/50000 (0%)]\tLoss: 1.973372\n",
            "Train Epoch: 12 [40000/50000 (80%)]\tLoss: 1.958208\n",
            "\n",
            "Validation set: Average loss: 1.7304, Accuracy: 3946/10000 (39%)\n",
            "\n",
            "Train Epoch: 13 [0/50000 (0%)]\tLoss: 1.498251\n",
            "Train Epoch: 13 [40000/50000 (80%)]\tLoss: 1.896971\n",
            "\n",
            "Validation set: Average loss: 1.7232, Accuracy: 3990/10000 (40%)\n",
            "\n",
            "Train Epoch: 14 [0/50000 (0%)]\tLoss: 1.882034\n",
            "Train Epoch: 14 [40000/50000 (80%)]\tLoss: 1.398618\n",
            "\n",
            "Validation set: Average loss: 1.7175, Accuracy: 4002/10000 (40%)\n",
            "\n",
            "Train Epoch: 15 [0/50000 (0%)]\tLoss: 1.468942\n",
            "Train Epoch: 15 [40000/50000 (80%)]\tLoss: 0.951825\n",
            "\n",
            "Validation set: Average loss: 1.7134, Accuracy: 4002/10000 (40%)\n",
            "\n",
            "Train Epoch: 16 [0/50000 (0%)]\tLoss: 1.597183\n",
            "Train Epoch: 16 [40000/50000 (80%)]\tLoss: 1.147811\n",
            "\n",
            "Validation set: Average loss: 1.7080, Accuracy: 4013/10000 (40%)\n",
            "\n",
            "Train Epoch: 17 [0/50000 (0%)]\tLoss: 1.945732\n",
            "Train Epoch: 17 [40000/50000 (80%)]\tLoss: 1.809521\n",
            "\n",
            "Validation set: Average loss: 1.7025, Accuracy: 4014/10000 (40%)\n",
            "\n",
            "Train Epoch: 18 [0/50000 (0%)]\tLoss: 2.153854\n",
            "Train Epoch: 18 [40000/50000 (80%)]\tLoss: 2.283984\n",
            "\n",
            "Validation set: Average loss: 1.6993, Accuracy: 4056/10000 (41%)\n",
            "\n",
            "Train Epoch: 19 [0/50000 (0%)]\tLoss: 1.396054\n",
            "Train Epoch: 19 [40000/50000 (80%)]\tLoss: 2.189645\n",
            "\n",
            "Validation set: Average loss: 1.6939, Accuracy: 4070/10000 (41%)\n",
            "\n",
            "Train Epoch: 20 [0/50000 (0%)]\tLoss: 1.227747\n",
            "Train Epoch: 20 [40000/50000 (80%)]\tLoss: 0.908988\n",
            "\n",
            "Validation set: Average loss: 1.6933, Accuracy: 4081/10000 (41%)\n",
            "\n",
            "Train Epoch: 21 [0/50000 (0%)]\tLoss: 1.487095\n",
            "Train Epoch: 21 [40000/50000 (80%)]\tLoss: 0.743639\n",
            "\n",
            "Validation set: Average loss: 1.6899, Accuracy: 4095/10000 (41%)\n",
            "\n",
            "Train Epoch: 22 [0/50000 (0%)]\tLoss: 1.544505\n",
            "Train Epoch: 22 [40000/50000 (80%)]\tLoss: 1.027252\n",
            "\n",
            "Validation set: Average loss: 1.6895, Accuracy: 4109/10000 (41%)\n",
            "\n",
            "Train Epoch: 23 [0/50000 (0%)]\tLoss: 1.292038\n",
            "Train Epoch: 23 [40000/50000 (80%)]\tLoss: 1.277453\n",
            "\n",
            "Validation set: Average loss: 1.6865, Accuracy: 4125/10000 (41%)\n",
            "\n",
            "Train Epoch: 24 [0/50000 (0%)]\tLoss: 1.892866\n",
            "Train Epoch: 24 [40000/50000 (80%)]\tLoss: 1.455798\n",
            "\n",
            "Validation set: Average loss: 1.6842, Accuracy: 4109/10000 (41%)\n",
            "\n",
            "Train Epoch: 25 [0/50000 (0%)]\tLoss: 2.133241\n",
            "Train Epoch: 25 [40000/50000 (80%)]\tLoss: 1.635333\n",
            "\n",
            "Validation set: Average loss: 1.6829, Accuracy: 4109/10000 (41%)\n",
            "\n",
            "Train Epoch: 26 [0/50000 (0%)]\tLoss: 2.367662\n",
            "Train Epoch: 26 [40000/50000 (80%)]\tLoss: 1.687822\n",
            "\n",
            "Validation set: Average loss: 1.6795, Accuracy: 4148/10000 (41%)\n",
            "\n",
            "Train Epoch: 27 [0/50000 (0%)]\tLoss: 1.371176\n",
            "Train Epoch: 27 [40000/50000 (80%)]\tLoss: 1.170541\n",
            "\n",
            "Validation set: Average loss: 1.6786, Accuracy: 4168/10000 (42%)\n",
            "\n",
            "Train Epoch: 28 [0/50000 (0%)]\tLoss: 1.359061\n",
            "Train Epoch: 28 [40000/50000 (80%)]\tLoss: 1.458985\n",
            "\n",
            "Validation set: Average loss: 1.6789, Accuracy: 4133/10000 (41%)\n",
            "\n",
            "Train Epoch: 29 [0/50000 (0%)]\tLoss: 0.927807\n",
            "Train Epoch: 29 [40000/50000 (80%)]\tLoss: 2.272276\n",
            "\n",
            "Validation set: Average loss: 1.6773, Accuracy: 4153/10000 (42%)\n",
            "\n",
            "Train Epoch: 30 [0/50000 (0%)]\tLoss: 1.155607\n",
            "Train Epoch: 30 [40000/50000 (80%)]\tLoss: 1.253176\n",
            "\n",
            "Validation set: Average loss: 1.6762, Accuracy: 4148/10000 (41%)\n",
            "\n",
            "Train Epoch: 31 [0/50000 (0%)]\tLoss: 1.554732\n",
            "Train Epoch: 31 [40000/50000 (80%)]\tLoss: 1.244657\n",
            "\n",
            "Validation set: Average loss: 1.6760, Accuracy: 4155/10000 (42%)\n",
            "\n",
            "Train Epoch: 32 [0/50000 (0%)]\tLoss: 1.000880\n",
            "Train Epoch: 32 [40000/50000 (80%)]\tLoss: 1.749495\n",
            "\n",
            "Validation set: Average loss: 1.6795, Accuracy: 4105/10000 (41%)\n",
            "\n",
            "Train Epoch: 33 [0/50000 (0%)]\tLoss: 2.081326\n",
            "Train Epoch: 33 [40000/50000 (80%)]\tLoss: 1.989575\n",
            "\n",
            "Validation set: Average loss: 1.6713, Accuracy: 4179/10000 (42%)\n",
            "\n",
            "Train Epoch: 34 [0/50000 (0%)]\tLoss: 2.066263\n",
            "Train Epoch: 34 [40000/50000 (80%)]\tLoss: 1.513201\n",
            "\n",
            "Validation set: Average loss: 1.6744, Accuracy: 4178/10000 (42%)\n",
            "\n",
            "Train Epoch: 35 [0/50000 (0%)]\tLoss: 0.635041\n",
            "Train Epoch: 35 [40000/50000 (80%)]\tLoss: 2.222044\n",
            "\n",
            "Validation set: Average loss: 1.6735, Accuracy: 4175/10000 (42%)\n",
            "\n",
            "Train Epoch: 36 [0/50000 (0%)]\tLoss: 1.760673\n",
            "Train Epoch: 36 [40000/50000 (80%)]\tLoss: 1.920948\n",
            "\n",
            "Validation set: Average loss: 1.6727, Accuracy: 4140/10000 (41%)\n",
            "\n",
            "Train Epoch: 37 [0/50000 (0%)]\tLoss: 0.690340\n",
            "Train Epoch: 37 [40000/50000 (80%)]\tLoss: 1.385514\n",
            "\n",
            "Validation set: Average loss: 1.6698, Accuracy: 4179/10000 (42%)\n",
            "\n",
            "Train Epoch: 38 [0/50000 (0%)]\tLoss: 1.180561\n",
            "Train Epoch: 38 [40000/50000 (80%)]\tLoss: 2.139906\n",
            "\n",
            "Validation set: Average loss: 1.6686, Accuracy: 4176/10000 (42%)\n",
            "\n",
            "Train Epoch: 39 [0/50000 (0%)]\tLoss: 1.259010\n",
            "Train Epoch: 39 [40000/50000 (80%)]\tLoss: 0.818943\n",
            "\n",
            "Validation set: Average loss: 1.6687, Accuracy: 4191/10000 (42%)\n",
            "\n",
            "Train Epoch: 40 [0/50000 (0%)]\tLoss: 2.357719\n",
            "Train Epoch: 40 [40000/50000 (80%)]\tLoss: 1.072419\n",
            "\n",
            "Validation set: Average loss: 1.6690, Accuracy: 4204/10000 (42%)\n",
            "\n"
          ]
        }
      ],
      "source": [
        "hidden_nodes = 10\n",
        "layers = 1\n",
        "model = Net(hidden_nodes, layers)\n",
        "optimizer = torch.optim.SGD(model.parameters(), lr=LEARNING_RATE)\n",
        "loss_vector = []\n",
        "acc_vector = []\n",
        "for epoch in range(1, EPOCHS + 1):\n",
        "    train(epoch, model, train_loader, optimizer, cuda=None)\n",
        "    validate(loss_vector, acc_vector, model, validation_loader, cuda=None)\n",
        "    if epoch == 40:\n",
        "        break"
      ]
    },
    {
      "cell_type": "markdown",
      "metadata": {
        "id": "eLhItbeMf4iO"
      },
      "source": [
        "Итак, мы обучили нашу сеть проходами по обучающей выборке. Давайте проверим, обучилась ли наша сеть. Проверим это путем предсказания меток классов для валидационной выборки."
      ]
    },
    {
      "cell_type": "code",
      "execution_count": null,
      "metadata": {
        "colab": {
          "base_uri": "https://localhost:8080/",
          "height": 279
        },
        "id": "cuELsbq3f4iP",
        "outputId": "a254bc65-b21c-422b-a661-9161e65a9840"
      },
      "outputs": [
        {
          "output_type": "display_data",
          "data": {
            "text/plain": [
              "<Figure size 432x288 with 1 Axes>"
            ],
            "image/png": "[encoded data removed]"
          },
          "metadata": {
            "needs_background": "light"
          }
        }
      ],
      "source": [
        "# Plot train loss and validation accuracy vs epochs for each learning rate\n",
        "epochs = [i for i in range(1, 41)]\n",
        "plt.plot(epochs, loss_vector)\n",
        "plt.xlabel(\"Epochs\")\n",
        "plt.ylabel(\"Loss\")\n",
        "plt.show()"
      ]
    },
    {
      "cell_type": "code",
      "execution_count": null,
      "metadata": {
        "colab": {
          "base_uri": "https://localhost:8080/",
          "height": 156
        },
        "id": "IDJfSHQif4iR",
        "outputId": "aabd5a29-ff36-492e-a06d-77fea9aa93ec"
      },
      "outputs": [
        {
          "output_type": "stream",
          "name": "stdout",
          "text": [
            "GroundTruth:    cat  ship  ship plane\n"
          ]
        },
        {
          "output_type": "display_data",
          "data": {
            "text/plain": [
              "<Figure size 432x288 with 1 Axes>"
            ],
            "image/png": "[encoded data removed]"
          },
          "metadata": {
            "needs_background": "light"
          }
        }
      ],
      "source": [
        "dataiter = iter(validation_loader)\n",
        "images, labels = dataiter.next()\n",
        "\n",
        "# выведем наши предсказания\n",
        "imshow(torchvision.utils.make_grid(images))\n",
        "print('GroundTruth: ', ' '.join('%5s' % CLASSES[labels[j]] for j in range(4)))\n",
        "\n",
        "outputs=model(images)"
      ]
    },
    {
      "cell_type": "code",
      "execution_count": null,
      "metadata": {
        "colab": {
          "base_uri": "https://localhost:8080/"
        },
        "id": "1Bt-VRMvf4iU",
        "outputId": "4ee522c8-d518-4314-f421-7ccdbb33942d"
      },
      "outputs": [
        {
          "output_type": "stream",
          "name": "stdout",
          "text": [
            "Predicted:    cat  ship  ship plane\n"
          ]
        }
      ],
      "source": [
        "_, predicted = torch.max(outputs, 1)\n",
        "\n",
        "print('Predicted: ', ' '.join('%5s' % CLASSES[predicted[j]]\n",
        "                              for j in range(4)))"
      ]
    },
    {
      "cell_type": "markdown",
      "metadata": {
        "id": "FQYwDNB_f4iW"
      },
      "source": [
        "Протестируем на всем тесте:"
      ]
    },
    {
      "cell_type": "code",
      "execution_count": null,
      "metadata": {
        "colab": {
          "base_uri": "https://localhost:8080/"
        },
        "id": "6ZD9Lxi1f4iX",
        "outputId": "4d0898c6-bc68-4798-ae87-5bd90d03ae1f"
      },
      "outputs": [
        {
          "output_type": "stream",
          "name": "stdout",
          "text": [
            "Accuracy of the network on the 10000 test images: 42 %\n"
          ]
        }
      ],
      "source": [
        "correct = 0\n",
        "total = 0\n",
        "with torch.no_grad():\n",
        "    for data in validation_loader:\n",
        "        images, labels = data\n",
        "        outputs = model(images)\n",
        "        _, predicted = torch.max(outputs.data, 1)\n",
        "        total += labels.size(0)\n",
        "        correct += (predicted == labels).sum().item()\n",
        "\n",
        "print('Accuracy of the network on the 10000 test images: %d %%' % (\n",
        "    100 * correct / total))"
      ]
    },
    {
      "cell_type": "code",
      "execution_count": null,
      "metadata": {
        "colab": {
          "base_uri": "https://localhost:8080/"
        },
        "id": "2uxu2qysf4ia",
        "outputId": "32fc6fe1-93e5-496e-c5d7-545ab2b12cab"
      },
      "outputs": [
        {
          "output_type": "stream",
          "name": "stdout",
          "text": [
            "Accuracy of plane : 49 %\n",
            "Accuracy of   car : 50 %\n",
            "Accuracy of  bird : 22 %\n",
            "Accuracy of   cat : 28 %\n",
            "Accuracy of  deer : 31 %\n",
            "Accuracy of   dog : 31 %\n",
            "Accuracy of  frog : 52 %\n",
            "Accuracy of horse : 49 %\n",
            "Accuracy of  ship : 58 %\n",
            "Accuracy of truck : 47 %\n"
          ]
        }
      ],
      "source": [
        "class_correct = list(0. for i in range(10))\n",
        "class_total = list(0. for i in range(10))\n",
        "BATCH_SIZE = 4\n",
        "\n",
        "with torch.no_grad():\n",
        "    for data in validation_loader:\n",
        "        images, labels = data\n",
        "        #print(labels.dtype) == torch.int64\n",
        "        outputs = model(images)\n",
        "        _, predicted = torch.max(outputs, 1) # Выбираем индексы максимальных вероятностей\n",
        "        c = (predicted == labels).squeeze() # squeeze() returns a tensor with all the dimensions of input of size 1 removed\n",
        "        for i in range(BATCH_SIZE):\n",
        "            label = labels[i]\n",
        "            class_correct[label] += c[i].item() # item() returns the value of this tensor as a standard Python number. This only works for tensors with one element\n",
        "            class_total[label] += 1\n",
        "\n",
        "\n",
        "for i in range(10):\n",
        "    print('Accuracy of %5s : %2d %%' % (\n",
        "        CLASSES[i], 100 * class_correct[i] / class_total[i]))"
      ]
    },
    {
      "cell_type": "markdown",
      "metadata": {
        "id": "kRuFMmwvf4id"
      },
      "source": [
        "Каким образом мы можем улучшить качество распознавания и обучения?\n",
        "1. Добавить **dropout**\n",
        "\n",
        "2. Добавить **batchnorm** (2 семинар)\n",
        "3. Использовать свертки. Но об этом позже :)"
      ]
    },
    {
      "cell_type": "code",
      "execution_count": 7,
      "metadata": {
        "id": "QwjLmYc7f4id"
      },
      "outputs": [],
      "source": [
        "class SecondNet(torch.nn.Module):\n",
        "    def __init__(self, n_hidden_nodes, n_hidden_layers,keep_rate=0.8):\n",
        "        super().__init__()\n",
        "        self.n_hidden_nodes = n_hidden_nodes\n",
        "        self.n_hidden_layers = n_hidden_layers\n",
        "#         if not keep_rate:\n",
        "#             keep_rate = 0.5\n",
        "#         self.keep_rate = keep_rate\n",
        "        # Set up perceptron layers and add dropout\n",
        "        self.fc1 = torch.nn.Linear(IMAGE_HEIGHT * IMAGE_WIDTH * COLOR_CHANNELS,\n",
        "                                   self.n_hidden_nodes)\n",
        "        self.fc1_drop = torch.nn.Dropout(1 - keep_rate) # Dropout(p) -  randomly zeroes some of the elements of the input tensor with probability p \n",
        "        self.out = torch.nn.Linear(self.n_hidden_nodes, N_CLASSES)\n",
        "    \n",
        "    def forward(self, x):\n",
        "        x = x.view(-1, IMAGE_HEIGHT * IMAGE_WIDTH * COLOR_CHANNELS)\n",
        "        sigmoid = torch.nn.Sigmoid()\n",
        "        x = sigmoid(self.fc1(x))\n",
        "        x = self.fc1_drop(x)\n",
        "        return torch.nn.functional.log_softmax(self.out(x))\n"
      ]
    },
    {
      "cell_type": "markdown",
      "source": [
        "В Pytorch есть возможность запускать вычисления на GPU. Но у меня нет GPU."
      ],
      "metadata": {
        "id": "stHFxCMFiGq9"
      }
    },
    {
      "cell_type": "code",
      "execution_count": 8,
      "metadata": {
        "id": "l6aah5zAf4ig"
      },
      "outputs": [],
      "source": [
        "def train(epoch, model, train_loader, optimizer, log_interval=100, cuda=None):\n",
        "  model.train()\n",
        "  correct = 0\n",
        "\n",
        "  for batch_idx, (data,target) in enumerate(train_loader):\n",
        "    data, target = data.requires_grad_(requires_grad=True), target.requires_grad_(requires_grad=False)\n",
        "    optimizer.zero_grad()\n",
        "    output = model(data)\n",
        "\n",
        "    #output.data.shape  = 4 x 10 == batch_size x num_classes\n",
        "    prediction = output.data.max(1)[1] # get the index of the max log-probability, torch.max() returns a named tuple (values, indices) \n",
        "    #(prediction.shape) Size = 4 == batch_size\n",
        "\n",
        "    correct += prediction.eq(target.data).sum()\n",
        "    accuracy = 100. * correct / len(train_loader.dataset)\n",
        "\n",
        "    loss = torch.nn.functional.nll_loss(output, target)\n",
        "    loss.backward()\n",
        "    optimizer.step()\n",
        "\n",
        "    if batch_idx % 10000 == 0:\n",
        "      print('Train Epoch: {} [{}/{} ({:.0f}%)]\\tLoss: {:.6f}'.format(\n",
        "          epoch, batch_idx * len(data), len(train_loader.dataset),\n",
        "          100. * batch_idx / len(train_loader), loss.data, accuracy))"
      ]
    },
    {
      "cell_type": "code",
      "source": [
        "def validate(loss_vector, accuracy_vector, model, validation_loader, cuda=None):\n",
        "  model.eval()\n",
        "  correct, val_loss = 0, 0\n",
        "\n",
        "  for data, target in validation_loader:\n",
        "    data, target = data.requires_grad_(requires_grad = False), target.requires_grad_(requires_grad = False)\n",
        "    output = model(data)\n",
        "    prediction = output.data.max(1)[1] # get the index of the max log-probability, torch.max() returns a named tuple (values, indices) \n",
        "\n",
        "    correct += prediction.eq(target.data).sum()\n",
        "    val_loss += torch.nn.functional.nll_loss(output, target).data\n",
        "\n",
        "  accuracy = 100. * correct / len(validation_loader.dataset)\n",
        "  accuracy_vector.append(accuracy)\n",
        "\n",
        "  val_loss /= len(validation_loader)\n",
        "  loss_vector.append(val_loss)\n",
        "\n",
        "  print('\\nValidation set: Average loss: {:.4f}, Accuracy: {}/{} ({:.0f}%)\\n'.format(\n",
        "  val_loss, correct, len(validation_loader.dataset), accuracy))"
      ],
      "metadata": {
        "id": "v94p75xvWkx_"
      },
      "execution_count": 9,
      "outputs": []
    },
    {
      "cell_type": "code",
      "source": [
        "hidden_nodes = 10\n",
        "hidden_layers = 1\n",
        "\n",
        "model = SecondNet(hidden_nodes, hidden_layers, keep_rate=0.8)\n",
        "optimizer = torch.optim.SGD(model.parameters(), lr = LEARNING_RATE)\n",
        "\n",
        "loss_vector = []\n",
        "accuracy_vector = []\n",
        "\n",
        "for epoch in range(1, EPOCHS + 1):\n",
        "  train(epoch, model, train_loader, optimizer, log_interval=100, cuda=None)\n",
        "  validate(loss_vector, accuracy_vector, model, validation_loader, cuda=None)\n",
        "\n",
        "  if epoch == 40:\n",
        "    break"
      ],
      "metadata": {
        "colab": {
          "base_uri": "https://localhost:8080/"
        },
        "id": "DiZde1PYcgwy",
        "outputId": "b2f64c89-c13c-4d08-8cf2-dd525031e55a"
      },
      "execution_count": 10,
      "outputs": [
        {
          "output_type": "stream",
          "name": "stdout",
          "text": [
            "Train Epoch: 1 [0/50000 (0%)]\tLoss: 2.500815\n",
            "Train Epoch: 1 [40000/50000 (80%)]\tLoss: 1.993960\n",
            "\n",
            "Validation set: Average loss: 2.0797, Accuracy: 2965/10000 (30%)\n",
            "\n",
            "Train Epoch: 2 [0/50000 (0%)]\tLoss: 1.827877\n",
            "Train Epoch: 2 [40000/50000 (80%)]\tLoss: 2.353480\n",
            "\n",
            "Validation set: Average loss: 1.9926, Accuracy: 3076/10000 (31%)\n",
            "\n",
            "Train Epoch: 3 [0/50000 (0%)]\tLoss: 2.239818\n",
            "Train Epoch: 3 [40000/50000 (80%)]\tLoss: 1.659359\n",
            "\n",
            "Validation set: Average loss: 1.9432, Accuracy: 3315/10000 (33%)\n",
            "\n",
            "Train Epoch: 4 [0/50000 (0%)]\tLoss: 2.628880\n",
            "Train Epoch: 4 [40000/50000 (80%)]\tLoss: 1.723128\n",
            "\n",
            "Validation set: Average loss: 1.9102, Accuracy: 3439/10000 (34%)\n",
            "\n",
            "Train Epoch: 5 [0/50000 (0%)]\tLoss: 1.846968\n",
            "Train Epoch: 5 [40000/50000 (80%)]\tLoss: 2.527075\n",
            "\n",
            "Validation set: Average loss: 1.8851, Accuracy: 3518/10000 (35%)\n",
            "\n",
            "Train Epoch: 6 [0/50000 (0%)]\tLoss: 1.738587\n",
            "Train Epoch: 6 [40000/50000 (80%)]\tLoss: 1.313033\n",
            "\n",
            "Validation set: Average loss: 1.8653, Accuracy: 3615/10000 (36%)\n",
            "\n",
            "Train Epoch: 7 [0/50000 (0%)]\tLoss: 2.120223\n",
            "Train Epoch: 7 [40000/50000 (80%)]\tLoss: 1.688246\n",
            "\n",
            "Validation set: Average loss: 1.8495, Accuracy: 3645/10000 (36%)\n",
            "\n",
            "Train Epoch: 8 [0/50000 (0%)]\tLoss: 2.066117\n",
            "Train Epoch: 8 [40000/50000 (80%)]\tLoss: 1.460772\n",
            "\n",
            "Validation set: Average loss: 1.8347, Accuracy: 3710/10000 (37%)\n",
            "\n",
            "Train Epoch: 9 [0/50000 (0%)]\tLoss: 2.162999\n",
            "Train Epoch: 9 [40000/50000 (80%)]\tLoss: 2.140314\n",
            "\n",
            "Validation set: Average loss: 1.8208, Accuracy: 3745/10000 (37%)\n",
            "\n",
            "Train Epoch: 10 [0/50000 (0%)]\tLoss: 1.609622\n",
            "Train Epoch: 10 [40000/50000 (80%)]\tLoss: 1.766511\n",
            "\n",
            "Validation set: Average loss: 1.8118, Accuracy: 3757/10000 (38%)\n",
            "\n",
            "Train Epoch: 11 [0/50000 (0%)]\tLoss: 2.118091\n",
            "Train Epoch: 11 [40000/50000 (80%)]\tLoss: 1.967738\n",
            "\n",
            "Validation set: Average loss: 1.8018, Accuracy: 3814/10000 (38%)\n",
            "\n",
            "Train Epoch: 12 [0/50000 (0%)]\tLoss: 2.160534\n",
            "Train Epoch: 12 [40000/50000 (80%)]\tLoss: 1.675630\n",
            "\n",
            "Validation set: Average loss: 1.7924, Accuracy: 3820/10000 (38%)\n",
            "\n",
            "Train Epoch: 13 [0/50000 (0%)]\tLoss: 2.352968\n",
            "Train Epoch: 13 [40000/50000 (80%)]\tLoss: 1.335597\n",
            "\n",
            "Validation set: Average loss: 1.7859, Accuracy: 3826/10000 (38%)\n",
            "\n",
            "Train Epoch: 14 [0/50000 (0%)]\tLoss: 1.995733\n",
            "Train Epoch: 14 [40000/50000 (80%)]\tLoss: 1.586338\n",
            "\n",
            "Validation set: Average loss: 1.7793, Accuracy: 3852/10000 (39%)\n",
            "\n",
            "Train Epoch: 15 [0/50000 (0%)]\tLoss: 2.316114\n",
            "Train Epoch: 15 [40000/50000 (80%)]\tLoss: 2.061146\n",
            "\n",
            "Validation set: Average loss: 1.7743, Accuracy: 3856/10000 (39%)\n",
            "\n",
            "Train Epoch: 16 [0/50000 (0%)]\tLoss: 1.354931\n",
            "Train Epoch: 16 [40000/50000 (80%)]\tLoss: 1.504144\n",
            "\n",
            "Validation set: Average loss: 1.7685, Accuracy: 3878/10000 (39%)\n",
            "\n",
            "Train Epoch: 17 [0/50000 (0%)]\tLoss: 1.842695\n",
            "Train Epoch: 17 [40000/50000 (80%)]\tLoss: 2.056784\n",
            "\n",
            "Validation set: Average loss: 1.7635, Accuracy: 3905/10000 (39%)\n",
            "\n",
            "Train Epoch: 18 [0/50000 (0%)]\tLoss: 1.712516\n",
            "Train Epoch: 18 [40000/50000 (80%)]\tLoss: 1.391235\n",
            "\n",
            "Validation set: Average loss: 1.7608, Accuracy: 3900/10000 (39%)\n",
            "\n",
            "Train Epoch: 19 [0/50000 (0%)]\tLoss: 2.260030\n",
            "Train Epoch: 19 [40000/50000 (80%)]\tLoss: 1.323583\n",
            "\n",
            "Validation set: Average loss: 1.7559, Accuracy: 3926/10000 (39%)\n",
            "\n",
            "Train Epoch: 20 [0/50000 (0%)]\tLoss: 2.416939\n",
            "Train Epoch: 20 [40000/50000 (80%)]\tLoss: 1.716717\n",
            "\n",
            "Validation set: Average loss: 1.7522, Accuracy: 3959/10000 (40%)\n",
            "\n",
            "Train Epoch: 21 [0/50000 (0%)]\tLoss: 1.653569\n",
            "Train Epoch: 21 [40000/50000 (80%)]\tLoss: 1.819184\n",
            "\n",
            "Validation set: Average loss: 1.7519, Accuracy: 3923/10000 (39%)\n",
            "\n",
            "Train Epoch: 22 [0/50000 (0%)]\tLoss: 2.195607\n",
            "Train Epoch: 22 [40000/50000 (80%)]\tLoss: 1.623641\n",
            "\n",
            "Validation set: Average loss: 1.7472, Accuracy: 3971/10000 (40%)\n",
            "\n",
            "Train Epoch: 23 [0/50000 (0%)]\tLoss: 1.573413\n",
            "Train Epoch: 23 [40000/50000 (80%)]\tLoss: 1.902552\n",
            "\n",
            "Validation set: Average loss: 1.7445, Accuracy: 3956/10000 (40%)\n",
            "\n",
            "Train Epoch: 24 [0/50000 (0%)]\tLoss: 1.577302\n",
            "Train Epoch: 24 [40000/50000 (80%)]\tLoss: 1.632142\n",
            "\n",
            "Validation set: Average loss: 1.7435, Accuracy: 3945/10000 (39%)\n",
            "\n",
            "Train Epoch: 25 [0/50000 (0%)]\tLoss: 1.525099\n",
            "Train Epoch: 25 [40000/50000 (80%)]\tLoss: 1.987805\n",
            "\n",
            "Validation set: Average loss: 1.7404, Accuracy: 3957/10000 (40%)\n",
            "\n",
            "Train Epoch: 26 [0/50000 (0%)]\tLoss: 2.305467\n",
            "Train Epoch: 26 [40000/50000 (80%)]\tLoss: 1.445510\n",
            "\n",
            "Validation set: Average loss: 1.7367, Accuracy: 3988/10000 (40%)\n",
            "\n",
            "Train Epoch: 27 [0/50000 (0%)]\tLoss: 2.134759\n",
            "Train Epoch: 27 [40000/50000 (80%)]\tLoss: 1.655241\n",
            "\n",
            "Validation set: Average loss: 1.7347, Accuracy: 3998/10000 (40%)\n",
            "\n",
            "Train Epoch: 28 [0/50000 (0%)]\tLoss: 1.551560\n",
            "Train Epoch: 28 [40000/50000 (80%)]\tLoss: 1.271066\n",
            "\n",
            "Validation set: Average loss: 1.7337, Accuracy: 3989/10000 (40%)\n",
            "\n",
            "Train Epoch: 29 [0/50000 (0%)]\tLoss: 1.417517\n",
            "Train Epoch: 29 [40000/50000 (80%)]\tLoss: 1.467835\n",
            "\n",
            "Validation set: Average loss: 1.7321, Accuracy: 3998/10000 (40%)\n",
            "\n",
            "Train Epoch: 30 [0/50000 (0%)]\tLoss: 2.500862\n",
            "Train Epoch: 30 [40000/50000 (80%)]\tLoss: 2.226599\n",
            "\n",
            "Validation set: Average loss: 1.7308, Accuracy: 4033/10000 (40%)\n",
            "\n",
            "Train Epoch: 31 [0/50000 (0%)]\tLoss: 1.201401\n",
            "Train Epoch: 31 [40000/50000 (80%)]\tLoss: 1.442394\n",
            "\n",
            "Validation set: Average loss: 1.7292, Accuracy: 3992/10000 (40%)\n",
            "\n",
            "Train Epoch: 32 [0/50000 (0%)]\tLoss: 1.244595\n",
            "Train Epoch: 32 [40000/50000 (80%)]\tLoss: 2.320341\n",
            "\n",
            "Validation set: Average loss: 1.7274, Accuracy: 4039/10000 (40%)\n",
            "\n",
            "Train Epoch: 33 [0/50000 (0%)]\tLoss: 1.280511\n",
            "Train Epoch: 33 [40000/50000 (80%)]\tLoss: 1.963706\n",
            "\n",
            "Validation set: Average loss: 1.7240, Accuracy: 4027/10000 (40%)\n",
            "\n",
            "Train Epoch: 34 [0/50000 (0%)]\tLoss: 1.785830\n",
            "Train Epoch: 34 [40000/50000 (80%)]\tLoss: 1.934691\n",
            "\n",
            "Validation set: Average loss: 1.7236, Accuracy: 4030/10000 (40%)\n",
            "\n",
            "Train Epoch: 35 [0/50000 (0%)]\tLoss: 2.805678\n",
            "Train Epoch: 35 [40000/50000 (80%)]\tLoss: 1.734892\n",
            "\n",
            "Validation set: Average loss: 1.7234, Accuracy: 4028/10000 (40%)\n",
            "\n",
            "Train Epoch: 36 [0/50000 (0%)]\tLoss: 1.834257\n",
            "Train Epoch: 36 [40000/50000 (80%)]\tLoss: 1.457037\n",
            "\n",
            "Validation set: Average loss: 1.7231, Accuracy: 4007/10000 (40%)\n",
            "\n",
            "Train Epoch: 37 [0/50000 (0%)]\tLoss: 2.029282\n",
            "Train Epoch: 37 [40000/50000 (80%)]\tLoss: 1.730948\n",
            "\n",
            "Validation set: Average loss: 1.7203, Accuracy: 4044/10000 (40%)\n",
            "\n",
            "Train Epoch: 38 [0/50000 (0%)]\tLoss: 1.455665\n",
            "Train Epoch: 38 [40000/50000 (80%)]\tLoss: 2.022912\n",
            "\n",
            "Validation set: Average loss: 1.7196, Accuracy: 4026/10000 (40%)\n",
            "\n",
            "Train Epoch: 39 [0/50000 (0%)]\tLoss: 2.577019\n",
            "Train Epoch: 39 [40000/50000 (80%)]\tLoss: 1.677971\n",
            "\n",
            "Validation set: Average loss: 1.7188, Accuracy: 4027/10000 (40%)\n",
            "\n",
            "Train Epoch: 40 [0/50000 (0%)]\tLoss: 2.078304\n",
            "Train Epoch: 40 [40000/50000 (80%)]\tLoss: 1.079767\n",
            "\n",
            "Validation set: Average loss: 1.7185, Accuracy: 4036/10000 (40%)\n",
            "\n"
          ]
        }
      ]
    },
    {
      "cell_type": "code",
      "execution_count": 12,
      "metadata": {
        "id": "u3SvVLEAp4xg"
      },
      "outputs": [],
      "source": [
        "# to save model use torch.save(model.state_dict(), 'Second_Net.pt') \n",
        "torch.save(model.state_dict(), 'Second_Net.pt')\n",
        "# to load use model.load_state_dict(torch.load('Second_Model.pt'))"
      ]
    },
    {
      "cell_type": "code",
      "execution_count": 14,
      "metadata": {
        "colab": {
          "base_uri": "https://localhost:8080/",
          "height": 279
        },
        "id": "p0Q-D23Qf4ii",
        "outputId": "e2a3da69-c8a0-4b7b-aa86-8c5410efc567"
      },
      "outputs": [
        {
          "output_type": "display_data",
          "data": {
            "text/plain": [
              "<Figure size 432x288 with 1 Axes>"
            ],
            "image/png": "[encoded data removed]"
          },
          "metadata": {
            "needs_background": "light"
          }
        }
      ],
      "source": [
        "# Plot train loss and validation accuracy vs epochs for each learning rate\n",
        "epochs = [i for i in range(1, 41)]\n",
        "plt.plot(epochs, loss_vector)\n",
        "plt.xlabel(\"Epochs\")\n",
        "plt.ylabel(\"Loss\")\n",
        "plt.show()"
      ]
    },
    {
      "cell_type": "code",
      "source": [
        "# Accuracy, full test\n",
        "correct = 0\n",
        "total = 0\n",
        "\n",
        "with torch.no_grad():\n",
        "  for data, target in validation_loader:\n",
        "    output = model(data)\n",
        "    _, predict = torch.max(output.data, 1) # get the index of the max log-probability, torch.max() returns a named tuple (values, indices) \n",
        "\n",
        "    correct += predict.eq(target.data).sum()\n",
        "    total += target.size(0)\n",
        "\n",
        "  print('Accuracy of the network on the 10000 test images: %d %%' % (\n",
        "    100 * correct / total))"
      ],
      "metadata": {
        "colab": {
          "base_uri": "https://localhost:8080/"
        },
        "id": "JjKwt-dKYhkN",
        "outputId": "6e19abdc-cf28-488e-8c2c-b7614cb2529f"
      },
      "execution_count": 16,
      "outputs": [
        {
          "output_type": "stream",
          "name": "stdout",
          "text": [
            "Accuracy of the network on the 10000 test images: 40 %\n"
          ]
        }
      ]
    },
    {
      "cell_type": "code",
      "source": [
        "class_correct = list(0. for i in range(N_CLASSES))\n",
        "class_total = list(0. for i in range(N_CLASSES))\n",
        "\n",
        "with torch.no_grad():\n",
        "  for data, targets in validation_loader:\n",
        "    output = model(data)\n",
        "    _, predict = torch.max(output.data, 1) # get the index of the max log-probability, torch.max() returns a named tuple (values, indices) \n",
        "\n",
        "    correct = predict.eq(targets).squeeze(0) # squeeze() returns a tensor with all the dimensions of input of size 1 removed\n",
        "\n",
        "    for batch in range(BATCH_SIZE):\n",
        "      num_class = targets[batch]\n",
        "      class_correct[num_class] += correct[batch].item()\n",
        "      class_total[num_class] += 1\n",
        "\n",
        "for i in range(N_CLASSES):\n",
        "    print('Accuracy of %5s : %2d %%' % (\n",
        "        CLASSES[i], 100 * class_correct[i] / class_total[i]))"
      ],
      "metadata": {
        "colab": {
          "base_uri": "https://localhost:8080/"
        },
        "id": "RZgS1FLbaTJE",
        "outputId": "24736abe-fbf1-4158-fd75-9079af02d13a"
      },
      "execution_count": 18,
      "outputs": [
        {
          "output_type": "stream",
          "name": "stdout",
          "text": [
            "Accuracy of plane : 48 %\n",
            "Accuracy of   car : 47 %\n",
            "Accuracy of  bird :  8 %\n",
            "Accuracy of   cat : 14 %\n",
            "Accuracy of  deer : 40 %\n",
            "Accuracy of   dog : 33 %\n",
            "Accuracy of  frog : 54 %\n",
            "Accuracy of horse : 50 %\n",
            "Accuracy of  ship : 56 %\n",
            "Accuracy of truck : 49 %\n"
          ]
        }
      ]
    },
    {
      "cell_type": "markdown",
      "metadata": {
        "id": "y9US-3ZjrSBI"
      },
      "source": [
        "Попробуйте самостоятельно написать двуслойную сеть с дропаутом. Получилось ли улучшить результат?"
      ]
    },
    {
      "cell_type": "code",
      "execution_count": 55,
      "metadata": {
        "id": "UZj3d7h7tRu9"
      },
      "outputs": [],
      "source": [
        "class TwoLayerNet(torch.nn.Module):\n",
        "    def __init__(self, n_hidden_nodes, keep_rate = 0.5):\n",
        "        super(TwoLayerNet, self).__init__()\n",
        "        self.n_hidden_nodes = n_hidden_nodes\n",
        "        # if not keep_rate:\n",
        "        #    keep_rate = 0.5\n",
        "        self.keep_rate = keep_rate\n",
        "\n",
        "        # Set up perceptron layers and add dropout\n",
        "        self.hidden1 = torch.nn.Linear(IMAGE_HEIGHT * IMAGE_WIDTH * COLOR_CHANNELS,\n",
        "                                   n_hidden_nodes)\n",
        "        self.hidden1_drop = torch.nn.Dropout(1 - keep_rate)\n",
        "\n",
        "        self.hidden2 = torch.nn.Linear(n_hidden_nodes, n_hidden_nodes)\n",
        "        self.hidden2_drop = torch.nn.Dropout(1 - keep_rate)\n",
        "\n",
        "        self.out = torch.nn.Linear(n_hidden_nodes, N_CLASSES)\n",
        "    \n",
        "    def forward(self, x):\n",
        "        x = x.view(-1, IMAGE_HEIGHT * IMAGE_WIDTH * COLOR_CHANNELS)\n",
        "\n",
        "        #sigmoid = torch.nn.Sigmoid()\n",
        "        relu = torch.nn.ReLU()\n",
        "        \n",
        "        x = relu(self.hidden1(x))\n",
        "        x = self.hidden1_drop(x)\n",
        "        x = relu(self.hidden2(x))\n",
        "        x = self.hidden2_drop(x)\n",
        "\n",
        "        return torch.nn.functional.log_softmax(self.out(x))"
      ]
    },
    {
      "cell_type": "code",
      "execution_count": 56,
      "metadata": {
        "id": "VFtgxjJ6rPVr"
      },
      "outputs": [],
      "source": [
        "def train(train_loader, model, optimizer, epoch, cuda=None):\n",
        "  model.train()\n",
        "  correct = 0\n",
        "\n",
        "  for batch_idx, (data, target) in enumerate(train_loader):\n",
        "    if cuda:\n",
        "      data, target = data.cuda(), target.cuda()\n",
        "    data, target = data.requires_grad_(requires_grad = True), target.requires_grad_(requires_grad = False)\n",
        "    optimizer.zero_grad()\n",
        "\n",
        "    output = model(data)\n",
        "    _, predict = torch.max(output.data, 1) # get the index of the max log-probability, torch.max() returns a named tuple (values, indices) \n",
        "\n",
        "    correct += predict.eq(target).sum()\n",
        "    accuracy = 100. * correct / len(train_loader.dataset)\n",
        "\n",
        "    loss = torch.nn.functional.nll_loss(output, target)\n",
        "    loss.backward()\n",
        "    optimizer.step()\n",
        "\n",
        "    if batch_idx % 10000 == 0:\n",
        "            print('Train Epoch: {} [{}/{} ({:.0f}%)]\\tLoss: {:.6f}'.format(\n",
        "                epoch, batch_idx * len(data), len(train_loader.dataset),\n",
        "                100. * batch_idx / len(train_loader), loss.data, accuracy))"
      ]
    },
    {
      "cell_type": "code",
      "source": [
        "def validate(validation_loader, model, accuracy_vector, loss_vector, cuda = None):\n",
        "  model.eval()\n",
        "  correct, loss_val = 0, 0\n",
        "\n",
        "  for data, target in validation_loader:\n",
        "    if cuda:\n",
        "      data, target = data.cuda(), target.cuda()\n",
        "    data, target = data.requires_grad_(requires_grad = False), target.requires_grad_(requires_grad = False)\n",
        "\n",
        "    output = model(data)\n",
        "    predict = output.data.max(1)[1]\n",
        "\n",
        "    correct += predict.eq(target.data).cpu().sum()\n",
        "    loss_val += torch.nn.functional.nll_loss(output, target).data\n",
        "\n",
        "  accuracy = 100. * correct / len(validation_loader.dataset)\n",
        "  accuracy_vector.append(accuracy)\n",
        "\n",
        "  loss_val /= len(validation_loader) # len(validation_loader) == len(dataset) / BATCH_SIZE = NUMBER OF BATCHES\n",
        "  loss_vector.append(loss_val)\n",
        "\n",
        "  print('\\nValidation set: Average loss: {:.4f}, Accuracy: {}/{} ({:.0f}%)\\n'.format(\n",
        "          loss_val, correct, len(validation_loader.dataset), accuracy))"
      ],
      "metadata": {
        "id": "EqvQWcQUhgZz"
      },
      "execution_count": 57,
      "outputs": []
    },
    {
      "cell_type": "code",
      "source": [
        "hidden_nodes = 10\n",
        "model = TwoLayerNet(hidden_nodes, keep_rate = 0.8)\n",
        "optimizer = torch.optim.SGD(model.parameters(), lr = LEARNING_RATE)\n",
        "\n",
        "accuracy_vector = []\n",
        "loss_vector = []\n",
        "\n",
        "for epoch in range(1, EPOCHS + 1):\n",
        "  train(train_loader, model, optimizer, epoch, cuda=None)\n",
        "  validate(validation_loader, model, accuracy_vector, loss_vector, cuda = None)\n",
        "\n",
        "  if epoch == 40:\n",
        "    break"
      ],
      "metadata": {
        "colab": {
          "base_uri": "https://localhost:8080/"
        },
        "id": "c-75AqsVjlHP",
        "outputId": "5fffecae-1b55-4278-a64f-9cb097b76352"
      },
      "execution_count": 58,
      "outputs": [
        {
          "output_type": "stream",
          "name": "stdout",
          "text": [
            "Train Epoch: 1 [0/50000 (0%)]\tLoss: 2.270833\n",
            "Train Epoch: 1 [40000/50000 (80%)]\tLoss: 2.056913\n",
            "\n",
            "Validation set: Average loss: 2.0762, Accuracy: 2385/10000 (24%)\n",
            "\n",
            "Train Epoch: 2 [0/50000 (0%)]\tLoss: 2.230480\n",
            "Train Epoch: 2 [40000/50000 (80%)]\tLoss: 1.460400\n",
            "\n",
            "Validation set: Average loss: 1.9416, Accuracy: 3074/10000 (31%)\n",
            "\n",
            "Train Epoch: 3 [0/50000 (0%)]\tLoss: 2.046359\n",
            "Train Epoch: 3 [40000/50000 (80%)]\tLoss: 2.011921\n",
            "\n",
            "Validation set: Average loss: 1.8898, Accuracy: 3258/10000 (33%)\n",
            "\n",
            "Train Epoch: 4 [0/50000 (0%)]\tLoss: 1.814999\n",
            "Train Epoch: 4 [40000/50000 (80%)]\tLoss: 1.775622\n",
            "\n",
            "Validation set: Average loss: 1.8525, Accuracy: 3430/10000 (34%)\n",
            "\n",
            "Train Epoch: 5 [0/50000 (0%)]\tLoss: 2.450066\n",
            "Train Epoch: 5 [40000/50000 (80%)]\tLoss: 2.103576\n",
            "\n",
            "Validation set: Average loss: 1.8185, Accuracy: 3482/10000 (35%)\n",
            "\n",
            "Train Epoch: 6 [0/50000 (0%)]\tLoss: 1.581342\n",
            "Train Epoch: 6 [40000/50000 (80%)]\tLoss: 1.443613\n",
            "\n",
            "Validation set: Average loss: 1.7917, Accuracy: 3602/10000 (36%)\n",
            "\n",
            "Train Epoch: 7 [0/50000 (0%)]\tLoss: 1.418420\n",
            "Train Epoch: 7 [40000/50000 (80%)]\tLoss: 1.727887\n",
            "\n",
            "Validation set: Average loss: 1.7799, Accuracy: 3577/10000 (36%)\n",
            "\n",
            "Train Epoch: 8 [0/50000 (0%)]\tLoss: 1.956864\n",
            "Train Epoch: 8 [40000/50000 (80%)]\tLoss: 2.118093\n",
            "\n",
            "Validation set: Average loss: 1.7793, Accuracy: 3648/10000 (36%)\n",
            "\n",
            "Train Epoch: 9 [0/50000 (0%)]\tLoss: 2.205445\n",
            "Train Epoch: 9 [40000/50000 (80%)]\tLoss: 2.119516\n",
            "\n",
            "Validation set: Average loss: 1.7746, Accuracy: 3655/10000 (37%)\n",
            "\n",
            "Train Epoch: 10 [0/50000 (0%)]\tLoss: 1.826595\n",
            "Train Epoch: 10 [40000/50000 (80%)]\tLoss: 2.040817\n",
            "\n",
            "Validation set: Average loss: 1.7805, Accuracy: 3646/10000 (36%)\n",
            "\n",
            "Train Epoch: 11 [0/50000 (0%)]\tLoss: 2.012073\n",
            "Train Epoch: 11 [40000/50000 (80%)]\tLoss: 1.842951\n",
            "\n",
            "Validation set: Average loss: 1.7682, Accuracy: 3656/10000 (37%)\n",
            "\n",
            "Train Epoch: 12 [0/50000 (0%)]\tLoss: 1.481008\n",
            "Train Epoch: 12 [40000/50000 (80%)]\tLoss: 2.155751\n",
            "\n",
            "Validation set: Average loss: 1.7667, Accuracy: 3711/10000 (37%)\n",
            "\n",
            "Train Epoch: 13 [0/50000 (0%)]\tLoss: 1.712079\n",
            "Train Epoch: 13 [40000/50000 (80%)]\tLoss: 2.108691\n",
            "\n",
            "Validation set: Average loss: 1.7612, Accuracy: 3684/10000 (37%)\n",
            "\n",
            "Train Epoch: 14 [0/50000 (0%)]\tLoss: 1.583206\n",
            "Train Epoch: 14 [40000/50000 (80%)]\tLoss: 1.494864\n",
            "\n",
            "Validation set: Average loss: 1.7621, Accuracy: 3737/10000 (37%)\n",
            "\n",
            "Train Epoch: 15 [0/50000 (0%)]\tLoss: 1.989506\n",
            "Train Epoch: 15 [40000/50000 (80%)]\tLoss: 1.702625\n",
            "\n",
            "Validation set: Average loss: 1.7578, Accuracy: 3660/10000 (37%)\n",
            "\n",
            "Train Epoch: 16 [0/50000 (0%)]\tLoss: 1.877803\n",
            "Train Epoch: 16 [40000/50000 (80%)]\tLoss: 1.312389\n",
            "\n",
            "Validation set: Average loss: 1.7552, Accuracy: 3711/10000 (37%)\n",
            "\n",
            "Train Epoch: 17 [0/50000 (0%)]\tLoss: 3.197039\n",
            "Train Epoch: 17 [40000/50000 (80%)]\tLoss: 1.726688\n",
            "\n",
            "Validation set: Average loss: 1.7577, Accuracy: 3721/10000 (37%)\n",
            "\n",
            "Train Epoch: 18 [0/50000 (0%)]\tLoss: 2.273419\n",
            "Train Epoch: 18 [40000/50000 (80%)]\tLoss: 1.807657\n",
            "\n",
            "Validation set: Average loss: 1.7587, Accuracy: 3754/10000 (38%)\n",
            "\n",
            "Train Epoch: 19 [0/50000 (0%)]\tLoss: 2.710970\n",
            "Train Epoch: 19 [40000/50000 (80%)]\tLoss: 1.384458\n",
            "\n",
            "Validation set: Average loss: 1.7516, Accuracy: 3742/10000 (37%)\n",
            "\n",
            "Train Epoch: 20 [0/50000 (0%)]\tLoss: 1.773245\n",
            "Train Epoch: 20 [40000/50000 (80%)]\tLoss: 1.764331\n",
            "\n",
            "Validation set: Average loss: 1.7452, Accuracy: 3775/10000 (38%)\n",
            "\n",
            "Train Epoch: 21 [0/50000 (0%)]\tLoss: 1.188720\n",
            "Train Epoch: 21 [40000/50000 (80%)]\tLoss: 1.844363\n",
            "\n",
            "Validation set: Average loss: 1.7495, Accuracy: 3751/10000 (38%)\n",
            "\n",
            "Train Epoch: 22 [0/50000 (0%)]\tLoss: 1.864541\n",
            "Train Epoch: 22 [40000/50000 (80%)]\tLoss: 1.352364\n",
            "\n",
            "Validation set: Average loss: 1.7432, Accuracy: 3718/10000 (37%)\n",
            "\n",
            "Train Epoch: 23 [0/50000 (0%)]\tLoss: 2.265466\n",
            "Train Epoch: 23 [40000/50000 (80%)]\tLoss: 2.664563\n",
            "\n",
            "Validation set: Average loss: 1.7464, Accuracy: 3769/10000 (38%)\n",
            "\n",
            "Train Epoch: 24 [0/50000 (0%)]\tLoss: 1.913635\n",
            "Train Epoch: 24 [40000/50000 (80%)]\tLoss: 1.692075\n",
            "\n",
            "Validation set: Average loss: 1.7477, Accuracy: 3718/10000 (37%)\n",
            "\n",
            "Train Epoch: 25 [0/50000 (0%)]\tLoss: 1.738589\n",
            "Train Epoch: 25 [40000/50000 (80%)]\tLoss: 1.713232\n",
            "\n",
            "Validation set: Average loss: 1.7370, Accuracy: 3754/10000 (38%)\n",
            "\n",
            "Train Epoch: 26 [0/50000 (0%)]\tLoss: 1.133832\n",
            "Train Epoch: 26 [40000/50000 (80%)]\tLoss: 2.185338\n",
            "\n",
            "Validation set: Average loss: 1.7448, Accuracy: 3781/10000 (38%)\n",
            "\n",
            "Train Epoch: 27 [0/50000 (0%)]\tLoss: 2.584897\n",
            "Train Epoch: 27 [40000/50000 (80%)]\tLoss: 2.204185\n",
            "\n",
            "Validation set: Average loss: 1.7409, Accuracy: 3744/10000 (37%)\n",
            "\n",
            "Train Epoch: 28 [0/50000 (0%)]\tLoss: 1.855566\n",
            "Train Epoch: 28 [40000/50000 (80%)]\tLoss: 1.810032\n",
            "\n",
            "Validation set: Average loss: 1.7411, Accuracy: 3787/10000 (38%)\n",
            "\n",
            "Train Epoch: 29 [0/50000 (0%)]\tLoss: 1.441539\n",
            "Train Epoch: 29 [40000/50000 (80%)]\tLoss: 1.344813\n",
            "\n",
            "Validation set: Average loss: 1.7335, Accuracy: 3774/10000 (38%)\n",
            "\n",
            "Train Epoch: 30 [0/50000 (0%)]\tLoss: 2.682318\n",
            "Train Epoch: 30 [40000/50000 (80%)]\tLoss: 1.951454\n",
            "\n",
            "Validation set: Average loss: 1.7344, Accuracy: 3867/10000 (39%)\n",
            "\n",
            "Train Epoch: 31 [0/50000 (0%)]\tLoss: 1.767683\n",
            "Train Epoch: 31 [40000/50000 (80%)]\tLoss: 2.373953\n",
            "\n",
            "Validation set: Average loss: 1.7324, Accuracy: 3902/10000 (39%)\n",
            "\n",
            "Train Epoch: 32 [0/50000 (0%)]\tLoss: 2.050836\n",
            "Train Epoch: 32 [40000/50000 (80%)]\tLoss: 1.457923\n",
            "\n",
            "Validation set: Average loss: 1.7306, Accuracy: 3843/10000 (38%)\n",
            "\n",
            "Train Epoch: 33 [0/50000 (0%)]\tLoss: 2.077692\n",
            "Train Epoch: 33 [40000/50000 (80%)]\tLoss: 1.634436\n",
            "\n",
            "Validation set: Average loss: 1.7271, Accuracy: 3869/10000 (39%)\n",
            "\n",
            "Train Epoch: 34 [0/50000 (0%)]\tLoss: 2.160379\n",
            "Train Epoch: 34 [40000/50000 (80%)]\tLoss: 2.367970\n",
            "\n",
            "Validation set: Average loss: 1.7298, Accuracy: 3866/10000 (39%)\n",
            "\n",
            "Train Epoch: 35 [0/50000 (0%)]\tLoss: 1.916930\n",
            "Train Epoch: 35 [40000/50000 (80%)]\tLoss: 1.694976\n",
            "\n",
            "Validation set: Average loss: 1.7264, Accuracy: 3800/10000 (38%)\n",
            "\n",
            "Train Epoch: 36 [0/50000 (0%)]\tLoss: 1.819574\n",
            "Train Epoch: 36 [40000/50000 (80%)]\tLoss: 2.013878\n",
            "\n",
            "Validation set: Average loss: 1.7275, Accuracy: 3856/10000 (39%)\n",
            "\n",
            "Train Epoch: 37 [0/50000 (0%)]\tLoss: 1.996183\n",
            "Train Epoch: 37 [40000/50000 (80%)]\tLoss: 2.157031\n",
            "\n",
            "Validation set: Average loss: 1.7211, Accuracy: 3850/10000 (38%)\n",
            "\n",
            "Train Epoch: 38 [0/50000 (0%)]\tLoss: 1.922347\n",
            "Train Epoch: 38 [40000/50000 (80%)]\tLoss: 2.051045\n",
            "\n",
            "Validation set: Average loss: 1.7264, Accuracy: 3791/10000 (38%)\n",
            "\n",
            "Train Epoch: 39 [0/50000 (0%)]\tLoss: 2.098821\n",
            "Train Epoch: 39 [40000/50000 (80%)]\tLoss: 1.740796\n",
            "\n",
            "Validation set: Average loss: 1.7218, Accuracy: 3857/10000 (39%)\n",
            "\n",
            "Train Epoch: 40 [0/50000 (0%)]\tLoss: 1.583052\n",
            "Train Epoch: 40 [40000/50000 (80%)]\tLoss: 1.846485\n",
            "\n",
            "Validation set: Average loss: 1.7207, Accuracy: 3873/10000 (39%)\n",
            "\n"
          ]
        }
      ]
    },
    {
      "cell_type": "code",
      "source": [
        "# to save model use torch.save(model.state_dict(), 'TwoLayerNet.pt') \n",
        "torch.save(model.state_dict(), 'TwoLayerNetSigmoid.pt')\n",
        "# to load use model.load_state_dict(torch.load('TwoLayerNet.pt'))"
      ],
      "metadata": {
        "id": "WhTNjmhYnRpy"
      },
      "execution_count": 40,
      "outputs": []
    },
    {
      "cell_type": "code",
      "source": [
        "# Accuracy, full test\n",
        "correct = 0\n",
        "total = 0\n",
        "\n",
        "with torch.no_grad():\n",
        "  for data, target in validation_loader:\n",
        "    output = model(data)\n",
        "    _, predict = torch.max(output.data, 1) # get the index of the max log-probability, torch.max() returns a named tuple (values, indices) \n",
        "\n",
        "    correct += predict.eq(target.data).sum()\n",
        "    total += target.size(0)\n",
        "\n",
        "  print('Accuracy of the network on the 10000 test images: %d %%' % (\n",
        "    100 * correct / total))"
      ],
      "metadata": {
        "colab": {
          "base_uri": "https://localhost:8080/"
        },
        "id": "WG3XMT_urzBt",
        "outputId": "2036c56e-e70e-4e80-dc7d-ea9596aa5166"
      },
      "execution_count": 48,
      "outputs": [
        {
          "output_type": "stream",
          "name": "stdout",
          "text": [
            "Accuracy of the network on the 10000 test images: 31 %\n"
          ]
        }
      ]
    },
    {
      "cell_type": "code",
      "source": [
        "class_correct = list(0. for i in range(N_CLASSES))\n",
        "class_total = list(0. for i in range(N_CLASSES))\n",
        "\n",
        "with torch.no_grad():\n",
        "  for data, targets in validation_loader:\n",
        "    output = model(data)\n",
        "    _, predict = torch.max(output.data, 1) # get the index of the max log-probability, torch.max() returns a named tuple (values, indices) \n",
        "\n",
        "    correct = predict.eq(targets).squeeze(0) # squeeze() returns a tensor with all the dimensions of input of size 1 removed\n",
        "\n",
        "    for batch in range(BATCH_SIZE):\n",
        "      num_class = targets[batch]\n",
        "      class_correct[num_class] += correct[batch].item()\n",
        "      class_total[num_class] += 1\n",
        "\n",
        "for i in range(N_CLASSES):\n",
        "    print('Accuracy of %5s : %2d %%' % (\n",
        "        CLASSES[i], 100 * class_correct[i] / class_total[i]))"
      ],
      "metadata": {
        "colab": {
          "base_uri": "https://localhost:8080/"
        },
        "id": "Uw44aAngr3N0",
        "outputId": "4ff8cbbe-356e-4472-cc25-645c1c54dc0e"
      },
      "execution_count": 49,
      "outputs": [
        {
          "output_type": "stream",
          "name": "stdout",
          "text": [
            "Accuracy of plane : 40 %\n",
            "Accuracy of   car : 45 %\n",
            "Accuracy of  bird :  1 %\n",
            "Accuracy of   cat :  9 %\n",
            "Accuracy of  deer : 35 %\n",
            "Accuracy of   dog :  6 %\n",
            "Accuracy of  frog : 68 %\n",
            "Accuracy of horse : 28 %\n",
            "Accuracy of  ship : 45 %\n",
            "Accuracy of truck : 33 %\n"
          ]
        }
      ]
    },
    {
      "cell_type": "code",
      "source": [
        "# Plot train loss and validation accuracy vs epochs for each learning rate\n",
        "epochs = [i for i in range(1, 41)]\n",
        "plt.plot(epochs, loss_vector)\n",
        "plt.xlabel(\"Epochs\")\n",
        "plt.ylabel(\"Loss\")\n",
        "plt.show()"
      ],
      "metadata": {
        "colab": {
          "base_uri": "https://localhost:8080/",
          "height": 279
        },
        "id": "y__adWAwyhQs",
        "outputId": "e8e7d818-1e3f-4f48-c869-fefe14e31724"
      },
      "execution_count": 50,
      "outputs": [
        {
          "output_type": "display_data",
          "data": {
            "text/plain": [
              "<Figure size 432x288 with 1 Axes>"
            ],
            "image/png": "[encoded data removed]"
          },
          "metadata": {
            "needs_background": "light"
          }
        }
      ]
    },
    {
      "cell_type": "code",
      "source": [
        ""
      ],
      "metadata": {
        "id": "7x8DnNL8yoQu"
      },
      "execution_count": null,
      "outputs": []
    }
  ],
  "metadata": {
    "colab": {
      "name": "Copy of [seminar1]cifar10.ipynb",
      "provenance": [],
      "include_colab_link": true
    },
    "kernelspec": {
      "display_name": "Python 3",
      "language": "python",
      "name": "python3"
    },
    "language_info": {
      "codemirror_mode": {
        "name": "ipython",
        "version": 3
      },
      "file_extension": ".py",
      "mimetype": "text/x-python",
      "name": "python",
      "nbconvert_exporter": "python",
      "pygments_lexer": "ipython3",
      "version": "3.6.5"
    },
    "widgets": {
      "application/vnd.jupyter.widget-state+json": {
        "0ec0d2ad890e461c9adda42eec4fa182": {
          "model_module": "@jupyter-widgets/controls",
          "model_name": "HBoxModel",
          "model_module_version": "2.0.0",
          "state": {
            "_dom_classes": [],
            "_model_module": "@jupyter-widgets/controls",
            "_model_module_version": "2.0.0",
            "_model_name": "HBoxModel",
            "_view_count": null,
            "_view_module": "@jupyter-widgets/controls",
            "_view_module_version": "2.0.0",
            "_view_name": "HBoxView",
            "box_style": "",
            "children": [
              "IPY_MODEL_303972fe9b784885a10d01a0ac4afe7a",
              "IPY_MODEL_9d2e9bfea98741d7abfd1b5fa9af45bb",
              "IPY_MODEL_fc755a38f25c4d558861c94f2eb2572f"
            ],
            "layout": "IPY_MODEL_79962fd73c9a454f8b48877883942463",
            "tabbable": null,
            "tooltip": null
          }
        },
        "303972fe9b784885a10d01a0ac4afe7a": {
          "model_module": "@jupyter-widgets/controls",
          "model_name": "HTMLModel",
          "model_module_version": "2.0.0",
          "state": {
            "_dom_classes": [],
            "_model_module": "@jupyter-widgets/controls",
            "_model_module_version": "2.0.0",
            "_model_name": "HTMLModel",
            "_view_count": null,
            "_view_module": "@jupyter-widgets/controls",
            "_view_module_version": "2.0.0",
            "_view_name": "HTMLView",
            "description": "",
            "description_allow_html": false,
            "layout": "IPY_MODEL_9c50bb3632a04dc7874801c69b377f52",
            "placeholder": "​",
            "style": "IPY_MODEL_b27848f744ab4776b5e487953e518598",
            "tabbable": null,
            "tooltip": null,
            "value": "100%"
          }
        },
        "9d2e9bfea98741d7abfd1b5fa9af45bb": {
          "model_module": "@jupyter-widgets/controls",
          "model_name": "FloatProgressModel",
          "model_module_version": "2.0.0",
          "state": {
            "_dom_classes": [],
            "_model_module": "@jupyter-widgets/controls",
            "_model_module_version": "2.0.0",
            "_model_name": "FloatProgressModel",
            "_view_count": null,
            "_view_module": "@jupyter-widgets/controls",
            "_view_module_version": "2.0.0",
            "_view_name": "ProgressView",
            "bar_style": "success",
            "description": "",
            "description_allow_html": false,
            "layout": "IPY_MODEL_a70e0467079343a58ca97d801853b403",
            "max": 170498071,
            "min": 0,
            "orientation": "horizontal",
            "style": "IPY_MODEL_f53aadee80234c2ea695f53cdbc32543",
            "tabbable": null,
            "tooltip": null,
            "value": 170498071
          }
        },
        "fc755a38f25c4d558861c94f2eb2572f": {
          "model_module": "@jupyter-widgets/controls",
          "model_name": "HTMLModel",
          "model_module_version": "2.0.0",
          "state": {
            "_dom_classes": [],
            "_model_module": "@jupyter-widgets/controls",
            "_model_module_version": "2.0.0",
            "_model_name": "HTMLModel",
            "_view_count": null,
            "_view_module": "@jupyter-widgets/controls",
            "_view_module_version": "2.0.0",
            "_view_name": "HTMLView",
            "description": "",
            "description_allow_html": false,
            "layout": "IPY_MODEL_6525b95f5c6b444ca44d4b8f6a99c959",
            "placeholder": "​",
            "style": "IPY_MODEL_ead6e1f5c3c746379514addfabb684a1",
            "tabbable": null,
            "tooltip": null,
            "value": " 170498071/170498071 [00:01&lt;00:00, 107147771.05it/s]"
          }
        },
        "79962fd73c9a454f8b48877883942463": {
          "model_module": "@jupyter-widgets/base",
          "model_name": "LayoutModel",
          "model_module_version": "2.0.0",
          "state": {
            "_model_module": "@jupyter-widgets/base",
            "_model_module_version": "2.0.0",
            "_model_name": "LayoutModel",
            "_view_count": null,
            "_view_module": "@jupyter-widgets/base",
            "_view_module_version": "2.0.0",
            "_view_name": "LayoutView",
            "align_content": null,
            "align_items": null,
            "align_self": null,
            "border_bottom": null,
            "border_left": null,
            "border_right": null,
            "border_top": null,
            "bottom": null,
            "display": null,
            "flex": null,
            "flex_flow": null,
            "grid_area": null,
            "grid_auto_columns": null,
            "grid_auto_flow": null,
            "grid_auto_rows": null,
            "grid_column": null,
            "grid_gap": null,
            "grid_row": null,
            "grid_template_areas": null,
            "grid_template_columns": null,
            "grid_template_rows": null,
            "height": null,
            "justify_content": null,
            "justify_items": null,
            "left": null,
            "margin": null,
            "max_height": null,
            "max_width": null,
            "min_height": null,
            "min_width": null,
            "object_fit": null,
            "object_position": null,
            "order": null,
            "overflow": null,
            "padding": null,
            "right": null,
            "top": null,
            "visibility": null,
            "width": null
          }
        },
        "9c50bb3632a04dc7874801c69b377f52": {
          "model_module": "@jupyter-widgets/base",
          "model_name": "LayoutModel",
          "model_module_version": "2.0.0",
          "state": {
            "_model_module": "@jupyter-widgets/base",
            "_model_module_version": "2.0.0",
            "_model_name": "LayoutModel",
            "_view_count": null,
            "_view_module": "@jupyter-widgets/base",
            "_view_module_version": "2.0.0",
            "_view_name": "LayoutView",
            "align_content": null,
            "align_items": null,
            "align_self": null,
            "border_bottom": null,
            "border_left": null,
            "border_right": null,
            "border_top": null,
            "bottom": null,
            "display": null,
            "flex": null,
            "flex_flow": null,
            "grid_area": null,
            "grid_auto_columns": null,
            "grid_auto_flow": null,
            "grid_auto_rows": null,
            "grid_column": null,
            "grid_gap": null,
            "grid_row": null,
            "grid_template_areas": null,
            "grid_template_columns": null,
            "grid_template_rows": null,
            "height": null,
            "justify_content": null,
            "justify_items": null,
            "left": null,
            "margin": null,
            "max_height": null,
            "max_width": null,
            "min_height": null,
            "min_width": null,
            "object_fit": null,
            "object_position": null,
            "order": null,
            "overflow": null,
            "padding": null,
            "right": null,
            "top": null,
            "visibility": null,
            "width": null
          }
        },
        "b27848f744ab4776b5e487953e518598": {
          "model_module": "@jupyter-widgets/controls",
          "model_name": "HTMLStyleModel",
          "model_module_version": "2.0.0",
          "state": {
            "_model_module": "@jupyter-widgets/controls",
            "_model_module_version": "2.0.0",
            "_model_name": "HTMLStyleModel",
            "_view_count": null,
            "_view_module": "@jupyter-widgets/base",
            "_view_module_version": "2.0.0",
            "_view_name": "StyleView",
            "background": null,
            "description_width": "",
            "font_size": null,
            "text_color": null
          }
        },
        "a70e0467079343a58ca97d801853b403": {
          "model_module": "@jupyter-widgets/base",
          "model_name": "LayoutModel",
          "model_module_version": "2.0.0",
          "state": {
            "_model_module": "@jupyter-widgets/base",
            "_model_module_version": "2.0.0",
            "_model_name": "LayoutModel",
            "_view_count": null,
            "_view_module": "@jupyter-widgets/base",
            "_view_module_version": "2.0.0",
            "_view_name": "LayoutView",
            "align_content": null,
            "align_items": null,
            "align_self": null,
            "border_bottom": null,
            "border_left": null,
            "border_right": null,
            "border_top": null,
            "bottom": null,
            "display": null,
            "flex": null,
            "flex_flow": null,
            "grid_area": null,
            "grid_auto_columns": null,
            "grid_auto_flow": null,
            "grid_auto_rows": null,
            "grid_column": null,
            "grid_gap": null,
            "grid_row": null,
            "grid_template_areas": null,
            "grid_template_columns": null,
            "grid_template_rows": null,
            "height": null,
            "justify_content": null,
            "justify_items": null,
            "left": null,
            "margin": null,
            "max_height": null,
            "max_width": null,
            "min_height": null,
            "min_width": null,
            "object_fit": null,
            "object_position": null,
            "order": null,
            "overflow": null,
            "padding": null,
            "right": null,
            "top": null,
            "visibility": null,
            "width": null
          }
        },
        "f53aadee80234c2ea695f53cdbc32543": {
          "model_module": "@jupyter-widgets/controls",
          "model_name": "ProgressStyleModel",
          "model_module_version": "2.0.0",
          "state": {
            "_model_module": "@jupyter-widgets/controls",
            "_model_module_version": "2.0.0",
            "_model_name": "ProgressStyleModel",
            "_view_count": null,
            "_view_module": "@jupyter-widgets/base",
            "_view_module_version": "2.0.0",
            "_view_name": "StyleView",
            "bar_color": null,
            "description_width": ""
          }
        },
        "6525b95f5c6b444ca44d4b8f6a99c959": {
          "model_module": "@jupyter-widgets/base",
          "model_name": "LayoutModel",
          "model_module_version": "2.0.0",
          "state": {
            "_model_module": "@jupyter-widgets/base",
            "_model_module_version": "2.0.0",
            "_model_name": "LayoutModel",
            "_view_count": null,
            "_view_module": "@jupyter-widgets/base",
            "_view_module_version": "2.0.0",
            "_view_name": "LayoutView",
            "align_content": null,
            "align_items": null,
            "align_self": null,
            "border_bottom": null,
            "border_left": null,
            "border_right": null,
            "border_top": null,
            "bottom": null,
            "display": null,
            "flex": null,
            "flex_flow": null,
            "grid_area": null,
            "grid_auto_columns": null,
            "grid_auto_flow": null,
            "grid_auto_rows": null,
            "grid_column": null,
            "grid_gap": null,
            "grid_row": null,
            "grid_template_areas": null,
            "grid_template_columns": null,
            "grid_template_rows": null,
            "height": null,
            "justify_content": null,
            "justify_items": null,
            "left": null,
            "margin": null,
            "max_height": null,
            "max_width": null,
            "min_height": null,
            "min_width": null,
            "object_fit": null,
            "object_position": null,
            "order": null,
            "overflow": null,
            "padding": null,
            "right": null,
            "top": null,
            "visibility": null,
            "width": null
          }
        },
        "ead6e1f5c3c746379514addfabb684a1": {
          "model_module": "@jupyter-widgets/controls",
          "model_name": "HTMLStyleModel",
          "model_module_version": "2.0.0",
          "state": {
            "_model_module": "@jupyter-widgets/controls",
            "_model_module_version": "2.0.0",
            "_model_name": "HTMLStyleModel",
            "_view_count": null,
            "_view_module": "@jupyter-widgets/base",
            "_view_module_version": "2.0.0",
            "_view_name": "StyleView",
            "background": null,
            "description_width": "",
            "font_size": null,
            "text_color": null
          }
        }
      }
    }
  },
  "nbformat": 4,
  "nbformat_minor": 0
}