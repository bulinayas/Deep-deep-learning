{
  "nbformat": 4,
  "nbformat_minor": 0,
  "metadata": {
    "colab": {
      "name": "[seminar1]cifar10.ipynb",
      "provenance": [],
      "include_colab_link": true
    },
    "kernelspec": {
      "display_name": "Python 3",
      "language": "python",
      "name": "python3"
    },
    "language_info": {
      "codemirror_mode": {
        "name": "ipython",
        "version": 3
      },
      "file_extension": ".py",
      "mimetype": "text/x-python",
      "name": "python",
      "nbconvert_exporter": "python",
      "pygments_lexer": "ipython3",
      "version": "3.6.5"
    },
    "widgets": {
      "application/vnd.jupyter.widget-state+json": {
        "fcc738315b194b1186fc132589661835": {
          "model_module": "@jupyter-widgets/controls",
          "model_name": "HBoxModel",
          "state": {
            "_view_name": "HBoxView",
            "_dom_classes": [],
            "_model_name": "HBoxModel",
            "_view_module": "@jupyter-widgets/controls",
            "_model_module_version": "1.5.0",
            "_view_count": null,
            "_view_module_version": "1.5.0",
            "box_style": "",
            "layout": "IPY_MODEL_f6f592ad63884a07bf73ce4754e36b1c",
            "_model_module": "@jupyter-widgets/controls",
            "children": [
              "IPY_MODEL_a9242cb38ad64b63b58a9723b311ab2f",
              "IPY_MODEL_5f5225d0cb684640abe412c0effeb2d3"
            ]
          }
        },
        "f6f592ad63884a07bf73ce4754e36b1c": {
          "model_module": "@jupyter-widgets/base",
          "model_name": "LayoutModel",
          "state": {
            "_view_name": "LayoutView",
            "grid_template_rows": null,
            "right": null,
            "justify_content": null,
            "_view_module": "@jupyter-widgets/base",
            "overflow": null,
            "_model_module_version": "1.2.0",
            "_view_count": null,
            "flex_flow": null,
            "width": null,
            "min_width": null,
            "border": null,
            "align_items": null,
            "bottom": null,
            "_model_module": "@jupyter-widgets/base",
            "top": null,
            "grid_column": null,
            "overflow_y": null,
            "overflow_x": null,
            "grid_auto_flow": null,
            "grid_area": null,
            "grid_template_columns": null,
            "flex": null,
            "_model_name": "LayoutModel",
            "justify_items": null,
            "grid_row": null,
            "max_height": null,
            "align_content": null,
            "visibility": null,
            "align_self": null,
            "height": null,
            "min_height": null,
            "padding": null,
            "grid_auto_rows": null,
            "grid_gap": null,
            "max_width": null,
            "order": null,
            "_view_module_version": "1.2.0",
            "grid_template_areas": null,
            "object_position": null,
            "object_fit": null,
            "grid_auto_columns": null,
            "margin": null,
            "display": null,
            "left": null
          }
        },
        "a9242cb38ad64b63b58a9723b311ab2f": {
          "model_module": "@jupyter-widgets/controls",
          "model_name": "FloatProgressModel",
          "state": {
            "_view_name": "ProgressView",
            "style": "IPY_MODEL_b0fb3a24858f400fb56f1ab39baf426b",
            "_dom_classes": [],
            "description": "",
            "_model_name": "FloatProgressModel",
            "bar_style": "success",
            "max": 170498071,
            "_view_module": "@jupyter-widgets/controls",
            "_model_module_version": "1.5.0",
            "value": 170498071,
            "_view_count": null,
            "_view_module_version": "1.5.0",
            "orientation": "horizontal",
            "min": 0,
            "description_tooltip": null,
            "_model_module": "@jupyter-widgets/controls",
            "layout": "IPY_MODEL_5d015eb34bb54b44b081d5f8d422fa1f"
          }
        },
        "5f5225d0cb684640abe412c0effeb2d3": {
          "model_module": "@jupyter-widgets/controls",
          "model_name": "HTMLModel",
          "state": {
            "_view_name": "HTMLView",
            "style": "IPY_MODEL_0a9d4c8b6cd94c9ebaf031034ac04ede",
            "_dom_classes": [],
            "description": "",
            "_model_name": "HTMLModel",
            "placeholder": "​",
            "_view_module": "@jupyter-widgets/controls",
            "_model_module_version": "1.5.0",
            "value": " 170499072/? [17:57&lt;00:00, 158272.10it/s]",
            "_view_count": null,
            "_view_module_version": "1.5.0",
            "description_tooltip": null,
            "_model_module": "@jupyter-widgets/controls",
            "layout": "IPY_MODEL_cc7f3e27f93c4d32b6d633edcc6dcf7b"
          }
        },
        "b0fb3a24858f400fb56f1ab39baf426b": {
          "model_module": "@jupyter-widgets/controls",
          "model_name": "ProgressStyleModel",
          "state": {
            "_view_name": "StyleView",
            "_model_name": "ProgressStyleModel",
            "description_width": "initial",
            "_view_module": "@jupyter-widgets/base",
            "_model_module_version": "1.5.0",
            "_view_count": null,
            "_view_module_version": "1.2.0",
            "bar_color": null,
            "_model_module": "@jupyter-widgets/controls"
          }
        },
        "5d015eb34bb54b44b081d5f8d422fa1f": {
          "model_module": "@jupyter-widgets/base",
          "model_name": "LayoutModel",
          "state": {
            "_view_name": "LayoutView",
            "grid_template_rows": null,
            "right": null,
            "justify_content": null,
            "_view_module": "@jupyter-widgets/base",
            "overflow": null,
            "_model_module_version": "1.2.0",
            "_view_count": null,
            "flex_flow": null,
            "width": null,
            "min_width": null,
            "border": null,
            "align_items": null,
            "bottom": null,
            "_model_module": "@jupyter-widgets/base",
            "top": null,
            "grid_column": null,
            "overflow_y": null,
            "overflow_x": null,
            "grid_auto_flow": null,
            "grid_area": null,
            "grid_template_columns": null,
            "flex": null,
            "_model_name": "LayoutModel",
            "justify_items": null,
            "grid_row": null,
            "max_height": null,
            "align_content": null,
            "visibility": null,
            "align_self": null,
            "height": null,
            "min_height": null,
            "padding": null,
            "grid_auto_rows": null,
            "grid_gap": null,
            "max_width": null,
            "order": null,
            "_view_module_version": "1.2.0",
            "grid_template_areas": null,
            "object_position": null,
            "object_fit": null,
            "grid_auto_columns": null,
            "margin": null,
            "display": null,
            "left": null
          }
        },
        "0a9d4c8b6cd94c9ebaf031034ac04ede": {
          "model_module": "@jupyter-widgets/controls",
          "model_name": "DescriptionStyleModel",
          "state": {
            "_view_name": "StyleView",
            "_model_name": "DescriptionStyleModel",
            "description_width": "",
            "_view_module": "@jupyter-widgets/base",
            "_model_module_version": "1.5.0",
            "_view_count": null,
            "_view_module_version": "1.2.0",
            "_model_module": "@jupyter-widgets/controls"
          }
        },
        "cc7f3e27f93c4d32b6d633edcc6dcf7b": {
          "model_module": "@jupyter-widgets/base",
          "model_name": "LayoutModel",
          "state": {
            "_view_name": "LayoutView",
            "grid_template_rows": null,
            "right": null,
            "justify_content": null,
            "_view_module": "@jupyter-widgets/base",
            "overflow": null,
            "_model_module_version": "1.2.0",
            "_view_count": null,
            "flex_flow": null,
            "width": null,
            "min_width": null,
            "border": null,
            "align_items": null,
            "bottom": null,
            "_model_module": "@jupyter-widgets/base",
            "top": null,
            "grid_column": null,
            "overflow_y": null,
            "overflow_x": null,
            "grid_auto_flow": null,
            "grid_area": null,
            "grid_template_columns": null,
            "flex": null,
            "_model_name": "LayoutModel",
            "justify_items": null,
            "grid_row": null,
            "max_height": null,
            "align_content": null,
            "visibility": null,
            "align_self": null,
            "height": null,
            "min_height": null,
            "padding": null,
            "grid_auto_rows": null,
            "grid_gap": null,
            "max_width": null,
            "order": null,
            "_view_module_version": "1.2.0",
            "grid_template_areas": null,
            "object_position": null,
            "object_fit": null,
            "grid_auto_columns": null,
            "margin": null,
            "display": null,
            "left": null
          }
        }
      }
    }
  },
  "cells": [
    {
      "cell_type": "markdown",
      "metadata": {
        "id": "view-in-github",
        "colab_type": "text"
      },
      "source": [
        "<a href=\"https://colab.research.google.com/github/bulinayas/Deep-deep-learning/blob/main/%5Bseminar1%5Dcifar10.ipynb\" target=\"_parent\"><img src=\"https://colab.research.google.com/assets/colab-badge.svg\" alt=\"Open In Colab\"/></a>"
      ]
    },
    {
      "cell_type": "markdown",
      "metadata": {
        "id": "SJdCMQXabboZ"
      },
      "source": [
        "<img src=\"https://s8.hostingkartinok.com/uploads/images/2018/08/308b49fcfbc619d629fe4604bceb67ac.jpg\" width=500, height=450>\n",
        "<h3 style=\"text-align: center;\"><b>Физтех-Школа Прикладной математики и информатики (ФПМИ) МФТИ</b></h3>"
      ]
    },
    {
      "cell_type": "markdown",
      "metadata": {
        "id": "7iGE_CK9bboh"
      },
      "source": [
        "---"
      ]
    },
    {
      "cell_type": "markdown",
      "metadata": {
        "id": "bmOfpQnebboi"
      },
      "source": [
        "<h2 style=\"text-align: center;\"><b>Семинар 1: практическое занятие по обучению нейросетей (датасет CIFAR10)</b></h2>"
      ]
    },
    {
      "cell_type": "markdown",
      "metadata": {
        "id": "ZVKN8nUwbboi"
      },
      "source": [
        "---"
      ]
    },
    {
      "cell_type": "code",
      "metadata": {
        "id": "Hgit3qqOf4hd"
      },
      "source": [
        "import numpy as np\n",
        "import matplotlib.pyplot as plt\n",
        "\n",
        "from tqdm import tqdm_notebook #Индикатор процесса\n",
        "\n",
        "import warnings\n",
        "warnings.filterwarnings(\"ignore\")\n",
        "\n",
        "import multiprocessing #Параллельная обработка данных на разных ядрах процессора"
      ],
      "execution_count": 1,
      "outputs": []
    },
    {
      "cell_type": "markdown",
      "metadata": {
        "id": "CHUKPJJOf4hj"
      },
      "source": [
        "Сегодня мы построим свою сеть (простейший классификатор изображений), посчитаем loss и проведем обновление весов.\n",
        "\n",
        "\n",
        "Данные\n",
        "----------------\n",
        "Мы будем работать с набором картинок. Для работы с ними есть специальный пакет ``torchvision``. В нем уже содержатся функции-загрузчики таких датасетов, как ImageNet, MNIST, CIFAR10. С последним сегодня мы и будем работать. В нем содержатся картинки RGB 32х32 следующих классов: \n",
        "1. ‘airplane’\n",
        "2. ‘automobile’\n",
        "3. ‘bird’\n",
        "4. ‘cat’\n",
        "5. ‘deer’\n",
        "6. ‘dog’\n",
        "7. ‘frog’\n",
        "8. ‘horse’\n",
        "9. ‘ship’\n",
        "10. ‘truck’\n",
        "\n",
        "Обучение классификатора\n",
        "----------------------------\n",
        "\n",
        "План обучения классификатора:\n",
        "\n",
        "1. Загружаем и нормализуем данные при помощи пакета\n",
        "   ``torchvision``\n",
        "2. Объявляем нейронную сеть\n",
        "3. Объявляем функцию потерь\n",
        "4. Тренируем сеть при помощи тренировочной выборки (train data)\n",
        "5. Тестируем сеть при помощи валидационной выборки (test data)\n",
        "\n",
        "----------------------------\n",
        "\n",
        "Импортируем нужные нам пакеты из библиотеки ``torch``\n",
        "\n",
        "\n"
      ]
    },
    {
      "cell_type": "code",
      "metadata": {
        "id": "E6h4kZ-if4hl"
      },
      "source": [
        "import torch\n",
        "import torchvision\n",
        "from torch.autograd import Variable\n",
        "import torchvision.transforms as transforms"
      ],
      "execution_count": 4,
      "outputs": []
    },
    {
      "cell_type": "code",
      "metadata": {
        "id": "5KmxZQREgApi",
        "colab": {
          "base_uri": "https://localhost:8080/",
          "height": 374
        },
        "outputId": "9ed8018b-f87b-4e79-c127-03d11c3eb4d6"
      },
      "source": [
        "# http://pytorch.org/\n",
        "from os.path import exists\n",
        "from wheel.pep425tags import get_abbr_impl, get_impl_ver, get_abi_tag\n",
        "platform = '{}{}-{}'.format(get_abbr_impl(), get_impl_ver(), get_abi_tag())\n",
        "cuda_output = !ldconfig -p|grep cudart.so|sed -e 's/.*\\.\\([0-9]*\\)\\.\\([0-9]*\\)$/cu\\1\\2/'\n",
        "accelerator = cuda_output[0] if exists('/dev/nvidia0') else 'cpu'\n",
        "\n",
        "!pip install -q http://download.pytorch.org/whl/{accelerator}/torch-0.4.1-{platform}-linux_x86_64.whl torchvision\n",
        "import torch"
      ],
      "execution_count": null,
      "outputs": [
        {
          "output_type": "error",
          "ename": "ModuleNotFoundError",
          "evalue": "ignored",
          "traceback": [
            "\u001b[0;31m---------------------------------------------------------------------------\u001b[0m",
            "\u001b[0;31mModuleNotFoundError\u001b[0m                       Traceback (most recent call last)",
            "\u001b[0;32m<ipython-input-3-b1589bd95a78>\u001b[0m in \u001b[0;36m<module>\u001b[0;34m()\u001b[0m\n\u001b[1;32m      1\u001b[0m \u001b[0;31m# http://pytorch.org/\u001b[0m\u001b[0;34m\u001b[0m\u001b[0;34m\u001b[0m\u001b[0;34m\u001b[0m\u001b[0m\n\u001b[1;32m      2\u001b[0m \u001b[0;32mfrom\u001b[0m \u001b[0mos\u001b[0m\u001b[0;34m.\u001b[0m\u001b[0mpath\u001b[0m \u001b[0;32mimport\u001b[0m \u001b[0mexists\u001b[0m\u001b[0;34m\u001b[0m\u001b[0;34m\u001b[0m\u001b[0m\n\u001b[0;32m----> 3\u001b[0;31m \u001b[0;32mfrom\u001b[0m \u001b[0mwheel\u001b[0m\u001b[0;34m.\u001b[0m\u001b[0mpep425tags\u001b[0m \u001b[0;32mimport\u001b[0m \u001b[0mget_abbr_impl\u001b[0m\u001b[0;34m,\u001b[0m \u001b[0mget_impl_ver\u001b[0m\u001b[0;34m,\u001b[0m \u001b[0mget_abi_tag\u001b[0m\u001b[0;34m\u001b[0m\u001b[0;34m\u001b[0m\u001b[0m\n\u001b[0m\u001b[1;32m      4\u001b[0m \u001b[0mplatform\u001b[0m \u001b[0;34m=\u001b[0m \u001b[0;34m'{}{}-{}'\u001b[0m\u001b[0;34m.\u001b[0m\u001b[0mformat\u001b[0m\u001b[0;34m(\u001b[0m\u001b[0mget_abbr_impl\u001b[0m\u001b[0;34m(\u001b[0m\u001b[0;34m)\u001b[0m\u001b[0;34m,\u001b[0m \u001b[0mget_impl_ver\u001b[0m\u001b[0;34m(\u001b[0m\u001b[0;34m)\u001b[0m\u001b[0;34m,\u001b[0m \u001b[0mget_abi_tag\u001b[0m\u001b[0;34m(\u001b[0m\u001b[0;34m)\u001b[0m\u001b[0;34m)\u001b[0m\u001b[0;34m\u001b[0m\u001b[0;34m\u001b[0m\u001b[0m\n\u001b[1;32m      5\u001b[0m \u001b[0mcuda_output\u001b[0m \u001b[0;34m=\u001b[0m \u001b[0mget_ipython\u001b[0m\u001b[0;34m(\u001b[0m\u001b[0;34m)\u001b[0m\u001b[0;34m.\u001b[0m\u001b[0mgetoutput\u001b[0m\u001b[0;34m(\u001b[0m\u001b[0;34m\"ldconfig -p|grep cudart.so|sed -e 's/.*\\\\.\\\\([0-9]*\\\\)\\\\.\\\\([0-9]*\\\\)$/cu\\\\1\\\\2/'\"\u001b[0m\u001b[0;34m)\u001b[0m\u001b[0;34m\u001b[0m\u001b[0;34m\u001b[0m\u001b[0m\n",
            "\u001b[0;31mModuleNotFoundError\u001b[0m: No module named 'wheel.pep425tags'",
            "",
            "\u001b[0;31m---------------------------------------------------------------------------\u001b[0;32m\nNOTE: If your import is failing due to a missing package, you can\nmanually install dependencies using either !pip or !apt.\n\nTo view examples of installing some common dependencies, click the\n\"Open Examples\" button below.\n\u001b[0;31m---------------------------------------------------------------------------\u001b[0m\n"
          ]
        }
      ]
    },
    {
      "cell_type": "markdown",
      "metadata": {
        "id": "aHKBkoJPf4hp"
      },
      "source": [
        "В результате загрузки датасетов при помощи пакета torchvision мы получим картинки, содержащие значения в диапазоне [0,1], чтобы подавать их в нейросеть, нам нужно сделать из них тензоры со значениями в диапазоне [-1,1]\n",
        "\n",
        "Определим презобразование:"
      ]
    },
    {
      "cell_type": "code",
      "metadata": {
        "id": "GJeKQk9nf4hq"
      },
      "source": [
        "transform_data = transforms.Compose(\n",
        "    \n",
        "[\n",
        "    transforms.ToTensor(),\n",
        "    transforms.Normalize((0.5, 0.5, 0.5), (0.5, 0.5, 0.5)) #((mean[i]),std[i])\n",
        "]\n",
        "\n",
        ")"
      ],
      "execution_count": 5,
      "outputs": []
    },
    {
      "cell_type": "markdown",
      "metadata": {
        "id": "hNOgh6Obf4hx"
      },
      "source": [
        "Теперь вызовем загрузчики из пакета ``torchvision`` и скачаем обучающую выборку (trainset) и валидационную (testset)\n",
        "\n"
      ]
    },
    {
      "cell_type": "code",
      "metadata": {
        "colab": {
          "base_uri": "https://localhost:8080/",
          "height": 119,
          "referenced_widgets": [
            "fcc738315b194b1186fc132589661835",
            "f6f592ad63884a07bf73ce4754e36b1c",
            "a9242cb38ad64b63b58a9723b311ab2f",
            "5f5225d0cb684640abe412c0effeb2d3",
            "b0fb3a24858f400fb56f1ab39baf426b",
            "5d015eb34bb54b44b081d5f8d422fa1f",
            "0a9d4c8b6cd94c9ebaf031034ac04ede",
            "cc7f3e27f93c4d32b6d633edcc6dcf7b"
          ]
        },
        "id": "Vvub5ZZdf4hz",
        "scrolled": false,
        "outputId": "a2fa3023-fb06-4b47-9eaf-b2b920dbcd2d"
      },
      "source": [
        "trainset = torchvision.datasets.CIFAR10(root='./data', \n",
        "                                        train=True,download=True, transform=transform_data)\n",
        "train_loader = torch.utils.data.DataLoader(trainset, batch_size=4,\n",
        "                                           shuffle=True, num_workers=0, pin_memory=False)\n",
        "\n",
        "testset = torchvision.datasets.CIFAR10(root='./data', train=False, \n",
        "                                       download=True, transform=transform_data)\n",
        "validation_loader = torch.utils.data.DataLoader(testset, batch_size=4,\n",
        "                                                shuffle=False, num_workers=0, pin_memory=False)"
      ],
      "execution_count": 6,
      "outputs": [
        {
          "output_type": "stream",
          "text": [
            "Downloading https://www.cs.toronto.edu/~kriz/cifar-10-python.tar.gz to ./data/cifar-10-python.tar.gz\n"
          ],
          "name": "stdout"
        },
        {
          "output_type": "display_data",
          "data": {
            "application/vnd.jupyter.widget-view+json": {
              "model_id": "fcc738315b194b1186fc132589661835",
              "version_minor": 0,
              "version_major": 2
            },
            "text/plain": [
              "HBox(children=(FloatProgress(value=0.0, max=170498071.0), HTML(value='')))"
            ]
          },
          "metadata": {
            "tags": []
          }
        },
        {
          "output_type": "stream",
          "text": [
            "\n",
            "Extracting ./data/cifar-10-python.tar.gz to ./data\n",
            "Files already downloaded and verified\n"
          ],
          "name": "stdout"
        }
      ]
    },
    {
      "cell_type": "markdown",
      "metadata": {
        "id": "DsFyaka7f4h5"
      },
      "source": [
        "Определим константы"
      ]
    },
    {
      "cell_type": "code",
      "metadata": {
        "id": "UnfKGICOf4h6"
      },
      "source": [
        "IMAGE_WIDTH = 32\n",
        "IMAGE_HEIGHT = 32\n",
        "COLOR_CHANNELS = 3\n",
        "EPOCHS = 50\n",
        "LEARNING_RATE = 0.001\n",
        "BATCH_SIZE = 32\n",
        "BATCH_IMAGE_COUNT = 10000\n",
        "CLASSES = ['plane', 'car', 'bird', 'cat', 'deer', 'dog', 'frog', 'horse', 'ship', 'truck']\n",
        "N_CLASSES = len(CLASSES)\n",
        "PLOT = False"
      ],
      "execution_count": 7,
      "outputs": []
    },
    {
      "cell_type": "code",
      "metadata": {
        "colab": {
          "base_uri": "https://localhost:8080/",
          "height": 155
        },
        "id": "mNWymneYf4h-",
        "outputId": "34eaa498-0b9b-4285-8f07-21346997ae8c"
      },
      "source": [
        "# Функция, которая показывает изображения\n",
        "def imshow(img):\n",
        "    img = img * 0.5 + 0.5     # деномрировка\n",
        "    npimg = img.numpy()\n",
        "    plt.imshow(np.transpose(npimg, (1, 2, 0)))\n",
        "\n",
        "\n",
        "# достаем случайные картинки из обучающей выборки\n",
        "dataiter = iter(train_loader)\n",
        "images, labels = dataiter.next()\n",
        "\n",
        "# вызываем функцию, реализующую демонстрацию изображений, что мы можем видеть на них?\n",
        "imshow(torchvision.utils.make_grid(images))\n",
        "# выведем метки классов отрисованных изображений\n",
        "print(' '.join('%5s' % CLASSES[labels[j]] for j in range(4)))"
      ],
      "execution_count": 8,
      "outputs": [
        {
          "output_type": "stream",
          "text": [
            "truck  frog  deer  frog\n"
          ],
          "name": "stdout"
        },
        {
          "output_type": "display_data",
          "data": {
            "image/png": "[encoded data removed]",
            "text/plain": [
              "<Figure size 432x288 with 1 Axes>"
            ]
          },
          "metadata": {
            "tags": [],
            "needs_background": "light"
          }
        }
      ]
    },
    {
      "cell_type": "code",
      "metadata": {
        "id": "wysy5qO2f4iC"
      },
      "source": [
        "class Net(torch.nn.Module):\n",
        "    def __init__(self, n_hidden_nodes, n_hidden_layers):\n",
        "        super(Net, self).__init__()\n",
        "        # Определяем слои\n",
        "        self.fc1 = torch.nn.Linear(IMAGE_WIDTH * IMAGE_WIDTH * COLOR_CHANNELS,\n",
        "                                   n_hidden_nodes)\n",
        "        self.n_hidden_nodes=n_hidden_nodes\n",
        "        self.n_hidden_layers=n_hidden_layers\n",
        "\n",
        "        self.out = torch.nn.Linear(n_hidden_nodes, N_CLASSES)\n",
        "\n",
        "    def forward(self, x):\n",
        "        x = x.view(-1, IMAGE_WIDTH * IMAGE_WIDTH * COLOR_CHANNELS)\n",
        "        # определяем функцию активации\n",
        "        sigmoid = torch.nn.Sigmoid()\n",
        "        x = sigmoid(self.fc1(x))\n",
        "        return torch.nn.functional.log_softmax(self.out(x))"
      ],
      "execution_count": 13,
      "outputs": []
    },
    {
      "cell_type": "code",
      "metadata": {
        "id": "sdi5bYJaf4iF"
      },
      "source": [
        "def train(epoch, model, train_loader, optimizer, log_interval=100, cuda=None):\n",
        "    model.train()\n",
        "    correct = 0\n",
        "    for batch_idx, (data, target) in enumerate(train_loader):\n",
        "        data, target = Variable(data), Variable(target)\n",
        "        optimizer.zero_grad()\n",
        "        output = model(data)\n",
        "\n",
        "        pred = output.data.max(1)[1] # get the index of the max log-probability\n",
        "        correct += pred.eq(target.data).cpu().sum()\n",
        "        accuracy = 100. * correct / len(train_loader.dataset) # \"100.*\" - * 100%\n",
        "        \n",
        "        \n",
        "        loss = torch.nn.functional.nll_loss(output, target)\n",
        "        loss.backward()\n",
        "        optimizer.step()\n",
        "        if batch_idx % 10000 == 0:\n",
        "            print('Train Epoch: {} [{}/{} ({:.0f}%)]\\tLoss: {:.6f}'.format(\n",
        "                epoch, batch_idx * len(data), len(train_loader.dataset),\n",
        "                batch_idx * 100. / len(train_loader), loss.data, accuracy))\n"
      ],
      "execution_count": 22,
      "outputs": []
    },
    {
      "cell_type": "code",
      "metadata": {
        "id": "_MB7us3sf4iI"
      },
      "source": [
        "def validate(loss_vector, accuracy_vector, model, validation_loader, cuda=None):\n",
        "    model.eval()\n",
        "    val_loss, correct = 0, 0\n",
        "    for data, target in validation_loader:\n",
        "        if cuda:\n",
        "            data, target = data.cuda(), target.cuda()\n",
        "        data, target = Variable(data, volatile=True), Variable(target)\n",
        "        output = model(data)\n",
        "        val_loss += torch.nn.functional.nll_loss(output, target).data\n",
        "        pred = output.data.max(1)[1] # get the index of the max log-probability\n",
        "        correct += pred.eq(target.data).cpu().sum()\n",
        "\n",
        "    val_loss /= len(validation_loader)\n",
        "    loss_vector.append(val_loss)\n",
        "\n",
        "    accuracy = 100. * correct / len(validation_loader.dataset)\n",
        "    accuracy_vector.append(accuracy)\n",
        "\n",
        "    print('\\nValidation set: Average loss: {:.4f}, Accuracy: {}/{} ({:.0f}%)\\n'.format(\n",
        "        val_loss, correct, len(validation_loader.dataset), accuracy))"
      ],
      "execution_count": 24,
      "outputs": []
    },
    {
      "cell_type": "code",
      "metadata": {
        "colab": {
          "base_uri": "https://localhost:8080/"
        },
        "id": "HcykLY4af4iM",
        "outputId": "c4e11943-a1ac-4951-d0c3-1572343657f5"
      },
      "source": [
        "hidden_nodes = 10\n",
        "layers = 1\n",
        "model = Net(hidden_nodes, layers)\n",
        "optimizer = torch.optim.SGD(model.parameters(), lr=LEARNING_RATE)\n",
        "loss_vector = []\n",
        "acc_vector = []\n",
        "for epoch in range(1, EPOCHS + 1):\n",
        "    train(epoch, model, train_loader, optimizer)\n",
        "    validate(loss_vector, acc_vector, model, validation_loader)\n",
        "    if epoch == 40:\n",
        "        break"
      ],
      "execution_count": 25,
      "outputs": [
        {
          "output_type": "stream",
          "text": [
            "Train Epoch: 1 [0/50000 (0%)]\tLoss: 2.630684\n",
            "Train Epoch: 1 [40000/50000 (80%)]\tLoss: 2.120582\n",
            "\n",
            "Validation set: Average loss: 2.0717, Accuracy: 3027/10000 (30%)\n",
            "\n",
            "Train Epoch: 2 [0/50000 (0%)]\tLoss: 1.965544\n",
            "Train Epoch: 2 [40000/50000 (80%)]\tLoss: 2.264420\n",
            "\n",
            "Validation set: Average loss: 1.9673, Accuracy: 3286/10000 (33%)\n",
            "\n",
            "Train Epoch: 3 [0/50000 (0%)]\tLoss: 2.294104\n",
            "Train Epoch: 3 [40000/50000 (80%)]\tLoss: 1.886069\n",
            "\n",
            "Validation set: Average loss: 1.9097, Accuracy: 3393/10000 (34%)\n",
            "\n",
            "Train Epoch: 4 [0/50000 (0%)]\tLoss: 2.114292\n",
            "Train Epoch: 4 [40000/50000 (80%)]\tLoss: 1.809898\n",
            "\n",
            "Validation set: Average loss: 1.8704, Accuracy: 3483/10000 (35%)\n",
            "\n",
            "Train Epoch: 5 [0/50000 (0%)]\tLoss: 1.353366\n",
            "Train Epoch: 5 [40000/50000 (80%)]\tLoss: 2.170729\n",
            "\n",
            "Validation set: Average loss: 1.8397, Accuracy: 3574/10000 (36%)\n",
            "\n",
            "Train Epoch: 6 [0/50000 (0%)]\tLoss: 2.063634\n",
            "Train Epoch: 6 [40000/50000 (80%)]\tLoss: 1.733043\n",
            "\n",
            "Validation set: Average loss: 1.8162, Accuracy: 3641/10000 (36%)\n",
            "\n",
            "Train Epoch: 7 [0/50000 (0%)]\tLoss: 1.421243\n",
            "Train Epoch: 7 [40000/50000 (80%)]\tLoss: 1.474479\n",
            "\n",
            "Validation set: Average loss: 1.7957, Accuracy: 3736/10000 (37%)\n",
            "\n",
            "Train Epoch: 8 [0/50000 (0%)]\tLoss: 1.748472\n",
            "Train Epoch: 8 [40000/50000 (80%)]\tLoss: 1.323392\n",
            "\n",
            "Validation set: Average loss: 1.7799, Accuracy: 3777/10000 (38%)\n",
            "\n",
            "Train Epoch: 9 [0/50000 (0%)]\tLoss: 1.392349\n",
            "Train Epoch: 9 [40000/50000 (80%)]\tLoss: 2.331994\n",
            "\n",
            "Validation set: Average loss: 1.7671, Accuracy: 3794/10000 (38%)\n",
            "\n",
            "Train Epoch: 10 [0/50000 (0%)]\tLoss: 2.368536\n",
            "Train Epoch: 10 [40000/50000 (80%)]\tLoss: 1.892988\n",
            "\n",
            "Validation set: Average loss: 1.7546, Accuracy: 3854/10000 (39%)\n",
            "\n",
            "Train Epoch: 11 [0/50000 (0%)]\tLoss: 1.447857\n",
            "Train Epoch: 11 [40000/50000 (80%)]\tLoss: 1.334700\n",
            "\n",
            "Validation set: Average loss: 1.7451, Accuracy: 3873/10000 (39%)\n",
            "\n",
            "Train Epoch: 12 [0/50000 (0%)]\tLoss: 1.185109\n",
            "Train Epoch: 12 [40000/50000 (80%)]\tLoss: 1.403453\n",
            "\n",
            "Validation set: Average loss: 1.7366, Accuracy: 3895/10000 (39%)\n",
            "\n",
            "Train Epoch: 13 [0/50000 (0%)]\tLoss: 2.130634\n",
            "Train Epoch: 13 [40000/50000 (80%)]\tLoss: 1.891051\n",
            "\n",
            "Validation set: Average loss: 1.7284, Accuracy: 3930/10000 (39%)\n",
            "\n",
            "Train Epoch: 14 [0/50000 (0%)]\tLoss: 2.300749\n",
            "Train Epoch: 14 [40000/50000 (80%)]\tLoss: 1.435596\n",
            "\n",
            "Validation set: Average loss: 1.7268, Accuracy: 3913/10000 (39%)\n",
            "\n",
            "Train Epoch: 15 [0/50000 (0%)]\tLoss: 1.231289\n",
            "Train Epoch: 15 [40000/50000 (80%)]\tLoss: 2.248012\n",
            "\n",
            "Validation set: Average loss: 1.7163, Accuracy: 3969/10000 (40%)\n",
            "\n",
            "Train Epoch: 16 [0/50000 (0%)]\tLoss: 1.708268\n",
            "Train Epoch: 16 [40000/50000 (80%)]\tLoss: 1.815154\n",
            "\n",
            "Validation set: Average loss: 1.7127, Accuracy: 3994/10000 (40%)\n",
            "\n",
            "Train Epoch: 17 [0/50000 (0%)]\tLoss: 1.441597\n",
            "Train Epoch: 17 [40000/50000 (80%)]\tLoss: 1.098954\n",
            "\n",
            "Validation set: Average loss: 1.7074, Accuracy: 4019/10000 (40%)\n",
            "\n",
            "Train Epoch: 18 [0/50000 (0%)]\tLoss: 1.663005\n",
            "Train Epoch: 18 [40000/50000 (80%)]\tLoss: 1.718486\n",
            "\n",
            "Validation set: Average loss: 1.7040, Accuracy: 4032/10000 (40%)\n",
            "\n",
            "Train Epoch: 19 [0/50000 (0%)]\tLoss: 1.635535\n",
            "Train Epoch: 19 [40000/50000 (80%)]\tLoss: 1.433365\n",
            "\n",
            "Validation set: Average loss: 1.7000, Accuracy: 4027/10000 (40%)\n",
            "\n",
            "Train Epoch: 20 [0/50000 (0%)]\tLoss: 1.751675\n",
            "Train Epoch: 20 [40000/50000 (80%)]\tLoss: 2.467919\n",
            "\n",
            "Validation set: Average loss: 1.6961, Accuracy: 4036/10000 (40%)\n",
            "\n",
            "Train Epoch: 21 [0/50000 (0%)]\tLoss: 1.648903\n",
            "Train Epoch: 21 [40000/50000 (80%)]\tLoss: 1.314478\n",
            "\n",
            "Validation set: Average loss: 1.6943, Accuracy: 4060/10000 (41%)\n",
            "\n",
            "Train Epoch: 22 [0/50000 (0%)]\tLoss: 2.161790\n",
            "Train Epoch: 22 [40000/50000 (80%)]\tLoss: 1.167381\n",
            "\n",
            "Validation set: Average loss: 1.6944, Accuracy: 4061/10000 (41%)\n",
            "\n",
            "Train Epoch: 23 [0/50000 (0%)]\tLoss: 1.874326\n",
            "Train Epoch: 23 [40000/50000 (80%)]\tLoss: 1.818056\n",
            "\n",
            "Validation set: Average loss: 1.6870, Accuracy: 4095/10000 (41%)\n",
            "\n",
            "Train Epoch: 24 [0/50000 (0%)]\tLoss: 1.372727\n",
            "Train Epoch: 24 [40000/50000 (80%)]\tLoss: 1.282779\n",
            "\n",
            "Validation set: Average loss: 1.6869, Accuracy: 4086/10000 (41%)\n",
            "\n",
            "Train Epoch: 25 [0/50000 (0%)]\tLoss: 1.867407\n",
            "Train Epoch: 25 [40000/50000 (80%)]\tLoss: 2.070936\n",
            "\n",
            "Validation set: Average loss: 1.6863, Accuracy: 4095/10000 (41%)\n",
            "\n",
            "Train Epoch: 26 [0/50000 (0%)]\tLoss: 2.027160\n",
            "Train Epoch: 26 [40000/50000 (80%)]\tLoss: 1.620318\n",
            "\n",
            "Validation set: Average loss: 1.6828, Accuracy: 4086/10000 (41%)\n",
            "\n",
            "Train Epoch: 27 [0/50000 (0%)]\tLoss: 1.353827\n",
            "Train Epoch: 27 [40000/50000 (80%)]\tLoss: 1.120539\n",
            "\n",
            "Validation set: Average loss: 1.6835, Accuracy: 4090/10000 (41%)\n",
            "\n",
            "Train Epoch: 28 [0/50000 (0%)]\tLoss: 1.128058\n",
            "Train Epoch: 28 [40000/50000 (80%)]\tLoss: 1.632094\n",
            "\n",
            "Validation set: Average loss: 1.6789, Accuracy: 4127/10000 (41%)\n",
            "\n",
            "Train Epoch: 29 [0/50000 (0%)]\tLoss: 1.845307\n",
            "Train Epoch: 29 [40000/50000 (80%)]\tLoss: 1.383337\n",
            "\n",
            "Validation set: Average loss: 1.6793, Accuracy: 4138/10000 (41%)\n",
            "\n",
            "Train Epoch: 30 [0/50000 (0%)]\tLoss: 1.938860\n",
            "Train Epoch: 30 [40000/50000 (80%)]\tLoss: 0.701201\n",
            "\n",
            "Validation set: Average loss: 1.6748, Accuracy: 4159/10000 (42%)\n",
            "\n",
            "Train Epoch: 31 [0/50000 (0%)]\tLoss: 1.898655\n",
            "Train Epoch: 31 [40000/50000 (80%)]\tLoss: 2.611227\n",
            "\n",
            "Validation set: Average loss: 1.6763, Accuracy: 4140/10000 (41%)\n",
            "\n",
            "Train Epoch: 32 [0/50000 (0%)]\tLoss: 1.244960\n",
            "Train Epoch: 32 [40000/50000 (80%)]\tLoss: 1.353508\n",
            "\n",
            "Validation set: Average loss: 1.6732, Accuracy: 4169/10000 (42%)\n",
            "\n",
            "Train Epoch: 33 [0/50000 (0%)]\tLoss: 1.738831\n",
            "Train Epoch: 33 [40000/50000 (80%)]\tLoss: 1.693607\n",
            "\n",
            "Validation set: Average loss: 1.6725, Accuracy: 4173/10000 (42%)\n",
            "\n",
            "Train Epoch: 34 [0/50000 (0%)]\tLoss: 2.616205\n",
            "Train Epoch: 34 [40000/50000 (80%)]\tLoss: 2.391284\n",
            "\n",
            "Validation set: Average loss: 1.6760, Accuracy: 4143/10000 (41%)\n",
            "\n",
            "Train Epoch: 35 [0/50000 (0%)]\tLoss: 0.810505\n",
            "Train Epoch: 35 [40000/50000 (80%)]\tLoss: 1.530740\n",
            "\n",
            "Validation set: Average loss: 1.6726, Accuracy: 4151/10000 (42%)\n",
            "\n",
            "Train Epoch: 36 [0/50000 (0%)]\tLoss: 0.942585\n",
            "Train Epoch: 36 [40000/50000 (80%)]\tLoss: 2.361176\n",
            "\n",
            "Validation set: Average loss: 1.6703, Accuracy: 4158/10000 (42%)\n",
            "\n",
            "Train Epoch: 37 [0/50000 (0%)]\tLoss: 1.480255\n",
            "Train Epoch: 37 [40000/50000 (80%)]\tLoss: 1.899425\n",
            "\n",
            "Validation set: Average loss: 1.6693, Accuracy: 4160/10000 (42%)\n",
            "\n",
            "Train Epoch: 38 [0/50000 (0%)]\tLoss: 1.697402\n",
            "Train Epoch: 38 [40000/50000 (80%)]\tLoss: 1.748153\n",
            "\n",
            "Validation set: Average loss: 1.6714, Accuracy: 4181/10000 (42%)\n",
            "\n",
            "Train Epoch: 39 [0/50000 (0%)]\tLoss: 1.359272\n",
            "Train Epoch: 39 [40000/50000 (80%)]\tLoss: 1.861624\n",
            "\n",
            "Validation set: Average loss: 1.6668, Accuracy: 4156/10000 (42%)\n",
            "\n",
            "Train Epoch: 40 [0/50000 (0%)]\tLoss: 1.197376\n",
            "Train Epoch: 40 [40000/50000 (80%)]\tLoss: 1.568139\n",
            "\n",
            "Validation set: Average loss: 1.6690, Accuracy: 4185/10000 (42%)\n",
            "\n"
          ],
          "name": "stdout"
        }
      ]
    },
    {
      "cell_type": "markdown",
      "metadata": {
        "id": "eLhItbeMf4iO"
      },
      "source": [
        "Итак, мы обучили нашу сеть проходами по обучающей выборке. Давайте проверим, обучилась ли наша сеть. Проверим это путем предсказания меток классов для валидационной выборки."
      ]
    },
    {
      "cell_type": "code",
      "metadata": {
        "colab": {
          "base_uri": "https://localhost:8080/",
          "height": 279
        },
        "id": "cuELsbq3f4iP",
        "outputId": "1676da6c-8575-4fd2-cf00-8b53c95871fe"
      },
      "source": [
        "# Plot train loss and validation accuracy vs epochs for each learning rate\n",
        "epochs = [i for i in range(1, 41)]\n",
        "plt.plot(epochs, loss_vector)\n",
        "plt.xlabel(\"Epochs\")\n",
        "plt.ylabel(\"Loss\")\n",
        "plt.show()"
      ],
      "execution_count": 26,
      "outputs": [
        {
          "output_type": "display_data",
          "data": {
            "image/png": "[encoded data removed]",
            "text/plain": [
              "<Figure size 432x288 with 1 Axes>"
            ]
          },
          "metadata": {
            "tags": [],
            "needs_background": "light"
          }
        }
      ]
    },
    {
      "cell_type": "code",
      "metadata": {
        "colab": {
          "base_uri": "https://localhost:8080/",
          "height": 155
        },
        "id": "IDJfSHQif4iR",
        "outputId": "31a506d1-6de8-4b51-d095-1d0812481fce"
      },
      "source": [
        "dataiter = iter(validation_loader)\n",
        "images, labels = dataiter.next()\n",
        "\n",
        "# выведем наши предсказания\n",
        "imshow(torchvision.utils.make_grid(images))\n",
        "print('GroundTruth: ', ' '.join('%5s' % CLASSES[labels[j]] for j in range(4)))\n",
        "\n",
        "outputs=model(images)"
      ],
      "execution_count": 27,
      "outputs": [
        {
          "output_type": "stream",
          "text": [
            "GroundTruth:    cat  ship  ship plane\n"
          ],
          "name": "stdout"
        },
        {
          "output_type": "display_data",
          "data": {
            "image/png": "[encoded data removed]",
            "text/plain": [
              "<Figure size 432x288 with 1 Axes>"
            ]
          },
          "metadata": {
            "tags": [],
            "needs_background": "light"
          }
        }
      ]
    },
    {
      "cell_type": "code",
      "metadata": {
        "colab": {
          "base_uri": "https://localhost:8080/"
        },
        "id": "1Bt-VRMvf4iU",
        "outputId": "da33470d-1509-47b8-ef8b-d23e2c0a0914"
      },
      "source": [
        "_, predicted = torch.max(outputs, 1)\n",
        "\n",
        "print('Predicted: ', ' '.join('%5s' % CLASSES[predicted[j]]\n",
        "                              for j in range(4)))"
      ],
      "execution_count": 28,
      "outputs": [
        {
          "output_type": "stream",
          "text": [
            "Predicted:    cat  ship  ship plane\n"
          ],
          "name": "stdout"
        }
      ]
    },
    {
      "cell_type": "markdown",
      "metadata": {
        "id": "FQYwDNB_f4iW"
      },
      "source": [
        "Протестируем на всем тесте:"
      ]
    },
    {
      "cell_type": "code",
      "metadata": {
        "colab": {
          "base_uri": "https://localhost:8080/"
        },
        "id": "6ZD9Lxi1f4iX",
        "outputId": "8f4eb47f-b12f-45b4-d2e6-c0f2af9c79c1"
      },
      "source": [
        "correct = 0\n",
        "total = 0\n",
        "with torch.no_grad(): #with - агент для безопасного действия\n",
        "    for data in validation_loader:\n",
        "        images, labels = data\n",
        "        outputs = model(images)\n",
        "        _, predicted = torch.max(outputs.data, 1)\n",
        "        total += labels.size(0)\n",
        "        correct += (predicted == labels).sum().item()\n",
        "\n",
        "print('Accuracy of the network on the 10000 test images: %d %%' % (\n",
        "    100 * correct / total))"
      ],
      "execution_count": 29,
      "outputs": [
        {
          "output_type": "stream",
          "text": [
            "Accuracy of the network on the 10000 test images: 41 %\n"
          ],
          "name": "stdout"
        }
      ]
    },
    {
      "cell_type": "code",
      "metadata": {
        "colab": {
          "base_uri": "https://localhost:8080/"
        },
        "id": "2uxu2qysf4ia",
        "outputId": "c347c7bf-ae35-4c09-c72f-3fd473f83e3c"
      },
      "source": [
        "class_correct = list(0. for i in range(10))\n",
        "class_total = list(0. for i in range(10))\n",
        "with torch.no_grad():\n",
        "    for data in validation_loader:\n",
        "        images, labels = data\n",
        "        outputs = model(images)\n",
        "        _, predicted = torch.max(outputs, 1)\n",
        "        c = (predicted == labels).squeeze() #squeeze() - убрать 1-ые размерности\n",
        "        for i in range(4):\n",
        "            label = labels[i]\n",
        "            class_correct[label] += c[i].item()\n",
        "            class_total[label] += 1\n",
        "\n",
        "\n",
        "for i in range(10):\n",
        "    print('Accuracy of %5s : %2d %%' % (\n",
        "        CLASSES[i], 100 * class_correct[i] / class_total[i]))"
      ],
      "execution_count": 31,
      "outputs": [
        {
          "output_type": "stream",
          "text": [
            "Accuracy of plane : 46 %\n",
            "Accuracy of   car : 49 %\n",
            "Accuracy of  bird : 21 %\n",
            "Accuracy of   cat : 20 %\n",
            "Accuracy of  deer : 35 %\n",
            "Accuracy of   dog : 32 %\n",
            "Accuracy of  frog : 56 %\n",
            "Accuracy of horse : 50 %\n",
            "Accuracy of  ship : 61 %\n",
            "Accuracy of truck : 45 %\n"
          ],
          "name": "stdout"
        }
      ]
    },
    {
      "cell_type": "markdown",
      "metadata": {
        "id": "kRuFMmwvf4id"
      },
      "source": [
        "Каким образом мы можем улучшить качество распознавания и обучения?\n",
        "1. Добавить **dropout**\n",
        "\n",
        "2. Добавить **batchnorm** (2 семинар)\n",
        "3. Использовать свертки. Но об этом позже :)"
      ]
    },
    {
      "cell_type": "code",
      "metadata": {
        "id": "QwjLmYc7f4id"
      },
      "source": [
        "class SecondNet(torch.nn.Module):\n",
        "    def __init__(self, n_hidden_nodes, n_hidden_layers,keep_rate=0.8):\n",
        "        super().__init__()\n",
        "        self.n_hidden_nodes = n_hidden_nodes\n",
        "        self.n_hidden_layers = n_hidden_layers\n",
        "#         if not keep_rate:\n",
        "#             keep_rate = 0.5\n",
        "#         self.keep_rate = keep_rate\n",
        "        # Set up perceptron layers and add dropout\n",
        "        self.fc1 = torch.nn.Linear(IMAGE_WIDTH * IMAGE_WIDTH * COLOR_CHANNELS,\n",
        "                                   self.n_hidden_nodes)\n",
        "        self.fc1_drop = torch.nn.Dropout(1 - keep_rate)\n",
        "        self.out = torch.nn.Linear(self.n_hidden_nodes, N_CLASSES)\n",
        "    \n",
        "    def forward(self, x):\n",
        "        x = x.view(-1, IMAGE_WIDTH * IMAGE_WIDTH * COLOR_CHANNELS)\n",
        "        sigmoid = torch.nn.Sigmoid()\n",
        "        x = sigmoid(self.fc1(x))\n",
        "        x = self.fc1_drop(x)\n",
        "        return torch.nn.functional.log_softmax(self.out(x))\n"
      ],
      "execution_count": 32,
      "outputs": []
    },
    {
      "cell_type": "code",
      "metadata": {
        "colab": {
          "base_uri": "https://localhost:8080/"
        },
        "id": "l6aah5zAf4ig",
        "outputId": "343702ed-0e79-40e7-e2ee-b54ca170e443"
      },
      "source": [
        "#В Pytorch есть возможность запускать вычисления на GPU. Но у нас нет))\n",
        "hidden_nodes=10\n",
        "layers=1\n",
        "\n",
        "model=SecondNet(hidden_nodes,layers)\n",
        "optimizer=torch.optim.SGD(model.parameters(),LEARNING_RATE)\n",
        "optimizer.zero_grad()\n",
        "\n",
        "loss_vector=[]\n",
        "accuracy_vector=[]\n",
        "\n",
        "for epoch in range(1,EPOCHS+1):\n",
        "  train(epoch,model,train_loader,optimizer)\n",
        "  validate(loss_vector, accuracy_vector,model,validation_loader)\n",
        "\n",
        "  if epoch == 40:\n",
        "    break"
      ],
      "execution_count": 34,
      "outputs": [
        {
          "output_type": "stream",
          "text": [
            "Train Epoch: 1 [0/50000 (0%)]\tLoss: 2.231562\n",
            "Train Epoch: 1 [40000/50000 (80%)]\tLoss: 2.323958\n",
            "\n",
            "Validation set: Average loss: 2.0587, Accuracy: 3025/10000 (30%)\n",
            "\n",
            "Train Epoch: 2 [0/50000 (0%)]\tLoss: 1.937327\n",
            "Train Epoch: 2 [40000/50000 (80%)]\tLoss: 2.012968\n",
            "\n",
            "Validation set: Average loss: 1.9704, Accuracy: 3206/10000 (32%)\n",
            "\n",
            "Train Epoch: 3 [0/50000 (0%)]\tLoss: 2.194126\n",
            "Train Epoch: 3 [40000/50000 (80%)]\tLoss: 1.517168\n",
            "\n",
            "Validation set: Average loss: 1.9262, Accuracy: 3278/10000 (33%)\n",
            "\n",
            "Train Epoch: 4 [0/50000 (0%)]\tLoss: 2.178911\n",
            "Train Epoch: 4 [40000/50000 (80%)]\tLoss: 1.971051\n",
            "\n",
            "Validation set: Average loss: 1.8969, Accuracy: 3365/10000 (34%)\n",
            "\n",
            "Train Epoch: 5 [0/50000 (0%)]\tLoss: 1.617359\n",
            "Train Epoch: 5 [40000/50000 (80%)]\tLoss: 1.671077\n",
            "\n",
            "Validation set: Average loss: 1.8757, Accuracy: 3445/10000 (34%)\n",
            "\n",
            "Train Epoch: 6 [0/50000 (0%)]\tLoss: 1.773668\n",
            "Train Epoch: 6 [40000/50000 (80%)]\tLoss: 1.760872\n",
            "\n",
            "Validation set: Average loss: 1.8584, Accuracy: 3534/10000 (35%)\n",
            "\n",
            "Train Epoch: 7 [0/50000 (0%)]\tLoss: 2.414668\n",
            "Train Epoch: 7 [40000/50000 (80%)]\tLoss: 2.098798\n",
            "\n",
            "Validation set: Average loss: 1.8461, Accuracy: 3563/10000 (36%)\n",
            "\n",
            "Train Epoch: 8 [0/50000 (0%)]\tLoss: 2.376945\n",
            "Train Epoch: 8 [40000/50000 (80%)]\tLoss: 2.695626\n",
            "\n",
            "Validation set: Average loss: 1.8335, Accuracy: 3624/10000 (36%)\n",
            "\n",
            "Train Epoch: 9 [0/50000 (0%)]\tLoss: 2.214166\n",
            "Train Epoch: 9 [40000/50000 (80%)]\tLoss: 1.841410\n",
            "\n",
            "Validation set: Average loss: 1.8227, Accuracy: 3656/10000 (37%)\n",
            "\n",
            "Train Epoch: 10 [0/50000 (0%)]\tLoss: 1.852741\n",
            "Train Epoch: 10 [40000/50000 (80%)]\tLoss: 1.731964\n",
            "\n",
            "Validation set: Average loss: 1.8141, Accuracy: 3654/10000 (37%)\n",
            "\n",
            "Train Epoch: 11 [0/50000 (0%)]\tLoss: 2.028928\n",
            "Train Epoch: 11 [40000/50000 (80%)]\tLoss: 1.703689\n",
            "\n",
            "Validation set: Average loss: 1.8049, Accuracy: 3679/10000 (37%)\n",
            "\n",
            "Train Epoch: 12 [0/50000 (0%)]\tLoss: 2.225887\n",
            "Train Epoch: 12 [40000/50000 (80%)]\tLoss: 2.525689\n",
            "\n",
            "Validation set: Average loss: 1.7988, Accuracy: 3697/10000 (37%)\n",
            "\n",
            "Train Epoch: 13 [0/50000 (0%)]\tLoss: 2.011494\n",
            "Train Epoch: 13 [40000/50000 (80%)]\tLoss: 1.729529\n",
            "\n",
            "Validation set: Average loss: 1.7916, Accuracy: 3735/10000 (37%)\n",
            "\n",
            "Train Epoch: 14 [0/50000 (0%)]\tLoss: 2.223178\n",
            "Train Epoch: 14 [40000/50000 (80%)]\tLoss: 1.916559\n",
            "\n",
            "Validation set: Average loss: 1.7864, Accuracy: 3714/10000 (37%)\n",
            "\n",
            "Train Epoch: 15 [0/50000 (0%)]\tLoss: 1.251134\n",
            "Train Epoch: 15 [40000/50000 (80%)]\tLoss: 1.610372\n",
            "\n",
            "Validation set: Average loss: 1.7808, Accuracy: 3751/10000 (38%)\n",
            "\n",
            "Train Epoch: 16 [0/50000 (0%)]\tLoss: 2.354628\n",
            "Train Epoch: 16 [40000/50000 (80%)]\tLoss: 2.282166\n",
            "\n",
            "Validation set: Average loss: 1.7754, Accuracy: 3760/10000 (38%)\n",
            "\n",
            "Train Epoch: 17 [0/50000 (0%)]\tLoss: 1.506402\n",
            "Train Epoch: 17 [40000/50000 (80%)]\tLoss: 2.049390\n",
            "\n",
            "Validation set: Average loss: 1.7708, Accuracy: 3779/10000 (38%)\n",
            "\n",
            "Train Epoch: 18 [0/50000 (0%)]\tLoss: 2.208574\n",
            "Train Epoch: 18 [40000/50000 (80%)]\tLoss: 1.652607\n",
            "\n",
            "Validation set: Average loss: 1.7682, Accuracy: 3825/10000 (38%)\n",
            "\n",
            "Train Epoch: 19 [0/50000 (0%)]\tLoss: 1.955596\n",
            "Train Epoch: 19 [40000/50000 (80%)]\tLoss: 1.714056\n",
            "\n",
            "Validation set: Average loss: 1.7646, Accuracy: 3814/10000 (38%)\n",
            "\n",
            "Train Epoch: 20 [0/50000 (0%)]\tLoss: 2.104217\n",
            "Train Epoch: 20 [40000/50000 (80%)]\tLoss: 1.639745\n",
            "\n",
            "Validation set: Average loss: 1.7612, Accuracy: 3832/10000 (38%)\n",
            "\n",
            "Train Epoch: 21 [0/50000 (0%)]\tLoss: 1.595055\n",
            "Train Epoch: 21 [40000/50000 (80%)]\tLoss: 1.972344\n",
            "\n",
            "Validation set: Average loss: 1.7598, Accuracy: 3834/10000 (38%)\n",
            "\n",
            "Train Epoch: 22 [0/50000 (0%)]\tLoss: 2.136803\n",
            "Train Epoch: 22 [40000/50000 (80%)]\tLoss: 2.263376\n",
            "\n",
            "Validation set: Average loss: 1.7539, Accuracy: 3871/10000 (39%)\n",
            "\n",
            "Train Epoch: 23 [0/50000 (0%)]\tLoss: 1.861367\n",
            "Train Epoch: 23 [40000/50000 (80%)]\tLoss: 1.836446\n",
            "\n",
            "Validation set: Average loss: 1.7526, Accuracy: 3828/10000 (38%)\n",
            "\n",
            "Train Epoch: 24 [0/50000 (0%)]\tLoss: 2.702876\n",
            "Train Epoch: 24 [40000/50000 (80%)]\tLoss: 1.496921\n",
            "\n",
            "Validation set: Average loss: 1.7490, Accuracy: 3848/10000 (38%)\n",
            "\n",
            "Train Epoch: 25 [0/50000 (0%)]\tLoss: 1.771299\n",
            "Train Epoch: 25 [40000/50000 (80%)]\tLoss: 2.882815\n",
            "\n",
            "Validation set: Average loss: 1.7470, Accuracy: 3853/10000 (39%)\n",
            "\n",
            "Train Epoch: 26 [0/50000 (0%)]\tLoss: 1.851046\n",
            "Train Epoch: 26 [40000/50000 (80%)]\tLoss: 1.486354\n",
            "\n",
            "Validation set: Average loss: 1.7446, Accuracy: 3881/10000 (39%)\n",
            "\n",
            "Train Epoch: 27 [0/50000 (0%)]\tLoss: 1.829424\n",
            "Train Epoch: 27 [40000/50000 (80%)]\tLoss: 1.505068\n",
            "\n",
            "Validation set: Average loss: 1.7429, Accuracy: 3872/10000 (39%)\n",
            "\n",
            "Train Epoch: 28 [0/50000 (0%)]\tLoss: 1.858511\n",
            "Train Epoch: 28 [40000/50000 (80%)]\tLoss: 2.091167\n",
            "\n",
            "Validation set: Average loss: 1.7420, Accuracy: 3881/10000 (39%)\n",
            "\n",
            "Train Epoch: 29 [0/50000 (0%)]\tLoss: 2.061324\n",
            "Train Epoch: 29 [40000/50000 (80%)]\tLoss: 2.122124\n",
            "\n",
            "Validation set: Average loss: 1.7394, Accuracy: 3911/10000 (39%)\n",
            "\n",
            "Train Epoch: 30 [0/50000 (0%)]\tLoss: 2.991890\n",
            "Train Epoch: 30 [40000/50000 (80%)]\tLoss: 1.819346\n",
            "\n",
            "Validation set: Average loss: 1.7379, Accuracy: 3896/10000 (39%)\n",
            "\n",
            "Train Epoch: 31 [0/50000 (0%)]\tLoss: 1.521945\n",
            "Train Epoch: 31 [40000/50000 (80%)]\tLoss: 1.824537\n",
            "\n",
            "Validation set: Average loss: 1.7353, Accuracy: 3909/10000 (39%)\n",
            "\n",
            "Train Epoch: 32 [0/50000 (0%)]\tLoss: 1.922172\n",
            "Train Epoch: 32 [40000/50000 (80%)]\tLoss: 2.046520\n",
            "\n",
            "Validation set: Average loss: 1.7345, Accuracy: 3901/10000 (39%)\n",
            "\n",
            "Train Epoch: 33 [0/50000 (0%)]\tLoss: 1.335538\n",
            "Train Epoch: 33 [40000/50000 (80%)]\tLoss: 1.753132\n",
            "\n",
            "Validation set: Average loss: 1.7320, Accuracy: 3930/10000 (39%)\n",
            "\n",
            "Train Epoch: 34 [0/50000 (0%)]\tLoss: 1.188695\n",
            "Train Epoch: 34 [40000/50000 (80%)]\tLoss: 1.394487\n",
            "\n",
            "Validation set: Average loss: 1.7316, Accuracy: 3925/10000 (39%)\n",
            "\n",
            "Train Epoch: 35 [0/50000 (0%)]\tLoss: 1.702851\n",
            "Train Epoch: 35 [40000/50000 (80%)]\tLoss: 1.900472\n",
            "\n",
            "Validation set: Average loss: 1.7305, Accuracy: 3950/10000 (40%)\n",
            "\n",
            "Train Epoch: 36 [0/50000 (0%)]\tLoss: 1.447295\n",
            "Train Epoch: 36 [40000/50000 (80%)]\tLoss: 1.353794\n",
            "\n",
            "Validation set: Average loss: 1.7279, Accuracy: 3933/10000 (39%)\n",
            "\n",
            "Train Epoch: 37 [0/50000 (0%)]\tLoss: 1.729907\n",
            "Train Epoch: 37 [40000/50000 (80%)]\tLoss: 1.308183\n",
            "\n",
            "Validation set: Average loss: 1.7258, Accuracy: 3948/10000 (39%)\n",
            "\n",
            "Train Epoch: 38 [0/50000 (0%)]\tLoss: 2.043859\n",
            "Train Epoch: 38 [40000/50000 (80%)]\tLoss: 1.667827\n",
            "\n",
            "Validation set: Average loss: 1.7269, Accuracy: 3961/10000 (40%)\n",
            "\n",
            "Train Epoch: 39 [0/50000 (0%)]\tLoss: 1.902493\n",
            "Train Epoch: 39 [40000/50000 (80%)]\tLoss: 1.598468\n",
            "\n",
            "Validation set: Average loss: 1.7238, Accuracy: 3941/10000 (39%)\n",
            "\n",
            "Train Epoch: 40 [0/50000 (0%)]\tLoss: 1.872839\n",
            "Train Epoch: 40 [40000/50000 (80%)]\tLoss: 1.151662\n",
            "\n",
            "Validation set: Average loss: 1.7230, Accuracy: 3972/10000 (40%)\n",
            "\n"
          ],
          "name": "stdout"
        }
      ]
    },
    {
      "cell_type": "code",
      "metadata": {
        "id": "u3SvVLEAp4xg"
      },
      "source": [
        "# to save model use \n",
        "torch.save(model.state_dict(), 'Second_Net.pt') \n",
        "# to load use model.load_state_dict(torch.load('Second_Model.pt'))"
      ],
      "execution_count": 35,
      "outputs": []
    },
    {
      "cell_type": "code",
      "metadata": {
        "colab": {
          "base_uri": "https://localhost:8080/",
          "height": 279
        },
        "id": "p0Q-D23Qf4ii",
        "outputId": "f54d0ad2-98ed-4820-b96b-3a055562c68c"
      },
      "source": [
        "# Plot train loss and validation accuracy vs epochs for each learning rate\n",
        "epochs = [i for i in range(1, 41)]\n",
        "plt.plot(epochs, loss_vector)\n",
        "plt.xlabel(\"Epochs\")\n",
        "plt.ylabel(\"Loss\")\n",
        "plt.show()"
      ],
      "execution_count": 37,
      "outputs": [
        {
          "output_type": "display_data",
          "data": {
            "image/png": "[encoded data removed]",
            "text/plain": [
              "<Figure size 432x288 with 1 Axes>"
            ]
          },
          "metadata": {
            "tags": [],
            "needs_background": "light"
          }
        }
      ]
    },
    {
      "cell_type": "markdown",
      "metadata": {
        "id": "y9US-3ZjrSBI"
      },
      "source": [
        "Попробуйте самостоятельно написать двуслойную сеть с дропаутом. Получилось ли улучшить результат?"
      ]
    },
    {
      "cell_type": "code",
      "metadata": {
        "id": "UZj3d7h7tRu9"
      },
      "source": [
        "class TwoLayerNet(torch.nn.Module):\n",
        "    def __init__(self, n_hidden_nodes, n_hidden_layers,keep_rate=0):\n",
        "        super(TwoLayerNet, self).__init__()\n",
        "        self.n_hidden_nodes = n_hidden_nodes\n",
        "        self.n_hidden_layers = n_hidden_layers\n",
        "        if not keep_rate:\n",
        "            keep_rate = 0.5\n",
        "        self.keep_rate = keep_rate\n",
        "        # Set up perceptron layers and add dropout\n",
        "        self.fc1 = torch.nn.Linear(IMAGE_WIDTH * IMAGE_WIDTH * COLOR_CHANNELS,\n",
        "                                   n_hidden_nodes)\n",
        "        self.fc1_drop = torch.nn.Dropout(1 - keep_rate)\n",
        "        if n_hidden_layers == 2:\n",
        "            self.fc2 = #тут ваш код\n",
        "            self.fc2_drop = #тут ваш код\n",
        "\n",
        "        self.out = torch.nn.Linear(n_hidden_nodes, N_CLASSES)\n",
        "    \n",
        "    def forward(self, x):\n",
        "        x = x.view(-1, IMAGE_WIDTH * IMAGE_WIDTH * COLOR_CHANNELS)\n",
        "        sigmoid = torch.nn.Sigmoid()\n",
        "        #тут ваш код\n",
        "        return torch.nn.functional.log_softmax(self.out(x))"
      ],
      "execution_count": null,
      "outputs": []
    },
    {
      "cell_type": "code",
      "metadata": {
        "id": "VFtgxjJ6rPVr"
      },
      "source": [
        "<Ваш код здесь>"
      ],
      "execution_count": null,
      "outputs": []
    }
  ]
}