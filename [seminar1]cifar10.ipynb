{
  "cells": [
    {
      "cell_type": "markdown",
      "metadata": {
        "id": "view-in-github",
        "colab_type": "text"
      },
      "source": [
        "<a href=\"https://colab.research.google.com/github/bulinayas/Deep-deep-learning/blob/main/%5Bseminar1%5Dcifar10.ipynb\" target=\"_parent\"><img src=\"https://colab.research.google.com/assets/colab-badge.svg\" alt=\"Open In Colab\"/></a>"
      ]
    },
    {
      "cell_type": "markdown",
      "metadata": {
        "id": "qwh-a1MR_nS9"
      },
      "source": [
        "<img src=\"https://s8.hostingkartinok.com/uploads/images/2018/08/308b49fcfbc619d629fe4604bceb67ac.jpg\" width=500, height=450>\n",
        "<h3 style=\"text-align: center;\"><b>Физтех-Школа Прикладной математики и информатики (ФПМИ) МФТИ</b></h3>"
      ]
    },
    {
      "cell_type": "markdown",
      "metadata": {
        "id": "9gTpRoZd_nTG"
      },
      "source": [
        "---"
      ]
    },
    {
      "cell_type": "markdown",
      "metadata": {
        "id": "85Gvi3D9_nTH"
      },
      "source": [
        "<h2 style=\"text-align: center;\"><b>Семинар 1: практическое занятие по обучению нейросетей (датасет CIFAR10)</b></h2>"
      ]
    },
    {
      "cell_type": "markdown",
      "metadata": {
        "id": "6NEyCawY_nTJ"
      },
      "source": [
        "---"
      ]
    },
    {
      "cell_type": "code",
      "execution_count": 1,
      "metadata": {
        "id": "Hgit3qqOf4hd"
      },
      "outputs": [],
      "source": [
        "import numpy as np\n",
        "import matplotlib.pyplot as plt\n",
        "\n",
        "from tqdm import tqdm_notebook # progress bar\n",
        "\n",
        "import warnings\n",
        "warnings.filterwarnings(\"ignore\")\n",
        "\n",
        "import multiprocessing # threading"
      ]
    },
    {
      "cell_type": "markdown",
      "metadata": {
        "id": "CHUKPJJOf4hj"
      },
      "source": [
        "Сегодня мы построим свою сеть (простейший классификатор изображений), посчитаем loss и проведем обновление весов.\n",
        "\n",
        "\n",
        "Данные\n",
        "----------------\n",
        "Мы будем работать с набором картинок. Для работы с ними есть специальный пакет ``torchvision``. В нем уже содержатся функции-загрузчики таких датасетов, как ImageNet, MNIST, CIFAR10. С последним сегодня мы и будем работать. В нем содержатся картинки RGB 32х32 следующих классов: \n",
        "1. ‘airplane’\n",
        "2. ‘automobile’\n",
        "3. ‘bird’\n",
        "4. ‘cat’\n",
        "5. ‘deer’\n",
        "6. ‘dog’\n",
        "7. ‘frog’\n",
        "8. ‘horse’\n",
        "9. ‘ship’\n",
        "10. ‘truck’\n",
        "\n",
        "Обучение классификатора\n",
        "----------------------------\n",
        "\n",
        "План обучения классификатора:\n",
        "\n",
        "1. Загружаем и нормализуем данные при помощи пакета\n",
        "   ``torchvision``\n",
        "2. Объявляем нейронную сеть\n",
        "3. Объявляем функцию потерь\n",
        "4. Тренируем сеть при помощи тренировочной выборки (train data)\n",
        "5. Тестируем сеть при помощи валидационной выборки (test data)\n",
        "\n",
        "----------------------------\n",
        "\n",
        "Импортируем нужные нам пакеты из библиотеки ``torch``\n",
        "\n",
        "\n"
      ]
    },
    {
      "cell_type": "code",
      "execution_count": 2,
      "metadata": {
        "id": "E6h4kZ-if4hl"
      },
      "outputs": [],
      "source": [
        "import torch\n",
        "import torchvision # работа с данными\n",
        "import torchvision.transforms as transforms # common image transformations"
      ]
    },
    {
      "cell_type": "code",
      "execution_count": null,
      "metadata": {
        "id": "5KmxZQREgApi"
      },
      "outputs": [],
      "source": [
        "# http://pytorch.org/\n",
        "\n",
        "from os.path import exists\n",
        "from wheel.pep425tags import get_abbr_impl, get_impl_ver, get_abi_tag\n",
        "platform = '{}{}-{}'.format(get_abbr_impl(), get_impl_ver(), get_abi_tag())\n",
        "cuda_output = !ldconfig -p|grep cudart.so|sed -e 's/.*\\.\\([0-9]*\\)\\.\\([0-9]*\\)$/cu\\1\\2/'\n",
        "accelerator = cuda_output[0] if exists('/dev/nvidia0') else 'cpu'\n",
        "\n",
        "!pip install -q http://download.pytorch.org/whl/{accelerator}/torch-0.4.1-{platform}-linux_x86_64.whl torchvision\n",
        "import torch"
      ]
    },
    {
      "cell_type": "markdown",
      "metadata": {
        "id": "aHKBkoJPf4hp"
      },
      "source": [
        "В результате загрузки датасетов при помощи пакета torchvision мы получим картинки, содержащие значения в диапазоне [0,1], чтобы подавать их в нейросеть, нам нужно сделать из них тензоры со значениями в диапазоне [-1,1]\n",
        "\n",
        "Определим презобразование:"
      ]
    },
    {
      "cell_type": "code",
      "execution_count": 3,
      "metadata": {
        "id": "GJeKQk9nf4hq"
      },
      "outputs": [],
      "source": [
        "transform = transforms.Compose(\n",
        "    \n",
        "[\n",
        "    transforms.ToTensor(),\n",
        "    transforms.Normalize((0.5, 0.5, 0.5), (0.5, 0.5, 0.5)) # (means,stds), output[channel] = (input[channel] - mean[channel]) / std[channel]\n",
        "]\n",
        "\n",
        ")"
      ]
    },
    {
      "cell_type": "markdown",
      "metadata": {
        "id": "hNOgh6Obf4hx"
      },
      "source": [
        "Теперь вызовем загрузчики из пакета ``torchvision`` и скачаем обучающую выборку (trainset) и валидационную (testset)\n",
        "\n"
      ]
    },
    {
      "cell_type": "code",
      "execution_count": 4,
      "metadata": {
        "colab": {
          "base_uri": "https://localhost:8080/",
          "height": 103,
          "referenced_widgets": [
            "668d509966634c61a253d92102794dbc",
            "e6e477c2ae0c4a9da33f7245e70b45b0",
            "e09b8f4a452d48a995b138aa7c3022c5",
            "4399e352c47340aaa06b1bc4e619aff0",
            "61d757fd14284787aed12ad7c898c282",
            "528133cf32d147168700e4c005f81ca5",
            "081a69473a914de1a962a45e9e7df5a7",
            "0ccaaa35c4984e208d3ae240c7fd180d",
            "ff506d475a474be38d7dad03c176e9ee",
            "026aff7b82334fa69b9cfb6a0b07afda",
            "e52e48416eb44129838822682f5d2fc4"
          ]
        },
        "id": "Vvub5ZZdf4hz",
        "outputId": "423accef-5b30-4885-9316-aa3d26879ef1",
        "scrolled": false
      },
      "outputs": [
        {
          "output_type": "stream",
          "name": "stdout",
          "text": [
            "Downloading https://www.cs.toronto.edu/~kriz/cifar-10-python.tar.gz to ./data/cifar-10-python.tar.gz\n"
          ]
        },
        {
          "output_type": "display_data",
          "data": {
            "text/plain": [
              "  0%|          | 0/170498071 [00:00<?, ?it/s]"
            ],
            "application/vnd.jupyter.widget-view+json": {
              "version_major": 2,
              "version_minor": 0,
              "model_id": "668d509966634c61a253d92102794dbc"
            }
          },
          "metadata": {}
        },
        {
          "output_type": "stream",
          "name": "stdout",
          "text": [
            "Extracting ./data/cifar-10-python.tar.gz to ./data\n",
            "Files already downloaded and verified\n"
          ]
        }
      ],
      "source": [
        "trainset = torchvision.datasets.CIFAR10(root='./data', \n",
        "                                        train=True,download=True, transform=transform)\n",
        "train_loader = torch.utils.data.DataLoader(trainset, batch_size=4,\n",
        "                                           shuffle=True, num_workers=0, pin_memory=False) \n",
        "# num_workers - количество потоков, pin_memory - закрепление памяти для ускорения переноса на GPU(нам пока не надо)\n",
        "\n",
        "testset = torchvision.datasets.CIFAR10(root='./data', train=False, \n",
        "                                       download=True, transform=transform)\n",
        "validation_loader = torch.utils.data.DataLoader(testset, batch_size=4,\n",
        "                                                shuffle=False, num_workers=0, pin_memory=False)"
      ]
    },
    {
      "cell_type": "markdown",
      "metadata": {
        "id": "DsFyaka7f4h5"
      },
      "source": [
        "Определим константы"
      ]
    },
    {
      "cell_type": "code",
      "execution_count": 5,
      "metadata": {
        "id": "UnfKGICOf4h6"
      },
      "outputs": [],
      "source": [
        "IMAGE_WIDTH = 32\n",
        "IMAGE_HEIGHT = 32\n",
        "COLOR_CHANNELS = 3\n",
        "EPOCHS = 50\n",
        "LEARNING_RATE = 0.001\n",
        "BATCH_SIZE = 4\n",
        "BATCH_IMAGE_COUNT = 10000\n",
        "CLASSES = ['plane', 'car', 'bird', 'cat', 'deer', 'dog', 'frog', 'horse', 'ship', 'truck']\n",
        "N_CLASSES = len(CLASSES)\n",
        "PLOT = False"
      ]
    },
    {
      "cell_type": "code",
      "execution_count": 6,
      "metadata": {
        "colab": {
          "base_uri": "https://localhost:8080/",
          "height": 156
        },
        "id": "mNWymneYf4h-",
        "outputId": "052ba274-ec67-4513-ab3f-7f62bc163614"
      },
      "outputs": [
        {
          "output_type": "stream",
          "name": "stdout",
          "text": [
            " deer truck  ship   car\n"
          ]
        },
        {
          "output_type": "display_data",
          "data": {
            "text/plain": [
              "<Figure size 432x288 with 1 Axes>"
            ],
            "image/png": "[encoded data removed]"
          },
          "metadata": {
            "needs_background": "light"
          }
        }
      ],
      "source": [
        "import matplotlib.pyplot as plt\n",
        "import numpy as np\n",
        "\n",
        "# Функция, которая показывает изображения\n",
        "def imshow(img):\n",
        "    img = img / 2 + 0.5     # деномрировка\n",
        "    npimg = img.numpy()\n",
        "    plt.imshow(np.transpose(npimg, (1, 2, 0)))\n",
        "\n",
        "\n",
        "# достаем случайные картинки из обучающей выборки\n",
        "dataiter = iter(train_loader)\n",
        "images, labels = dataiter.next()\n",
        "\n",
        "# вызываем функцию, реализующую демонстрацию изображений, что мы можем видеть на них?\n",
        "imshow(torchvision.utils.make_grid(images))\n",
        "# выведем метки классов отрисованных изображений\n",
        "print(' '.join('%5s' % CLASSES[labels[j]] for j in range(4)))"
      ]
    },
    {
      "cell_type": "code",
      "execution_count": 7,
      "metadata": {
        "id": "wysy5qO2f4iC"
      },
      "outputs": [],
      "source": [
        "class Net(torch.nn.Module):\n",
        "    def __init__(self, n_hidden_nodes, n_hidden_layers):\n",
        "        super(Net, self).__init__()\n",
        "        # Определяем слои\n",
        "        self.fc1 = torch.nn.Linear(IMAGE_HEIGHT * IMAGE_WIDTH * COLOR_CHANNELS,\n",
        "                                   n_hidden_nodes)\n",
        "#         self.n_hidden_nodes=n_hidden_nodes\n",
        "#         self.n_hidden_layers=n_hidden_layers\n",
        "\n",
        "        self.out = torch.nn.Linear(n_hidden_nodes, N_CLASSES)\n",
        "\n",
        "    def forward(self, x):\n",
        "        x = x.view(-1, IMAGE_HEIGHT * IMAGE_WIDTH * COLOR_CHANNELS)\n",
        "        # определяем функцию активации\n",
        "        sigmoid = torch.nn.Sigmoid()\n",
        "        x = sigmoid(self.fc1(x))\n",
        "        return torch.nn.functional.log_softmax(self.out(x))"
      ]
    },
    {
      "cell_type": "code",
      "execution_count": 8,
      "metadata": {
        "id": "sdi5bYJaf4iF"
      },
      "outputs": [],
      "source": [
        "def train(epoch, model, train_loader, optimizer, log_interval=100, cuda=None):\n",
        "    model.train()\n",
        "    correct = 0\n",
        "    for batch_idx, (data, target) in enumerate(train_loader):\n",
        "        data, target = data.requires_grad_(requires_grad = True), target.requires_grad_(requires_grad = False)\n",
        "        optimizer.zero_grad()\n",
        "        output = model(data)\n",
        "        #print(output.data.shape) 4 x 10 == batch_size x num_classes\n",
        "        pred = output.data.max(1)[1] # get the index of the max log-probability, torch.max() returns a named tuple (values, indices) \n",
        "        #print(pred.shape) Size = 4 == batch_size\n",
        "        correct += pred.eq(target.data).sum()\n",
        "        accuracy = 100. * correct / len(train_loader.dataset)\n",
        "        \n",
        "        \n",
        "        loss = torch.nn.functional.nll_loss(output, target)\n",
        "        loss.backward()\n",
        "        optimizer.step()\n",
        "        if batch_idx % 10000 == 0:\n",
        "            print('Train Epoch: {} [{}/{} ({:.0f}%)]\\tLoss: {:.6f}'.format(\n",
        "                epoch, batch_idx * len(data), len(train_loader.dataset),\n",
        "                100. * batch_idx / len(train_loader), loss.data, accuracy))\n"
      ]
    },
    {
      "cell_type": "code",
      "execution_count": 9,
      "metadata": {
        "id": "_MB7us3sf4iI"
      },
      "outputs": [],
      "source": [
        "def validate(loss_vector, accuracy_vector, model, validation_loader, cuda=None):\n",
        "    model.eval()\n",
        "    val_loss, correct = 0, 0\n",
        "    for data, target in validation_loader:\n",
        "        if cuda:\n",
        "            data, target = data.cuda(), target.cuda()\n",
        "        data, target = data.requires_grad_(requires_grad = False), target.requires_grad_(requires_grad = False)\n",
        "        output = model(data)\n",
        "\n",
        "        val_loss += torch.nn.functional.nll_loss(output, target).data\n",
        "        pred = output.data.max(1)[1] # get the index of the max log-probability\n",
        "\n",
        "        correct += pred.eq(target.data).cpu().sum()\n",
        "    \n",
        "    val_loss /= len(validation_loader)\n",
        "    loss_vector.append(val_loss)\n",
        "\n",
        "    accuracy = 100. * correct / len(validation_loader.dataset)\n",
        "    accuracy_vector.append(accuracy)\n",
        "\n",
        "    print('\\nValidation set: Average loss: {:.4f}, Accuracy: {}/{} ({:.0f}%)\\n'.format(\n",
        "        val_loss, correct, len(validation_loader.dataset), accuracy))"
      ]
    },
    {
      "cell_type": "code",
      "execution_count": 10,
      "metadata": {
        "id": "5Ta4nX1Uf4iK"
      },
      "outputs": [],
      "source": [
        "from tqdm import tqdm_notebook"
      ]
    },
    {
      "cell_type": "code",
      "execution_count": 11,
      "metadata": {
        "colab": {
          "base_uri": "https://localhost:8080/"
        },
        "id": "HcykLY4af4iM",
        "outputId": "a050c683-6d1e-4c04-ed82-52bd35d53c67"
      },
      "outputs": [
        {
          "output_type": "stream",
          "name": "stdout",
          "text": [
            "Train Epoch: 1 [0/50000 (0%)]\tLoss: 2.162834\n",
            "Train Epoch: 1 [40000/50000 (80%)]\tLoss: 2.198022\n",
            "\n",
            "Validation set: Average loss: 2.0476, Accuracy: 2922/10000 (29%)\n",
            "\n",
            "Train Epoch: 2 [0/50000 (0%)]\tLoss: 1.842455\n",
            "Train Epoch: 2 [40000/50000 (80%)]\tLoss: 2.091054\n",
            "\n",
            "Validation set: Average loss: 1.9573, Accuracy: 3168/10000 (32%)\n",
            "\n",
            "Train Epoch: 3 [0/50000 (0%)]\tLoss: 1.753233\n",
            "Train Epoch: 3 [40000/50000 (80%)]\tLoss: 1.578571\n",
            "\n",
            "Validation set: Average loss: 1.9063, Accuracy: 3253/10000 (33%)\n",
            "\n",
            "Train Epoch: 4 [0/50000 (0%)]\tLoss: 1.775796\n",
            "Train Epoch: 4 [40000/50000 (80%)]\tLoss: 1.566525\n",
            "\n",
            "Validation set: Average loss: 1.8705, Accuracy: 3439/10000 (34%)\n",
            "\n",
            "Train Epoch: 5 [0/50000 (0%)]\tLoss: 1.517090\n",
            "Train Epoch: 5 [40000/50000 (80%)]\tLoss: 1.768827\n",
            "\n",
            "Validation set: Average loss: 1.8430, Accuracy: 3543/10000 (35%)\n",
            "\n",
            "Train Epoch: 6 [0/50000 (0%)]\tLoss: 1.884855\n",
            "Train Epoch: 6 [40000/50000 (80%)]\tLoss: 1.925061\n",
            "\n",
            "Validation set: Average loss: 1.8210, Accuracy: 3603/10000 (36%)\n",
            "\n",
            "Train Epoch: 7 [0/50000 (0%)]\tLoss: 2.141287\n",
            "Train Epoch: 7 [40000/50000 (80%)]\tLoss: 1.869746\n",
            "\n",
            "Validation set: Average loss: 1.8035, Accuracy: 3649/10000 (36%)\n",
            "\n",
            "Train Epoch: 8 [0/50000 (0%)]\tLoss: 1.295091\n",
            "Train Epoch: 8 [40000/50000 (80%)]\tLoss: 2.220402\n",
            "\n",
            "Validation set: Average loss: 1.7888, Accuracy: 3688/10000 (37%)\n",
            "\n",
            "Train Epoch: 9 [0/50000 (0%)]\tLoss: 1.330150\n",
            "Train Epoch: 9 [40000/50000 (80%)]\tLoss: 1.493647\n",
            "\n",
            "Validation set: Average loss: 1.7753, Accuracy: 3737/10000 (37%)\n",
            "\n",
            "Train Epoch: 10 [0/50000 (0%)]\tLoss: 1.663260\n",
            "Train Epoch: 10 [40000/50000 (80%)]\tLoss: 1.257360\n",
            "\n",
            "Validation set: Average loss: 1.7626, Accuracy: 3779/10000 (38%)\n",
            "\n",
            "Train Epoch: 11 [0/50000 (0%)]\tLoss: 2.059901\n",
            "Train Epoch: 11 [40000/50000 (80%)]\tLoss: 2.486831\n",
            "\n",
            "Validation set: Average loss: 1.7535, Accuracy: 3831/10000 (38%)\n",
            "\n",
            "Train Epoch: 12 [0/50000 (0%)]\tLoss: 1.599580\n",
            "Train Epoch: 12 [40000/50000 (80%)]\tLoss: 2.916290\n",
            "\n",
            "Validation set: Average loss: 1.7442, Accuracy: 3880/10000 (39%)\n",
            "\n",
            "Train Epoch: 13 [0/50000 (0%)]\tLoss: 2.148151\n",
            "Train Epoch: 13 [40000/50000 (80%)]\tLoss: 2.038589\n",
            "\n",
            "Validation set: Average loss: 1.7380, Accuracy: 3932/10000 (39%)\n",
            "\n",
            "Train Epoch: 14 [0/50000 (0%)]\tLoss: 2.059143\n",
            "Train Epoch: 14 [40000/50000 (80%)]\tLoss: 1.709628\n",
            "\n",
            "Validation set: Average loss: 1.7295, Accuracy: 3978/10000 (40%)\n",
            "\n",
            "Train Epoch: 15 [0/50000 (0%)]\tLoss: 1.655316\n",
            "Train Epoch: 15 [40000/50000 (80%)]\tLoss: 1.625761\n",
            "\n",
            "Validation set: Average loss: 1.7232, Accuracy: 3929/10000 (39%)\n",
            "\n",
            "Train Epoch: 16 [0/50000 (0%)]\tLoss: 1.582816\n",
            "Train Epoch: 16 [40000/50000 (80%)]\tLoss: 2.396579\n",
            "\n",
            "Validation set: Average loss: 1.7187, Accuracy: 3988/10000 (40%)\n",
            "\n",
            "Train Epoch: 17 [0/50000 (0%)]\tLoss: 2.619769\n",
            "Train Epoch: 17 [40000/50000 (80%)]\tLoss: 2.065005\n",
            "\n",
            "Validation set: Average loss: 1.7129, Accuracy: 3974/10000 (40%)\n",
            "\n",
            "Train Epoch: 18 [0/50000 (0%)]\tLoss: 1.926330\n",
            "Train Epoch: 18 [40000/50000 (80%)]\tLoss: 1.374932\n",
            "\n",
            "Validation set: Average loss: 1.7115, Accuracy: 4000/10000 (40%)\n",
            "\n",
            "Train Epoch: 19 [0/50000 (0%)]\tLoss: 1.374744\n",
            "Train Epoch: 19 [40000/50000 (80%)]\tLoss: 1.490785\n",
            "\n",
            "Validation set: Average loss: 1.7071, Accuracy: 4018/10000 (40%)\n",
            "\n",
            "Train Epoch: 20 [0/50000 (0%)]\tLoss: 2.364742\n",
            "Train Epoch: 20 [40000/50000 (80%)]\tLoss: 2.015209\n",
            "\n",
            "Validation set: Average loss: 1.7049, Accuracy: 4018/10000 (40%)\n",
            "\n",
            "Train Epoch: 21 [0/50000 (0%)]\tLoss: 1.855798\n",
            "Train Epoch: 21 [40000/50000 (80%)]\tLoss: 2.029956\n",
            "\n",
            "Validation set: Average loss: 1.6992, Accuracy: 4049/10000 (40%)\n",
            "\n",
            "Train Epoch: 22 [0/50000 (0%)]\tLoss: 1.460785\n",
            "Train Epoch: 22 [40000/50000 (80%)]\tLoss: 1.681728\n",
            "\n",
            "Validation set: Average loss: 1.6972, Accuracy: 4036/10000 (40%)\n",
            "\n",
            "Train Epoch: 23 [0/50000 (0%)]\tLoss: 1.478170\n",
            "Train Epoch: 23 [40000/50000 (80%)]\tLoss: 1.263966\n",
            "\n",
            "Validation set: Average loss: 1.6967, Accuracy: 4058/10000 (41%)\n",
            "\n",
            "Train Epoch: 24 [0/50000 (0%)]\tLoss: 1.378499\n",
            "Train Epoch: 24 [40000/50000 (80%)]\tLoss: 1.442959\n",
            "\n",
            "Validation set: Average loss: 1.6944, Accuracy: 4055/10000 (41%)\n",
            "\n",
            "Train Epoch: 25 [0/50000 (0%)]\tLoss: 1.410576\n",
            "Train Epoch: 25 [40000/50000 (80%)]\tLoss: 1.640237\n",
            "\n",
            "Validation set: Average loss: 1.6898, Accuracy: 4074/10000 (41%)\n",
            "\n",
            "Train Epoch: 26 [0/50000 (0%)]\tLoss: 1.947694\n",
            "Train Epoch: 26 [40000/50000 (80%)]\tLoss: 1.531866\n",
            "\n",
            "Validation set: Average loss: 1.6878, Accuracy: 4092/10000 (41%)\n",
            "\n",
            "Train Epoch: 27 [0/50000 (0%)]\tLoss: 1.096263\n",
            "Train Epoch: 27 [40000/50000 (80%)]\tLoss: 1.389107\n",
            "\n",
            "Validation set: Average loss: 1.6866, Accuracy: 4090/10000 (41%)\n",
            "\n",
            "Train Epoch: 28 [0/50000 (0%)]\tLoss: 0.875197\n",
            "Train Epoch: 28 [40000/50000 (80%)]\tLoss: 1.565072\n",
            "\n",
            "Validation set: Average loss: 1.6862, Accuracy: 4098/10000 (41%)\n",
            "\n",
            "Train Epoch: 29 [0/50000 (0%)]\tLoss: 2.313649\n",
            "Train Epoch: 29 [40000/50000 (80%)]\tLoss: 1.960270\n",
            "\n",
            "Validation set: Average loss: 1.6850, Accuracy: 4120/10000 (41%)\n",
            "\n",
            "Train Epoch: 30 [0/50000 (0%)]\tLoss: 1.156724\n",
            "Train Epoch: 30 [40000/50000 (80%)]\tLoss: 1.231204\n",
            "\n",
            "Validation set: Average loss: 1.6869, Accuracy: 4109/10000 (41%)\n",
            "\n",
            "Train Epoch: 31 [0/50000 (0%)]\tLoss: 1.261226\n",
            "Train Epoch: 31 [40000/50000 (80%)]\tLoss: 2.254269\n",
            "\n",
            "Validation set: Average loss: 1.6811, Accuracy: 4131/10000 (41%)\n",
            "\n",
            "Train Epoch: 32 [0/50000 (0%)]\tLoss: 1.770523\n",
            "Train Epoch: 32 [40000/50000 (80%)]\tLoss: 1.079853\n",
            "\n",
            "Validation set: Average loss: 1.6852, Accuracy: 4096/10000 (41%)\n",
            "\n",
            "Train Epoch: 33 [0/50000 (0%)]\tLoss: 1.071548\n",
            "Train Epoch: 33 [40000/50000 (80%)]\tLoss: 1.360507\n",
            "\n",
            "Validation set: Average loss: 1.6833, Accuracy: 4140/10000 (41%)\n",
            "\n",
            "Train Epoch: 34 [0/50000 (0%)]\tLoss: 1.931828\n",
            "Train Epoch: 34 [40000/50000 (80%)]\tLoss: 1.173780\n",
            "\n",
            "Validation set: Average loss: 1.6798, Accuracy: 4157/10000 (42%)\n",
            "\n",
            "Train Epoch: 35 [0/50000 (0%)]\tLoss: 1.546492\n",
            "Train Epoch: 35 [40000/50000 (80%)]\tLoss: 1.707452\n",
            "\n",
            "Validation set: Average loss: 1.6783, Accuracy: 4155/10000 (42%)\n",
            "\n",
            "Train Epoch: 36 [0/50000 (0%)]\tLoss: 1.154154\n",
            "Train Epoch: 36 [40000/50000 (80%)]\tLoss: 1.339972\n",
            "\n",
            "Validation set: Average loss: 1.6785, Accuracy: 4152/10000 (42%)\n",
            "\n",
            "Train Epoch: 37 [0/50000 (0%)]\tLoss: 1.642001\n",
            "Train Epoch: 37 [40000/50000 (80%)]\tLoss: 1.410353\n",
            "\n",
            "Validation set: Average loss: 1.6799, Accuracy: 4162/10000 (42%)\n",
            "\n",
            "Train Epoch: 38 [0/50000 (0%)]\tLoss: 1.477315\n",
            "Train Epoch: 38 [40000/50000 (80%)]\tLoss: 1.419619\n",
            "\n",
            "Validation set: Average loss: 1.6753, Accuracy: 4158/10000 (42%)\n",
            "\n",
            "Train Epoch: 39 [0/50000 (0%)]\tLoss: 1.714446\n",
            "Train Epoch: 39 [40000/50000 (80%)]\tLoss: 2.211027\n",
            "\n",
            "Validation set: Average loss: 1.6764, Accuracy: 4175/10000 (42%)\n",
            "\n",
            "Train Epoch: 40 [0/50000 (0%)]\tLoss: 0.714763\n",
            "Train Epoch: 40 [40000/50000 (80%)]\tLoss: 1.837765\n",
            "\n",
            "Validation set: Average loss: 1.6785, Accuracy: 4151/10000 (42%)\n",
            "\n"
          ]
        }
      ],
      "source": [
        "hidden_nodes = 10\n",
        "layers = 1\n",
        "model = Net(hidden_nodes, layers)\n",
        "optimizer = torch.optim.SGD(model.parameters(), lr=LEARNING_RATE)\n",
        "loss_vector = []\n",
        "acc_vector = []\n",
        "for epoch in range(1, EPOCHS + 1):\n",
        "    train(epoch, model, train_loader, optimizer, cuda=None)\n",
        "    validate(loss_vector, acc_vector, model, validation_loader, cuda=None)\n",
        "    if epoch == 40:\n",
        "        break"
      ]
    },
    {
      "cell_type": "markdown",
      "metadata": {
        "id": "eLhItbeMf4iO"
      },
      "source": [
        "Итак, мы обучили нашу сеть проходами по обучающей выборке. Давайте проверим, обучилась ли наша сеть. Проверим это путем предсказания меток классов для валидационной выборки."
      ]
    },
    {
      "cell_type": "code",
      "execution_count": 12,
      "metadata": {
        "colab": {
          "base_uri": "https://localhost:8080/",
          "height": 279
        },
        "id": "cuELsbq3f4iP",
        "outputId": "44a3c9e2-2a2b-4131-c1ab-e5eebbdab395"
      },
      "outputs": [
        {
          "output_type": "display_data",
          "data": {
            "text/plain": [
              "<Figure size 432x288 with 1 Axes>"
            ],
            "image/png": "[encoded data removed]"
          },
          "metadata": {
            "needs_background": "light"
          }
        }
      ],
      "source": [
        "# Plot train loss and validation accuracy vs epochs for each learning rate\n",
        "epochs = [i for i in range(1, 41)]\n",
        "plt.plot(epochs, loss_vector)\n",
        "plt.xlabel(\"Epochs\")\n",
        "plt.ylabel(\"Loss\")\n",
        "plt.show()"
      ]
    },
    {
      "cell_type": "code",
      "execution_count": 13,
      "metadata": {
        "colab": {
          "base_uri": "https://localhost:8080/",
          "height": 156
        },
        "id": "IDJfSHQif4iR",
        "outputId": "f59f0d11-6c6c-445c-e9e2-68f1f3db859d"
      },
      "outputs": [
        {
          "output_type": "stream",
          "name": "stdout",
          "text": [
            "GroundTruth:    cat  ship  ship plane\n"
          ]
        },
        {
          "output_type": "display_data",
          "data": {
            "text/plain": [
              "<Figure size 432x288 with 1 Axes>"
            ],
            "image/png": "[encoded data removed]"
          },
          "metadata": {
            "needs_background": "light"
          }
        }
      ],
      "source": [
        "dataiter = iter(validation_loader)\n",
        "images, labels = dataiter.next()\n",
        "\n",
        "# выведем наши предсказания\n",
        "imshow(torchvision.utils.make_grid(images))\n",
        "print('GroundTruth: ', ' '.join('%5s' % CLASSES[labels[j]] for j in range(4)))\n",
        "\n",
        "outputs=model(images)"
      ]
    },
    {
      "cell_type": "code",
      "execution_count": 14,
      "metadata": {
        "colab": {
          "base_uri": "https://localhost:8080/"
        },
        "id": "1Bt-VRMvf4iU",
        "outputId": "5717f43f-f5ca-4d01-b687-45952c908d0e"
      },
      "outputs": [
        {
          "output_type": "stream",
          "name": "stdout",
          "text": [
            "Predicted:    cat truck  ship plane\n"
          ]
        }
      ],
      "source": [
        "_, predicted = torch.max(outputs, 1)\n",
        "\n",
        "print('Predicted: ', ' '.join('%5s' % CLASSES[predicted[j]]\n",
        "                              for j in range(4)))"
      ]
    },
    {
      "cell_type": "markdown",
      "metadata": {
        "id": "FQYwDNB_f4iW"
      },
      "source": [
        "Протестируем на всем тесте:"
      ]
    },
    {
      "cell_type": "code",
      "execution_count": 15,
      "metadata": {
        "colab": {
          "base_uri": "https://localhost:8080/"
        },
        "id": "6ZD9Lxi1f4iX",
        "outputId": "7f98f129-884a-4221-c82b-7bfe18f272a2"
      },
      "outputs": [
        {
          "output_type": "stream",
          "name": "stdout",
          "text": [
            "Accuracy of the network on the 10000 test images: 41 %\n"
          ]
        }
      ],
      "source": [
        "correct = 0\n",
        "total = 0\n",
        "with torch.no_grad():\n",
        "    for data in validation_loader:\n",
        "        images, labels = data\n",
        "        outputs = model(images)\n",
        "        _, predicted = torch.max(outputs.data, 1)\n",
        "        total += labels.size(0)\n",
        "        correct += (predicted == labels).sum().item()\n",
        "\n",
        "print('Accuracy of the network on the 10000 test images: %d %%' % (\n",
        "    100 * correct / total))"
      ]
    },
    {
      "cell_type": "code",
      "execution_count": 16,
      "metadata": {
        "colab": {
          "base_uri": "https://localhost:8080/"
        },
        "id": "2uxu2qysf4ia",
        "outputId": "8f58a44a-176c-4997-e240-20c5524f7a05"
      },
      "outputs": [
        {
          "output_type": "stream",
          "name": "stdout",
          "text": [
            "Accuracy of plane : 46 %\n",
            "Accuracy of   car : 52 %\n",
            "Accuracy of  bird : 14 %\n",
            "Accuracy of   cat : 22 %\n",
            "Accuracy of  deer : 36 %\n",
            "Accuracy of   dog : 35 %\n",
            "Accuracy of  frog : 52 %\n",
            "Accuracy of horse : 50 %\n",
            "Accuracy of  ship : 56 %\n",
            "Accuracy of truck : 48 %\n"
          ]
        }
      ],
      "source": [
        "class_correct = list(0. for i in range(10))\n",
        "class_total = list(0. for i in range(10))\n",
        "BATCH_SIZE = 4\n",
        "\n",
        "with torch.no_grad():\n",
        "    for data in validation_loader:\n",
        "        images, labels = data\n",
        "        #print(labels.dtype) == torch.int64\n",
        "        outputs = model(images)\n",
        "        _, predicted = torch.max(outputs, 1) # Выбираем индексы максимальных вероятностей\n",
        "        c = (predicted == labels).squeeze() # squeeze() returns a tensor with all the dimensions of input of size 1 removed\n",
        "        for i in range(BATCH_SIZE):\n",
        "            label = labels[i]\n",
        "            class_correct[label] += c[i].item() # item() returns the value of this tensor as a standard Python number. This only works for tensors with one element\n",
        "            class_total[label] += 1\n",
        "\n",
        "\n",
        "for i in range(10):\n",
        "    print('Accuracy of %5s : %2d %%' % (\n",
        "        CLASSES[i], 100 * class_correct[i] / class_total[i]))"
      ]
    },
    {
      "cell_type": "markdown",
      "metadata": {
        "id": "kRuFMmwvf4id"
      },
      "source": [
        "Каким образом мы можем улучшить качество распознавания и обучения?\n",
        "1. Добавить **dropout**\n",
        "\n",
        "2. Добавить **batchnorm** (2 семинар)\n",
        "3. Использовать свертки. Но об этом позже :)"
      ]
    },
    {
      "cell_type": "code",
      "execution_count": 17,
      "metadata": {
        "id": "QwjLmYc7f4id"
      },
      "outputs": [],
      "source": [
        "class SecondNet(torch.nn.Module):\n",
        "    def __init__(self, n_hidden_nodes, n_hidden_layers,keep_rate=0.8):\n",
        "        super().__init__()\n",
        "        self.n_hidden_nodes = n_hidden_nodes\n",
        "        self.n_hidden_layers = n_hidden_layers\n",
        "#         if not keep_rate:\n",
        "#             keep_rate = 0.5\n",
        "#         self.keep_rate = keep_rate\n",
        "        # Set up perceptron layers and add dropout\n",
        "        self.fc1 = torch.nn.Linear(IMAGE_HEIGHT * IMAGE_WIDTH * COLOR_CHANNELS,\n",
        "                                   self.n_hidden_nodes)\n",
        "        self.fc1_drop = torch.nn.Dropout(1 - keep_rate) # Dropout(p) -  randomly zeroes some of the elements of the input tensor with probability p \n",
        "        self.out = torch.nn.Linear(self.n_hidden_nodes, N_CLASSES)\n",
        "    \n",
        "    def forward(self, x):\n",
        "        x = x.view(-1, IMAGE_HEIGHT * IMAGE_WIDTH * COLOR_CHANNELS)\n",
        "        sigmoid = torch.nn.Sigmoid()\n",
        "        x = sigmoid(self.fc1(x))\n",
        "        x = self.fc1_drop(x)\n",
        "        return torch.nn.functional.log_softmax(self.out(x))\n"
      ]
    },
    {
      "cell_type": "markdown",
      "source": [
        "В Pytorch есть возможность запускать вычисления на GPU. Но у меня нет GPU."
      ],
      "metadata": {
        "id": "stHFxCMFiGq9"
      }
    },
    {
      "cell_type": "code",
      "execution_count": null,
      "metadata": {
        "colab": {
          "base_uri": "https://localhost:8080/",
          "height": 2450
        },
        "id": "l6aah5zAf4ig",
        "outputId": "8501d9b1-b125-4680-85b5-4596f95c8e17"
      },
      "outputs": [
        {
          "name": "stdout",
          "output_type": "stream",
          "text": [
            "Train Epoch: 1 [0/50000 (0%)]\tLoss: 2.338229\n",
            "Train Epoch: 1 [40000/50000 (80%)]\tLoss: 2.356363\n",
            "\n",
            "Validation set: Average loss: 1.9368, Accuracy: 3253/10000 (32%)\n",
            "\n",
            "Train Epoch: 2 [0/50000 (0%)]\tLoss: 2.300326\n",
            "Train Epoch: 2 [40000/50000 (80%)]\tLoss: 1.809654\n",
            "\n",
            "Validation set: Average loss: 1.8590, Accuracy: 3606/10000 (36%)\n",
            "\n",
            "Train Epoch: 3 [0/50000 (0%)]\tLoss: 3.370393\n",
            "Train Epoch: 3 [40000/50000 (80%)]\tLoss: 1.909336\n",
            "\n",
            "Validation set: Average loss: 1.8124, Accuracy: 3713/10000 (37%)\n",
            "\n",
            "Train Epoch: 4 [0/50000 (0%)]\tLoss: 2.186283\n",
            "Train Epoch: 4 [40000/50000 (80%)]\tLoss: 2.361922\n",
            "\n",
            "Validation set: Average loss: 1.7815, Accuracy: 3809/10000 (38%)\n",
            "\n",
            "Train Epoch: 5 [0/50000 (0%)]\tLoss: 0.897958\n",
            "Train Epoch: 5 [40000/50000 (80%)]\tLoss: 1.988269\n",
            "\n",
            "Validation set: Average loss: 1.7591, Accuracy: 3885/10000 (38%)\n",
            "\n",
            "Train Epoch: 6 [0/50000 (0%)]\tLoss: 1.896815\n",
            "Train Epoch: 6 [40000/50000 (80%)]\tLoss: 1.614118\n",
            "\n",
            "Validation set: Average loss: 1.7428, Accuracy: 3922/10000 (39%)\n",
            "\n",
            "Train Epoch: 7 [0/50000 (0%)]\tLoss: 1.760607\n",
            "Train Epoch: 7 [40000/50000 (80%)]\tLoss: 2.053325\n",
            "\n",
            "Validation set: Average loss: 1.7305, Accuracy: 3995/10000 (39%)\n",
            "\n",
            "Train Epoch: 8 [0/50000 (0%)]\tLoss: 1.926093\n",
            "Train Epoch: 8 [40000/50000 (80%)]\tLoss: 2.213455\n",
            "\n",
            "Validation set: Average loss: 1.7185, Accuracy: 3965/10000 (39%)\n",
            "\n",
            "Train Epoch: 9 [0/50000 (0%)]\tLoss: 2.189739\n",
            "Train Epoch: 9 [40000/50000 (80%)]\tLoss: 1.453444\n",
            "\n",
            "Validation set: Average loss: 1.7085, Accuracy: 4042/10000 (40%)\n",
            "\n",
            "Train Epoch: 10 [0/50000 (0%)]\tLoss: 2.820039\n",
            "Train Epoch: 10 [40000/50000 (80%)]\tLoss: 1.548236\n",
            "\n",
            "Validation set: Average loss: 1.6996, Accuracy: 4098/10000 (40%)\n",
            "\n",
            "Train Epoch: 11 [0/50000 (0%)]\tLoss: 2.072497\n",
            "Train Epoch: 11 [40000/50000 (80%)]\tLoss: 1.271940\n",
            "\n",
            "Validation set: Average loss: 1.6920, Accuracy: 4122/10000 (41%)\n",
            "\n",
            "Train Epoch: 12 [0/50000 (0%)]\tLoss: 1.995679\n",
            "Train Epoch: 12 [40000/50000 (80%)]\tLoss: 1.331770\n",
            "\n",
            "Validation set: Average loss: 1.6854, Accuracy: 4136/10000 (41%)\n",
            "\n",
            "Train Epoch: 13 [0/50000 (0%)]\tLoss: 2.023359\n",
            "Train Epoch: 13 [40000/50000 (80%)]\tLoss: 2.044176\n",
            "\n",
            "Validation set: Average loss: 1.6779, Accuracy: 4185/10000 (41%)\n",
            "\n",
            "Train Epoch: 14 [0/50000 (0%)]\tLoss: 1.057836\n",
            "Train Epoch: 14 [40000/50000 (80%)]\tLoss: 1.065666\n",
            "\n",
            "Validation set: Average loss: 1.6732, Accuracy: 4215/10000 (42%)\n",
            "\n",
            "Train Epoch: 15 [0/50000 (0%)]\tLoss: 1.633729\n",
            "Train Epoch: 15 [40000/50000 (80%)]\tLoss: 0.986622\n",
            "\n",
            "Validation set: Average loss: 1.6654, Accuracy: 4238/10000 (42%)\n",
            "\n",
            "Train Epoch: 16 [0/50000 (0%)]\tLoss: 1.434730\n",
            "Train Epoch: 16 [40000/50000 (80%)]\tLoss: 1.619697\n",
            "\n",
            "Validation set: Average loss: 1.6601, Accuracy: 4269/10000 (42%)\n",
            "\n",
            "Train Epoch: 17 [0/50000 (0%)]\tLoss: 1.651691\n",
            "Train Epoch: 17 [40000/50000 (80%)]\tLoss: 0.917030\n",
            "\n",
            "Validation set: Average loss: 1.6543, Accuracy: 4299/10000 (42%)\n",
            "\n",
            "Train Epoch: 18 [0/50000 (0%)]\tLoss: 1.009257\n",
            "Train Epoch: 18 [40000/50000 (80%)]\tLoss: 1.209028\n",
            "\n",
            "Validation set: Average loss: 1.6496, Accuracy: 4312/10000 (43%)\n",
            "\n",
            "Train Epoch: 19 [0/50000 (0%)]\tLoss: 1.292815\n",
            "Train Epoch: 19 [40000/50000 (80%)]\tLoss: 1.692756\n",
            "\n",
            "Validation set: Average loss: 1.6448, Accuracy: 4341/10000 (43%)\n",
            "\n",
            "Train Epoch: 20 [0/50000 (0%)]\tLoss: 1.113770\n",
            "Train Epoch: 20 [40000/50000 (80%)]\tLoss: 2.953823\n",
            "\n",
            "Validation set: Average loss: 1.6401, Accuracy: 4373/10000 (43%)\n",
            "\n",
            "Train Epoch: 21 [0/50000 (0%)]\tLoss: 1.531117\n",
            "Train Epoch: 21 [40000/50000 (80%)]\tLoss: 2.857919\n",
            "\n",
            "Validation set: Average loss: 1.6353, Accuracy: 4373/10000 (43%)\n",
            "\n",
            "Train Epoch: 22 [0/50000 (0%)]\tLoss: 1.897084\n",
            "Train Epoch: 22 [40000/50000 (80%)]\tLoss: 1.062314\n",
            "\n",
            "Validation set: Average loss: 1.6316, Accuracy: 4369/10000 (43%)\n",
            "\n",
            "Train Epoch: 23 [0/50000 (0%)]\tLoss: 0.908942\n",
            "Train Epoch: 23 [40000/50000 (80%)]\tLoss: 1.796218\n",
            "\n",
            "Validation set: Average loss: 1.6308, Accuracy: 4309/10000 (43%)\n",
            "\n",
            "Train Epoch: 24 [0/50000 (0%)]\tLoss: 2.410127\n",
            "Train Epoch: 24 [40000/50000 (80%)]\tLoss: 1.401630\n",
            "\n",
            "Validation set: Average loss: 1.6256, Accuracy: 4395/10000 (43%)\n",
            "\n",
            "Train Epoch: 25 [0/50000 (0%)]\tLoss: 1.398604\n",
            "Train Epoch: 25 [40000/50000 (80%)]\tLoss: 1.217162\n",
            "\n",
            "Validation set: Average loss: 1.6202, Accuracy: 4426/10000 (44%)\n",
            "\n",
            "Train Epoch: 26 [0/50000 (0%)]\tLoss: 1.325698\n",
            "Train Epoch: 26 [40000/50000 (80%)]\tLoss: 2.415255\n",
            "\n",
            "Validation set: Average loss: 1.6151, Accuracy: 4432/10000 (44%)\n",
            "\n",
            "Train Epoch: 27 [0/50000 (0%)]\tLoss: 1.280219\n",
            "Train Epoch: 27 [40000/50000 (80%)]\tLoss: 2.023754\n",
            "\n",
            "Validation set: Average loss: 1.6127, Accuracy: 4435/10000 (44%)\n",
            "\n",
            "Train Epoch: 28 [0/50000 (0%)]\tLoss: 2.280611\n",
            "Train Epoch: 28 [40000/50000 (80%)]\tLoss: 1.360426\n",
            "\n",
            "Validation set: Average loss: 1.6086, Accuracy: 4466/10000 (44%)\n",
            "\n",
            "Train Epoch: 29 [0/50000 (0%)]\tLoss: 1.772745\n",
            "Train Epoch: 29 [40000/50000 (80%)]\tLoss: 1.248500\n",
            "\n",
            "Validation set: Average loss: 1.6061, Accuracy: 4464/10000 (44%)\n",
            "\n",
            "Train Epoch: 30 [0/50000 (0%)]\tLoss: 1.648405\n"
          ]
        }
      ],
      "source": [
        "def train(epoch, model, train_loader, optimizer, log_interval=100, cuda=None):\n",
        "  model.train()\n",
        "  optimizer.zero_grad()\n",
        "  correct = 0\n",
        "\n",
        "  for batch_idx, (data,target) in enumerate(train_loader):\n",
        "    \n",
        "\n"
      ]
    },
    {
      "cell_type": "code",
      "execution_count": null,
      "metadata": {
        "id": "u3SvVLEAp4xg"
      },
      "outputs": [],
      "source": [
        "# to save model use torch.save(model.state_dict(), 'Second_Net.pt') \n",
        "# to load use model.load_state_dict(torch.load('Second_Model.pt'))"
      ]
    },
    {
      "cell_type": "code",
      "execution_count": null,
      "metadata": {
        "colab": {
          "base_uri": "https://localhost:8080/",
          "height": 363
        },
        "id": "p0Q-D23Qf4ii",
        "outputId": "3edd2f81-28ce-45c7-e745-621584528493"
      },
      "outputs": [
        {
          "data": {
            "image/png": "[encoded data removed]",
            "text/plain": [
              "<matplotlib.figure.Figure at 0x7f50a53e5a58>"
            ]
          },
          "metadata": {
            "tags": []
          },
          "output_type": "display_data"
        }
      ],
      "source": [
        "# Plot train loss and validation accuracy vs epochs for each learning rate\n",
        "epochs = [i for i in range(1, 31)]\n",
        "plt.plot(epochs, loss_vector)\n",
        "plt.xlabel(\"Epochs\")\n",
        "plt.ylabel(\"Loss\")\n",
        "plt.show()"
      ]
    },
    {
      "cell_type": "markdown",
      "metadata": {
        "id": "y9US-3ZjrSBI"
      },
      "source": [
        "Попробуйте самостоятельно написать двуслойную сеть с дропаутом. Получилось ли улучшить результат?"
      ]
    },
    {
      "cell_type": "code",
      "execution_count": null,
      "metadata": {
        "id": "UZj3d7h7tRu9"
      },
      "outputs": [],
      "source": [
        "class TwoLayerNet(torch.nn.Module):\n",
        "    def __init__(self, n_hidden_nodes, n_hidden_layers,keep_rate=0):\n",
        "        super(TwoLayerNet, self).__init__()\n",
        "        self.n_hidden_nodes = n_hidden_nodes\n",
        "        self.n_hidden_layers = n_hidden_layers\n",
        "        if not keep_rate:\n",
        "            keep_rate = 0.5\n",
        "        self.keep_rate = keep_rate\n",
        "        # Set up perceptron layers and add dropout\n",
        "        self.fc1 = torch.nn.Linear(IMAGE_WIDTH * IMAGE_WIDTH * COLOR_CHANNELS,\n",
        "                                   n_hidden_nodes)\n",
        "        self.fc1_drop = torch.nn.Dropout(1 - keep_rate)\n",
        "        if n_hidden_layers == 2:\n",
        "            self.fc2 = #тут ваш код\n",
        "            self.fc2_drop = #тут ваш код\n",
        "\n",
        "        self.out = torch.nn.Linear(n_hidden_nodes, N_CLASSES)\n",
        "    \n",
        "    def forward(self, x):\n",
        "        x = x.view(-1, IMAGE_WIDTH * IMAGE_WIDTH * COLOR_CHANNELS)\n",
        "        sigmoid = torch.nn.Sigmoid()\n",
        "        #тут ваш код\n",
        "        return torch.nn.functional.log_softmax(self.out(x))"
      ]
    },
    {
      "cell_type": "code",
      "execution_count": null,
      "metadata": {
        "id": "VFtgxjJ6rPVr"
      },
      "outputs": [],
      "source": [
        "<Ваш код здесь>"
      ]
    }
  ],
  "metadata": {
    "colab": {
      "name": "Copy of [seminar1]cifar10.ipynb",
      "provenance": [],
      "include_colab_link": true
    },
    "kernelspec": {
      "display_name": "Python 3",
      "language": "python",
      "name": "python3"
    },
    "language_info": {
      "codemirror_mode": {
        "name": "ipython",
        "version": 3
      },
      "file_extension": ".py",
      "mimetype": "text/x-python",
      "name": "python",
      "nbconvert_exporter": "python",
      "pygments_lexer": "ipython3",
      "version": "3.6.5"
    },
    "widgets": {
      "application/vnd.jupyter.widget-state+json": {
        "668d509966634c61a253d92102794dbc": {
          "model_module": "@jupyter-widgets/controls",
          "model_name": "HBoxModel",
          "model_module_version": "1.5.0",
          "state": {
            "_dom_classes": [],
            "_model_module": "@jupyter-widgets/controls",
            "_model_module_version": "1.5.0",
            "_model_name": "HBoxModel",
            "_view_count": null,
            "_view_module": "@jupyter-widgets/controls",
            "_view_module_version": "1.5.0",
            "_view_name": "HBoxView",
            "box_style": "",
            "children": [
              "IPY_MODEL_e6e477c2ae0c4a9da33f7245e70b45b0",
              "IPY_MODEL_e09b8f4a452d48a995b138aa7c3022c5",
              "IPY_MODEL_4399e352c47340aaa06b1bc4e619aff0"
            ],
            "layout": "IPY_MODEL_61d757fd14284787aed12ad7c898c282"
          }
        },
        "e6e477c2ae0c4a9da33f7245e70b45b0": {
          "model_module": "@jupyter-widgets/controls",
          "model_name": "HTMLModel",
          "model_module_version": "1.5.0",
          "state": {
            "_dom_classes": [],
            "_model_module": "@jupyter-widgets/controls",
            "_model_module_version": "1.5.0",
            "_model_name": "HTMLModel",
            "_view_count": null,
            "_view_module": "@jupyter-widgets/controls",
            "_view_module_version": "1.5.0",
            "_view_name": "HTMLView",
            "description": "",
            "description_tooltip": null,
            "layout": "IPY_MODEL_528133cf32d147168700e4c005f81ca5",
            "placeholder": "​",
            "style": "IPY_MODEL_081a69473a914de1a962a45e9e7df5a7",
            "value": "100%"
          }
        },
        "e09b8f4a452d48a995b138aa7c3022c5": {
          "model_module": "@jupyter-widgets/controls",
          "model_name": "FloatProgressModel",
          "model_module_version": "1.5.0",
          "state": {
            "_dom_classes": [],
            "_model_module": "@jupyter-widgets/controls",
            "_model_module_version": "1.5.0",
            "_model_name": "FloatProgressModel",
            "_view_count": null,
            "_view_module": "@jupyter-widgets/controls",
            "_view_module_version": "1.5.0",
            "_view_name": "ProgressView",
            "bar_style": "success",
            "description": "",
            "description_tooltip": null,
            "layout": "IPY_MODEL_0ccaaa35c4984e208d3ae240c7fd180d",
            "max": 170498071,
            "min": 0,
            "orientation": "horizontal",
            "style": "IPY_MODEL_ff506d475a474be38d7dad03c176e9ee",
            "value": 170498071
          }
        },
        "4399e352c47340aaa06b1bc4e619aff0": {
          "model_module": "@jupyter-widgets/controls",
          "model_name": "HTMLModel",
          "model_module_version": "1.5.0",
          "state": {
            "_dom_classes": [],
            "_model_module": "@jupyter-widgets/controls",
            "_model_module_version": "1.5.0",
            "_model_name": "HTMLModel",
            "_view_count": null,
            "_view_module": "@jupyter-widgets/controls",
            "_view_module_version": "1.5.0",
            "_view_name": "HTMLView",
            "description": "",
            "description_tooltip": null,
            "layout": "IPY_MODEL_026aff7b82334fa69b9cfb6a0b07afda",
            "placeholder": "​",
            "style": "IPY_MODEL_e52e48416eb44129838822682f5d2fc4",
            "value": " 170498071/170498071 [00:02&lt;00:00, 85035347.67it/s]"
          }
        },
        "61d757fd14284787aed12ad7c898c282": {
          "model_module": "@jupyter-widgets/base",
          "model_name": "LayoutModel",
          "model_module_version": "1.2.0",
          "state": {
            "_model_module": "@jupyter-widgets/base",
            "_model_module_version": "1.2.0",
            "_model_name": "LayoutModel",
            "_view_count": null,
            "_view_module": "@jupyter-widgets/base",
            "_view_module_version": "1.2.0",
            "_view_name": "LayoutView",
            "align_content": null,
            "align_items": null,
            "align_self": null,
            "border": null,
            "bottom": null,
            "display": null,
            "flex": null,
            "flex_flow": null,
            "grid_area": null,
            "grid_auto_columns": null,
            "grid_auto_flow": null,
            "grid_auto_rows": null,
            "grid_column": null,
            "grid_gap": null,
            "grid_row": null,
            "grid_template_areas": null,
            "grid_template_columns": null,
            "grid_template_rows": null,
            "height": null,
            "justify_content": null,
            "justify_items": null,
            "left": null,
            "margin": null,
            "max_height": null,
            "max_width": null,
            "min_height": null,
            "min_width": null,
            "object_fit": null,
            "object_position": null,
            "order": null,
            "overflow": null,
            "overflow_x": null,
            "overflow_y": null,
            "padding": null,
            "right": null,
            "top": null,
            "visibility": null,
            "width": null
          }
        },
        "528133cf32d147168700e4c005f81ca5": {
          "model_module": "@jupyter-widgets/base",
          "model_name": "LayoutModel",
          "model_module_version": "1.2.0",
          "state": {
            "_model_module": "@jupyter-widgets/base",
            "_model_module_version": "1.2.0",
            "_model_name": "LayoutModel",
            "_view_count": null,
            "_view_module": "@jupyter-widgets/base",
            "_view_module_version": "1.2.0",
            "_view_name": "LayoutView",
            "align_content": null,
            "align_items": null,
            "align_self": null,
            "border": null,
            "bottom": null,
            "display": null,
            "flex": null,
            "flex_flow": null,
            "grid_area": null,
            "grid_auto_columns": null,
            "grid_auto_flow": null,
            "grid_auto_rows": null,
            "grid_column": null,
            "grid_gap": null,
            "grid_row": null,
            "grid_template_areas": null,
            "grid_template_columns": null,
            "grid_template_rows": null,
            "height": null,
            "justify_content": null,
            "justify_items": null,
            "left": null,
            "margin": null,
            "max_height": null,
            "max_width": null,
            "min_height": null,
            "min_width": null,
            "object_fit": null,
            "object_position": null,
            "order": null,
            "overflow": null,
            "overflow_x": null,
            "overflow_y": null,
            "padding": null,
            "right": null,
            "top": null,
            "visibility": null,
            "width": null
          }
        },
        "081a69473a914de1a962a45e9e7df5a7": {
          "model_module": "@jupyter-widgets/controls",
          "model_name": "DescriptionStyleModel",
          "model_module_version": "1.5.0",
          "state": {
            "_model_module": "@jupyter-widgets/controls",
            "_model_module_version": "1.5.0",
            "_model_name": "DescriptionStyleModel",
            "_view_count": null,
            "_view_module": "@jupyter-widgets/base",
            "_view_module_version": "1.2.0",
            "_view_name": "StyleView",
            "description_width": ""
          }
        },
        "0ccaaa35c4984e208d3ae240c7fd180d": {
          "model_module": "@jupyter-widgets/base",
          "model_name": "LayoutModel",
          "model_module_version": "1.2.0",
          "state": {
            "_model_module": "@jupyter-widgets/base",
            "_model_module_version": "1.2.0",
            "_model_name": "LayoutModel",
            "_view_count": null,
            "_view_module": "@jupyter-widgets/base",
            "_view_module_version": "1.2.0",
            "_view_name": "LayoutView",
            "align_content": null,
            "align_items": null,
            "align_self": null,
            "border": null,
            "bottom": null,
            "display": null,
            "flex": null,
            "flex_flow": null,
            "grid_area": null,
            "grid_auto_columns": null,
            "grid_auto_flow": null,
            "grid_auto_rows": null,
            "grid_column": null,
            "grid_gap": null,
            "grid_row": null,
            "grid_template_areas": null,
            "grid_template_columns": null,
            "grid_template_rows": null,
            "height": null,
            "justify_content": null,
            "justify_items": null,
            "left": null,
            "margin": null,
            "max_height": null,
            "max_width": null,
            "min_height": null,
            "min_width": null,
            "object_fit": null,
            "object_position": null,
            "order": null,
            "overflow": null,
            "overflow_x": null,
            "overflow_y": null,
            "padding": null,
            "right": null,
            "top": null,
            "visibility": null,
            "width": null
          }
        },
        "ff506d475a474be38d7dad03c176e9ee": {
          "model_module": "@jupyter-widgets/controls",
          "model_name": "ProgressStyleModel",
          "model_module_version": "1.5.0",
          "state": {
            "_model_module": "@jupyter-widgets/controls",
            "_model_module_version": "1.5.0",
            "_model_name": "ProgressStyleModel",
            "_view_count": null,
            "_view_module": "@jupyter-widgets/base",
            "_view_module_version": "1.2.0",
            "_view_name": "StyleView",
            "bar_color": null,
            "description_width": ""
          }
        },
        "026aff7b82334fa69b9cfb6a0b07afda": {
          "model_module": "@jupyter-widgets/base",
          "model_name": "LayoutModel",
          "model_module_version": "1.2.0",
          "state": {
            "_model_module": "@jupyter-widgets/base",
            "_model_module_version": "1.2.0",
            "_model_name": "LayoutModel",
            "_view_count": null,
            "_view_module": "@jupyter-widgets/base",
            "_view_module_version": "1.2.0",
            "_view_name": "LayoutView",
            "align_content": null,
            "align_items": null,
            "align_self": null,
            "border": null,
            "bottom": null,
            "display": null,
            "flex": null,
            "flex_flow": null,
            "grid_area": null,
            "grid_auto_columns": null,
            "grid_auto_flow": null,
            "grid_auto_rows": null,
            "grid_column": null,
            "grid_gap": null,
            "grid_row": null,
            "grid_template_areas": null,
            "grid_template_columns": null,
            "grid_template_rows": null,
            "height": null,
            "justify_content": null,
            "justify_items": null,
            "left": null,
            "margin": null,
            "max_height": null,
            "max_width": null,
            "min_height": null,
            "min_width": null,
            "object_fit": null,
            "object_position": null,
            "order": null,
            "overflow": null,
            "overflow_x": null,
            "overflow_y": null,
            "padding": null,
            "right": null,
            "top": null,
            "visibility": null,
            "width": null
          }
        },
        "e52e48416eb44129838822682f5d2fc4": {
          "model_module": "@jupyter-widgets/controls",
          "model_name": "DescriptionStyleModel",
          "model_module_version": "1.5.0",
          "state": {
            "_model_module": "@jupyter-widgets/controls",
            "_model_module_version": "1.5.0",
            "_model_name": "DescriptionStyleModel",
            "_view_count": null,
            "_view_module": "@jupyter-widgets/base",
            "_view_module_version": "1.2.0",
            "_view_name": "StyleView",
            "description_width": ""
          }
        }
      }
    }
  },
  "nbformat": 4,
  "nbformat_minor": 0
}