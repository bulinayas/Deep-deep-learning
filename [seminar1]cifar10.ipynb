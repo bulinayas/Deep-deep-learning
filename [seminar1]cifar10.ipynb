{
  "cells": [
    {
      "cell_type": "markdown",
      "metadata": {
        "id": "view-in-github",
        "colab_type": "text"
      },
      "source": [
        "<a href=\"https://colab.research.google.com/github/bulinayas/Deep-deep-learning/blob/main/%5Bseminar1%5Dcifar10.ipynb\" target=\"_parent\"><img src=\"https://colab.research.google.com/assets/colab-badge.svg\" alt=\"Open In Colab\"/></a>"
      ]
    },
    {
      "cell_type": "markdown",
      "metadata": {
        "id": "qwh-a1MR_nS9"
      },
      "source": [
        "<img src=\"https://s8.hostingkartinok.com/uploads/images/2018/08/308b49fcfbc619d629fe4604bceb67ac.jpg\" width=500, height=450>\n",
        "<h3 style=\"text-align: center;\"><b>Физтех-Школа Прикладной математики и информатики (ФПМИ) МФТИ</b></h3>"
      ]
    },
    {
      "cell_type": "markdown",
      "metadata": {
        "id": "9gTpRoZd_nTG"
      },
      "source": [
        "---"
      ]
    },
    {
      "cell_type": "markdown",
      "metadata": {
        "id": "85Gvi3D9_nTH"
      },
      "source": [
        "<h2 style=\"text-align: center;\"><b>Семинар 1: практическое занятие по обучению нейросетей (датасет CIFAR10)</b></h2>"
      ]
    },
    {
      "cell_type": "markdown",
      "metadata": {
        "id": "6NEyCawY_nTJ"
      },
      "source": [
        "---"
      ]
    },
    {
      "cell_type": "code",
      "execution_count": 1,
      "metadata": {
        "id": "Hgit3qqOf4hd"
      },
      "outputs": [],
      "source": [
        "import numpy as np\n",
        "import matplotlib.pyplot as plt\n",
        "\n",
        "from tqdm import tqdm_notebook # progress bar\n",
        "\n",
        "import warnings\n",
        "warnings.filterwarnings(\"ignore\")\n",
        "\n",
        "import multiprocessing # threading"
      ]
    },
    {
      "cell_type": "markdown",
      "metadata": {
        "id": "CHUKPJJOf4hj"
      },
      "source": [
        "Сегодня мы построим свою сеть (простейший классификатор изображений), посчитаем loss и проведем обновление весов.\n",
        "\n",
        "\n",
        "Данные\n",
        "----------------\n",
        "Мы будем работать с набором картинок. Для работы с ними есть специальный пакет ``torchvision``. В нем уже содержатся функции-загрузчики таких датасетов, как ImageNet, MNIST, CIFAR10. С последним сегодня мы и будем работать. В нем содержатся картинки RGB 32х32 следующих классов: \n",
        "1. ‘airplane’\n",
        "2. ‘automobile’\n",
        "3. ‘bird’\n",
        "4. ‘cat’\n",
        "5. ‘deer’\n",
        "6. ‘dog’\n",
        "7. ‘frog’\n",
        "8. ‘horse’\n",
        "9. ‘ship’\n",
        "10. ‘truck’\n",
        "\n",
        "Обучение классификатора\n",
        "----------------------------\n",
        "\n",
        "План обучения классификатора:\n",
        "\n",
        "1. Загружаем и нормализуем данные при помощи пакета\n",
        "   ``torchvision``\n",
        "2. Объявляем нейронную сеть\n",
        "3. Объявляем функцию потерь\n",
        "4. Тренируем сеть при помощи тренировочной выборки (train data)\n",
        "5. Тестируем сеть при помощи валидационной выборки (test data)\n",
        "\n",
        "----------------------------\n",
        "\n",
        "Импортируем нужные нам пакеты из библиотеки ``torch``\n",
        "\n",
        "\n"
      ]
    },
    {
      "cell_type": "code",
      "execution_count": 2,
      "metadata": {
        "id": "E6h4kZ-if4hl"
      },
      "outputs": [],
      "source": [
        "import torch\n",
        "import torchvision # работа с данными\n",
        "import torchvision.transforms as transforms # common image transformations"
      ]
    },
    {
      "cell_type": "code",
      "execution_count": null,
      "metadata": {
        "id": "5KmxZQREgApi"
      },
      "outputs": [],
      "source": [
        "# http://pytorch.org/\n",
        "\n",
        "from os.path import exists\n",
        "from wheel.pep425tags import get_abbr_impl, get_impl_ver, get_abi_tag\n",
        "platform = '{}{}-{}'.format(get_abbr_impl(), get_impl_ver(), get_abi_tag())\n",
        "cuda_output = !ldconfig -p|grep cudart.so|sed -e 's/.*\\.\\([0-9]*\\)\\.\\([0-9]*\\)$/cu\\1\\2/'\n",
        "accelerator = cuda_output[0] if exists('/dev/nvidia0') else 'cpu'\n",
        "\n",
        "!pip install -q http://download.pytorch.org/whl/{accelerator}/torch-0.4.1-{platform}-linux_x86_64.whl torchvision\n",
        "import torch"
      ]
    },
    {
      "cell_type": "markdown",
      "metadata": {
        "id": "aHKBkoJPf4hp"
      },
      "source": [
        "В результате загрузки датасетов при помощи пакета torchvision мы получим картинки, содержащие значения в диапазоне [0,1], чтобы подавать их в нейросеть, нам нужно сделать из них тензоры со значениями в диапазоне [-1,1]\n",
        "\n",
        "Определим презобразование:"
      ]
    },
    {
      "cell_type": "code",
      "execution_count": 3,
      "metadata": {
        "id": "GJeKQk9nf4hq"
      },
      "outputs": [],
      "source": [
        "transform = transforms.Compose(\n",
        "    \n",
        "[\n",
        "    transforms.ToTensor(),\n",
        "    transforms.Normalize((0.5, 0.5, 0.5), (0.5, 0.5, 0.5)) # (means,stds), output[channel] = (input[channel] - mean[channel]) / std[channel]\n",
        "]\n",
        "\n",
        ")"
      ]
    },
    {
      "cell_type": "markdown",
      "metadata": {
        "id": "hNOgh6Obf4hx"
      },
      "source": [
        "Теперь вызовем загрузчики из пакета ``torchvision`` и скачаем обучающую выборку (trainset) и валидационную (testset)\n",
        "\n"
      ]
    },
    {
      "cell_type": "code",
      "execution_count": 4,
      "metadata": {
        "colab": {
          "base_uri": "https://localhost:8080/",
          "height": 71,
          "referenced_widgets": [
            "415e7a502e7b4b48822542eac939280c",
            "fb4ad48871384026818955baefb47326",
            "3ee9ea9c6b54479b96c273467d4a5ba8",
            "eee0d7ebcce3432cb02ecb207b7fc562",
            "e63a72c8837c4acc8738bd475ce3407a",
            "797f69aa8fd04a07a0a536948ff6e8ed",
            "fb2b8498e7b8464b87494681f83247dc",
            "c3f562f785fd481680eabdde4d2eab73",
            "58918d4b876d415885da6e147bc68453",
            "f764f0993e294158b65615077a8494eb",
            "8607d6b4f4d744fd998089012b32f50d"
          ]
        },
        "id": "Vvub5ZZdf4hz",
        "outputId": "d24f318a-97ff-44fb-a442-0ce6c4874425",
        "scrolled": false
      },
      "outputs": [
        {
          "output_type": "stream",
          "name": "stdout",
          "text": [
            "Downloading https://www.cs.toronto.edu/~kriz/cifar-10-python.tar.gz to ./data/cifar-10-python.tar.gz\n"
          ]
        },
        {
          "output_type": "display_data",
          "data": {
            "text/plain": [
              "  0%|          | 0/170498071 [00:00<?, ?it/s]"
            ],
            "application/vnd.jupyter.widget-view+json": {
              "version_major": 2,
              "version_minor": 0,
              "model_id": "415e7a502e7b4b48822542eac939280c"
            },
            "application/json": {
              "n": 0,
              "total": 170498071,
              "elapsed": 0.031507015228271484,
              "ncols": null,
              "nrows": null,
              "prefix": "",
              "ascii": false,
              "unit": "it",
              "unit_scale": false,
              "rate": null,
              "bar_format": null,
              "postfix": null,
              "unit_divisor": 1000,
              "initial": 0,
              "colour": null
            }
          },
          "metadata": {}
        },
        {
          "output_type": "stream",
          "name": "stdout",
          "text": [
            "Extracting ./data/cifar-10-python.tar.gz to ./data\n",
            "Files already downloaded and verified\n"
          ]
        }
      ],
      "source": [
        "trainset = torchvision.datasets.CIFAR10(root='./data', \n",
        "                                        train=True,download=True, transform=transform)\n",
        "train_loader = torch.utils.data.DataLoader(trainset, batch_size=4,\n",
        "                                           shuffle=True, num_workers=0, pin_memory=False) \n",
        "# num_workers - количество потоков, pin_memory - закрепление памяти для ускорения переноса на GPU(нам пока не надо)\n",
        "\n",
        "testset = torchvision.datasets.CIFAR10(root='./data', train=False, \n",
        "                                       download=True, transform=transform)\n",
        "validation_loader = torch.utils.data.DataLoader(testset, batch_size=4,\n",
        "                                                shuffle=False, num_workers=0, pin_memory=False)"
      ]
    },
    {
      "cell_type": "markdown",
      "metadata": {
        "id": "DsFyaka7f4h5"
      },
      "source": [
        "Определим константы"
      ]
    },
    {
      "cell_type": "code",
      "execution_count": 5,
      "metadata": {
        "id": "UnfKGICOf4h6"
      },
      "outputs": [],
      "source": [
        "IMAGE_WIDTH = 32\n",
        "IMAGE_HEIGHT = 32\n",
        "COLOR_CHANNELS = 3\n",
        "EPOCHS = 50\n",
        "LEARNING_RATE = 0.001\n",
        "BATCH_SIZE = 4\n",
        "BATCH_IMAGE_COUNT = 10000\n",
        "CLASSES = ['plane', 'car', 'bird', 'cat', 'deer', 'dog', 'frog', 'horse', 'ship', 'truck']\n",
        "N_CLASSES = len(CLASSES)\n",
        "PLOT = False"
      ]
    },
    {
      "cell_type": "code",
      "execution_count": 6,
      "metadata": {
        "colab": {
          "base_uri": "https://localhost:8080/",
          "height": 156
        },
        "id": "mNWymneYf4h-",
        "outputId": "929c25e9-d4a9-407a-8b41-9830a7670f83"
      },
      "outputs": [
        {
          "output_type": "stream",
          "name": "stdout",
          "text": [
            " frog  deer  bird   cat\n"
          ]
        },
        {
          "output_type": "display_data",
          "data": {
            "text/plain": [
              "<Figure size 432x288 with 1 Axes>"
            ],
            "image/png": "[encoded data removed]"
          },
          "metadata": {
            "needs_background": "light"
          }
        }
      ],
      "source": [
        "import matplotlib.pyplot as plt\n",
        "import numpy as np\n",
        "\n",
        "# Функция, которая показывает изображения\n",
        "def imshow(img):\n",
        "    img = img / 2 + 0.5     # деномрировка\n",
        "    npimg = img.numpy()\n",
        "    plt.imshow(np.transpose(npimg, (1, 2, 0)))\n",
        "\n",
        "\n",
        "# достаем случайные картинки из обучающей выборки\n",
        "dataiter = iter(train_loader)\n",
        "images, labels = dataiter.next()\n",
        "\n",
        "# вызываем функцию, реализующую демонстрацию изображений, что мы можем видеть на них?\n",
        "imshow(torchvision.utils.make_grid(images))\n",
        "# выведем метки классов отрисованных изображений\n",
        "print(' '.join('%5s' % CLASSES[labels[j]] for j in range(4)))"
      ]
    },
    {
      "cell_type": "code",
      "execution_count": 7,
      "metadata": {
        "id": "wysy5qO2f4iC"
      },
      "outputs": [],
      "source": [
        "class Net(torch.nn.Module):\n",
        "    def __init__(self, n_hidden_nodes, n_hidden_layers):\n",
        "        super(Net, self).__init__()\n",
        "        # Определяем слои\n",
        "        self.fc1 = torch.nn.Linear(IMAGE_HEIGHT * IMAGE_WIDTH * COLOR_CHANNELS,\n",
        "                                   n_hidden_nodes)\n",
        "#         self.n_hidden_nodes=n_hidden_nodes\n",
        "#         self.n_hidden_layers=n_hidden_layers\n",
        "\n",
        "        self.out = torch.nn.Linear(n_hidden_nodes, N_CLASSES)\n",
        "\n",
        "    def forward(self, x):\n",
        "        x = x.view(-1, IMAGE_HEIGHT * IMAGE_WIDTH * COLOR_CHANNELS)\n",
        "        # определяем функцию активации\n",
        "        sigmoid = torch.nn.Sigmoid()\n",
        "        x = sigmoid(self.fc1(x))\n",
        "        return torch.nn.functional.log_softmax(self.out(x))"
      ]
    },
    {
      "cell_type": "code",
      "execution_count": 8,
      "metadata": {
        "id": "sdi5bYJaf4iF"
      },
      "outputs": [],
      "source": [
        "def train(epoch, model, train_loader, optimizer, log_interval=100, cuda=None):\n",
        "    model.train()\n",
        "    correct = 0\n",
        "    for batch_idx, (data, target) in enumerate(train_loader):\n",
        "        data, target = data.requires_grad_(requires_grad = True), target.requires_grad_(requires_grad = False)\n",
        "        optimizer.zero_grad()\n",
        "        output = model(data)\n",
        "        #print(output.data.shape) 4 x 10 == batch_size x num_classes\n",
        "        pred = output.data.max(1)[1] # get the index of the max log-probability, torch.max() returns a named tuple (values, indices) \n",
        "        #print(pred.shape) Size = 4 == batch_size\n",
        "        correct += pred.eq(target.data).sum()\n",
        "        accuracy = 100. * correct / len(train_loader.dataset)\n",
        "        \n",
        "        \n",
        "        loss = torch.nn.functional.nll_loss(output, target)\n",
        "        loss.backward()\n",
        "        optimizer.step()\n",
        "        if batch_idx % 10000 == 0:\n",
        "            print('Train Epoch: {} [{}/{} ({:.0f}%)]\\tLoss: {:.6f}'.format(\n",
        "                epoch, batch_idx * len(data), len(train_loader.dataset),\n",
        "                100. * batch_idx / len(train_loader), loss.data, accuracy))\n"
      ]
    },
    {
      "cell_type": "code",
      "execution_count": 9,
      "metadata": {
        "id": "_MB7us3sf4iI"
      },
      "outputs": [],
      "source": [
        "def validate(loss_vector, accuracy_vector, model, validation_loader, cuda=None):\n",
        "    model.eval()\n",
        "    val_loss, correct = 0, 0\n",
        "    for data, target in validation_loader:\n",
        "        if cuda:\n",
        "            data, target = data.cuda(), target.cuda()\n",
        "        data, target = data.requires_grad_(requires_grad = False), target.requires_grad_(requires_grad = False)\n",
        "        output = model(data)\n",
        "\n",
        "        val_loss += torch.nn.functional.nll_loss(output, target).data\n",
        "        pred = output.data.max(1)[1] # get the index of the max log-probability\n",
        "\n",
        "        correct += pred.eq(target.data).cpu().sum()\n",
        "    \n",
        "    val_loss /= len(validation_loader)\n",
        "    loss_vector.append(val_loss)\n",
        "\n",
        "    accuracy = 100. * correct / len(validation_loader.dataset)\n",
        "    accuracy_vector.append(accuracy)\n",
        "\n",
        "    print('\\nValidation set: Average loss: {:.4f}, Accuracy: {}/{} ({:.0f}%)\\n'.format(\n",
        "        val_loss, correct, len(validation_loader.dataset), accuracy))"
      ]
    },
    {
      "cell_type": "code",
      "execution_count": 10,
      "metadata": {
        "id": "5Ta4nX1Uf4iK"
      },
      "outputs": [],
      "source": [
        "from tqdm import tqdm_notebook"
      ]
    },
    {
      "cell_type": "code",
      "execution_count": 11,
      "metadata": {
        "colab": {
          "base_uri": "https://localhost:8080/"
        },
        "id": "HcykLY4af4iM",
        "outputId": "8aeba88c-2974-4cf6-bfd8-e4d870a25f7e"
      },
      "outputs": [
        {
          "output_type": "stream",
          "name": "stdout",
          "text": [
            "Train Epoch: 1 [0/50000 (0%)]\tLoss: 2.341679\n",
            "Train Epoch: 1 [40000/50000 (80%)]\tLoss: 2.249055\n",
            "\n",
            "Validation set: Average loss: 2.0654, Accuracy: 3040/10000 (30%)\n",
            "\n",
            "Train Epoch: 2 [0/50000 (0%)]\tLoss: 2.021732\n",
            "Train Epoch: 2 [40000/50000 (80%)]\tLoss: 1.724647\n",
            "\n",
            "Validation set: Average loss: 1.9734, Accuracy: 3221/10000 (32%)\n",
            "\n",
            "Train Epoch: 3 [0/50000 (0%)]\tLoss: 2.285262\n",
            "Train Epoch: 3 [40000/50000 (80%)]\tLoss: 1.927724\n",
            "\n",
            "Validation set: Average loss: 1.9179, Accuracy: 3456/10000 (35%)\n",
            "\n",
            "Train Epoch: 4 [0/50000 (0%)]\tLoss: 1.539829\n",
            "Train Epoch: 4 [40000/50000 (80%)]\tLoss: 2.636195\n",
            "\n",
            "Validation set: Average loss: 1.8776, Accuracy: 3637/10000 (36%)\n",
            "\n",
            "Train Epoch: 5 [0/50000 (0%)]\tLoss: 1.889025\n",
            "Train Epoch: 5 [40000/50000 (80%)]\tLoss: 2.124573\n",
            "\n",
            "Validation set: Average loss: 1.8445, Accuracy: 3689/10000 (37%)\n",
            "\n",
            "Train Epoch: 6 [0/50000 (0%)]\tLoss: 1.758899\n",
            "Train Epoch: 6 [40000/50000 (80%)]\tLoss: 1.152340\n",
            "\n",
            "Validation set: Average loss: 1.8175, Accuracy: 3744/10000 (37%)\n",
            "\n",
            "Train Epoch: 7 [0/50000 (0%)]\tLoss: 1.691489\n",
            "Train Epoch: 7 [40000/50000 (80%)]\tLoss: 1.230532\n",
            "\n",
            "Validation set: Average loss: 1.7958, Accuracy: 3793/10000 (38%)\n",
            "\n",
            "Train Epoch: 8 [0/50000 (0%)]\tLoss: 2.134176\n",
            "Train Epoch: 8 [40000/50000 (80%)]\tLoss: 1.968361\n",
            "\n",
            "Validation set: Average loss: 1.7784, Accuracy: 3852/10000 (39%)\n",
            "\n",
            "Train Epoch: 9 [0/50000 (0%)]\tLoss: 2.141849\n",
            "Train Epoch: 9 [40000/50000 (80%)]\tLoss: 1.722962\n",
            "\n",
            "Validation set: Average loss: 1.7627, Accuracy: 3892/10000 (39%)\n",
            "\n",
            "Train Epoch: 10 [0/50000 (0%)]\tLoss: 1.393437\n",
            "Train Epoch: 10 [40000/50000 (80%)]\tLoss: 1.470469\n",
            "\n",
            "Validation set: Average loss: 1.7511, Accuracy: 3907/10000 (39%)\n",
            "\n",
            "Train Epoch: 11 [0/50000 (0%)]\tLoss: 2.280213\n",
            "Train Epoch: 11 [40000/50000 (80%)]\tLoss: 1.209205\n",
            "\n",
            "Validation set: Average loss: 1.7425, Accuracy: 3921/10000 (39%)\n",
            "\n",
            "Train Epoch: 12 [0/50000 (0%)]\tLoss: 1.973372\n",
            "Train Epoch: 12 [40000/50000 (80%)]\tLoss: 1.958208\n",
            "\n",
            "Validation set: Average loss: 1.7304, Accuracy: 3946/10000 (39%)\n",
            "\n",
            "Train Epoch: 13 [0/50000 (0%)]\tLoss: 1.498251\n",
            "Train Epoch: 13 [40000/50000 (80%)]\tLoss: 1.896971\n",
            "\n",
            "Validation set: Average loss: 1.7232, Accuracy: 3990/10000 (40%)\n",
            "\n",
            "Train Epoch: 14 [0/50000 (0%)]\tLoss: 1.882034\n",
            "Train Epoch: 14 [40000/50000 (80%)]\tLoss: 1.398618\n",
            "\n",
            "Validation set: Average loss: 1.7175, Accuracy: 4002/10000 (40%)\n",
            "\n",
            "Train Epoch: 15 [0/50000 (0%)]\tLoss: 1.468942\n",
            "Train Epoch: 15 [40000/50000 (80%)]\tLoss: 0.951825\n",
            "\n",
            "Validation set: Average loss: 1.7134, Accuracy: 4002/10000 (40%)\n",
            "\n",
            "Train Epoch: 16 [0/50000 (0%)]\tLoss: 1.597183\n",
            "Train Epoch: 16 [40000/50000 (80%)]\tLoss: 1.147811\n",
            "\n",
            "Validation set: Average loss: 1.7080, Accuracy: 4013/10000 (40%)\n",
            "\n",
            "Train Epoch: 17 [0/50000 (0%)]\tLoss: 1.945732\n",
            "Train Epoch: 17 [40000/50000 (80%)]\tLoss: 1.809521\n",
            "\n",
            "Validation set: Average loss: 1.7025, Accuracy: 4014/10000 (40%)\n",
            "\n",
            "Train Epoch: 18 [0/50000 (0%)]\tLoss: 2.153854\n",
            "Train Epoch: 18 [40000/50000 (80%)]\tLoss: 2.283984\n",
            "\n",
            "Validation set: Average loss: 1.6993, Accuracy: 4056/10000 (41%)\n",
            "\n",
            "Train Epoch: 19 [0/50000 (0%)]\tLoss: 1.396054\n",
            "Train Epoch: 19 [40000/50000 (80%)]\tLoss: 2.189645\n",
            "\n",
            "Validation set: Average loss: 1.6939, Accuracy: 4070/10000 (41%)\n",
            "\n",
            "Train Epoch: 20 [0/50000 (0%)]\tLoss: 1.227747\n",
            "Train Epoch: 20 [40000/50000 (80%)]\tLoss: 0.908988\n",
            "\n",
            "Validation set: Average loss: 1.6933, Accuracy: 4081/10000 (41%)\n",
            "\n",
            "Train Epoch: 21 [0/50000 (0%)]\tLoss: 1.487095\n",
            "Train Epoch: 21 [40000/50000 (80%)]\tLoss: 0.743639\n",
            "\n",
            "Validation set: Average loss: 1.6899, Accuracy: 4095/10000 (41%)\n",
            "\n",
            "Train Epoch: 22 [0/50000 (0%)]\tLoss: 1.544505\n",
            "Train Epoch: 22 [40000/50000 (80%)]\tLoss: 1.027252\n",
            "\n",
            "Validation set: Average loss: 1.6895, Accuracy: 4109/10000 (41%)\n",
            "\n",
            "Train Epoch: 23 [0/50000 (0%)]\tLoss: 1.292038\n",
            "Train Epoch: 23 [40000/50000 (80%)]\tLoss: 1.277453\n",
            "\n",
            "Validation set: Average loss: 1.6865, Accuracy: 4125/10000 (41%)\n",
            "\n",
            "Train Epoch: 24 [0/50000 (0%)]\tLoss: 1.892866\n",
            "Train Epoch: 24 [40000/50000 (80%)]\tLoss: 1.455798\n",
            "\n",
            "Validation set: Average loss: 1.6842, Accuracy: 4109/10000 (41%)\n",
            "\n",
            "Train Epoch: 25 [0/50000 (0%)]\tLoss: 2.133241\n",
            "Train Epoch: 25 [40000/50000 (80%)]\tLoss: 1.635333\n",
            "\n",
            "Validation set: Average loss: 1.6829, Accuracy: 4109/10000 (41%)\n",
            "\n",
            "Train Epoch: 26 [0/50000 (0%)]\tLoss: 2.367662\n",
            "Train Epoch: 26 [40000/50000 (80%)]\tLoss: 1.687822\n",
            "\n",
            "Validation set: Average loss: 1.6795, Accuracy: 4148/10000 (41%)\n",
            "\n",
            "Train Epoch: 27 [0/50000 (0%)]\tLoss: 1.371176\n",
            "Train Epoch: 27 [40000/50000 (80%)]\tLoss: 1.170541\n",
            "\n",
            "Validation set: Average loss: 1.6786, Accuracy: 4168/10000 (42%)\n",
            "\n",
            "Train Epoch: 28 [0/50000 (0%)]\tLoss: 1.359061\n",
            "Train Epoch: 28 [40000/50000 (80%)]\tLoss: 1.458985\n",
            "\n",
            "Validation set: Average loss: 1.6789, Accuracy: 4133/10000 (41%)\n",
            "\n",
            "Train Epoch: 29 [0/50000 (0%)]\tLoss: 0.927807\n",
            "Train Epoch: 29 [40000/50000 (80%)]\tLoss: 2.272276\n",
            "\n",
            "Validation set: Average loss: 1.6773, Accuracy: 4153/10000 (42%)\n",
            "\n",
            "Train Epoch: 30 [0/50000 (0%)]\tLoss: 1.155607\n",
            "Train Epoch: 30 [40000/50000 (80%)]\tLoss: 1.253176\n",
            "\n",
            "Validation set: Average loss: 1.6762, Accuracy: 4148/10000 (41%)\n",
            "\n",
            "Train Epoch: 31 [0/50000 (0%)]\tLoss: 1.554732\n",
            "Train Epoch: 31 [40000/50000 (80%)]\tLoss: 1.244657\n",
            "\n",
            "Validation set: Average loss: 1.6760, Accuracy: 4155/10000 (42%)\n",
            "\n",
            "Train Epoch: 32 [0/50000 (0%)]\tLoss: 1.000880\n",
            "Train Epoch: 32 [40000/50000 (80%)]\tLoss: 1.749495\n",
            "\n",
            "Validation set: Average loss: 1.6795, Accuracy: 4105/10000 (41%)\n",
            "\n",
            "Train Epoch: 33 [0/50000 (0%)]\tLoss: 2.081326\n",
            "Train Epoch: 33 [40000/50000 (80%)]\tLoss: 1.989575\n",
            "\n",
            "Validation set: Average loss: 1.6713, Accuracy: 4179/10000 (42%)\n",
            "\n",
            "Train Epoch: 34 [0/50000 (0%)]\tLoss: 2.066263\n",
            "Train Epoch: 34 [40000/50000 (80%)]\tLoss: 1.513201\n",
            "\n",
            "Validation set: Average loss: 1.6744, Accuracy: 4178/10000 (42%)\n",
            "\n",
            "Train Epoch: 35 [0/50000 (0%)]\tLoss: 0.635041\n",
            "Train Epoch: 35 [40000/50000 (80%)]\tLoss: 2.222044\n",
            "\n",
            "Validation set: Average loss: 1.6735, Accuracy: 4175/10000 (42%)\n",
            "\n",
            "Train Epoch: 36 [0/50000 (0%)]\tLoss: 1.760673\n",
            "Train Epoch: 36 [40000/50000 (80%)]\tLoss: 1.920948\n",
            "\n",
            "Validation set: Average loss: 1.6727, Accuracy: 4140/10000 (41%)\n",
            "\n",
            "Train Epoch: 37 [0/50000 (0%)]\tLoss: 0.690340\n",
            "Train Epoch: 37 [40000/50000 (80%)]\tLoss: 1.385514\n",
            "\n",
            "Validation set: Average loss: 1.6698, Accuracy: 4179/10000 (42%)\n",
            "\n",
            "Train Epoch: 38 [0/50000 (0%)]\tLoss: 1.180561\n",
            "Train Epoch: 38 [40000/50000 (80%)]\tLoss: 2.139906\n",
            "\n",
            "Validation set: Average loss: 1.6686, Accuracy: 4176/10000 (42%)\n",
            "\n",
            "Train Epoch: 39 [0/50000 (0%)]\tLoss: 1.259010\n",
            "Train Epoch: 39 [40000/50000 (80%)]\tLoss: 0.818943\n",
            "\n",
            "Validation set: Average loss: 1.6687, Accuracy: 4191/10000 (42%)\n",
            "\n",
            "Train Epoch: 40 [0/50000 (0%)]\tLoss: 2.357719\n",
            "Train Epoch: 40 [40000/50000 (80%)]\tLoss: 1.072419\n",
            "\n",
            "Validation set: Average loss: 1.6690, Accuracy: 4204/10000 (42%)\n",
            "\n"
          ]
        }
      ],
      "source": [
        "hidden_nodes = 10\n",
        "layers = 1\n",
        "model = Net(hidden_nodes, layers)\n",
        "optimizer = torch.optim.SGD(model.parameters(), lr=LEARNING_RATE)\n",
        "loss_vector = []\n",
        "acc_vector = []\n",
        "for epoch in range(1, EPOCHS + 1):\n",
        "    train(epoch, model, train_loader, optimizer, cuda=None)\n",
        "    validate(loss_vector, acc_vector, model, validation_loader, cuda=None)\n",
        "    if epoch == 40:\n",
        "        break"
      ]
    },
    {
      "cell_type": "markdown",
      "metadata": {
        "id": "eLhItbeMf4iO"
      },
      "source": [
        "Итак, мы обучили нашу сеть проходами по обучающей выборке. Давайте проверим, обучилась ли наша сеть. Проверим это путем предсказания меток классов для валидационной выборки."
      ]
    },
    {
      "cell_type": "code",
      "execution_count": 12,
      "metadata": {
        "colab": {
          "base_uri": "https://localhost:8080/",
          "height": 279
        },
        "id": "cuELsbq3f4iP",
        "outputId": "a254bc65-b21c-422b-a661-9161e65a9840"
      },
      "outputs": [
        {
          "output_type": "display_data",
          "data": {
            "text/plain": [
              "<Figure size 432x288 with 1 Axes>"
            ],
            "image/png": "[encoded data removed]"
          },
          "metadata": {
            "needs_background": "light"
          }
        }
      ],
      "source": [
        "# Plot train loss and validation accuracy vs epochs for each learning rate\n",
        "epochs = [i for i in range(1, 41)]\n",
        "plt.plot(epochs, loss_vector)\n",
        "plt.xlabel(\"Epochs\")\n",
        "plt.ylabel(\"Loss\")\n",
        "plt.show()"
      ]
    },
    {
      "cell_type": "code",
      "execution_count": 13,
      "metadata": {
        "colab": {
          "base_uri": "https://localhost:8080/",
          "height": 156
        },
        "id": "IDJfSHQif4iR",
        "outputId": "aabd5a29-ff36-492e-a06d-77fea9aa93ec"
      },
      "outputs": [
        {
          "output_type": "stream",
          "name": "stdout",
          "text": [
            "GroundTruth:    cat  ship  ship plane\n"
          ]
        },
        {
          "output_type": "display_data",
          "data": {
            "text/plain": [
              "<Figure size 432x288 with 1 Axes>"
            ],
            "image/png": "[encoded data removed]"
          },
          "metadata": {
            "needs_background": "light"
          }
        }
      ],
      "source": [
        "dataiter = iter(validation_loader)\n",
        "images, labels = dataiter.next()\n",
        "\n",
        "# выведем наши предсказания\n",
        "imshow(torchvision.utils.make_grid(images))\n",
        "print('GroundTruth: ', ' '.join('%5s' % CLASSES[labels[j]] for j in range(4)))\n",
        "\n",
        "outputs=model(images)"
      ]
    },
    {
      "cell_type": "code",
      "execution_count": 14,
      "metadata": {
        "colab": {
          "base_uri": "https://localhost:8080/"
        },
        "id": "1Bt-VRMvf4iU",
        "outputId": "4ee522c8-d518-4314-f421-7ccdbb33942d"
      },
      "outputs": [
        {
          "output_type": "stream",
          "name": "stdout",
          "text": [
            "Predicted:    cat  ship  ship plane\n"
          ]
        }
      ],
      "source": [
        "_, predicted = torch.max(outputs, 1)\n",
        "\n",
        "print('Predicted: ', ' '.join('%5s' % CLASSES[predicted[j]]\n",
        "                              for j in range(4)))"
      ]
    },
    {
      "cell_type": "markdown",
      "metadata": {
        "id": "FQYwDNB_f4iW"
      },
      "source": [
        "Протестируем на всем тесте:"
      ]
    },
    {
      "cell_type": "code",
      "execution_count": 15,
      "metadata": {
        "colab": {
          "base_uri": "https://localhost:8080/"
        },
        "id": "6ZD9Lxi1f4iX",
        "outputId": "4d0898c6-bc68-4798-ae87-5bd90d03ae1f"
      },
      "outputs": [
        {
          "output_type": "stream",
          "name": "stdout",
          "text": [
            "Accuracy of the network on the 10000 test images: 42 %\n"
          ]
        }
      ],
      "source": [
        "correct = 0\n",
        "total = 0\n",
        "with torch.no_grad():\n",
        "    for data in validation_loader:\n",
        "        images, labels = data\n",
        "        outputs = model(images)\n",
        "        _, predicted = torch.max(outputs.data, 1)\n",
        "        total += labels.size(0)\n",
        "        correct += (predicted == labels).sum().item()\n",
        "\n",
        "print('Accuracy of the network on the 10000 test images: %d %%' % (\n",
        "    100 * correct / total))"
      ]
    },
    {
      "cell_type": "code",
      "execution_count": 16,
      "metadata": {
        "colab": {
          "base_uri": "https://localhost:8080/"
        },
        "id": "2uxu2qysf4ia",
        "outputId": "32fc6fe1-93e5-496e-c5d7-545ab2b12cab"
      },
      "outputs": [
        {
          "output_type": "stream",
          "name": "stdout",
          "text": [
            "Accuracy of plane : 49 %\n",
            "Accuracy of   car : 50 %\n",
            "Accuracy of  bird : 22 %\n",
            "Accuracy of   cat : 28 %\n",
            "Accuracy of  deer : 31 %\n",
            "Accuracy of   dog : 31 %\n",
            "Accuracy of  frog : 52 %\n",
            "Accuracy of horse : 49 %\n",
            "Accuracy of  ship : 58 %\n",
            "Accuracy of truck : 47 %\n"
          ]
        }
      ],
      "source": [
        "class_correct = list(0. for i in range(10))\n",
        "class_total = list(0. for i in range(10))\n",
        "BATCH_SIZE = 4\n",
        "\n",
        "with torch.no_grad():\n",
        "    for data in validation_loader:\n",
        "        images, labels = data\n",
        "        #print(labels.dtype) == torch.int64\n",
        "        outputs = model(images)\n",
        "        _, predicted = torch.max(outputs, 1) # Выбираем индексы максимальных вероятностей\n",
        "        c = (predicted == labels).squeeze() # squeeze() returns a tensor with all the dimensions of input of size 1 removed\n",
        "        for i in range(BATCH_SIZE):\n",
        "            label = labels[i]\n",
        "            class_correct[label] += c[i].item() # item() returns the value of this tensor as a standard Python number. This only works for tensors with one element\n",
        "            class_total[label] += 1\n",
        "\n",
        "\n",
        "for i in range(10):\n",
        "    print('Accuracy of %5s : %2d %%' % (\n",
        "        CLASSES[i], 100 * class_correct[i] / class_total[i]))"
      ]
    },
    {
      "cell_type": "markdown",
      "metadata": {
        "id": "kRuFMmwvf4id"
      },
      "source": [
        "Каким образом мы можем улучшить качество распознавания и обучения?\n",
        "1. Добавить **dropout**\n",
        "\n",
        "2. Добавить **batchnorm** (2 семинар)\n",
        "3. Использовать свертки. Но об этом позже :)"
      ]
    },
    {
      "cell_type": "code",
      "execution_count": 17,
      "metadata": {
        "id": "QwjLmYc7f4id"
      },
      "outputs": [],
      "source": [
        "class SecondNet(torch.nn.Module):\n",
        "    def __init__(self, n_hidden_nodes, n_hidden_layers,keep_rate=0.8):\n",
        "        super().__init__()\n",
        "        self.n_hidden_nodes = n_hidden_nodes\n",
        "        self.n_hidden_layers = n_hidden_layers\n",
        "#         if not keep_rate:\n",
        "#             keep_rate = 0.5\n",
        "#         self.keep_rate = keep_rate\n",
        "        # Set up perceptron layers and add dropout\n",
        "        self.fc1 = torch.nn.Linear(IMAGE_HEIGHT * IMAGE_WIDTH * COLOR_CHANNELS,\n",
        "                                   self.n_hidden_nodes)\n",
        "        self.fc1_drop = torch.nn.Dropout(1 - keep_rate) # Dropout(p) -  randomly zeroes some of the elements of the input tensor with probability p \n",
        "        self.out = torch.nn.Linear(self.n_hidden_nodes, N_CLASSES)\n",
        "    \n",
        "    def forward(self, x):\n",
        "        x = x.view(-1, IMAGE_HEIGHT * IMAGE_WIDTH * COLOR_CHANNELS)\n",
        "        sigmoid = torch.nn.Sigmoid()\n",
        "        x = sigmoid(self.fc1(x))\n",
        "        x = self.fc1_drop(x)\n",
        "        return torch.nn.functional.log_softmax(self.out(x))\n"
      ]
    },
    {
      "cell_type": "markdown",
      "source": [
        "В Pytorch есть возможность запускать вычисления на GPU. Но у меня нет GPU."
      ],
      "metadata": {
        "id": "stHFxCMFiGq9"
      }
    },
    {
      "cell_type": "code",
      "execution_count": 26,
      "metadata": {
        "id": "l6aah5zAf4ig"
      },
      "outputs": [],
      "source": [
        "def train(epoch, model, train_loader, optimizer, log_interval=100, cuda=None):\n",
        "  model.train()\n",
        "  correct = 0\n",
        "\n",
        "  for batch_idx, (data,target) in enumerate(train_loader):\n",
        "    data, target = data.requires_grad_(requires_grad=True), target.requires_grad_(requires_grad=False)\n",
        "    optimizer.zero_grad()\n",
        "    output = model(data)\n",
        "\n",
        "    #output.data.shape  = 4 x 10 == batch_size x num_classes\n",
        "    prediction = output.data.max(1)[1] # get the index of the max log-probability, torch.max() returns a named tuple (values, indices) \n",
        "    #(prediction.shape) Size = 4 == batch_size\n",
        "\n",
        "    correct += prediction.eq(target.data).sum()\n",
        "    accuracy = 100. * correct / len(train_loader.dataset)\n",
        "\n",
        "    loss = torch.nn.functional.nll_loss(output, target)\n",
        "    loss.backward()\n",
        "    optimizer.step()\n",
        "\n",
        "    if batch_idx % 10000 == 0:\n",
        "      print('Train Epoch: {} [{}/{} ({:.0f}%)]\\tLoss: {:.6f}'.format(\n",
        "          epoch, batch_idx * len(data), len(train_loader.dataset),\n",
        "          100. * batch_idx / len(train_loader), loss.data, accuracy))"
      ]
    },
    {
      "cell_type": "code",
      "source": [
        "def validate(loss_vector, accuracy_vector, model, validation_loader, cuda=None):\n",
        "  model.eval()\n",
        "  correct, val_loss = 0, 0\n",
        "\n",
        "  for data, target in validation_loader:\n",
        "    data, target = data.requires_grad_(requires_grad = False), target.requires_grad_(requires_grad = False)\n",
        "    output = model(data)\n",
        "    prediction = output.data.max(1)[1] # get the index of the max log-probability, torch.max() returns a named tuple (values, indices) \n",
        "\n",
        "    correct += prediction.eq(target.data).sum()\n",
        "    val_loss += torch.nn.functional.nll_loss(output, target).data\n",
        "\n",
        "  accuracy = 100. * correct / len(validation_loader.dataset)\n",
        "  accuracy_vector.append(accuracy)\n",
        "\n",
        "  val_loss /= len(validation_loader)\n",
        "  loss_vector.append(val_loss)\n",
        "\n",
        "  print('\\nValidation set: Average loss: {:.4f}, Accuracy: {}/{} ({:.0f}%)\\n'.format(\n",
        "  val_loss, correct, len(validation_loader.dataset), accuracy))"
      ],
      "metadata": {
        "id": "v94p75xvWkx_"
      },
      "execution_count": 32,
      "outputs": []
    },
    {
      "cell_type": "code",
      "source": [
        "hidden_nodes = 10\n",
        "hidden_layers = 1\n",
        "\n",
        "model = SecondNet(hidden_nodes, hidden_layers, keep_rate=0.8)\n",
        "optimizer = torch.optim.SGD(model.parameters(), lr = LEARNING_RATE)\n",
        "\n",
        "loss_vector = []\n",
        "accuracy_vector = []\n",
        "\n",
        "for epoch in range(1, EPOCHS + 1):\n",
        "  train(epoch, model, train_loader, optimizer, log_interval=100, cuda=None)\n",
        "  validate(loss_vector, accuracy_vector, model, validation_loader, cuda=None)\n",
        "\n",
        "  if epoch == 40:\n",
        "    break"
      ],
      "metadata": {
        "colab": {
          "base_uri": "https://localhost:8080/"
        },
        "id": "DiZde1PYcgwy",
        "outputId": "610df546-85f6-4ab7-e1bc-512bd438965e"
      },
      "execution_count": 33,
      "outputs": [
        {
          "output_type": "stream",
          "name": "stdout",
          "text": [
            "Train Epoch: 1 [0/50000 (0%)]\tLoss: 2.540359\n",
            "Train Epoch: 1 [40000/50000 (80%)]\tLoss: 2.133301\n",
            "\n",
            "Validation set: Average loss: 2.0705, Accuracy: 2683/10000 (27%)\n",
            "\n",
            "Train Epoch: 2 [0/50000 (0%)]\tLoss: 2.036833\n",
            "Train Epoch: 2 [40000/50000 (80%)]\tLoss: 2.368104\n",
            "\n",
            "Validation set: Average loss: 1.9823, Accuracy: 3127/10000 (31%)\n",
            "\n",
            "Train Epoch: 3 [0/50000 (0%)]\tLoss: 2.056798\n",
            "Train Epoch: 3 [40000/50000 (80%)]\tLoss: 2.039881\n",
            "\n",
            "Validation set: Average loss: 1.9337, Accuracy: 3251/10000 (33%)\n",
            "\n",
            "Train Epoch: 4 [0/50000 (0%)]\tLoss: 1.798277\n",
            "Train Epoch: 4 [40000/50000 (80%)]\tLoss: 1.785446\n",
            "\n",
            "Validation set: Average loss: 1.9002, Accuracy: 3405/10000 (34%)\n",
            "\n",
            "Train Epoch: 5 [0/50000 (0%)]\tLoss: 1.755018\n",
            "Train Epoch: 5 [40000/50000 (80%)]\tLoss: 2.035757\n",
            "\n",
            "Validation set: Average loss: 1.8750, Accuracy: 3457/10000 (35%)\n",
            "\n",
            "Train Epoch: 6 [0/50000 (0%)]\tLoss: 1.866073\n",
            "Train Epoch: 6 [40000/50000 (80%)]\tLoss: 1.740769\n",
            "\n",
            "Validation set: Average loss: 1.8566, Accuracy: 3530/10000 (35%)\n",
            "\n",
            "Train Epoch: 7 [0/50000 (0%)]\tLoss: 2.146924\n",
            "Train Epoch: 7 [40000/50000 (80%)]\tLoss: 2.272126\n",
            "\n",
            "Validation set: Average loss: 1.8391, Accuracy: 3549/10000 (35%)\n",
            "\n",
            "Train Epoch: 8 [0/50000 (0%)]\tLoss: 1.336030\n",
            "Train Epoch: 8 [40000/50000 (80%)]\tLoss: 2.544779\n",
            "\n",
            "Validation set: Average loss: 1.8262, Accuracy: 3593/10000 (36%)\n",
            "\n",
            "Train Epoch: 9 [0/50000 (0%)]\tLoss: 2.272104\n",
            "Train Epoch: 9 [40000/50000 (80%)]\tLoss: 1.857466\n",
            "\n",
            "Validation set: Average loss: 1.8131, Accuracy: 3643/10000 (36%)\n",
            "\n",
            "Train Epoch: 10 [0/50000 (0%)]\tLoss: 1.419269\n",
            "Train Epoch: 10 [40000/50000 (80%)]\tLoss: 1.943008\n",
            "\n",
            "Validation set: Average loss: 1.8040, Accuracy: 3668/10000 (37%)\n",
            "\n",
            "Train Epoch: 11 [0/50000 (0%)]\tLoss: 1.742481\n",
            "Train Epoch: 11 [40000/50000 (80%)]\tLoss: 1.920424\n",
            "\n",
            "Validation set: Average loss: 1.7951, Accuracy: 3707/10000 (37%)\n",
            "\n",
            "Train Epoch: 12 [0/50000 (0%)]\tLoss: 1.420889\n",
            "Train Epoch: 12 [40000/50000 (80%)]\tLoss: 1.551932\n",
            "\n",
            "Validation set: Average loss: 1.7869, Accuracy: 3723/10000 (37%)\n",
            "\n",
            "Train Epoch: 13 [0/50000 (0%)]\tLoss: 1.938236\n",
            "Train Epoch: 13 [40000/50000 (80%)]\tLoss: 2.263274\n",
            "\n",
            "Validation set: Average loss: 1.7804, Accuracy: 3739/10000 (37%)\n",
            "\n",
            "Train Epoch: 14 [0/50000 (0%)]\tLoss: 2.838591\n",
            "Train Epoch: 14 [40000/50000 (80%)]\tLoss: 2.261505\n",
            "\n",
            "Validation set: Average loss: 1.7737, Accuracy: 3770/10000 (38%)\n",
            "\n",
            "Train Epoch: 15 [0/50000 (0%)]\tLoss: 1.616329\n",
            "Train Epoch: 15 [40000/50000 (80%)]\tLoss: 1.702321\n",
            "\n",
            "Validation set: Average loss: 1.7680, Accuracy: 3819/10000 (38%)\n",
            "\n",
            "Train Epoch: 16 [0/50000 (0%)]\tLoss: 1.560592\n",
            "Train Epoch: 16 [40000/50000 (80%)]\tLoss: 2.138353\n",
            "\n",
            "Validation set: Average loss: 1.7635, Accuracy: 3799/10000 (38%)\n",
            "\n",
            "Train Epoch: 17 [0/50000 (0%)]\tLoss: 1.921310\n",
            "Train Epoch: 17 [40000/50000 (80%)]\tLoss: 1.585823\n",
            "\n",
            "Validation set: Average loss: 1.7608, Accuracy: 3848/10000 (38%)\n",
            "\n",
            "Train Epoch: 18 [0/50000 (0%)]\tLoss: 1.767884\n",
            "Train Epoch: 18 [40000/50000 (80%)]\tLoss: 2.112172\n",
            "\n",
            "Validation set: Average loss: 1.7566, Accuracy: 3872/10000 (39%)\n",
            "\n",
            "Train Epoch: 19 [0/50000 (0%)]\tLoss: 1.338073\n",
            "Train Epoch: 19 [40000/50000 (80%)]\tLoss: 1.379037\n",
            "\n",
            "Validation set: Average loss: 1.7520, Accuracy: 3879/10000 (39%)\n",
            "\n",
            "Train Epoch: 20 [0/50000 (0%)]\tLoss: 1.304742\n",
            "Train Epoch: 20 [40000/50000 (80%)]\tLoss: 2.085405\n",
            "\n",
            "Validation set: Average loss: 1.7493, Accuracy: 3893/10000 (39%)\n",
            "\n",
            "Train Epoch: 21 [0/50000 (0%)]\tLoss: 2.088101\n",
            "Train Epoch: 21 [40000/50000 (80%)]\tLoss: 2.168100\n",
            "\n",
            "Validation set: Average loss: 1.7465, Accuracy: 3889/10000 (39%)\n",
            "\n",
            "Train Epoch: 22 [0/50000 (0%)]\tLoss: 1.270577\n",
            "Train Epoch: 22 [40000/50000 (80%)]\tLoss: 1.868799\n",
            "\n",
            "Validation set: Average loss: 1.7446, Accuracy: 3906/10000 (39%)\n",
            "\n",
            "Train Epoch: 23 [0/50000 (0%)]\tLoss: 2.048971\n",
            "Train Epoch: 23 [40000/50000 (80%)]\tLoss: 1.462766\n",
            "\n",
            "Validation set: Average loss: 1.7404, Accuracy: 3930/10000 (39%)\n",
            "\n",
            "Train Epoch: 24 [0/50000 (0%)]\tLoss: 1.494289\n",
            "Train Epoch: 24 [40000/50000 (80%)]\tLoss: 1.380480\n",
            "\n",
            "Validation set: Average loss: 1.7408, Accuracy: 3921/10000 (39%)\n",
            "\n",
            "Train Epoch: 25 [0/50000 (0%)]\tLoss: 1.306696\n",
            "Train Epoch: 25 [40000/50000 (80%)]\tLoss: 1.695747\n",
            "\n",
            "Validation set: Average loss: 1.7380, Accuracy: 3933/10000 (39%)\n",
            "\n",
            "Train Epoch: 26 [0/50000 (0%)]\tLoss: 1.221291\n",
            "Train Epoch: 26 [40000/50000 (80%)]\tLoss: 2.113300\n",
            "\n",
            "Validation set: Average loss: 1.7366, Accuracy: 3922/10000 (39%)\n",
            "\n",
            "Train Epoch: 27 [0/50000 (0%)]\tLoss: 1.024512\n",
            "Train Epoch: 27 [40000/50000 (80%)]\tLoss: 1.717736\n",
            "\n",
            "Validation set: Average loss: 1.7333, Accuracy: 3966/10000 (40%)\n",
            "\n",
            "Train Epoch: 28 [0/50000 (0%)]\tLoss: 1.609924\n",
            "Train Epoch: 28 [40000/50000 (80%)]\tLoss: 1.519158\n",
            "\n",
            "Validation set: Average loss: 1.7320, Accuracy: 3938/10000 (39%)\n",
            "\n",
            "Train Epoch: 29 [0/50000 (0%)]\tLoss: 1.586456\n",
            "Train Epoch: 29 [40000/50000 (80%)]\tLoss: 1.571762\n",
            "\n",
            "Validation set: Average loss: 1.7318, Accuracy: 3923/10000 (39%)\n",
            "\n",
            "Train Epoch: 30 [0/50000 (0%)]\tLoss: 2.139437\n",
            "Train Epoch: 30 [40000/50000 (80%)]\tLoss: 2.288631\n",
            "\n",
            "Validation set: Average loss: 1.7294, Accuracy: 3959/10000 (40%)\n",
            "\n",
            "Train Epoch: 31 [0/50000 (0%)]\tLoss: 1.596313\n",
            "Train Epoch: 31 [40000/50000 (80%)]\tLoss: 1.625095\n",
            "\n",
            "Validation set: Average loss: 1.7275, Accuracy: 3933/10000 (39%)\n",
            "\n",
            "Train Epoch: 32 [0/50000 (0%)]\tLoss: 1.980563\n",
            "Train Epoch: 32 [40000/50000 (80%)]\tLoss: 1.243168\n",
            "\n",
            "Validation set: Average loss: 1.7276, Accuracy: 3932/10000 (39%)\n",
            "\n",
            "Train Epoch: 33 [0/50000 (0%)]\tLoss: 1.971490\n",
            "Train Epoch: 33 [40000/50000 (80%)]\tLoss: 2.613470\n",
            "\n",
            "Validation set: Average loss: 1.7255, Accuracy: 3971/10000 (40%)\n",
            "\n",
            "Train Epoch: 34 [0/50000 (0%)]\tLoss: 2.181275\n",
            "Train Epoch: 34 [40000/50000 (80%)]\tLoss: 1.507862\n",
            "\n",
            "Validation set: Average loss: 1.7248, Accuracy: 3949/10000 (39%)\n",
            "\n",
            "Train Epoch: 35 [0/50000 (0%)]\tLoss: 1.750111\n",
            "Train Epoch: 35 [40000/50000 (80%)]\tLoss: 1.845307\n",
            "\n",
            "Validation set: Average loss: 1.7226, Accuracy: 3964/10000 (40%)\n",
            "\n",
            "Train Epoch: 36 [0/50000 (0%)]\tLoss: 1.110959\n",
            "Train Epoch: 36 [40000/50000 (80%)]\tLoss: 1.382142\n",
            "\n",
            "Validation set: Average loss: 1.7228, Accuracy: 3958/10000 (40%)\n",
            "\n",
            "Train Epoch: 37 [0/50000 (0%)]\tLoss: 1.144233\n",
            "Train Epoch: 37 [40000/50000 (80%)]\tLoss: 2.016865\n",
            "\n",
            "Validation set: Average loss: 1.7211, Accuracy: 3970/10000 (40%)\n",
            "\n",
            "Train Epoch: 38 [0/50000 (0%)]\tLoss: 1.288651\n",
            "Train Epoch: 38 [40000/50000 (80%)]\tLoss: 1.446022\n",
            "\n",
            "Validation set: Average loss: 1.7209, Accuracy: 3941/10000 (39%)\n",
            "\n",
            "Train Epoch: 39 [0/50000 (0%)]\tLoss: 1.504967\n",
            "Train Epoch: 39 [40000/50000 (80%)]\tLoss: 1.533946\n",
            "\n",
            "Validation set: Average loss: 1.7194, Accuracy: 3972/10000 (40%)\n",
            "\n",
            "Train Epoch: 40 [0/50000 (0%)]\tLoss: 1.603174\n",
            "Train Epoch: 40 [40000/50000 (80%)]\tLoss: 2.039197\n",
            "\n",
            "Validation set: Average loss: 1.7188, Accuracy: 3973/10000 (40%)\n",
            "\n"
          ]
        }
      ]
    },
    {
      "cell_type": "code",
      "execution_count": null,
      "metadata": {
        "id": "u3SvVLEAp4xg"
      },
      "outputs": [],
      "source": [
        "# to save model use torch.save(model.state_dict(), 'Second_Net.pt') \n",
        "# to load use model.load_state_dict(torch.load('Second_Model.pt'))"
      ]
    },
    {
      "cell_type": "code",
      "execution_count": null,
      "metadata": {
        "colab": {
          "base_uri": "https://localhost:8080/",
          "height": 363
        },
        "id": "p0Q-D23Qf4ii",
        "outputId": "3edd2f81-28ce-45c7-e745-621584528493"
      },
      "outputs": [
        {
          "data": {
            "image/png": "[encoded data removed]",
            "text/plain": [
              "<matplotlib.figure.Figure at 0x7f50a53e5a58>"
            ]
          },
          "metadata": {
            "tags": []
          },
          "output_type": "display_data"
        }
      ],
      "source": [
        "# Plot train loss and validation accuracy vs epochs for each learning rate\n",
        "epochs = [i for i in range(1, 31)]\n",
        "plt.plot(epochs, loss_vector)\n",
        "plt.xlabel(\"Epochs\")\n",
        "plt.ylabel(\"Loss\")\n",
        "plt.show()"
      ]
    },
    {
      "cell_type": "markdown",
      "metadata": {
        "id": "y9US-3ZjrSBI"
      },
      "source": [
        "Попробуйте самостоятельно написать двуслойную сеть с дропаутом. Получилось ли улучшить результат?"
      ]
    },
    {
      "cell_type": "code",
      "execution_count": null,
      "metadata": {
        "id": "UZj3d7h7tRu9"
      },
      "outputs": [],
      "source": [
        "class TwoLayerNet(torch.nn.Module):\n",
        "    def __init__(self, n_hidden_nodes, n_hidden_layers,keep_rate=0):\n",
        "        super(TwoLayerNet, self).__init__()\n",
        "        self.n_hidden_nodes = n_hidden_nodes\n",
        "        self.n_hidden_layers = n_hidden_layers\n",
        "        if not keep_rate:\n",
        "            keep_rate = 0.5\n",
        "        self.keep_rate = keep_rate\n",
        "        # Set up perceptron layers and add dropout\n",
        "        self.fc1 = torch.nn.Linear(IMAGE_WIDTH * IMAGE_WIDTH * COLOR_CHANNELS,\n",
        "                                   n_hidden_nodes)\n",
        "        self.fc1_drop = torch.nn.Dropout(1 - keep_rate)\n",
        "        if n_hidden_layers == 2:\n",
        "            self.fc2 = #тут ваш код\n",
        "            self.fc2_drop = #тут ваш код\n",
        "\n",
        "        self.out = torch.nn.Linear(n_hidden_nodes, N_CLASSES)\n",
        "    \n",
        "    def forward(self, x):\n",
        "        x = x.view(-1, IMAGE_WIDTH * IMAGE_WIDTH * COLOR_CHANNELS)\n",
        "        sigmoid = torch.nn.Sigmoid()\n",
        "        #тут ваш код\n",
        "        return torch.nn.functional.log_softmax(self.out(x))"
      ]
    },
    {
      "cell_type": "code",
      "execution_count": null,
      "metadata": {
        "id": "VFtgxjJ6rPVr"
      },
      "outputs": [],
      "source": [
        "<Ваш код здесь>"
      ]
    }
  ],
  "metadata": {
    "colab": {
      "name": "Copy of [seminar1]cifar10.ipynb",
      "provenance": [],
      "include_colab_link": true
    },
    "kernelspec": {
      "display_name": "Python 3",
      "language": "python",
      "name": "python3"
    },
    "language_info": {
      "codemirror_mode": {
        "name": "ipython",
        "version": 3
      },
      "file_extension": ".py",
      "mimetype": "text/x-python",
      "name": "python",
      "nbconvert_exporter": "python",
      "pygments_lexer": "ipython3",
      "version": "3.6.5"
    },
    "widgets": {
      "application/vnd.jupyter.widget-state+json": {
        "415e7a502e7b4b48822542eac939280c": {
          "model_module": "@jupyter-widgets/controls",
          "model_name": "HBoxModel",
          "model_module_version": "2.0.0",
          "state": {
            "_dom_classes": [],
            "_model_module": "@jupyter-widgets/controls",
            "_model_module_version": "2.0.0",
            "_model_name": "HBoxModel",
            "_view_count": null,
            "_view_module": "@jupyter-widgets/controls",
            "_view_module_version": "2.0.0",
            "_view_name": "HBoxView",
            "box_style": "",
            "children": [
              "IPY_MODEL_fb4ad48871384026818955baefb47326",
              "IPY_MODEL_3ee9ea9c6b54479b96c273467d4a5ba8",
              "IPY_MODEL_eee0d7ebcce3432cb02ecb207b7fc562"
            ],
            "layout": "IPY_MODEL_e63a72c8837c4acc8738bd475ce3407a",
            "tabbable": null,
            "tooltip": null
          }
        },
        "fb4ad48871384026818955baefb47326": {
          "model_module": "@jupyter-widgets/controls",
          "model_name": "HTMLModel",
          "model_module_version": "2.0.0",
          "state": {
            "_dom_classes": [],
            "_model_module": "@jupyter-widgets/controls",
            "_model_module_version": "2.0.0",
            "_model_name": "HTMLModel",
            "_view_count": null,
            "_view_module": "@jupyter-widgets/controls",
            "_view_module_version": "2.0.0",
            "_view_name": "HTMLView",
            "description": "",
            "description_allow_html": false,
            "layout": "IPY_MODEL_797f69aa8fd04a07a0a536948ff6e8ed",
            "placeholder": "​",
            "style": "IPY_MODEL_fb2b8498e7b8464b87494681f83247dc",
            "tabbable": null,
            "tooltip": null,
            "value": "100%"
          }
        },
        "3ee9ea9c6b54479b96c273467d4a5ba8": {
          "model_module": "@jupyter-widgets/controls",
          "model_name": "FloatProgressModel",
          "model_module_version": "2.0.0",
          "state": {
            "_dom_classes": [],
            "_model_module": "@jupyter-widgets/controls",
            "_model_module_version": "2.0.0",
            "_model_name": "FloatProgressModel",
            "_view_count": null,
            "_view_module": "@jupyter-widgets/controls",
            "_view_module_version": "2.0.0",
            "_view_name": "ProgressView",
            "bar_style": "success",
            "description": "",
            "description_allow_html": false,
            "layout": "IPY_MODEL_c3f562f785fd481680eabdde4d2eab73",
            "max": 170498071,
            "min": 0,
            "orientation": "horizontal",
            "style": "IPY_MODEL_58918d4b876d415885da6e147bc68453",
            "tabbable": null,
            "tooltip": null,
            "value": 170498071
          }
        },
        "eee0d7ebcce3432cb02ecb207b7fc562": {
          "model_module": "@jupyter-widgets/controls",
          "model_name": "HTMLModel",
          "model_module_version": "2.0.0",
          "state": {
            "_dom_classes": [],
            "_model_module": "@jupyter-widgets/controls",
            "_model_module_version": "2.0.0",
            "_model_name": "HTMLModel",
            "_view_count": null,
            "_view_module": "@jupyter-widgets/controls",
            "_view_module_version": "2.0.0",
            "_view_name": "HTMLView",
            "description": "",
            "description_allow_html": false,
            "layout": "IPY_MODEL_f764f0993e294158b65615077a8494eb",
            "placeholder": "​",
            "style": "IPY_MODEL_8607d6b4f4d744fd998089012b32f50d",
            "tabbable": null,
            "tooltip": null,
            "value": " 170498071/170498071 [00:02&lt;00:00, 107714430.31it/s]"
          }
        },
        "e63a72c8837c4acc8738bd475ce3407a": {
          "model_module": "@jupyter-widgets/base",
          "model_name": "LayoutModel",
          "model_module_version": "2.0.0",
          "state": {
            "_model_module": "@jupyter-widgets/base",
            "_model_module_version": "2.0.0",
            "_model_name": "LayoutModel",
            "_view_count": null,
            "_view_module": "@jupyter-widgets/base",
            "_view_module_version": "2.0.0",
            "_view_name": "LayoutView",
            "align_content": null,
            "align_items": null,
            "align_self": null,
            "border_bottom": null,
            "border_left": null,
            "border_right": null,
            "border_top": null,
            "bottom": null,
            "display": null,
            "flex": null,
            "flex_flow": null,
            "grid_area": null,
            "grid_auto_columns": null,
            "grid_auto_flow": null,
            "grid_auto_rows": null,
            "grid_column": null,
            "grid_gap": null,
            "grid_row": null,
            "grid_template_areas": null,
            "grid_template_columns": null,
            "grid_template_rows": null,
            "height": null,
            "justify_content": null,
            "justify_items": null,
            "left": null,
            "margin": null,
            "max_height": null,
            "max_width": null,
            "min_height": null,
            "min_width": null,
            "object_fit": null,
            "object_position": null,
            "order": null,
            "overflow": null,
            "padding": null,
            "right": null,
            "top": null,
            "visibility": null,
            "width": null
          }
        },
        "797f69aa8fd04a07a0a536948ff6e8ed": {
          "model_module": "@jupyter-widgets/base",
          "model_name": "LayoutModel",
          "model_module_version": "2.0.0",
          "state": {
            "_model_module": "@jupyter-widgets/base",
            "_model_module_version": "2.0.0",
            "_model_name": "LayoutModel",
            "_view_count": null,
            "_view_module": "@jupyter-widgets/base",
            "_view_module_version": "2.0.0",
            "_view_name": "LayoutView",
            "align_content": null,
            "align_items": null,
            "align_self": null,
            "border_bottom": null,
            "border_left": null,
            "border_right": null,
            "border_top": null,
            "bottom": null,
            "display": null,
            "flex": null,
            "flex_flow": null,
            "grid_area": null,
            "grid_auto_columns": null,
            "grid_auto_flow": null,
            "grid_auto_rows": null,
            "grid_column": null,
            "grid_gap": null,
            "grid_row": null,
            "grid_template_areas": null,
            "grid_template_columns": null,
            "grid_template_rows": null,
            "height": null,
            "justify_content": null,
            "justify_items": null,
            "left": null,
            "margin": null,
            "max_height": null,
            "max_width": null,
            "min_height": null,
            "min_width": null,
            "object_fit": null,
            "object_position": null,
            "order": null,
            "overflow": null,
            "padding": null,
            "right": null,
            "top": null,
            "visibility": null,
            "width": null
          }
        },
        "fb2b8498e7b8464b87494681f83247dc": {
          "model_module": "@jupyter-widgets/controls",
          "model_name": "HTMLStyleModel",
          "model_module_version": "2.0.0",
          "state": {
            "_model_module": "@jupyter-widgets/controls",
            "_model_module_version": "2.0.0",
            "_model_name": "HTMLStyleModel",
            "_view_count": null,
            "_view_module": "@jupyter-widgets/base",
            "_view_module_version": "2.0.0",
            "_view_name": "StyleView",
            "background": null,
            "description_width": "",
            "font_size": null,
            "text_color": null
          }
        },
        "c3f562f785fd481680eabdde4d2eab73": {
          "model_module": "@jupyter-widgets/base",
          "model_name": "LayoutModel",
          "model_module_version": "2.0.0",
          "state": {
            "_model_module": "@jupyter-widgets/base",
            "_model_module_version": "2.0.0",
            "_model_name": "LayoutModel",
            "_view_count": null,
            "_view_module": "@jupyter-widgets/base",
            "_view_module_version": "2.0.0",
            "_view_name": "LayoutView",
            "align_content": null,
            "align_items": null,
            "align_self": null,
            "border_bottom": null,
            "border_left": null,
            "border_right": null,
            "border_top": null,
            "bottom": null,
            "display": null,
            "flex": null,
            "flex_flow": null,
            "grid_area": null,
            "grid_auto_columns": null,
            "grid_auto_flow": null,
            "grid_auto_rows": null,
            "grid_column": null,
            "grid_gap": null,
            "grid_row": null,
            "grid_template_areas": null,
            "grid_template_columns": null,
            "grid_template_rows": null,
            "height": null,
            "justify_content": null,
            "justify_items": null,
            "left": null,
            "margin": null,
            "max_height": null,
            "max_width": null,
            "min_height": null,
            "min_width": null,
            "object_fit": null,
            "object_position": null,
            "order": null,
            "overflow": null,
            "padding": null,
            "right": null,
            "top": null,
            "visibility": null,
            "width": null
          }
        },
        "58918d4b876d415885da6e147bc68453": {
          "model_module": "@jupyter-widgets/controls",
          "model_name": "ProgressStyleModel",
          "model_module_version": "2.0.0",
          "state": {
            "_model_module": "@jupyter-widgets/controls",
            "_model_module_version": "2.0.0",
            "_model_name": "ProgressStyleModel",
            "_view_count": null,
            "_view_module": "@jupyter-widgets/base",
            "_view_module_version": "2.0.0",
            "_view_name": "StyleView",
            "bar_color": null,
            "description_width": ""
          }
        },
        "f764f0993e294158b65615077a8494eb": {
          "model_module": "@jupyter-widgets/base",
          "model_name": "LayoutModel",
          "model_module_version": "2.0.0",
          "state": {
            "_model_module": "@jupyter-widgets/base",
            "_model_module_version": "2.0.0",
            "_model_name": "LayoutModel",
            "_view_count": null,
            "_view_module": "@jupyter-widgets/base",
            "_view_module_version": "2.0.0",
            "_view_name": "LayoutView",
            "align_content": null,
            "align_items": null,
            "align_self": null,
            "border_bottom": null,
            "border_left": null,
            "border_right": null,
            "border_top": null,
            "bottom": null,
            "display": null,
            "flex": null,
            "flex_flow": null,
            "grid_area": null,
            "grid_auto_columns": null,
            "grid_auto_flow": null,
            "grid_auto_rows": null,
            "grid_column": null,
            "grid_gap": null,
            "grid_row": null,
            "grid_template_areas": null,
            "grid_template_columns": null,
            "grid_template_rows": null,
            "height": null,
            "justify_content": null,
            "justify_items": null,
            "left": null,
            "margin": null,
            "max_height": null,
            "max_width": null,
            "min_height": null,
            "min_width": null,
            "object_fit": null,
            "object_position": null,
            "order": null,
            "overflow": null,
            "padding": null,
            "right": null,
            "top": null,
            "visibility": null,
            "width": null
          }
        },
        "8607d6b4f4d744fd998089012b32f50d": {
          "model_module": "@jupyter-widgets/controls",
          "model_name": "HTMLStyleModel",
          "model_module_version": "2.0.0",
          "state": {
            "_model_module": "@jupyter-widgets/controls",
            "_model_module_version": "2.0.0",
            "_model_name": "HTMLStyleModel",
            "_view_count": null,
            "_view_module": "@jupyter-widgets/base",
            "_view_module_version": "2.0.0",
            "_view_name": "StyleView",
            "background": null,
            "description_width": "",
            "font_size": null,
            "text_color": null
          }
        }
      }
    }
  },
  "nbformat": 4,
  "nbformat_minor": 0
}