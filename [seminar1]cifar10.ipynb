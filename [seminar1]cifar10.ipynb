{
  "nbformat": 4,
  "nbformat_minor": 0,
  "metadata": {
    "colab": {
      "name": "[seminar1]cifar10.ipynb",
      "provenance": [],
      "include_colab_link": true
    },
    "kernelspec": {
      "display_name": "Python 3",
      "language": "python",
      "name": "python3"
    },
    "language_info": {
      "codemirror_mode": {
        "name": "ipython",
        "version": 3
      },
      "file_extension": ".py",
      "mimetype": "text/x-python",
      "name": "python",
      "nbconvert_exporter": "python",
      "pygments_lexer": "ipython3",
      "version": "3.6.5"
    },
    "widgets": {
      "application/vnd.jupyter.widget-state+json": {
        "51342a16f4604561bb8d6f5e612eecb8": {
          "model_module": "@jupyter-widgets/controls",
          "model_name": "HBoxModel",
          "state": {
            "_view_name": "HBoxView",
            "_dom_classes": [],
            "_model_name": "HBoxModel",
            "_view_module": "@jupyter-widgets/controls",
            "_model_module_version": "1.5.0",
            "_view_count": null,
            "_view_module_version": "1.5.0",
            "box_style": "",
            "layout": "IPY_MODEL_6c43cd40c2e748b393f38e6288bf6a42",
            "_model_module": "@jupyter-widgets/controls",
            "children": [
              "IPY_MODEL_c6969b1273c34b25989dd807f0be375d",
              "IPY_MODEL_75446186fbc54280ad832d4b03a82b24"
            ]
          }
        },
        "6c43cd40c2e748b393f38e6288bf6a42": {
          "model_module": "@jupyter-widgets/base",
          "model_name": "LayoutModel",
          "state": {
            "_view_name": "LayoutView",
            "grid_template_rows": null,
            "right": null,
            "justify_content": null,
            "_view_module": "@jupyter-widgets/base",
            "overflow": null,
            "_model_module_version": "1.2.0",
            "_view_count": null,
            "flex_flow": null,
            "width": null,
            "min_width": null,
            "border": null,
            "align_items": null,
            "bottom": null,
            "_model_module": "@jupyter-widgets/base",
            "top": null,
            "grid_column": null,
            "overflow_y": null,
            "overflow_x": null,
            "grid_auto_flow": null,
            "grid_area": null,
            "grid_template_columns": null,
            "flex": null,
            "_model_name": "LayoutModel",
            "justify_items": null,
            "grid_row": null,
            "max_height": null,
            "align_content": null,
            "visibility": null,
            "align_self": null,
            "height": null,
            "min_height": null,
            "padding": null,
            "grid_auto_rows": null,
            "grid_gap": null,
            "max_width": null,
            "order": null,
            "_view_module_version": "1.2.0",
            "grid_template_areas": null,
            "object_position": null,
            "object_fit": null,
            "grid_auto_columns": null,
            "margin": null,
            "display": null,
            "left": null
          }
        },
        "c6969b1273c34b25989dd807f0be375d": {
          "model_module": "@jupyter-widgets/controls",
          "model_name": "FloatProgressModel",
          "state": {
            "_view_name": "ProgressView",
            "style": "IPY_MODEL_c5cf15ebfe284e01a0e7a34e182e3045",
            "_dom_classes": [],
            "description": "",
            "_model_name": "FloatProgressModel",
            "bar_style": "success",
            "max": 170498071,
            "_view_module": "@jupyter-widgets/controls",
            "_model_module_version": "1.5.0",
            "value": 170498071,
            "_view_count": null,
            "_view_module_version": "1.5.0",
            "orientation": "horizontal",
            "min": 0,
            "description_tooltip": null,
            "_model_module": "@jupyter-widgets/controls",
            "layout": "IPY_MODEL_bc1145b9fa9f4efc873510875587324d"
          }
        },
        "75446186fbc54280ad832d4b03a82b24": {
          "model_module": "@jupyter-widgets/controls",
          "model_name": "HTMLModel",
          "state": {
            "_view_name": "HTMLView",
            "style": "IPY_MODEL_870db0c8f7ba439390cdc6ca74c2994a",
            "_dom_classes": [],
            "description": "",
            "_model_name": "HTMLModel",
            "placeholder": "​",
            "_view_module": "@jupyter-widgets/controls",
            "_model_module_version": "1.5.0",
            "value": " 170499072/? [00:06&lt;00:00, 27040110.67it/s]",
            "_view_count": null,
            "_view_module_version": "1.5.0",
            "description_tooltip": null,
            "_model_module": "@jupyter-widgets/controls",
            "layout": "IPY_MODEL_fe845132265d473c9c9bdca918ae02ed"
          }
        },
        "c5cf15ebfe284e01a0e7a34e182e3045": {
          "model_module": "@jupyter-widgets/controls",
          "model_name": "ProgressStyleModel",
          "state": {
            "_view_name": "StyleView",
            "_model_name": "ProgressStyleModel",
            "description_width": "initial",
            "_view_module": "@jupyter-widgets/base",
            "_model_module_version": "1.5.0",
            "_view_count": null,
            "_view_module_version": "1.2.0",
            "bar_color": null,
            "_model_module": "@jupyter-widgets/controls"
          }
        },
        "bc1145b9fa9f4efc873510875587324d": {
          "model_module": "@jupyter-widgets/base",
          "model_name": "LayoutModel",
          "state": {
            "_view_name": "LayoutView",
            "grid_template_rows": null,
            "right": null,
            "justify_content": null,
            "_view_module": "@jupyter-widgets/base",
            "overflow": null,
            "_model_module_version": "1.2.0",
            "_view_count": null,
            "flex_flow": null,
            "width": null,
            "min_width": null,
            "border": null,
            "align_items": null,
            "bottom": null,
            "_model_module": "@jupyter-widgets/base",
            "top": null,
            "grid_column": null,
            "overflow_y": null,
            "overflow_x": null,
            "grid_auto_flow": null,
            "grid_area": null,
            "grid_template_columns": null,
            "flex": null,
            "_model_name": "LayoutModel",
            "justify_items": null,
            "grid_row": null,
            "max_height": null,
            "align_content": null,
            "visibility": null,
            "align_self": null,
            "height": null,
            "min_height": null,
            "padding": null,
            "grid_auto_rows": null,
            "grid_gap": null,
            "max_width": null,
            "order": null,
            "_view_module_version": "1.2.0",
            "grid_template_areas": null,
            "object_position": null,
            "object_fit": null,
            "grid_auto_columns": null,
            "margin": null,
            "display": null,
            "left": null
          }
        },
        "870db0c8f7ba439390cdc6ca74c2994a": {
          "model_module": "@jupyter-widgets/controls",
          "model_name": "DescriptionStyleModel",
          "state": {
            "_view_name": "StyleView",
            "_model_name": "DescriptionStyleModel",
            "description_width": "",
            "_view_module": "@jupyter-widgets/base",
            "_model_module_version": "1.5.0",
            "_view_count": null,
            "_view_module_version": "1.2.0",
            "_model_module": "@jupyter-widgets/controls"
          }
        },
        "fe845132265d473c9c9bdca918ae02ed": {
          "model_module": "@jupyter-widgets/base",
          "model_name": "LayoutModel",
          "state": {
            "_view_name": "LayoutView",
            "grid_template_rows": null,
            "right": null,
            "justify_content": null,
            "_view_module": "@jupyter-widgets/base",
            "overflow": null,
            "_model_module_version": "1.2.0",
            "_view_count": null,
            "flex_flow": null,
            "width": null,
            "min_width": null,
            "border": null,
            "align_items": null,
            "bottom": null,
            "_model_module": "@jupyter-widgets/base",
            "top": null,
            "grid_column": null,
            "overflow_y": null,
            "overflow_x": null,
            "grid_auto_flow": null,
            "grid_area": null,
            "grid_template_columns": null,
            "flex": null,
            "_model_name": "LayoutModel",
            "justify_items": null,
            "grid_row": null,
            "max_height": null,
            "align_content": null,
            "visibility": null,
            "align_self": null,
            "height": null,
            "min_height": null,
            "padding": null,
            "grid_auto_rows": null,
            "grid_gap": null,
            "max_width": null,
            "order": null,
            "_view_module_version": "1.2.0",
            "grid_template_areas": null,
            "object_position": null,
            "object_fit": null,
            "grid_auto_columns": null,
            "margin": null,
            "display": null,
            "left": null
          }
        }
      }
    }
  },
  "cells": [
    {
      "cell_type": "markdown",
      "metadata": {
        "id": "view-in-github",
        "colab_type": "text"
      },
      "source": [
        "<a href=\"https://colab.research.google.com/github/bulinayas/Deep-deep-learning/blob/main/%5Bseminar1%5Dcifar10.ipynb\" target=\"_parent\"><img src=\"https://colab.research.google.com/assets/colab-badge.svg\" alt=\"Open In Colab\"/></a>"
      ]
    },
    {
      "cell_type": "markdown",
      "metadata": {
        "id": "SJdCMQXabboZ"
      },
      "source": [
        "<img src=\"https://s8.hostingkartinok.com/uploads/images/2018/08/308b49fcfbc619d629fe4604bceb67ac.jpg\" width=500, height=450>\n",
        "<h3 style=\"text-align: center;\"><b>Физтех-Школа Прикладной математики и информатики (ФПМИ) МФТИ</b></h3>"
      ]
    },
    {
      "cell_type": "markdown",
      "metadata": {
        "id": "7iGE_CK9bboh"
      },
      "source": [
        "---"
      ]
    },
    {
      "cell_type": "markdown",
      "metadata": {
        "id": "bmOfpQnebboi"
      },
      "source": [
        "<h2 style=\"text-align: center;\"><b>Семинар 1: практическое занятие по обучению нейросетей (датасет CIFAR10)</b></h2>"
      ]
    },
    {
      "cell_type": "markdown",
      "metadata": {
        "id": "ZVKN8nUwbboi"
      },
      "source": [
        "---"
      ]
    },
    {
      "cell_type": "code",
      "metadata": {
        "id": "Hgit3qqOf4hd"
      },
      "source": [
        "import numpy as np\n",
        "import matplotlib.pyplot as plt\n",
        "\n",
        "from tqdm import tqdm_notebook\n",
        "\n",
        "import warnings\n",
        "warnings.filterwarnings(\"ignore\")\n",
        "\n",
        "import multiprocessing"
      ],
      "execution_count": 1,
      "outputs": []
    },
    {
      "cell_type": "markdown",
      "metadata": {
        "id": "CHUKPJJOf4hj"
      },
      "source": [
        "Сегодня мы построим свою сеть (простейший классификатор изображений), посчитаем loss и проведем обновление весов.\n",
        "\n",
        "\n",
        "Данные\n",
        "----------------\n",
        "Мы будем работать с набором картинок. Для работы с ними есть специальный пакет ``torchvision``. В нем уже содержатся функции-загрузчики таких датасетов, как ImageNet, MNIST, CIFAR10. С последним сегодня мы и будем работать. В нем содержатся картинки RGB 32х32 следующих классов: \n",
        "1. ‘airplane’\n",
        "2. ‘automobile’\n",
        "3. ‘bird’\n",
        "4. ‘cat’\n",
        "5. ‘deer’\n",
        "6. ‘dog’\n",
        "7. ‘frog’\n",
        "8. ‘horse’\n",
        "9. ‘ship’\n",
        "10. ‘truck’\n",
        "\n",
        "Обучение классификатора\n",
        "----------------------------\n",
        "\n",
        "План обучения классификатора:\n",
        "\n",
        "1. Загружаем и нормализуем данные при помощи пакета\n",
        "   ``torchvision``\n",
        "2. Объявляем нейронную сети\n",
        "3. Объявляем функцию потерь\n",
        "4. Тренируем сеть при помощи тренировочной выборки (train data)\n",
        "5. Тестируем сеть при помощи валидационной выборки (test data)\n",
        "\n",
        "----------------------------\n",
        "\n",
        "Импортируем нужные нам пакеты из библиотеки ``torch``\n",
        "\n",
        "\n"
      ]
    },
    {
      "cell_type": "code",
      "metadata": {
        "id": "E6h4kZ-if4hl"
      },
      "source": [
        "import torch\n",
        "import torchvision\n",
        "from torch.autograd import Variable\n",
        "import torchvision.transforms as transform"
      ],
      "execution_count": 2,
      "outputs": []
    },
    {
      "cell_type": "code",
      "metadata": {
        "id": "5KmxZQREgApi",
        "outputId": "9ed8018b-f87b-4e79-c127-03d11c3eb4d6",
        "colab": {
          "base_uri": "https://localhost:8080/",
          "height": 374
        }
      },
      "source": [
        "# http://pytorch.org/\n",
        "from os.path import exists\n",
        "from wheel.pep425tags import get_abbr_impl, get_impl_ver, get_abi_tag\n",
        "platform = '{}{}-{}'.format(get_abbr_impl(), get_impl_ver(), get_abi_tag())\n",
        "cuda_output = !ldconfig -p|grep cudart.so|sed -e 's/.*\\.\\([0-9]*\\)\\.\\([0-9]*\\)$/cu\\1\\2/'\n",
        "accelerator = cuda_output[0] if exists('/dev/nvidia0') else 'cpu'\n",
        "\n",
        "!pip install -q http://download.pytorch.org/whl/{accelerator}/torch-0.4.1-{platform}-linux_x86_64.whl torchvision\n",
        "import torch"
      ],
      "execution_count": 3,
      "outputs": [
        {
          "output_type": "error",
          "ename": "ModuleNotFoundError",
          "evalue": "ignored",
          "traceback": [
            "\u001b[0;31m---------------------------------------------------------------------------\u001b[0m",
            "\u001b[0;31mModuleNotFoundError\u001b[0m                       Traceback (most recent call last)",
            "\u001b[0;32m<ipython-input-3-b1589bd95a78>\u001b[0m in \u001b[0;36m<module>\u001b[0;34m()\u001b[0m\n\u001b[1;32m      1\u001b[0m \u001b[0;31m# http://pytorch.org/\u001b[0m\u001b[0;34m\u001b[0m\u001b[0;34m\u001b[0m\u001b[0;34m\u001b[0m\u001b[0m\n\u001b[1;32m      2\u001b[0m \u001b[0;32mfrom\u001b[0m \u001b[0mos\u001b[0m\u001b[0;34m.\u001b[0m\u001b[0mpath\u001b[0m \u001b[0;32mimport\u001b[0m \u001b[0mexists\u001b[0m\u001b[0;34m\u001b[0m\u001b[0;34m\u001b[0m\u001b[0m\n\u001b[0;32m----> 3\u001b[0;31m \u001b[0;32mfrom\u001b[0m \u001b[0mwheel\u001b[0m\u001b[0;34m.\u001b[0m\u001b[0mpep425tags\u001b[0m \u001b[0;32mimport\u001b[0m \u001b[0mget_abbr_impl\u001b[0m\u001b[0;34m,\u001b[0m \u001b[0mget_impl_ver\u001b[0m\u001b[0;34m,\u001b[0m \u001b[0mget_abi_tag\u001b[0m\u001b[0;34m\u001b[0m\u001b[0;34m\u001b[0m\u001b[0m\n\u001b[0m\u001b[1;32m      4\u001b[0m \u001b[0mplatform\u001b[0m \u001b[0;34m=\u001b[0m \u001b[0;34m'{}{}-{}'\u001b[0m\u001b[0;34m.\u001b[0m\u001b[0mformat\u001b[0m\u001b[0;34m(\u001b[0m\u001b[0mget_abbr_impl\u001b[0m\u001b[0;34m(\u001b[0m\u001b[0;34m)\u001b[0m\u001b[0;34m,\u001b[0m \u001b[0mget_impl_ver\u001b[0m\u001b[0;34m(\u001b[0m\u001b[0;34m)\u001b[0m\u001b[0;34m,\u001b[0m \u001b[0mget_abi_tag\u001b[0m\u001b[0;34m(\u001b[0m\u001b[0;34m)\u001b[0m\u001b[0;34m)\u001b[0m\u001b[0;34m\u001b[0m\u001b[0;34m\u001b[0m\u001b[0m\n\u001b[1;32m      5\u001b[0m \u001b[0mcuda_output\u001b[0m \u001b[0;34m=\u001b[0m \u001b[0mget_ipython\u001b[0m\u001b[0;34m(\u001b[0m\u001b[0;34m)\u001b[0m\u001b[0;34m.\u001b[0m\u001b[0mgetoutput\u001b[0m\u001b[0;34m(\u001b[0m\u001b[0;34m\"ldconfig -p|grep cudart.so|sed -e 's/.*\\\\.\\\\([0-9]*\\\\)\\\\.\\\\([0-9]*\\\\)$/cu\\\\1\\\\2/'\"\u001b[0m\u001b[0;34m)\u001b[0m\u001b[0;34m\u001b[0m\u001b[0;34m\u001b[0m\u001b[0m\n",
            "\u001b[0;31mModuleNotFoundError\u001b[0m: No module named 'wheel.pep425tags'",
            "",
            "\u001b[0;31m---------------------------------------------------------------------------\u001b[0;32m\nNOTE: If your import is failing due to a missing package, you can\nmanually install dependencies using either !pip or !apt.\n\nTo view examples of installing some common dependencies, click the\n\"Open Examples\" button below.\n\u001b[0;31m---------------------------------------------------------------------------\u001b[0m\n"
          ]
        }
      ]
    },
    {
      "cell_type": "markdown",
      "metadata": {
        "id": "aHKBkoJPf4hp"
      },
      "source": [
        "В результате загрузки датасетов при помощи пакета torchvision мы получим картинки, содержащие значения в диапазоне [0,1], чтобы подавать их в нейросеть, нам нужно сделать из них тензоры со значениями в диапазоне [-1,1]\n",
        "\n",
        "Определим презобразование:"
      ]
    },
    {
      "cell_type": "code",
      "metadata": {
        "id": "GJeKQk9nf4hq"
      },
      "source": [
        "transform = transforms.Compose(\n",
        "    \n",
        "[\n",
        "    transforms.ToTensor(),\n",
        "    transforms.Normalize((0.5, 0.5, 0.5), (0.5, 0.5, 0.5))\n",
        "]\n",
        "\n",
        ")"
      ],
      "execution_count": 4,
      "outputs": []
    },
    {
      "cell_type": "markdown",
      "metadata": {
        "id": "hNOgh6Obf4hx"
      },
      "source": [
        "Теперь вызовем загрузчики из пакета ``torchvision`` и скачаем обучающую выборку (trainset) и валидационную (testset)\n",
        "\n"
      ]
    },
    {
      "cell_type": "code",
      "metadata": {
        "colab": {
          "base_uri": "https://localhost:8080/",
          "height": 119,
          "referenced_widgets": [
            "51342a16f4604561bb8d6f5e612eecb8",
            "6c43cd40c2e748b393f38e6288bf6a42",
            "c6969b1273c34b25989dd807f0be375d",
            "75446186fbc54280ad832d4b03a82b24",
            "c5cf15ebfe284e01a0e7a34e182e3045",
            "bc1145b9fa9f4efc873510875587324d",
            "870db0c8f7ba439390cdc6ca74c2994a",
            "fe845132265d473c9c9bdca918ae02ed"
          ]
        },
        "id": "Vvub5ZZdf4hz",
        "scrolled": false,
        "outputId": "6e2ad606-ade6-4d90-dcfa-1a2219b8c2fd"
      },
      "source": [
        "trainset = torchvision.datasets.CIFAR10(root='./data', \n",
        "                                        train=True,download=True, transform=transform)\n",
        "train_loader = torch.utils.data.DataLoader(trainset, batch_size=4,\n",
        "                                           shuffle=True, num_workers=0, pin_memory=False)\n",
        "\n",
        "testset = torchvision.datasets.CIFAR10(root='./data', train=False, \n",
        "                                       download=True, transform=transform)\n",
        "validation_loader = torch.utils.data.DataLoader(testset, batch_size=4,\n",
        "                                                shuffle=False, num_workers=0, pin_memory=False)"
      ],
      "execution_count": 5,
      "outputs": [
        {
          "output_type": "stream",
          "text": [
            "Downloading https://www.cs.toronto.edu/~kriz/cifar-10-python.tar.gz to ./data/cifar-10-python.tar.gz\n"
          ],
          "name": "stdout"
        },
        {
          "output_type": "display_data",
          "data": {
            "application/vnd.jupyter.widget-view+json": {
              "model_id": "51342a16f4604561bb8d6f5e612eecb8",
              "version_minor": 0,
              "version_major": 2
            },
            "text/plain": [
              "HBox(children=(FloatProgress(value=0.0, max=170498071.0), HTML(value='')))"
            ]
          },
          "metadata": {
            "tags": []
          }
        },
        {
          "output_type": "stream",
          "text": [
            "\n",
            "Extracting ./data/cifar-10-python.tar.gz to ./data\n",
            "Files already downloaded and verified\n"
          ],
          "name": "stdout"
        }
      ]
    },
    {
      "cell_type": "markdown",
      "metadata": {
        "id": "DsFyaka7f4h5"
      },
      "source": [
        "Определим константы"
      ]
    },
    {
      "cell_type": "code",
      "metadata": {
        "id": "UnfKGICOf4h6"
      },
      "source": [
        "IMAGE_WIDTH = 32\n",
        "IMAGE_HEIGHT = 32\n",
        "COLOR_CHANNELS = 3\n",
        "EPOCHS = 50\n",
        "LEARNING_RATE = 0.001\n",
        "BATCH_SIZE = 32\n",
        "BATCH_IMAGE_COUNT = 10000\n",
        "CLASSES = ['plane', 'car', 'bird', 'cat', 'deer', 'dog', 'frog', 'horse', 'ship', 'truck']\n",
        "N_CLASSES = len(CLASSES)\n",
        "PLOT = False"
      ],
      "execution_count": 6,
      "outputs": []
    },
    {
      "cell_type": "code",
      "metadata": {
        "colab": {
          "base_uri": "https://localhost:8080/",
          "height": 155
        },
        "id": "mNWymneYf4h-",
        "outputId": "1b27395c-8cd8-420a-ab92-e38025dc7b16"
      },
      "source": [
        "# Функция, которая показывает изображения\n",
        "def imshow(img):\n",
        "    img = img / 2 + 0.5     # деномрировка\n",
        "    npimg = img.numpy()\n",
        "    plt.imshow(np.transpose(npimg, (1, 2, 0)))\n",
        "\n",
        "\n",
        "# достаем случайные картинки из обучающей выборки\n",
        "dataiter = iter(train_loader)\n",
        "images, labels = dataiter.next()\n",
        "\n",
        "# вызываем функцию, реализующую демонстрацию изображений, что мы можем видеть на них?\n",
        "imshow(torchvision.utils.make_grid(images))\n",
        "# выведем метки классов отрисованных изображений\n",
        "print(' '.join('%5s' % CLASSES[labels[j]] for j in range(4)))"
      ],
      "execution_count": 7,
      "outputs": [
        {
          "output_type": "stream",
          "text": [
            "  cat   dog   car  bird\n"
          ],
          "name": "stdout"
        },
        {
          "output_type": "display_data",
          "data": {
            "image/png": "[encoded data removed]",
            "text/plain": [
              "<Figure size 432x288 with 1 Axes>"
            ]
          },
          "metadata": {
            "tags": [],
            "needs_background": "light"
          }
        }
      ]
    },
    {
      "cell_type": "code",
      "metadata": {
        "id": "wysy5qO2f4iC"
      },
      "source": [
        "class Net(torch.nn.Module):\n",
        "    def __init__(self, n_hidden_nodes, n_hidden_layers):\n",
        "        super(Net, self).__init__()\n",
        "        # Определяем слои\n",
        "        self.fc1 = torch.nn.Linear(IMAGE_WIDTH * IMAGE_WIDTH * COLOR_CHANNELS,\n",
        "                                   n_hidden_nodes)\n",
        "#         self.n_hidden_nodes=n_hidden_nodes\n",
        "#         self.n_hidden_layers=n_hidden_layers\n",
        "\n",
        "        self.out = torch.nn.Linear(n_hidden_nodes, N_CLASSES)\n",
        "\n",
        "    def forward(self, x):\n",
        "        x = x.view(-1, IMAGE_WIDTH * IMAGE_WIDTH * COLOR_CHANNELS)\n",
        "        # определяем функцию активации\n",
        "        sigmoid = torch.nn.Sigmoid()\n",
        "        x = sigmoid(self.fc1(x))\n",
        "        return torch.nn.functional.log_softmax(self.out(x))"
      ],
      "execution_count": null,
      "outputs": []
    },
    {
      "cell_type": "code",
      "metadata": {
        "id": "sdi5bYJaf4iF"
      },
      "source": [
        "def train(epoch, model, train_loader, optimizer, log_interval=100, cuda=None):\n",
        "    model.train()\n",
        "    correct = 0\n",
        "    for batch_idx, (data, target) in enumerate(train_loader):\n",
        "        data, target = Variable(data), Variable(target)\n",
        "        optimizer.zero_grad()\n",
        "        output = model(data)\n",
        "\n",
        "        pred = output.data.max(1)[1] # get the index of the max log-probability\n",
        "        correct += pred.eq(target.data).cpu().sum()\n",
        "        accuracy = 100. * correct / len(train_loader.dataset)\n",
        "        \n",
        "        \n",
        "        loss = torch.nn.functional.nll_loss(output, target)\n",
        "        loss.backward()\n",
        "        optimizer.step()\n",
        "        if batch_idx % 10000 == 0:\n",
        "            print('Train Epoch: {} [{}/{} ({:.0f}%)]\\tLoss: {:.6f}'.format(\n",
        "                epoch, batch_idx * len(data), len(train_loader.dataset),\n",
        "                100. * batch_idx / len(train_loader), loss.data[0], accuracy))\n"
      ],
      "execution_count": null,
      "outputs": []
    },
    {
      "cell_type": "code",
      "metadata": {
        "id": "_MB7us3sf4iI"
      },
      "source": [
        "def validate(loss_vector, accuracy_vector, model, validation_loader, cuda=None):\n",
        "    model.eval()\n",
        "    val_loss, correct = 0, 0\n",
        "    for data, target in validation_loader:\n",
        "        if cuda:\n",
        "            data, target = data.cuda(), target.cuda()\n",
        "        data, target = Variable(data, volatile=True), Variable(target)\n",
        "        output = model(data)\n",
        "        val_loss += torch.nn.functional.nll_loss(output, target).data[0]\n",
        "        pred = output.data.max(1)[1] # get the index of the max log-probability\n",
        "        correct += pred.eq(target.data).cpu().sum()\n",
        "\n",
        "    val_loss /= len(validation_loader)\n",
        "    loss_vector.append(val_loss)\n",
        "\n",
        "    accuracy = 100. * correct / len(validation_loader.dataset)\n",
        "    accuracy_vector.append(accuracy)\n",
        "\n",
        "    print('\\nValidation set: Average loss: {:.4f}, Accuracy: {}/{} ({:.0f}%)\\n'.format(\n",
        "        val_loss, correct, len(validation_loader.dataset), accuracy))"
      ],
      "execution_count": null,
      "outputs": []
    },
    {
      "cell_type": "code",
      "metadata": {
        "id": "5Ta4nX1Uf4iK"
      },
      "source": [
        "from tqdm import tqdm_notebook"
      ],
      "execution_count": null,
      "outputs": []
    },
    {
      "cell_type": "code",
      "metadata": {
        "colab": {
          "base_uri": "https://localhost:8080/",
          "height": 3417
        },
        "id": "HcykLY4af4iM",
        "outputId": "9fc038b6-d1bc-4050-b6da-06f01613190c"
      },
      "source": [
        "hidden_nodes = 10\n",
        "layers = 1\n",
        "model = Net(hidden_nodes, layers)\n",
        "optimizer = torch.optim.SGD(model.parameters(), lr=LEARNING_RATE)\n",
        "loss_vector = []\n",
        "acc_vector = []\n",
        "for epoch in range(1, EPOCHS + 1):\n",
        "    train(epoch, model, train_loader, optimizer, cuda=cuda)\n",
        "    validate(loss_vector, acc_vector, model, validation_loader, cuda=cuda)\n",
        "    if epoch == 40:\n",
        "        break"
      ],
      "execution_count": null,
      "outputs": [
        {
          "output_type": "stream",
          "text": [
            "Train Epoch: 1 [0/50000 (0%)]\tLoss: 2.280676\n",
            "Train Epoch: 1 [40000/50000 (80%)]\tLoss: 1.914732\n",
            "\n",
            "Validation set: Average loss: 2.0466, Accuracy: 2958/10000 (29%)\n",
            "\n",
            "Train Epoch: 2 [0/50000 (0%)]\tLoss: 2.179598\n",
            "Train Epoch: 2 [40000/50000 (80%)]\tLoss: 1.652516\n",
            "\n",
            "Validation set: Average loss: 1.9539, Accuracy: 3169/10000 (31%)\n",
            "\n",
            "Train Epoch: 3 [0/50000 (0%)]\tLoss: 2.011090\n",
            "Train Epoch: 3 [40000/50000 (80%)]\tLoss: 1.491545\n",
            "\n",
            "Validation set: Average loss: 1.9037, Accuracy: 3372/10000 (33%)\n",
            "\n",
            "Train Epoch: 4 [0/50000 (0%)]\tLoss: 1.427091\n",
            "Train Epoch: 4 [40000/50000 (80%)]\tLoss: 1.998777\n",
            "\n",
            "Validation set: Average loss: 1.8686, Accuracy: 3473/10000 (34%)\n",
            "\n",
            "Train Epoch: 5 [0/50000 (0%)]\tLoss: 1.828201\n",
            "Train Epoch: 5 [40000/50000 (80%)]\tLoss: 1.832490\n",
            "\n",
            "Validation set: Average loss: 1.8426, Accuracy: 3544/10000 (35%)\n",
            "\n",
            "Train Epoch: 6 [0/50000 (0%)]\tLoss: 2.105319\n",
            "Train Epoch: 6 [40000/50000 (80%)]\tLoss: 1.861091\n",
            "\n",
            "Validation set: Average loss: 1.8188, Accuracy: 3633/10000 (36%)\n",
            "\n",
            "Train Epoch: 7 [0/50000 (0%)]\tLoss: 2.280227\n",
            "Train Epoch: 7 [40000/50000 (80%)]\tLoss: 1.207959\n",
            "\n",
            "Validation set: Average loss: 1.7985, Accuracy: 3756/10000 (37%)\n",
            "\n",
            "Train Epoch: 8 [0/50000 (0%)]\tLoss: 1.307640\n",
            "Train Epoch: 8 [40000/50000 (80%)]\tLoss: 1.080971\n",
            "\n",
            "Validation set: Average loss: 1.7816, Accuracy: 3793/10000 (37%)\n",
            "\n",
            "Train Epoch: 9 [0/50000 (0%)]\tLoss: 1.728275\n",
            "Train Epoch: 9 [40000/50000 (80%)]\tLoss: 2.117968\n",
            "\n",
            "Validation set: Average loss: 1.7679, Accuracy: 3852/10000 (38%)\n",
            "\n",
            "Train Epoch: 10 [0/50000 (0%)]\tLoss: 1.663116\n",
            "Train Epoch: 10 [40000/50000 (80%)]\tLoss: 1.705373\n",
            "\n",
            "Validation set: Average loss: 1.7548, Accuracy: 3858/10000 (38%)\n",
            "\n",
            "Train Epoch: 11 [0/50000 (0%)]\tLoss: 1.591501\n",
            "Train Epoch: 11 [40000/50000 (80%)]\tLoss: 2.464421\n",
            "\n",
            "Validation set: Average loss: 1.7429, Accuracy: 3894/10000 (38%)\n",
            "\n",
            "Train Epoch: 12 [0/50000 (0%)]\tLoss: 1.031980\n",
            "Train Epoch: 12 [40000/50000 (80%)]\tLoss: 1.960149\n",
            "\n",
            "Validation set: Average loss: 1.7338, Accuracy: 3959/10000 (39%)\n",
            "\n",
            "Train Epoch: 13 [0/50000 (0%)]\tLoss: 1.444980\n",
            "Train Epoch: 13 [40000/50000 (80%)]\tLoss: 1.929490\n",
            "\n",
            "Validation set: Average loss: 1.7251, Accuracy: 3976/10000 (39%)\n",
            "\n",
            "Train Epoch: 14 [0/50000 (0%)]\tLoss: 1.802132\n",
            "Train Epoch: 14 [40000/50000 (80%)]\tLoss: 1.397912\n",
            "\n",
            "Validation set: Average loss: 1.7183, Accuracy: 3991/10000 (39%)\n",
            "\n",
            "Train Epoch: 15 [0/50000 (0%)]\tLoss: 1.508636\n",
            "Train Epoch: 15 [40000/50000 (80%)]\tLoss: 1.633821\n",
            "\n",
            "Validation set: Average loss: 1.7125, Accuracy: 4000/10000 (40%)\n",
            "\n",
            "Train Epoch: 16 [0/50000 (0%)]\tLoss: 2.143724\n",
            "Train Epoch: 16 [40000/50000 (80%)]\tLoss: 2.982486\n",
            "\n",
            "Validation set: Average loss: 1.7082, Accuracy: 4033/10000 (40%)\n",
            "\n",
            "Train Epoch: 17 [0/50000 (0%)]\tLoss: 1.475159\n",
            "Train Epoch: 17 [40000/50000 (80%)]\tLoss: 1.783137\n",
            "\n",
            "Validation set: Average loss: 1.7046, Accuracy: 4056/10000 (40%)\n",
            "\n",
            "Train Epoch: 18 [0/50000 (0%)]\tLoss: 1.555734\n",
            "Train Epoch: 18 [40000/50000 (80%)]\tLoss: 1.357413\n",
            "\n",
            "Validation set: Average loss: 1.6968, Accuracy: 4084/10000 (40%)\n",
            "\n",
            "Train Epoch: 19 [0/50000 (0%)]\tLoss: 1.810301\n",
            "Train Epoch: 19 [40000/50000 (80%)]\tLoss: 1.348927\n",
            "\n",
            "Validation set: Average loss: 1.6943, Accuracy: 4057/10000 (40%)\n",
            "\n",
            "Train Epoch: 20 [0/50000 (0%)]\tLoss: 3.238169\n",
            "Train Epoch: 20 [40000/50000 (80%)]\tLoss: 2.640553\n",
            "\n",
            "Validation set: Average loss: 1.6918, Accuracy: 4073/10000 (40%)\n",
            "\n",
            "Train Epoch: 21 [0/50000 (0%)]\tLoss: 1.110385\n",
            "Train Epoch: 21 [40000/50000 (80%)]\tLoss: 2.109142\n",
            "\n",
            "Validation set: Average loss: 1.6895, Accuracy: 4065/10000 (40%)\n",
            "\n",
            "Train Epoch: 22 [0/50000 (0%)]\tLoss: 1.690382\n",
            "Train Epoch: 22 [40000/50000 (80%)]\tLoss: 2.111606\n",
            "\n",
            "Validation set: Average loss: 1.6839, Accuracy: 4088/10000 (40%)\n",
            "\n",
            "Train Epoch: 23 [0/50000 (0%)]\tLoss: 2.177018\n",
            "Train Epoch: 23 [40000/50000 (80%)]\tLoss: 1.502292\n",
            "\n",
            "Validation set: Average loss: 1.6814, Accuracy: 4110/10000 (41%)\n",
            "\n",
            "Train Epoch: 24 [0/50000 (0%)]\tLoss: 2.179522\n",
            "Train Epoch: 24 [40000/50000 (80%)]\tLoss: 1.761036\n",
            "\n",
            "Validation set: Average loss: 1.6821, Accuracy: 4088/10000 (40%)\n",
            "\n",
            "Train Epoch: 25 [0/50000 (0%)]\tLoss: 2.020828\n",
            "Train Epoch: 25 [40000/50000 (80%)]\tLoss: 1.026161\n",
            "\n",
            "Validation set: Average loss: 1.6781, Accuracy: 4098/10000 (40%)\n",
            "\n",
            "Train Epoch: 26 [0/50000 (0%)]\tLoss: 1.368582\n",
            "Train Epoch: 26 [40000/50000 (80%)]\tLoss: 1.424222\n",
            "\n",
            "Validation set: Average loss: 1.6779, Accuracy: 4116/10000 (41%)\n",
            "\n",
            "Train Epoch: 27 [0/50000 (0%)]\tLoss: 0.825662\n",
            "Train Epoch: 27 [40000/50000 (80%)]\tLoss: 1.744676\n",
            "\n",
            "Validation set: Average loss: 1.6763, Accuracy: 4097/10000 (40%)\n",
            "\n",
            "Train Epoch: 28 [0/50000 (0%)]\tLoss: 1.317193\n",
            "Train Epoch: 28 [40000/50000 (80%)]\tLoss: 2.784461\n",
            "\n",
            "Validation set: Average loss: 1.6739, Accuracy: 4120/10000 (41%)\n",
            "\n",
            "Train Epoch: 29 [0/50000 (0%)]\tLoss: 2.183274\n",
            "Train Epoch: 29 [40000/50000 (80%)]\tLoss: 2.081544\n",
            "\n",
            "Validation set: Average loss: 1.6709, Accuracy: 4137/10000 (41%)\n",
            "\n",
            "Train Epoch: 30 [0/50000 (0%)]\tLoss: 1.743491\n",
            "Train Epoch: 30 [40000/50000 (80%)]\tLoss: 1.185656\n",
            "\n",
            "Validation set: Average loss: 1.6724, Accuracy: 4122/10000 (41%)\n",
            "\n",
            "Train Epoch: 31 [0/50000 (0%)]\tLoss: 1.174509\n",
            "Train Epoch: 31 [40000/50000 (80%)]\tLoss: 1.563097\n",
            "\n",
            "Validation set: Average loss: 1.6693, Accuracy: 4127/10000 (41%)\n",
            "\n",
            "Train Epoch: 32 [0/50000 (0%)]\tLoss: 1.103121\n",
            "Train Epoch: 32 [40000/50000 (80%)]\tLoss: 2.065120\n",
            "\n",
            "Validation set: Average loss: 1.6678, Accuracy: 4122/10000 (41%)\n",
            "\n",
            "Train Epoch: 33 [0/50000 (0%)]\tLoss: 1.379397\n",
            "Train Epoch: 33 [40000/50000 (80%)]\tLoss: 1.791361\n",
            "\n",
            "Validation set: Average loss: 1.6663, Accuracy: 4161/10000 (41%)\n",
            "\n",
            "Train Epoch: 34 [0/50000 (0%)]\tLoss: 1.101352\n",
            "Train Epoch: 34 [40000/50000 (80%)]\tLoss: 1.583428\n",
            "\n",
            "Validation set: Average loss: 1.6672, Accuracy: 4134/10000 (41%)\n",
            "\n",
            "Train Epoch: 35 [0/50000 (0%)]\tLoss: 1.890008\n",
            "Train Epoch: 35 [40000/50000 (80%)]\tLoss: 1.198529\n",
            "\n",
            "Validation set: Average loss: 1.6650, Accuracy: 4143/10000 (41%)\n",
            "\n",
            "Train Epoch: 36 [0/50000 (0%)]\tLoss: 2.190583\n",
            "Train Epoch: 36 [40000/50000 (80%)]\tLoss: 1.770047\n",
            "\n",
            "Validation set: Average loss: 1.6654, Accuracy: 4137/10000 (41%)\n",
            "\n",
            "Train Epoch: 37 [0/50000 (0%)]\tLoss: 1.416061\n",
            "Train Epoch: 37 [40000/50000 (80%)]\tLoss: 1.961591\n",
            "\n",
            "Validation set: Average loss: 1.6635, Accuracy: 4141/10000 (41%)\n",
            "\n",
            "Train Epoch: 38 [0/50000 (0%)]\tLoss: 1.322011\n",
            "Train Epoch: 38 [40000/50000 (80%)]\tLoss: 1.742910\n",
            "\n",
            "Validation set: Average loss: 1.6630, Accuracy: 4157/10000 (41%)\n",
            "\n",
            "Train Epoch: 39 [0/50000 (0%)]\tLoss: 1.409739\n",
            "Train Epoch: 39 [40000/50000 (80%)]\tLoss: 1.196867\n",
            "\n",
            "Validation set: Average loss: 1.6634, Accuracy: 4109/10000 (41%)\n",
            "\n",
            "Train Epoch: 40 [0/50000 (0%)]\tLoss: 0.722092\n",
            "Train Epoch: 40 [40000/50000 (80%)]\tLoss: 1.533110\n",
            "\n",
            "Validation set: Average loss: 1.6629, Accuracy: 4143/10000 (41%)\n",
            "\n"
          ],
          "name": "stdout"
        }
      ]
    },
    {
      "cell_type": "markdown",
      "metadata": {
        "id": "eLhItbeMf4iO"
      },
      "source": [
        "Итак, мы обучили нашу сеть проходами по обучающей выборке. Давайте проверим, обучилась ли наша сеть. Проверим это путем предсказания меток классов для валидационной выборки."
      ]
    },
    {
      "cell_type": "code",
      "metadata": {
        "colab": {
          "base_uri": "https://localhost:8080/",
          "height": 361
        },
        "id": "cuELsbq3f4iP",
        "outputId": "5e746be0-1e6f-4224-eca2-e6e4d1df8ac1"
      },
      "source": [
        "# Plot train loss and validation accuracy vs epochs for each learning rate\n",
        "epochs = [i for i in range(1, 41)]\n",
        "plt.plot(epochs, loss_vector)\n",
        "plt.xlabel(\"Epochs\")\n",
        "plt.ylabel(\"Loss\")\n",
        "plt.show()"
      ],
      "execution_count": null,
      "outputs": [
        {
          "output_type": "display_data",
          "data": {
            "image/png": "[encoded data removed]",
            "text/plain": [
              "<matplotlib.figure.Figure at 0x7f50a2a3e8d0>"
            ]
          },
          "metadata": {
            "tags": []
          }
        }
      ]
    },
    {
      "cell_type": "code",
      "metadata": {
        "colab": {
          "base_uri": "https://localhost:8080/",
          "height": 184
        },
        "id": "IDJfSHQif4iR",
        "outputId": "9954aef3-ee83-407a-8cce-b15d5c9c9552"
      },
      "source": [
        "dataiter = iter(validation_loader)\n",
        "images, labels = dataiter.next()\n",
        "\n",
        "# выведем наши предсказания\n",
        "imshow(torchvision.utils.make_grid(images))\n",
        "print('GroundTruth: ', ' '.join('%5s' % CLASSES[labels[j]] for j in range(4)))\n",
        "\n",
        "outputs=model(images)"
      ],
      "execution_count": null,
      "outputs": [
        {
          "output_type": "stream",
          "text": [
            "GroundTruth:    cat  ship  ship plane\n"
          ],
          "name": "stdout"
        },
        {
          "output_type": "display_data",
          "data": {
            "image/png": "[encoded data removed]",
            "text/plain": [
              "<matplotlib.figure.Figure at 0x7f50a205b198>"
            ]
          },
          "metadata": {
            "tags": []
          }
        }
      ]
    },
    {
      "cell_type": "code",
      "metadata": {
        "colab": {
          "base_uri": "https://localhost:8080/",
          "height": 34
        },
        "id": "1Bt-VRMvf4iU",
        "outputId": "beadd68f-1b05-49e0-f3f9-abd62e1b4f1f"
      },
      "source": [
        "_, predicted = torch.max(outputs, 1)\n",
        "\n",
        "print('Predicted: ', ' '.join('%5s' % CLASSES[predicted[j]]\n",
        "                              for j in range(4)))"
      ],
      "execution_count": null,
      "outputs": [
        {
          "output_type": "stream",
          "text": [
            "Predicted:    dog truck  ship plane\n"
          ],
          "name": "stdout"
        }
      ]
    },
    {
      "cell_type": "markdown",
      "metadata": {
        "id": "FQYwDNB_f4iW"
      },
      "source": [
        "Протестируем на всем тесте:"
      ]
    },
    {
      "cell_type": "code",
      "metadata": {
        "colab": {
          "base_uri": "https://localhost:8080/",
          "height": 34
        },
        "id": "6ZD9Lxi1f4iX",
        "outputId": "d02c4568-9080-467f-d276-5ecb208fc38a"
      },
      "source": [
        "correct = 0\n",
        "total = 0\n",
        "with torch.no_grad():\n",
        "    for data in validation_loader:\n",
        "        images, labels = data\n",
        "        outputs = model(images)\n",
        "        _, predicted = torch.max(outputs.data, 1)\n",
        "        total += labels.size(0)\n",
        "        correct += (predicted == labels).sum().item()\n",
        "\n",
        "print('Accuracy of the network on the 10000 test images: %d %%' % (\n",
        "    100 * correct / total))"
      ],
      "execution_count": null,
      "outputs": [
        {
          "output_type": "stream",
          "text": [
            "Accuracy of the network on the 10000 test images: 41 %\n"
          ],
          "name": "stdout"
        }
      ]
    },
    {
      "cell_type": "code",
      "metadata": {
        "colab": {
          "base_uri": "https://localhost:8080/",
          "height": 187
        },
        "id": "2uxu2qysf4ia",
        "outputId": "b00681dd-4454-4cfa-be41-19a4b3eab582"
      },
      "source": [
        "class_correct = list(0. for i in range(10))\n",
        "class_total = list(0. for i in range(10))\n",
        "with torch.no_grad():\n",
        "    for data in validation_loader:\n",
        "        images, labels = data\n",
        "        outputs = model(images)\n",
        "        _, predicted = torch.max(outputs, 1)\n",
        "        c = (predicted == labels).squeeze()\n",
        "        for i in range(4):\n",
        "            label = labels[i]\n",
        "            class_correct[label] += c[i].item()\n",
        "            class_total[label] += 1\n",
        "\n",
        "\n",
        "for i in range(10):\n",
        "    print('Accuracy of %5s : %2d %%' % (\n",
        "        CLASSES[i], 100 * class_correct[i] / class_total[i]))"
      ],
      "execution_count": null,
      "outputs": [
        {
          "output_type": "stream",
          "text": [
            "Accuracy of plane : 49 %\n",
            "Accuracy of   car : 49 %\n",
            "Accuracy of  bird : 15 %\n",
            "Accuracy of   cat : 21 %\n",
            "Accuracy of  deer : 35 %\n",
            "Accuracy of   dog : 31 %\n",
            "Accuracy of  frog : 59 %\n",
            "Accuracy of horse : 48 %\n",
            "Accuracy of  ship : 56 %\n",
            "Accuracy of truck : 48 %\n"
          ],
          "name": "stdout"
        }
      ]
    },
    {
      "cell_type": "markdown",
      "metadata": {
        "id": "kRuFMmwvf4id"
      },
      "source": [
        "Каким образом мы можем улучшить качество распознавания и обучения?\n",
        "1. Добавить **dropout**\n",
        "\n",
        "2. Добавить **batchnorm** (2 семинар)\n",
        "3. Использовать свертки. Но об этом позже :)"
      ]
    },
    {
      "cell_type": "code",
      "metadata": {
        "id": "QwjLmYc7f4id"
      },
      "source": [
        "class SecondNet(torch.nn.Module):\n",
        "    def __init__(self, n_hidden_nodes, n_hidden_layers,keep_rate=0.8):\n",
        "        super().__init__()\n",
        "        self.n_hidden_nodes = n_hidden_nodes\n",
        "        self.n_hidden_layers = n_hidden_layers\n",
        "#         if not keep_rate:\n",
        "#             keep_rate = 0.5\n",
        "#         self.keep_rate = keep_rate\n",
        "        # Set up perceptron layers and add dropout\n",
        "        self.fc1 = torch.nn.Linear(IMAGE_WIDTH * IMAGE_WIDTH * COLOR_CHANNELS,\n",
        "                                   self.n_hidden_nodes)\n",
        "        self.fc1_drop = torch.nn.Dropout(1 - keep_rate)\n",
        "        self.out = torch.nn.Linear(self.n_hidden_nodes, N_CLASSES)\n",
        "    \n",
        "    def forward(self, x):\n",
        "        x = x.view(-1, IMAGE_WIDTH * IMAGE_WIDTH * COLOR_CHANNELS)\n",
        "        sigmoid = torch.nn.Sigmoid()\n",
        "        x = sigmoid(self.fc1(x))\n",
        "        x = self.fc1_drop(x)\n",
        "        return torch.nn.functional.log_softmax(self.out(x))\n"
      ],
      "execution_count": null,
      "outputs": []
    },
    {
      "cell_type": "code",
      "metadata": {
        "colab": {
          "base_uri": "https://localhost:8080/",
          "height": 2450
        },
        "id": "l6aah5zAf4ig",
        "outputId": "8501d9b1-b125-4680-85b5-4596f95c8e17"
      },
      "source": [
        "В Pytorch есть возможность запускать вычисления на GPU"
      ],
      "execution_count": null,
      "outputs": [
        {
          "output_type": "stream",
          "text": [
            "Train Epoch: 1 [0/50000 (0%)]\tLoss: 2.338229\n",
            "Train Epoch: 1 [40000/50000 (80%)]\tLoss: 2.356363\n",
            "\n",
            "Validation set: Average loss: 1.9368, Accuracy: 3253/10000 (32%)\n",
            "\n",
            "Train Epoch: 2 [0/50000 (0%)]\tLoss: 2.300326\n",
            "Train Epoch: 2 [40000/50000 (80%)]\tLoss: 1.809654\n",
            "\n",
            "Validation set: Average loss: 1.8590, Accuracy: 3606/10000 (36%)\n",
            "\n",
            "Train Epoch: 3 [0/50000 (0%)]\tLoss: 3.370393\n",
            "Train Epoch: 3 [40000/50000 (80%)]\tLoss: 1.909336\n",
            "\n",
            "Validation set: Average loss: 1.8124, Accuracy: 3713/10000 (37%)\n",
            "\n",
            "Train Epoch: 4 [0/50000 (0%)]\tLoss: 2.186283\n",
            "Train Epoch: 4 [40000/50000 (80%)]\tLoss: 2.361922\n",
            "\n",
            "Validation set: Average loss: 1.7815, Accuracy: 3809/10000 (38%)\n",
            "\n",
            "Train Epoch: 5 [0/50000 (0%)]\tLoss: 0.897958\n",
            "Train Epoch: 5 [40000/50000 (80%)]\tLoss: 1.988269\n",
            "\n",
            "Validation set: Average loss: 1.7591, Accuracy: 3885/10000 (38%)\n",
            "\n",
            "Train Epoch: 6 [0/50000 (0%)]\tLoss: 1.896815\n",
            "Train Epoch: 6 [40000/50000 (80%)]\tLoss: 1.614118\n",
            "\n",
            "Validation set: Average loss: 1.7428, Accuracy: 3922/10000 (39%)\n",
            "\n",
            "Train Epoch: 7 [0/50000 (0%)]\tLoss: 1.760607\n",
            "Train Epoch: 7 [40000/50000 (80%)]\tLoss: 2.053325\n",
            "\n",
            "Validation set: Average loss: 1.7305, Accuracy: 3995/10000 (39%)\n",
            "\n",
            "Train Epoch: 8 [0/50000 (0%)]\tLoss: 1.926093\n",
            "Train Epoch: 8 [40000/50000 (80%)]\tLoss: 2.213455\n",
            "\n",
            "Validation set: Average loss: 1.7185, Accuracy: 3965/10000 (39%)\n",
            "\n",
            "Train Epoch: 9 [0/50000 (0%)]\tLoss: 2.189739\n",
            "Train Epoch: 9 [40000/50000 (80%)]\tLoss: 1.453444\n",
            "\n",
            "Validation set: Average loss: 1.7085, Accuracy: 4042/10000 (40%)\n",
            "\n",
            "Train Epoch: 10 [0/50000 (0%)]\tLoss: 2.820039\n",
            "Train Epoch: 10 [40000/50000 (80%)]\tLoss: 1.548236\n",
            "\n",
            "Validation set: Average loss: 1.6996, Accuracy: 4098/10000 (40%)\n",
            "\n",
            "Train Epoch: 11 [0/50000 (0%)]\tLoss: 2.072497\n",
            "Train Epoch: 11 [40000/50000 (80%)]\tLoss: 1.271940\n",
            "\n",
            "Validation set: Average loss: 1.6920, Accuracy: 4122/10000 (41%)\n",
            "\n",
            "Train Epoch: 12 [0/50000 (0%)]\tLoss: 1.995679\n",
            "Train Epoch: 12 [40000/50000 (80%)]\tLoss: 1.331770\n",
            "\n",
            "Validation set: Average loss: 1.6854, Accuracy: 4136/10000 (41%)\n",
            "\n",
            "Train Epoch: 13 [0/50000 (0%)]\tLoss: 2.023359\n",
            "Train Epoch: 13 [40000/50000 (80%)]\tLoss: 2.044176\n",
            "\n",
            "Validation set: Average loss: 1.6779, Accuracy: 4185/10000 (41%)\n",
            "\n",
            "Train Epoch: 14 [0/50000 (0%)]\tLoss: 1.057836\n",
            "Train Epoch: 14 [40000/50000 (80%)]\tLoss: 1.065666\n",
            "\n",
            "Validation set: Average loss: 1.6732, Accuracy: 4215/10000 (42%)\n",
            "\n",
            "Train Epoch: 15 [0/50000 (0%)]\tLoss: 1.633729\n",
            "Train Epoch: 15 [40000/50000 (80%)]\tLoss: 0.986622\n",
            "\n",
            "Validation set: Average loss: 1.6654, Accuracy: 4238/10000 (42%)\n",
            "\n",
            "Train Epoch: 16 [0/50000 (0%)]\tLoss: 1.434730\n",
            "Train Epoch: 16 [40000/50000 (80%)]\tLoss: 1.619697\n",
            "\n",
            "Validation set: Average loss: 1.6601, Accuracy: 4269/10000 (42%)\n",
            "\n",
            "Train Epoch: 17 [0/50000 (0%)]\tLoss: 1.651691\n",
            "Train Epoch: 17 [40000/50000 (80%)]\tLoss: 0.917030\n",
            "\n",
            "Validation set: Average loss: 1.6543, Accuracy: 4299/10000 (42%)\n",
            "\n",
            "Train Epoch: 18 [0/50000 (0%)]\tLoss: 1.009257\n",
            "Train Epoch: 18 [40000/50000 (80%)]\tLoss: 1.209028\n",
            "\n",
            "Validation set: Average loss: 1.6496, Accuracy: 4312/10000 (43%)\n",
            "\n",
            "Train Epoch: 19 [0/50000 (0%)]\tLoss: 1.292815\n",
            "Train Epoch: 19 [40000/50000 (80%)]\tLoss: 1.692756\n",
            "\n",
            "Validation set: Average loss: 1.6448, Accuracy: 4341/10000 (43%)\n",
            "\n",
            "Train Epoch: 20 [0/50000 (0%)]\tLoss: 1.113770\n",
            "Train Epoch: 20 [40000/50000 (80%)]\tLoss: 2.953823\n",
            "\n",
            "Validation set: Average loss: 1.6401, Accuracy: 4373/10000 (43%)\n",
            "\n",
            "Train Epoch: 21 [0/50000 (0%)]\tLoss: 1.531117\n",
            "Train Epoch: 21 [40000/50000 (80%)]\tLoss: 2.857919\n",
            "\n",
            "Validation set: Average loss: 1.6353, Accuracy: 4373/10000 (43%)\n",
            "\n",
            "Train Epoch: 22 [0/50000 (0%)]\tLoss: 1.897084\n",
            "Train Epoch: 22 [40000/50000 (80%)]\tLoss: 1.062314\n",
            "\n",
            "Validation set: Average loss: 1.6316, Accuracy: 4369/10000 (43%)\n",
            "\n",
            "Train Epoch: 23 [0/50000 (0%)]\tLoss: 0.908942\n",
            "Train Epoch: 23 [40000/50000 (80%)]\tLoss: 1.796218\n",
            "\n",
            "Validation set: Average loss: 1.6308, Accuracy: 4309/10000 (43%)\n",
            "\n",
            "Train Epoch: 24 [0/50000 (0%)]\tLoss: 2.410127\n",
            "Train Epoch: 24 [40000/50000 (80%)]\tLoss: 1.401630\n",
            "\n",
            "Validation set: Average loss: 1.6256, Accuracy: 4395/10000 (43%)\n",
            "\n",
            "Train Epoch: 25 [0/50000 (0%)]\tLoss: 1.398604\n",
            "Train Epoch: 25 [40000/50000 (80%)]\tLoss: 1.217162\n",
            "\n",
            "Validation set: Average loss: 1.6202, Accuracy: 4426/10000 (44%)\n",
            "\n",
            "Train Epoch: 26 [0/50000 (0%)]\tLoss: 1.325698\n",
            "Train Epoch: 26 [40000/50000 (80%)]\tLoss: 2.415255\n",
            "\n",
            "Validation set: Average loss: 1.6151, Accuracy: 4432/10000 (44%)\n",
            "\n",
            "Train Epoch: 27 [0/50000 (0%)]\tLoss: 1.280219\n",
            "Train Epoch: 27 [40000/50000 (80%)]\tLoss: 2.023754\n",
            "\n",
            "Validation set: Average loss: 1.6127, Accuracy: 4435/10000 (44%)\n",
            "\n",
            "Train Epoch: 28 [0/50000 (0%)]\tLoss: 2.280611\n",
            "Train Epoch: 28 [40000/50000 (80%)]\tLoss: 1.360426\n",
            "\n",
            "Validation set: Average loss: 1.6086, Accuracy: 4466/10000 (44%)\n",
            "\n",
            "Train Epoch: 29 [0/50000 (0%)]\tLoss: 1.772745\n",
            "Train Epoch: 29 [40000/50000 (80%)]\tLoss: 1.248500\n",
            "\n",
            "Validation set: Average loss: 1.6061, Accuracy: 4464/10000 (44%)\n",
            "\n",
            "Train Epoch: 30 [0/50000 (0%)]\tLoss: 1.648405\n"
          ],
          "name": "stdout"
        }
      ]
    },
    {
      "cell_type": "code",
      "metadata": {
        "id": "u3SvVLEAp4xg"
      },
      "source": [
        "# to save model use torch.save(model.state_dict(), 'Second_Net.pt') \n",
        "# to load use model.load_state_dict(torch.load('Second_Model.pt'))"
      ],
      "execution_count": null,
      "outputs": []
    },
    {
      "cell_type": "code",
      "metadata": {
        "colab": {
          "base_uri": "https://localhost:8080/",
          "height": 363
        },
        "id": "p0Q-D23Qf4ii",
        "outputId": "3edd2f81-28ce-45c7-e745-621584528493"
      },
      "source": [
        "# Plot train loss and validation accuracy vs epochs for each learning rate\n",
        "epochs = [i for i in range(1, 31)]\n",
        "plt.plot(epochs, loss_vector)\n",
        "plt.xlabel(\"Epochs\")\n",
        "plt.ylabel(\"Loss\")\n",
        "plt.show()"
      ],
      "execution_count": null,
      "outputs": [
        {
          "output_type": "display_data",
          "data": {
            "image/png": "[encoded data removed]",
            "text/plain": [
              "<matplotlib.figure.Figure at 0x7f50a53e5a58>"
            ]
          },
          "metadata": {
            "tags": []
          }
        }
      ]
    },
    {
      "cell_type": "markdown",
      "metadata": {
        "id": "y9US-3ZjrSBI"
      },
      "source": [
        "Попробуйте самостоятельно написать двуслойную сеть с дропаутом. Получилось ли улучшить результат?"
      ]
    },
    {
      "cell_type": "code",
      "metadata": {
        "id": "UZj3d7h7tRu9"
      },
      "source": [
        "class TwoLayerNet(torch.nn.Module):\n",
        "    def __init__(self, n_hidden_nodes, n_hidden_layers,keep_rate=0):\n",
        "        super(TwoLayerNet, self).__init__()\n",
        "        self.n_hidden_nodes = n_hidden_nodes\n",
        "        self.n_hidden_layers = n_hidden_layers\n",
        "        if not keep_rate:\n",
        "            keep_rate = 0.5\n",
        "        self.keep_rate = keep_rate\n",
        "        # Set up perceptron layers and add dropout\n",
        "        self.fc1 = torch.nn.Linear(IMAGE_WIDTH * IMAGE_WIDTH * COLOR_CHANNELS,\n",
        "                                   n_hidden_nodes)\n",
        "        self.fc1_drop = torch.nn.Dropout(1 - keep_rate)\n",
        "        if n_hidden_layers == 2:\n",
        "            self.fc2 = #тут ваш код\n",
        "            self.fc2_drop = #тут ваш код\n",
        "\n",
        "        self.out = torch.nn.Linear(n_hidden_nodes, N_CLASSES)\n",
        "    \n",
        "    def forward(self, x):\n",
        "        x = x.view(-1, IMAGE_WIDTH * IMAGE_WIDTH * COLOR_CHANNELS)\n",
        "        sigmoid = torch.nn.Sigmoid()\n",
        "        #тут ваш код\n",
        "        return torch.nn.functional.log_softmax(self.out(x))"
      ],
      "execution_count": null,
      "outputs": []
    },
    {
      "cell_type": "code",
      "metadata": {
        "id": "VFtgxjJ6rPVr"
      },
      "source": [
        "<Ваш код здесь>"
      ],
      "execution_count": null,
      "outputs": []
    }
  ]
}